{
 "cells": [
  {
   "cell_type": "code",
   "execution_count": 20,
   "metadata": {},
   "outputs": [],
   "source": [
    "import numpy as np"
   ]
  },
  {
   "cell_type": "code",
   "execution_count": 21,
   "metadata": {},
   "outputs": [],
   "source": [
    "A = np.array ([\n",
    "    [6., -1, -1],\n",
    "    [1, 1, 10],\n",
    "    [2, -1, 1]\n",
    "])\n",
    "\n",
    "b = np.array ([\n",
    "    [4],\n",
    "    [-6],\n",
    "    [-2],\n",
    "])"
   ]
  },
  {
   "cell_type": "code",
   "execution_count": 22,
   "metadata": {},
   "outputs": [
    {
     "name": "stdout",
     "output_type": "stream",
     "text": [
      "[[ 6.         -1.         -1.        ]\n",
      " [ 0.          1.16666667 10.16666667]\n",
      " [ 2.         -1.          1.        ]]\n"
     ]
    },
    {
     "data": {
      "text/plain": [
       "array([[ 1.        ,  0.        ,  0.        ],\n",
       "       [-0.16666667,  1.        ,  0.        ],\n",
       "       [ 0.        ,  0.        ,  1.        ]])"
      ]
     },
     "execution_count": 22,
     "metadata": {},
     "output_type": "execute_result"
    }
   ],
   "source": [
    "f = A[1, 0] / A[0, 0]\n",
    "E21 = np.array ([\n",
    "    [1, 0, 0],\n",
    "    [-f, 1, 0],\n",
    "    [0, 0, 1]])\n",
    "\n",
    "A = E21 @ A\n",
    "print(A)\n",
    "E21"
   ]
  },
  {
   "cell_type": "code",
   "execution_count": 23,
   "metadata": {},
   "outputs": [
    {
     "name": "stdout",
     "output_type": "stream",
     "text": [
      "[[ 6.         -1.         -1.        ]\n",
      " [ 0.          1.16666667 10.16666667]\n",
      " [ 0.         -0.66666667  1.33333333]]\n"
     ]
    },
    {
     "data": {
      "text/plain": [
       "array([[ 1.        ,  0.        ,  0.        ],\n",
       "       [ 0.        ,  1.        ,  0.        ],\n",
       "       [-0.33333333,  0.        ,  1.        ]])"
      ]
     },
     "execution_count": 23,
     "metadata": {},
     "output_type": "execute_result"
    }
   ],
   "source": [
    "f = A[2, 0] / A[0, 0]\n",
    "E31 = np.array ([\n",
    "    [1, 0, 0],\n",
    "    [0, 1, 0],\n",
    "    [-f, 0, 1]])\n",
    "\n",
    "A = E31 @ A\n",
    "print(A)\n",
    "E31"
   ]
  },
  {
   "cell_type": "code",
   "execution_count": 24,
   "metadata": {},
   "outputs": [
    {
     "name": "stdout",
     "output_type": "stream",
     "text": [
      "[[ 6.      -1.      -1.     ]\n",
      " [ 0.       1.16667 10.16667]\n",
      " [ 0.       0.       7.14286]]\n"
     ]
    },
    {
     "data": {
      "text/plain": [
       "array([[1.        , 0.        , 0.        ],\n",
       "       [0.        , 1.        , 0.        ],\n",
       "       [0.        , 0.57142857, 1.        ]])"
      ]
     },
     "execution_count": 24,
     "metadata": {},
     "output_type": "execute_result"
    }
   ],
   "source": [
    "f = A[2, 1] / A[1, 1]\n",
    "E32 = np.array ([\n",
    "    [1, 0, 0],\n",
    "    [0, 1, 0],\n",
    "    [0, -f, 1]])\n",
    "\n",
    "A = E32 @ A\n",
    "print(np.round(A, 5))\n",
    "E32"
   ]
  },
  {
   "cell_type": "code",
   "execution_count": 25,
   "metadata": {},
   "outputs": [
    {
     "data": {
      "text/plain": [
       "array([[ 1.     ,  0.     ,  0.     ],\n",
       "       [ 0.16667,  1.     ,  0.     ],\n",
       "       [ 0.33333, -0.57143,  1.     ]])"
      ]
     },
     "execution_count": 25,
     "metadata": {},
     "output_type": "execute_result"
    }
   ],
   "source": [
    "R = np.copy(A)\n",
    "L = np.linalg.inv (E21) @ np.linalg.inv (E31) @ np.linalg.inv (E32)\n",
    "np.round(L, 5)"
   ]
  },
  {
   "cell_type": "code",
   "execution_count": 26,
   "metadata": {},
   "outputs": [
    {
     "data": {
      "text/plain": [
       "array([[ 4.        ],\n",
       "       [-6.66666667],\n",
       "       [-7.14285714]])"
      ]
     },
     "execution_count": 26,
     "metadata": {},
     "output_type": "execute_result"
    }
   ],
   "source": [
    "y = np.linalg.solve (L, b)\n",
    "y"
   ]
  },
  {
   "cell_type": "code",
   "execution_count": 27,
   "metadata": {},
   "outputs": [
    {
     "data": {
      "text/plain": [
       "array([[ 1.],\n",
       "       [ 3.],\n",
       "       [-1.]])"
      ]
     },
     "execution_count": 27,
     "metadata": {},
     "output_type": "execute_result"
    }
   ],
   "source": [
    "x = np.linalg.solve (R, y)\n",
    "x"
   ]
  },
  {
   "cell_type": "markdown",
   "metadata": {},
   "source": [
    "# Kontrolle"
   ]
  },
  {
   "cell_type": "code",
   "execution_count": 28,
   "metadata": {},
   "outputs": [
    {
     "data": {
      "text/plain": [
       "array([[ 1.],\n",
       "       [ 3.],\n",
       "       [-1.]])"
      ]
     },
     "execution_count": 28,
     "metadata": {},
     "output_type": "execute_result"
    }
   ],
   "source": [
    "A = np.array ([\n",
    "    [6., -1, -1],\n",
    "    [1, 1, 10],\n",
    "    [2, -1, 1]\n",
    "])\n",
    "\n",
    "np.linalg.solve (A, b)"
   ]
  }
 ],
 "metadata": {
  "kernelspec": {
   "display_name": "Python 3.8.0 64-bit",
   "language": "python",
   "name": "python3"
  },
  "language_info": {
   "codemirror_mode": {
    "name": "ipython",
    "version": 3
   },
   "file_extension": ".py",
   "mimetype": "text/x-python",
   "name": "python",
   "nbconvert_exporter": "python",
   "pygments_lexer": "ipython3",
   "version": "3.8.0"
  },
  "orig_nbformat": 4,
  "vscode": {
   "interpreter": {
    "hash": "9650cb4e16cdd4a8e8e2d128bf38d875813998db22a3c986335f89e0cb4d7bb2"
   }
  }
 },
 "nbformat": 4,
 "nbformat_minor": 2
}
