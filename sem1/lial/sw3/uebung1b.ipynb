{
 "cells": [
  {
   "cell_type": "code",
   "execution_count": 50,
   "metadata": {},
   "outputs": [],
   "source": [
    "import numpy as np"
   ]
  },
  {
   "cell_type": "code",
   "execution_count": 51,
   "metadata": {},
   "outputs": [],
   "source": [
    "A = np.array ([\n",
    "    [2, 6, 2],\n",
    "    [-3, -8, 0],\n",
    "    [4, 9, 2]])"
   ]
  },
  {
   "cell_type": "code",
   "execution_count": 52,
   "metadata": {},
   "outputs": [
    {
     "name": "stdout",
     "output_type": "stream",
     "text": [
      "[[2. 6. 2.]\n",
      " [0. 1. 3.]\n",
      " [4. 9. 2.]]\n"
     ]
    },
    {
     "data": {
      "text/plain": [
       "array([[1. , 0. , 0. ],\n",
       "       [1.5, 1. , 0. ],\n",
       "       [0. , 0. , 1. ]])"
      ]
     },
     "execution_count": 52,
     "metadata": {},
     "output_type": "execute_result"
    }
   ],
   "source": [
    "f = A[1, 0] / A[0, 0]\n",
    "E21 = np.array ([\n",
    "    [1, 0, 0],\n",
    "    [-f, 1, 0],\n",
    "    [0, 0, 1]])\n",
    "\n",
    "A = E21 @ A\n",
    "print(A)\n",
    "E21"
   ]
  },
  {
   "cell_type": "code",
   "execution_count": 53,
   "metadata": {},
   "outputs": [
    {
     "name": "stdout",
     "output_type": "stream",
     "text": [
      "[[ 2.  6.  2.]\n",
      " [ 0.  1.  3.]\n",
      " [ 0. -3. -2.]]\n"
     ]
    },
    {
     "data": {
      "text/plain": [
       "array([[ 1.,  0.,  0.],\n",
       "       [ 0.,  1.,  0.],\n",
       "       [-2.,  0.,  1.]])"
      ]
     },
     "execution_count": 53,
     "metadata": {},
     "output_type": "execute_result"
    }
   ],
   "source": [
    "f = A[2, 0] / A[0, 0]\n",
    "E31 = np.array ([\n",
    "    [1, 0, 0],\n",
    "    [0, 1, 0],\n",
    "    [-f, 0, 1]])\n",
    "\n",
    "A = E31 @ A\n",
    "print(A)\n",
    "E31"
   ]
  },
  {
   "cell_type": "code",
   "execution_count": 54,
   "metadata": {},
   "outputs": [
    {
     "name": "stdout",
     "output_type": "stream",
     "text": [
      "[[2. 6. 2.]\n",
      " [0. 1. 3.]\n",
      " [0. 0. 7.]]\n"
     ]
    },
    {
     "data": {
      "text/plain": [
       "array([[1., 0., 0.],\n",
       "       [0., 1., 0.],\n",
       "       [0., 3., 1.]])"
      ]
     },
     "execution_count": 54,
     "metadata": {},
     "output_type": "execute_result"
    }
   ],
   "source": [
    "f = A[2, 1] / A[1, 1]\n",
    "E32 = np.array ([\n",
    "    [1, 0, 0],\n",
    "    [0, 1, 0],\n",
    "    [0, -f, 1]])\n",
    "\n",
    "A = E32 @ A\n",
    "print(A)\n",
    "E32"
   ]
  },
  {
   "cell_type": "code",
   "execution_count": 55,
   "metadata": {},
   "outputs": [],
   "source": [
    "L = np.linalg.inv (E21) @ np.linalg.inv (E31) @ np.linalg.inv (E32)"
   ]
  },
  {
   "cell_type": "markdown",
   "metadata": {},
   "source": [
    "# Kontrolle"
   ]
  },
  {
   "cell_type": "code",
   "execution_count": 56,
   "metadata": {},
   "outputs": [
    {
     "data": {
      "text/plain": [
       "array([[ 2.],\n",
       "       [-1.],\n",
       "       [ 2.]])"
      ]
     },
     "execution_count": 56,
     "metadata": {},
     "output_type": "execute_result"
    }
   ],
   "source": [
    "A = np.array ([\n",
    "    [2, 6, 2],\n",
    "    [-3, -8, 0],\n",
    "    [4, 9, 2]])\n",
    "b = np.array ([\n",
    "    [2],\n",
    "    [2],\n",
    "    [3],\n",
    "])\n",
    "\n",
    "np.linalg.solve (A, b)"
   ]
  }
 ],
 "metadata": {
  "kernelspec": {
   "display_name": "Python 3.8.0 64-bit",
   "language": "python",
   "name": "python3"
  },
  "language_info": {
   "codemirror_mode": {
    "name": "ipython",
    "version": 3
   },
   "file_extension": ".py",
   "mimetype": "text/x-python",
   "name": "python",
   "nbconvert_exporter": "python",
   "pygments_lexer": "ipython3",
   "version": "3.8.0"
  },
  "orig_nbformat": 4,
  "vscode": {
   "interpreter": {
    "hash": "9650cb4e16cdd4a8e8e2d128bf38d875813998db22a3c986335f89e0cb4d7bb2"
   }
  }
 },
 "nbformat": 4,
 "nbformat_minor": 2
}
