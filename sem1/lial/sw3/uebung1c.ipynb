{
 "cells": [
  {
   "cell_type": "code",
   "execution_count": 54,
   "metadata": {},
   "outputs": [],
   "source": [
    "import numpy as np"
   ]
  },
  {
   "cell_type": "code",
   "execution_count": 55,
   "metadata": {},
   "outputs": [],
   "source": [
    "A = np.array ([\n",
    "    [2., -1, 3, 4],\n",
    "    [1, 0, -2, 7],\n",
    "    [3, -3, 1, 5],\n",
    "    [2, 1, 4, 4]\n",
    "])\n",
    "\n",
    "b = np.array ([\n",
    "    [9],\n",
    "    [11],\n",
    "    [8],\n",
    "    [10],\n",
    "])"
   ]
  },
  {
   "cell_type": "code",
   "execution_count": 56,
   "metadata": {},
   "outputs": [
    {
     "name": "stdout",
     "output_type": "stream",
     "text": [
      "[[ 2.  -1.   3.   4. ]\n",
      " [ 0.   0.5 -3.5  5. ]\n",
      " [ 3.  -3.   1.   5. ]\n",
      " [ 2.   1.   4.   4. ]]\n"
     ]
    },
    {
     "data": {
      "text/plain": [
       "array([[ 1. ,  0. ,  0. ,  0. ],\n",
       "       [-0.5,  1. ,  0. ,  0. ],\n",
       "       [ 0. ,  0. ,  1. ,  0. ],\n",
       "       [ 0. ,  0. ,  0. ,  1. ]])"
      ]
     },
     "execution_count": 56,
     "metadata": {},
     "output_type": "execute_result"
    }
   ],
   "source": [
    "f = A[1, 0] / A[0,0]\n",
    "E21 = np.array ([\n",
    "    [1, 0, 0, 0],\n",
    "    [-f, 1, 0, 0],\n",
    "    [0, 0, 1, 0],\n",
    "    [0, 0, 0, 1]])\n",
    "\n",
    "A = E21 @ A\n",
    "print(A)\n",
    "E21"
   ]
  },
  {
   "cell_type": "code",
   "execution_count": 57,
   "metadata": {},
   "outputs": [
    {
     "name": "stdout",
     "output_type": "stream",
     "text": [
      "[[ 2.  -1.   3.   4. ]\n",
      " [ 0.   0.5 -3.5  5. ]\n",
      " [ 0.  -1.5 -3.5 -1. ]\n",
      " [ 2.   1.   4.   4. ]]\n"
     ]
    },
    {
     "data": {
      "text/plain": [
       "array([[ 1. ,  0. ,  0. ,  0. ],\n",
       "       [ 0. ,  1. ,  0. ,  0. ],\n",
       "       [-1.5,  0. ,  1. ,  0. ],\n",
       "       [ 0. ,  0. ,  0. ,  1. ]])"
      ]
     },
     "execution_count": 57,
     "metadata": {},
     "output_type": "execute_result"
    }
   ],
   "source": [
    "f = A[2, 0] / A[0,0]\n",
    "E31 = np.array ([\n",
    "    [1, 0, 0, 0],\n",
    "    [0, 1, 0, 0],\n",
    "    [-f, 0, 1, 0],\n",
    "    [0, 0, 0, 1]])\n",
    "\n",
    "A = E31 @ A\n",
    "print(A)\n",
    "E31"
   ]
  },
  {
   "cell_type": "code",
   "execution_count": 58,
   "metadata": {},
   "outputs": [
    {
     "name": "stdout",
     "output_type": "stream",
     "text": [
      "[[ 2.  -1.   3.   4. ]\n",
      " [ 0.   0.5 -3.5  5. ]\n",
      " [ 0.  -1.5 -3.5 -1. ]\n",
      " [ 0.   2.   1.   0. ]]\n"
     ]
    },
    {
     "data": {
      "text/plain": [
       "array([[ 1.,  0.,  0.,  0.],\n",
       "       [ 0.,  1.,  0.,  0.],\n",
       "       [ 0.,  0.,  1.,  0.],\n",
       "       [-1.,  0.,  0.,  1.]])"
      ]
     },
     "execution_count": 58,
     "metadata": {},
     "output_type": "execute_result"
    }
   ],
   "source": [
    "f = A[3, 0] / A[0, 0]\n",
    "E41 = np.array ([\n",
    "    [1, 0, 0, 0],\n",
    "    [0, 1, 0, 0],\n",
    "    [0, 0, 1, 0],\n",
    "    [-f, 0, 0, 1]])\n",
    "\n",
    "A = E41 @ A\n",
    "print(A)\n",
    "E41"
   ]
  },
  {
   "cell_type": "code",
   "execution_count": 59,
   "metadata": {},
   "outputs": [
    {
     "name": "stdout",
     "output_type": "stream",
     "text": [
      "[[  2.   -1.    3.    4. ]\n",
      " [  0.    0.5  -3.5   5. ]\n",
      " [  0.    0.  -14.   14. ]\n",
      " [  0.    2.    1.    0. ]]\n"
     ]
    },
    {
     "data": {
      "text/plain": [
       "array([[1., 0., 0., 0.],\n",
       "       [0., 1., 0., 0.],\n",
       "       [0., 3., 1., 0.],\n",
       "       [0., 0., 0., 1.]])"
      ]
     },
     "execution_count": 59,
     "metadata": {},
     "output_type": "execute_result"
    }
   ],
   "source": [
    "f = A[2, 1] / A[1, 1]\n",
    "E32 = np.array ([\n",
    "    [1, 0, 0, 0],\n",
    "    [0, 1, 0, 0],\n",
    "    [0, -f, 1, 0],\n",
    "    [0, 0, 0, 1]])\n",
    "\n",
    "A = E32 @ A\n",
    "print(A)\n",
    "E32"
   ]
  },
  {
   "cell_type": "code",
   "execution_count": 60,
   "metadata": {},
   "outputs": [
    {
     "name": "stdout",
     "output_type": "stream",
     "text": [
      "[[  2.   -1.    3.    4. ]\n",
      " [  0.    0.5  -3.5   5. ]\n",
      " [  0.    0.  -14.   14. ]\n",
      " [  0.    0.   15.  -20. ]]\n"
     ]
    },
    {
     "data": {
      "text/plain": [
       "array([[ 1.,  0.,  0.,  0.],\n",
       "       [ 0.,  1.,  0.,  0.],\n",
       "       [ 0.,  0.,  1.,  0.],\n",
       "       [ 0., -4.,  0.,  1.]])"
      ]
     },
     "execution_count": 60,
     "metadata": {},
     "output_type": "execute_result"
    }
   ],
   "source": [
    "f = A[3, 1] / A[1, 1]\n",
    "E42 = np.array ([\n",
    "    [1, 0, 0, 0],\n",
    "    [0, 1, 0, 0],\n",
    "    [0, 0, 1, 0],\n",
    "    [0, -f, 0, 1]])\n",
    "\n",
    "A = E42 @ A\n",
    "print(A)\n",
    "E42"
   ]
  },
  {
   "cell_type": "code",
   "execution_count": 61,
   "metadata": {},
   "outputs": [
    {
     "name": "stdout",
     "output_type": "stream",
     "text": [
      "[[  2.   -1.    3.    4. ]\n",
      " [  0.    0.5  -3.5   5. ]\n",
      " [  0.    0.  -14.   14. ]\n",
      " [  0.    0.    0.   -5. ]]\n"
     ]
    },
    {
     "data": {
      "text/plain": [
       "array([[1.        , 0.        , 0.        , 0.        ],\n",
       "       [0.        , 1.        , 0.        , 0.        ],\n",
       "       [0.        , 0.        , 1.        , 0.        ],\n",
       "       [0.        , 0.        , 1.07142857, 1.        ]])"
      ]
     },
     "execution_count": 61,
     "metadata": {},
     "output_type": "execute_result"
    }
   ],
   "source": [
    "f = A[3, 2] / A[2, 2]\n",
    "E43 = np.array ([\n",
    "    [1, 0, 0, 0],\n",
    "    [0, 1, 0, 0],\n",
    "    [0, 0, 1, 0],\n",
    "    [0, 0, -f, 1]])\n",
    "\n",
    "A = E43 @ A\n",
    "print(A)\n",
    "E43"
   ]
  },
  {
   "cell_type": "code",
   "execution_count": 62,
   "metadata": {},
   "outputs": [
    {
     "data": {
      "text/plain": [
       "array([[ 1.        ,  0.        ,  0.        ,  0.        ],\n",
       "       [ 0.5       ,  1.        ,  0.        ,  0.        ],\n",
       "       [ 1.5       , -3.        ,  1.        ,  0.        ],\n",
       "       [ 1.        ,  4.        , -1.07142857,  1.        ]])"
      ]
     },
     "execution_count": 62,
     "metadata": {},
     "output_type": "execute_result"
    }
   ],
   "source": [
    "R = np.copy(A)\n",
    "L = np.linalg.inv (E21) @ np.linalg.inv (E31) @ np.linalg.inv (E32) @ np.linalg.inv (E41) @ np.linalg.inv (E42) @ np.linalg.inv (E43)\n",
    "L"
   ]
  },
  {
   "cell_type": "code",
   "execution_count": 63,
   "metadata": {},
   "outputs": [
    {
     "data": {
      "text/plain": [
       "array([[  9. ],\n",
       "       [  6.5],\n",
       "       [ 14. ],\n",
       "       [-10. ]])"
      ]
     },
     "execution_count": 63,
     "metadata": {},
     "output_type": "execute_result"
    }
   ],
   "source": [
    "y = np.linalg.solve (L, b)\n",
    "y"
   ]
  },
  {
   "cell_type": "code",
   "execution_count": 64,
   "metadata": {},
   "outputs": [
    {
     "data": {
      "text/plain": [
       "array([[-1.],\n",
       "       [ 0.],\n",
       "       [ 1.],\n",
       "       [ 2.]])"
      ]
     },
     "execution_count": 64,
     "metadata": {},
     "output_type": "execute_result"
    }
   ],
   "source": [
    "x = np.linalg.solve (R, y)\n",
    "np.round(x, 5)"
   ]
  },
  {
   "cell_type": "markdown",
   "metadata": {},
   "source": [
    "# Kontrolle"
   ]
  },
  {
   "cell_type": "code",
   "execution_count": 65,
   "metadata": {},
   "outputs": [
    {
     "data": {
      "text/plain": [
       "array([[-1.],\n",
       "       [-0.],\n",
       "       [ 1.],\n",
       "       [ 2.]])"
      ]
     },
     "execution_count": 65,
     "metadata": {},
     "output_type": "execute_result"
    }
   ],
   "source": [
    "A = np.array ([\n",
    "    [2., -1, 3, 4],\n",
    "    [1, 0, -2, 7],\n",
    "    [3, -3, 1, 5],\n",
    "    [2, 1, 4, 4]\n",
    "])\n",
    "\n",
    "np.round(np.linalg.solve (A, b), 5)"
   ]
  }
 ],
 "metadata": {
  "kernelspec": {
   "display_name": "Python 3.8.0 64-bit",
   "language": "python",
   "name": "python3"
  },
  "language_info": {
   "codemirror_mode": {
    "name": "ipython",
    "version": 3
   },
   "file_extension": ".py",
   "mimetype": "text/x-python",
   "name": "python",
   "nbconvert_exporter": "python",
   "pygments_lexer": "ipython3",
   "version": "3.8.0"
  },
  "orig_nbformat": 4,
  "vscode": {
   "interpreter": {
    "hash": "9650cb4e16cdd4a8e8e2d128bf38d875813998db22a3c986335f89e0cb4d7bb2"
   }
  }
 },
 "nbformat": 4,
 "nbformat_minor": 2
}
