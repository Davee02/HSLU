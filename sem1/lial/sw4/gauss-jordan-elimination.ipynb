{
 "cells": [
  {
   "cell_type": "code",
   "execution_count": 27,
   "metadata": {},
   "outputs": [],
   "source": [
    "import numpy as np"
   ]
  },
  {
   "cell_type": "code",
   "execution_count": 28,
   "metadata": {},
   "outputs": [
    {
     "data": {
      "text/plain": [
       "array([[ 0.,  2.,  0.,  1.,  0.],\n",
       "       [ 2.,  2.,  3.,  2., -2.],\n",
       "       [ 4., -3.,  0.,  1., -7.],\n",
       "       [ 6.,  1., -6.,  1.,  6.]])"
      ]
     },
     "execution_count": 28,
     "metadata": {},
     "output_type": "execute_result"
    }
   ],
   "source": [
    "A = np.array([\n",
    "    [0, 2, 0, 1],\n",
    "    [2, 2, 3, 2],\n",
    "    [4, -3, 0, 1],\n",
    "    [6, 1, -6, 1],\n",
    "]).astype(float)\n",
    "\n",
    "b = np.array([\n",
    "    [0],\n",
    "    [-2],\n",
    "    [-7],\n",
    "    [6],\n",
    "]).astype(float)\n",
    "\n",
    "M = np.concatenate((A, b), axis=1)\n",
    "M"
   ]
  },
  {
   "cell_type": "code",
   "execution_count": 29,
   "metadata": {},
   "outputs": [
    {
     "data": {
      "text/plain": [
       "array([[ 6.,  1., -6.,  1.,  6.],\n",
       "       [ 4., -3.,  0.,  1., -7.],\n",
       "       [ 2.,  2.,  3.,  2., -2.],\n",
       "       [ 0.,  2.,  0.,  1.,  0.]])"
      ]
     },
     "execution_count": 29,
     "metadata": {},
     "output_type": "execute_result"
    }
   ],
   "source": [
    "P = np.array ([\n",
    "    [0, 0, 0, 1],\n",
    "    [0, 0, 1, 0],\n",
    "    [0, 1, 0, 0],\n",
    "    [1, 0, 0, 0],\n",
    "])\n",
    "\n",
    "M = P @ M\n",
    "M"
   ]
  },
  {
   "cell_type": "code",
   "execution_count": 30,
   "metadata": {},
   "outputs": [
    {
     "name": "stdout",
     "output_type": "stream",
     "text": [
      "[[ 1.          0.16666667 -1.          0.16666667  1.        ]\n",
      " [ 4.         -3.          0.          1.         -7.        ]\n",
      " [ 2.          2.          3.          2.         -2.        ]\n",
      " [ 0.          2.          0.          1.          0.        ]]\n",
      "\n",
      "[[ 1.          0.16666667 -1.          0.16666667  1.        ]\n",
      " [-0.          1.         -1.09090909 -0.09090909  3.        ]\n",
      " [ 0.          1.66666667  5.          1.66666667 -4.        ]\n",
      " [ 0.          2.          0.          1.          0.        ]]\n",
      "\n",
      "[[ 1.          0.         -0.81818182  0.18181818  0.5       ]\n",
      " [-0.          1.         -1.09090909 -0.09090909  3.        ]\n",
      " [ 0.          0.          1.          0.26666667 -1.32      ]\n",
      " [ 0.          0.          2.18181818  1.18181818 -6.        ]]\n",
      "\n",
      "[[ 1.          0.          0.          0.4        -0.58      ]\n",
      " [ 0.          1.          0.          0.2         1.56      ]\n",
      " [ 0.          0.          1.          0.26666667 -1.32      ]\n",
      " [ 0.          0.          0.          1.         -5.2       ]]\n",
      "\n"
     ]
    },
    {
     "data": {
      "text/plain": [
       "array([[ 1.        ,  0.        ,  0.        ,  0.        ,  1.5       ],\n",
       "       [ 0.        ,  1.        ,  0.        ,  0.        ,  2.6       ],\n",
       "       [ 0.        ,  0.        ,  1.        ,  0.        ,  0.06666667],\n",
       "       [ 0.        ,  0.        ,  0.        ,  1.        , -5.2       ]])"
      ]
     },
     "execution_count": 30,
     "metadata": {},
     "output_type": "execute_result"
    }
   ],
   "source": [
    "def gauss_jordan_elimination(M):\n",
    "    # forward elimination\n",
    "    for i in range(M.shape[0]):\n",
    "        # divide row by pivot\n",
    "        M[i] = M[i] / M[i, i]\n",
    "        print(M)\n",
    "        print()\n",
    "        # subtract row from all other rows\n",
    "        for j in range(M.shape[0]):\n",
    "            if j != i:\n",
    "                M[j] = M[j] - M[i] * M[j, i]\n",
    "    return M\n",
    "\n",
    "M = gauss_jordan_elimination(M)\n",
    "M"
   ]
  }
 ],
 "metadata": {
  "kernelspec": {
   "display_name": "Python 3.8.0 64-bit",
   "language": "python",
   "name": "python3"
  },
  "language_info": {
   "codemirror_mode": {
    "name": "ipython",
    "version": 3
   },
   "file_extension": ".py",
   "mimetype": "text/x-python",
   "name": "python",
   "nbconvert_exporter": "python",
   "pygments_lexer": "ipython3",
   "version": "3.8.0"
  },
  "orig_nbformat": 4,
  "vscode": {
   "interpreter": {
    "hash": "9650cb4e16cdd4a8e8e2d128bf38d875813998db22a3c986335f89e0cb4d7bb2"
   }
  }
 },
 "nbformat": 4,
 "nbformat_minor": 2
}
