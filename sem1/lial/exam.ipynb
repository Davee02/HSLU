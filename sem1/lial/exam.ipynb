{
 "cells": [
  {
   "cell_type": "code",
   "execution_count": 47,
   "metadata": {},
   "outputs": [],
   "source": [
    "import numpy as np\n",
    "import fractions\n",
    "\n",
    "np.set_printoptions(formatter={'all':lambda x: str(fractions.Fraction(x).limit_denominator())}) # display as fractions (1/3)\n",
    "# np.set_printoptions(formatter={'all':lambda x: str(x)}) # display as decimal numbers (0.33333...)"
   ]
  },
  {
   "cell_type": "markdown",
   "metadata": {},
   "source": [
    "# Lineare Regression"
   ]
  },
  {
   "cell_type": "code",
   "execution_count": 48,
   "metadata": {},
   "outputs": [],
   "source": [
    "# Datenmatrix X und Vektor y der Zielgrössen\n",
    "\n",
    "X = np.array([\n",
    "    [1, -5],\n",
    "    [1, -4],\n",
    "    [1, 2],\n",
    "    [1, 6],\n",
    "    [1, 7],\n",
    "])\n",
    "\n",
    "y = np.array([\n",
    "    [-2],\n",
    "    [2],\n",
    "    [3],\n",
    "    [5],\n",
    "    [6],\n",
    "])"
   ]
  },
  {
   "cell_type": "markdown",
   "metadata": {},
   "source": [
    "## \"$ X^TX $\""
   ]
  },
  {
   "cell_type": "code",
   "execution_count": 49,
   "metadata": {},
   "outputs": [
    {
     "data": {
      "text/plain": [
       "array([[5, 6],\n",
       "       [6, 130]])"
      ]
     },
     "execution_count": 49,
     "metadata": {},
     "output_type": "execute_result"
    }
   ],
   "source": [
    "X.T @ X"
   ]
  },
  {
   "cell_type": "markdown",
   "metadata": {},
   "source": [
    "## Vektor der Regressionskoeffizienten \"$ \\hat{b} = (X^TX)^{-1}X^Ty $\""
   ]
  },
  {
   "cell_type": "code",
   "execution_count": 50,
   "metadata": {},
   "outputs": [
    {
     "data": {
      "text/plain": [
       "array([[670/307],\n",
       "       [158/307]])"
      ]
     },
     "execution_count": 50,
     "metadata": {},
     "output_type": "execute_result"
    }
   ],
   "source": [
    "bhat = np.linalg.inv(X.T @ X) @ X.T @ y\n",
    "bhat"
   ]
  },
  {
   "cell_type": "markdown",
   "metadata": {},
   "source": [
    "## Projektionsmatrix \"$ P = X(X^TX)^{-1}X^T $\""
   ]
  },
  {
   "cell_type": "code",
   "execution_count": 51,
   "metadata": {},
   "outputs": [
    {
     "data": {
      "text/plain": [
       "array([[315/614, 142/307, 49/307, -13/307, -57/614],\n",
       "       [142/307, 129/307, 51/307, -1/307, -14/307],\n",
       "       [49/307, 51/307, 63/307, 71/307, 73/307],\n",
       "       [-13/307, -1/307, 71/307, 119/307, 131/307],\n",
       "       [-57/614, -14/307, 73/307, 131/307, 291/614]])"
      ]
     },
     "execution_count": 51,
     "metadata": {},
     "output_type": "execute_result"
    }
   ],
   "source": [
    "P = X @ np.linalg.inv(X.T @ X) @ X.T\n",
    "P"
   ]
  },
  {
   "cell_type": "markdown",
   "metadata": {},
   "source": [
    "## Residualmatrix \"$ Q = I - P $\""
   ]
  },
  {
   "cell_type": "code",
   "execution_count": 52,
   "metadata": {},
   "outputs": [
    {
     "data": {
      "text/plain": [
       "array([[299/614, -142/307, -49/307, 13/307, 57/614],\n",
       "       [-142/307, 178/307, -51/307, 1/307, 14/307],\n",
       "       [-49/307, -51/307, 244/307, -71/307, -73/307],\n",
       "       [13/307, 1/307, -71/307, 188/307, -131/307],\n",
       "       [57/614, 14/307, -73/307, -131/307, 323/614]])"
      ]
     },
     "execution_count": 52,
     "metadata": {},
     "output_type": "execute_result"
    }
   ],
   "source": [
    "I = np.identity(P.shape[0])\n",
    "Q = I - P\n",
    "Q"
   ]
  },
  {
   "cell_type": "markdown",
   "metadata": {},
   "source": [
    "## Prädiktionsvektor \"$ \\hat{y} = Py $\""
   ]
  },
  {
   "cell_type": "code",
   "execution_count": 53,
   "metadata": {},
   "outputs": [
    {
     "data": {
      "text/plain": [
       "array([[-120/307],\n",
       "       [38/307],\n",
       "       [986/307],\n",
       "       [1618/307],\n",
       "       [1776/307]])"
      ]
     },
     "execution_count": 53,
     "metadata": {},
     "output_type": "execute_result"
    }
   ],
   "source": [
    "yhat = P @ y\n",
    "yhat"
   ]
  },
  {
   "cell_type": "markdown",
   "metadata": {},
   "source": [
    "## Fehlervektor \"$ \\mathbf{e} = y - \\hat{y} = Qy $\""
   ]
  },
  {
   "cell_type": "code",
   "execution_count": 54,
   "metadata": {},
   "outputs": [
    {
     "data": {
      "text/plain": [
       "array([[-494/307],\n",
       "       [576/307],\n",
       "       [-65/307],\n",
       "       [-83/307],\n",
       "       [66/307]])"
      ]
     },
     "execution_count": 54,
     "metadata": {},
     "output_type": "execute_result"
    }
   ],
   "source": [
    "# entweder\n",
    "e = y - yhat\n",
    "\n",
    "# oder\n",
    "e = Q @ y\n",
    "\n",
    "e"
   ]
  },
  {
   "cell_type": "markdown",
   "metadata": {},
   "source": [
    "## SQR (Summe der Quadrate der Restabweichungen) \"$ e^Te $\""
   ]
  },
  {
   "cell_type": "code",
   "execution_count": 55,
   "metadata": {},
   "outputs": [
    {
     "data": {
      "text/plain": [
       "array([[1926/307]])"
      ]
     },
     "execution_count": 55,
     "metadata": {},
     "output_type": "execute_result"
    }
   ],
   "source": [
    "SQR = e.T @ e\n",
    "SQR"
   ]
  },
  {
   "cell_type": "markdown",
   "metadata": {},
   "source": [
    "## SQT (Summe der Quadrate der Totalen Abweichungen)"
   ]
  },
  {
   "cell_type": "markdown",
   "metadata": {},
   "source": [
    "### Zentrierende Matrix \"$ M = I - \\frac{1}{m}\\mathbf{1}\\mathbf{1}^T $\""
   ]
  },
  {
   "cell_type": "code",
   "execution_count": 56,
   "metadata": {},
   "outputs": [
    {
     "name": "stdout",
     "output_type": "stream",
     "text": [
      "m=5\n"
     ]
    },
    {
     "data": {
      "text/plain": [
       "array([[4/5, -1/5, -1/5, -1/5, -1/5],\n",
       "       [-1/5, 4/5, -1/5, -1/5, -1/5],\n",
       "       [-1/5, -1/5, 4/5, -1/5, -1/5],\n",
       "       [-1/5, -1/5, -1/5, 4/5, -1/5],\n",
       "       [-1/5, -1/5, -1/5, -1/5, 4/5]])"
      ]
     },
     "execution_count": 56,
     "metadata": {},
     "output_type": "execute_result"
    }
   ],
   "source": [
    "m, _ = y.shape\n",
    "M = np.eye (m) - np.ones ((m, m)) / m\n",
    "print(f\"m={m}\")\n",
    "M"
   ]
  },
  {
   "cell_type": "markdown",
   "metadata": {},
   "source": [
    "## SQT ausrechnen \"$ y^TMy $\""
   ]
  },
  {
   "cell_type": "code",
   "execution_count": 57,
   "metadata": {},
   "outputs": [
    {
     "data": {
      "text/plain": [
       "array([[194/5]])"
      ]
     },
     "execution_count": 57,
     "metadata": {},
     "output_type": "execute_result"
    }
   ],
   "source": [
    "SQT = y.T @ M @ y\n",
    "SQT"
   ]
  },
  {
   "cell_type": "markdown",
   "metadata": {},
   "source": [
    "## Bestimmtheitsmass \"$ R^2 = 1 - \\frac{SQR}{SQT} $\""
   ]
  },
  {
   "cell_type": "code",
   "execution_count": 58,
   "metadata": {},
   "outputs": [
    {
     "data": {
      "text/plain": [
       "array([[24964/29779]])"
      ]
     },
     "execution_count": 58,
     "metadata": {},
     "output_type": "execute_result"
    }
   ],
   "source": [
    "R2 = 1 - SQR/SQT\n",
    "R2"
   ]
  },
  {
   "cell_type": "markdown",
   "metadata": {},
   "source": [
    "# Hauptkomponentenanalyse"
   ]
  },
  {
   "cell_type": "code",
   "execution_count": 59,
   "metadata": {},
   "outputs": [],
   "source": [
    "# Datenmatrix x-tilde\n",
    "Xtilde = np.array([\n",
    "    [1, 2],\n",
    "    [3, -1],\n",
    "    [5, -2],\n",
    "    [8, -3],\n",
    "    [9, -5],\n",
    "])"
   ]
  },
  {
   "cell_type": "markdown",
   "metadata": {},
   "source": [
    "## Zentrierende Datenmatrix \"$ M = I - \\frac{1}{m}\\mathbf{1}\\mathbf{1}^T $\""
   ]
  },
  {
   "cell_type": "code",
   "execution_count": 60,
   "metadata": {},
   "outputs": [
    {
     "name": "stdout",
     "output_type": "stream",
     "text": [
      "m=5\n"
     ]
    },
    {
     "data": {
      "text/plain": [
       "array([[4/5, -1/5, -1/5, -1/5, -1/5],\n",
       "       [-1/5, 4/5, -1/5, -1/5, -1/5],\n",
       "       [-1/5, -1/5, 4/5, -1/5, -1/5],\n",
       "       [-1/5, -1/5, -1/5, 4/5, -1/5],\n",
       "       [-1/5, -1/5, -1/5, -1/5, 4/5]])"
      ]
     },
     "execution_count": 60,
     "metadata": {},
     "output_type": "execute_result"
    }
   ],
   "source": [
    "m, _ = Xtilde.shape\n",
    "M = np.eye (m) - np.ones ((m, m)) / m\n",
    "print(f\"m={m}\")\n",
    "M"
   ]
  },
  {
   "cell_type": "markdown",
   "metadata": {},
   "source": [
    "## Zentrierte Datenmatrix \"$ X = M\\tilde{X} $\""
   ]
  },
  {
   "cell_type": "code",
   "execution_count": 61,
   "metadata": {},
   "outputs": [
    {
     "data": {
      "text/plain": [
       "array([[-21/5, 19/5],\n",
       "       [-11/5, 4/5],\n",
       "       [-1/5, -1/5],\n",
       "       [14/5, -6/5],\n",
       "       [19/5, -16/5]])"
      ]
     },
     "execution_count": 61,
     "metadata": {},
     "output_type": "execute_result"
    }
   ],
   "source": [
    "X = M @ Xtilde\n",
    "X"
   ]
  },
  {
   "cell_type": "markdown",
   "metadata": {},
   "source": [
    "## Kovarianzmatrix \"$ C = \\frac{1}{m-1}X^TX $\""
   ]
  },
  {
   "cell_type": "code",
   "execution_count": 62,
   "metadata": {},
   "outputs": [
    {
     "data": {
      "text/plain": [
       "array([[56/5, -83/10],\n",
       "       [-83/10, 67/10]])"
      ]
     },
     "execution_count": 62,
     "metadata": {},
     "output_type": "execute_result"
    }
   ],
   "source": [
    "C = (1 / (m-1)) * X.T @ X\n",
    "C"
   ]
  },
  {
   "cell_type": "markdown",
   "metadata": {},
   "source": [
    "## Eigenwertzerlegung / Spektralzerlegung der Kovarianzmatrix \"$ \\mathbf{C} $\""
   ]
  },
  {
   "cell_type": "markdown",
   "metadata": {},
   "source": [
    "## Eigenwerte und Eigenvektoren berechnen"
   ]
  },
  {
   "cell_type": "code",
   "execution_count": 63,
   "metadata": {},
   "outputs": [
    {
     "name": "stdout",
     "output_type": "stream",
     "text": [
      "[2537509/144591 198139/565407]\n",
      "\n",
      "[[780551/982762 446587/735000]\n",
      " [-446587/735000 780551/982762]]\n"
     ]
    }
   ],
   "source": [
    "ew, ev = np.linalg.eig(C)\n",
    "print(ew)\n",
    "print()\n",
    "print(ev)"
   ]
  },
  {
   "cell_type": "markdown",
   "metadata": {},
   "source": [
    "### Matrizen zusammensetzen: $ \\mathbf{C}=\\mathbf{V}\\Lambda\\mathbf{V}^\\intercal $"
   ]
  },
  {
   "cell_type": "markdown",
   "metadata": {},
   "source": [
    "- $ \\mathbf{V} $: Spalten = Eigenvektoren\n",
    "- $ \\Lambda $: Diagonalmatrix mit Eigenwerten\n",
    "- $ \\mathbf{V}^\\intercal $: Zeilen = Eigenvektoren"
   ]
  },
  {
   "cell_type": "markdown",
   "metadata": {},
   "source": [
    "## Singulärwertzerlegung der zentrierten Datenmatrix $ \\mathbf{X} $"
   ]
  },
  {
   "cell_type": "code",
   "execution_count": 64,
   "metadata": {},
   "outputs": [
    {
     "name": "stdout",
     "output_type": "stream",
     "text": [
      "[[-269357/399807 214508/544767]\n",
      " [-242511/909757 -353224/596297]\n",
      " [-4021/902528 -165045/696959]\n",
      " [164174/465805 420423/665284]\n",
      " [467512/789333 -90049/458180]]\n",
      "\n",
      "[[3616009/431585 0]\n",
      " [0 998914/843711]]\n",
      "\n",
      "[[780551/982762 -446587/735000]\n",
      " [446587/735000 780551/982762]]\n"
     ]
    }
   ],
   "source": [
    "U, D, VT = np.linalg.svd(X, full_matrices=False)\n",
    "Sigma = np.diag (D)\n",
    "\n",
    "print(U)\n",
    "print()\n",
    "print(Sigma)\n",
    "print()\n",
    "print(VT)"
   ]
  },
  {
   "cell_type": "markdown",
   "metadata": {},
   "source": [
    "# Eigenwerte / Eigenvektoren"
   ]
  },
  {
   "cell_type": "code",
   "execution_count": 65,
   "metadata": {},
   "outputs": [
    {
     "data": {
      "text/plain": [
       "(array([6082058/639017, -2886973/639017]),\n",
       " array([[724289/989651, -601681/882940],\n",
       "        [601681/882940, 724289/989651]]))"
      ]
     },
     "execution_count": 65,
     "metadata": {},
     "output_type": "execute_result"
    }
   ],
   "source": [
    "A = np.array([\n",
    "    [3, 7],\n",
    "    [7, 2],\n",
    "])\n",
    "\n",
    "np.linalg.eig(A)"
   ]
  },
  {
   "cell_type": "markdown",
   "metadata": {},
   "source": [
    "# Projektion auf einen Vektor (eindimensionaler Teilraum)"
   ]
  },
  {
   "cell_type": "code",
   "execution_count": 66,
   "metadata": {},
   "outputs": [],
   "source": [
    "# Aufgabenstellung: Projizieren Sie den Vektor b auf eine Gerade durch a.\n",
    "\n",
    "b = np.array([\n",
    "    [3],\n",
    "    [4],\n",
    "    [4],\n",
    "])\n",
    "\n",
    "a = np.array([\n",
    "    [2],\n",
    "    [2],\n",
    "    [1],\n",
    "])"
   ]
  },
  {
   "cell_type": "markdown",
   "metadata": {},
   "source": [
    "## \"$ \\mathbf{a}^\\intercal\\mathbf{a} $\""
   ]
  },
  {
   "cell_type": "code",
   "execution_count": 67,
   "metadata": {},
   "outputs": [
    {
     "data": {
      "text/plain": [
       "array([[9]])"
      ]
     },
     "execution_count": 67,
     "metadata": {},
     "output_type": "execute_result"
    }
   ],
   "source": [
    "ata = a.T @ a\n",
    "ata"
   ]
  },
  {
   "cell_type": "markdown",
   "metadata": {},
   "source": [
    "## Projektionsmatrix \"$ P = \\frac{1}{a^Ta} $\""
   ]
  },
  {
   "cell_type": "code",
   "execution_count": 68,
   "metadata": {},
   "outputs": [
    {
     "data": {
      "text/plain": [
       "array([[4/9, 4/9, 2/9],\n",
       "       [4/9, 4/9, 2/9],\n",
       "       [2/9, 2/9, 1/9]])"
      ]
     },
     "execution_count": 68,
     "metadata": {},
     "output_type": "execute_result"
    }
   ],
   "source": [
    "P = (1 / ata) * a @ a.T\n",
    "P"
   ]
  },
  {
   "cell_type": "markdown",
   "metadata": {},
   "source": [
    "## Projektion von $ \\mathbf{b} $ \"$ Pb $\""
   ]
  },
  {
   "cell_type": "code",
   "execution_count": 69,
   "metadata": {},
   "outputs": [
    {
     "data": {
      "text/plain": [
       "array([[4],\n",
       "       [4],\n",
       "       [2]])"
      ]
     },
     "execution_count": 69,
     "metadata": {},
     "output_type": "execute_result"
    }
   ],
   "source": [
    "Pb = P @ b\n",
    "Pb"
   ]
  },
  {
   "cell_type": "markdown",
   "metadata": {},
   "source": [
    "## Fehlervektor \"$ e = b -Pb $\""
   ]
  },
  {
   "cell_type": "code",
   "execution_count": 70,
   "metadata": {},
   "outputs": [
    {
     "data": {
      "text/plain": [
       "array([[-1],\n",
       "       [0],\n",
       "       [2]])"
      ]
     },
     "execution_count": 70,
     "metadata": {},
     "output_type": "execute_result"
    }
   ],
   "source": [
    "e = b - Pb\n",
    "e"
   ]
  },
  {
   "cell_type": "markdown",
   "metadata": {},
   "source": [
    "## Check ob Fehlervektor orthogonal zu \"$ \\mathbf{a} $\" ist"
   ]
  },
  {
   "cell_type": "code",
   "execution_count": 71,
   "metadata": {},
   "outputs": [
    {
     "data": {
      "text/plain": [
       "array([[0]])"
      ]
     },
     "execution_count": 71,
     "metadata": {},
     "output_type": "execute_result"
    }
   ],
   "source": [
    "# falls 0 => orthogonal\n",
    "a.T @ e"
   ]
  },
  {
   "cell_type": "markdown",
   "metadata": {},
   "source": [
    "# Projektion auf einen mehrdimensionalen Teilraum"
   ]
  },
  {
   "cell_type": "code",
   "execution_count": 72,
   "metadata": {},
   "outputs": [],
   "source": [
    "# Aufgabenstellung: Projizieren Sie den Vektor v auf die Ebene A\n",
    "\n",
    "b = np.array([\n",
    "    [3],\n",
    "    [4],\n",
    "    [4],\n",
    "])\n",
    "\n",
    "A = np.array([\n",
    "    [2, 1],\n",
    "    [2, 0],\n",
    "    [1, 0],\n",
    "])"
   ]
  },
  {
   "cell_type": "markdown",
   "metadata": {},
   "source": [
    "## \"$ \\mathbf{A}^\\intercal\\mathbf{A} $\""
   ]
  },
  {
   "cell_type": "code",
   "execution_count": 73,
   "metadata": {},
   "outputs": [
    {
     "data": {
      "text/plain": [
       "array([[9, 2],\n",
       "       [2, 1]])"
      ]
     },
     "execution_count": 73,
     "metadata": {},
     "output_type": "execute_result"
    }
   ],
   "source": [
    "ATA = A.T @ A\n",
    "ATA"
   ]
  },
  {
   "cell_type": "markdown",
   "metadata": {},
   "source": [
    "## Projektionsmatrix \"$ P = A(A^TA)^{-1}A^T $\""
   ]
  },
  {
   "cell_type": "code",
   "execution_count": 75,
   "metadata": {},
   "outputs": [
    {
     "data": {
      "text/plain": [
       "array([[1, 0, 0],\n",
       "       [0, 4/5, 2/5],\n",
       "       [0, 2/5, 1/5]])"
      ]
     },
     "execution_count": 75,
     "metadata": {},
     "output_type": "execute_result"
    }
   ],
   "source": [
    "P = A @ np.linalg.inv(ATA) @ A.T\n",
    "P"
   ]
  },
  {
   "cell_type": "markdown",
   "metadata": {},
   "source": [
    "## Projektion von $ \\mathbf{b} $ \"$ Pb $\""
   ]
  },
  {
   "cell_type": "code",
   "execution_count": 76,
   "metadata": {},
   "outputs": [
    {
     "data": {
      "text/plain": [
       "array([[3],\n",
       "       [24/5],\n",
       "       [12/5]])"
      ]
     },
     "execution_count": 76,
     "metadata": {},
     "output_type": "execute_result"
    }
   ],
   "source": [
    "Pb = P @ b\n",
    "Pb"
   ]
  },
  {
   "cell_type": "markdown",
   "metadata": {},
   "source": [
    "## Fehlervektor \"$ \\mathbf{e} $\""
   ]
  },
  {
   "cell_type": "code",
   "execution_count": 77,
   "metadata": {},
   "outputs": [
    {
     "data": {
      "text/plain": [
       "array([[0],\n",
       "       [-4/5],\n",
       "       [8/5]])"
      ]
     },
     "execution_count": 77,
     "metadata": {},
     "output_type": "execute_result"
    }
   ],
   "source": [
    "e = b - Pb\n",
    "e"
   ]
  },
  {
   "cell_type": "markdown",
   "metadata": {},
   "source": [
    "## Check ob Fehlervektor orthogonal zu den Spaltenvektoren von \"$ \\mathbf{A} $\" ist"
   ]
  },
  {
   "cell_type": "code",
   "execution_count": 81,
   "metadata": {},
   "outputs": [
    {
     "data": {
      "text/plain": [
       "array([1, 0, 0])"
      ]
     },
     "execution_count": 81,
     "metadata": {},
     "output_type": "execute_result"
    }
   ],
   "source": [
    "a1 = A[:, 0]\n",
    "a2 = A[:, 1]"
   ]
  },
  {
   "cell_type": "code",
   "execution_count": 82,
   "metadata": {},
   "outputs": [
    {
     "data": {
      "text/plain": [
       "array([0])"
      ]
     },
     "execution_count": 82,
     "metadata": {},
     "output_type": "execute_result"
    }
   ],
   "source": [
    "# falls 0 => orthogonal\n",
    "a1.T @ e"
   ]
  },
  {
   "cell_type": "code",
   "execution_count": 83,
   "metadata": {},
   "outputs": [
    {
     "data": {
      "text/plain": [
       "array([0])"
      ]
     },
     "execution_count": 83,
     "metadata": {},
     "output_type": "execute_result"
    }
   ],
   "source": [
    "# falls 0 => orthogonal\n",
    "a2.T @ e"
   ]
  },
  {
   "cell_type": "markdown",
   "metadata": {},
   "source": [
    "# Schnittwinkel zweier Geraden\n",
    "\n",
    "$ \\cos{\\alpha} = \\frac{\\vec{u} * \\vec{v}}{\\lvert \\vec{u} \\rvert * \\lvert \\vec{v} \\rvert}$"
   ]
  },
  {
   "cell_type": "code",
   "execution_count": 89,
   "metadata": {},
   "outputs": [
    {
     "data": {
      "text/plain": [
       "62.60030804589705"
      ]
     },
     "execution_count": 89,
     "metadata": {},
     "output_type": "execute_result"
    }
   ],
   "source": [
    "u = np.array([4, 2, -1])  # Richtungsvektor erste Gerade\n",
    "v = np.array([5, -2, 3])  # Richtungsvektor zweite Gerade\n",
    "\n",
    "c = np.dot(u, v) / np.linalg.norm(u) / np.linalg.norm(v)  # Kosinus des Winkels\n",
    "angle_rad = np.arccos(np.clip(c, -1, 1)) # Winkel in rad\n",
    "angle_deg = np.rad2deg(angle_rad) # Winkel in grad\n",
    "angle_deg\n"
   ]
  }
 ],
 "metadata": {
  "kernelspec": {
   "display_name": "Python 3.11.0 64-bit",
   "language": "python",
   "name": "python3"
  },
  "language_info": {
   "codemirror_mode": {
    "name": "ipython",
    "version": 3
   },
   "file_extension": ".py",
   "mimetype": "text/x-python",
   "name": "python",
   "nbconvert_exporter": "python",
   "pygments_lexer": "ipython3",
   "version": "3.11.0"
  },
  "orig_nbformat": 4,
  "vscode": {
   "interpreter": {
    "hash": "c261aea317cc0286b3b3261fbba9abdec21eaa57589985bb7a274bf54d6cc0a7"
   }
  }
 },
 "nbformat": 4,
 "nbformat_minor": 2
}
