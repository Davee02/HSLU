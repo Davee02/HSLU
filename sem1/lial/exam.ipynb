{
 "cells": [
  {
   "cell_type": "code",
   "execution_count": 16,
   "metadata": {},
   "outputs": [],
   "source": [
    "import numpy as np\n",
    "import fractions\n",
    "\n",
    "# np.set_printoptions(formatter={'all':lambda x: str(fractions.Fraction(x).limit_denominator())}) # display as fractions (1/3)\n",
    "np.set_printoptions(formatter={'all':lambda x: str(x)}) # display as decimal numbers (0.33333...)"
   ]
  },
  {
   "cell_type": "markdown",
   "metadata": {},
   "source": [
    "# Lineare Regression"
   ]
  },
  {
   "cell_type": "code",
   "execution_count": 3,
   "metadata": {},
   "outputs": [],
   "source": [
    "# Datenmatrix X und Vektor y der Zielgrössen\n",
    "\n",
    "X = np.array([\n",
    "    [1, -5],\n",
    "    [1, -4],\n",
    "    [1, 2],\n",
    "    [1, 6],\n",
    "    [1, 7],\n",
    "])\n",
    "\n",
    "y = np.array([\n",
    "    [-2],\n",
    "    [2],\n",
    "    [3],\n",
    "    [5],\n",
    "    [6],\n",
    "])"
   ]
  },
  {
   "cell_type": "markdown",
   "metadata": {},
   "source": [
    "## \"X Transformiert * X\""
   ]
  },
  {
   "cell_type": "code",
   "execution_count": 7,
   "metadata": {},
   "outputs": [
    {
     "data": {
      "text/plain": [
       "array([[5, 6],\n",
       "       [6, 130]])"
      ]
     },
     "execution_count": 7,
     "metadata": {},
     "output_type": "execute_result"
    }
   ],
   "source": [
    "X.T @ X"
   ]
  },
  {
   "cell_type": "markdown",
   "metadata": {},
   "source": [
    "## Vektor der Regressionskoeffizienten \"b-hat\""
   ]
  },
  {
   "cell_type": "code",
   "execution_count": 10,
   "metadata": {},
   "outputs": [
    {
     "data": {
      "text/plain": [
       "array([[670/307],\n",
       "       [158/307]])"
      ]
     },
     "execution_count": 10,
     "metadata": {},
     "output_type": "execute_result"
    }
   ],
   "source": [
    "bhat = np.linalg.inv(X.T @ X) @ X.T @ y\n",
    "bhat"
   ]
  },
  {
   "cell_type": "markdown",
   "metadata": {},
   "source": [
    "## Projektionsmatrix \"P\""
   ]
  },
  {
   "cell_type": "code",
   "execution_count": 156,
   "metadata": {},
   "outputs": [
    {
     "data": {
      "text/plain": [
       "array([[0.8333333333333333, 0.33333333333333326, -0.16666666666666674],\n",
       "       [0.33333333333333326, 0.33333333333333326, 0.33333333333333326],\n",
       "       [-0.16666666666666674, 0.33333333333333326, 0.8333333333333333]])"
      ]
     },
     "execution_count": 156,
     "metadata": {},
     "output_type": "execute_result"
    }
   ],
   "source": [
    "P = X @ np.linalg.inv(X.T @ X) @ X.T\n",
    "P"
   ]
  },
  {
   "cell_type": "markdown",
   "metadata": {},
   "source": [
    "## Residualmatrix \"Q\""
   ]
  },
  {
   "cell_type": "code",
   "execution_count": 157,
   "metadata": {},
   "outputs": [
    {
     "data": {
      "text/plain": [
       "array([[0.16666666666666674, -0.33333333333333326, 0.16666666666666674],\n",
       "       [-0.33333333333333326, 0.6666666666666667, -0.33333333333333326],\n",
       "       [0.16666666666666674, -0.33333333333333326, 0.16666666666666674]])"
      ]
     },
     "execution_count": 157,
     "metadata": {},
     "output_type": "execute_result"
    }
   ],
   "source": [
    "I = np.identity(P.shape[0])\n",
    "Q = I - P\n",
    "Q"
   ]
  },
  {
   "cell_type": "markdown",
   "metadata": {},
   "source": [
    "## Prädiktionsvektor \"y-hat\""
   ]
  },
  {
   "cell_type": "code",
   "execution_count": 158,
   "metadata": {},
   "outputs": [
    {
     "data": {
      "text/plain": [
       "array([[0.6666666666666663],\n",
       "       [1.6666666666666663],\n",
       "       [2.666666666666666]])"
      ]
     },
     "execution_count": 158,
     "metadata": {},
     "output_type": "execute_result"
    }
   ],
   "source": [
    "yhat = P @ y\n",
    "yhat"
   ]
  },
  {
   "cell_type": "markdown",
   "metadata": {},
   "source": [
    "## Fehlervektor \"e\""
   ]
  },
  {
   "cell_type": "code",
   "execution_count": 159,
   "metadata": {},
   "outputs": [
    {
     "data": {
      "text/plain": [
       "array([[0.3333333333333337],\n",
       "       [-0.6666666666666663],\n",
       "       [0.3333333333333337]])"
      ]
     },
     "execution_count": 159,
     "metadata": {},
     "output_type": "execute_result"
    }
   ],
   "source": [
    "# entweder\n",
    "e = y - yhat\n",
    "\n",
    "# oder\n",
    "e = Q @ y\n",
    "\n",
    "e"
   ]
  },
  {
   "cell_type": "markdown",
   "metadata": {},
   "source": [
    "## SQR"
   ]
  },
  {
   "cell_type": "code",
   "execution_count": 160,
   "metadata": {},
   "outputs": [
    {
     "data": {
      "text/plain": [
       "array([[0.6666666666666667]])"
      ]
     },
     "execution_count": 160,
     "metadata": {},
     "output_type": "execute_result"
    }
   ],
   "source": [
    "SQR = e.T @ e\n",
    "SQR"
   ]
  },
  {
   "cell_type": "markdown",
   "metadata": {},
   "source": [
    "## SQT"
   ]
  },
  {
   "cell_type": "markdown",
   "metadata": {},
   "source": [
    "### Zentrierende Matrix"
   ]
  },
  {
   "cell_type": "code",
   "execution_count": 161,
   "metadata": {},
   "outputs": [
    {
     "name": "stdout",
     "output_type": "stream",
     "text": [
      "m=3\n"
     ]
    },
    {
     "data": {
      "text/plain": [
       "array([[0.6666666666666667, -0.3333333333333333, -0.3333333333333333],\n",
       "       [-0.3333333333333333, 0.6666666666666667, -0.3333333333333333],\n",
       "       [-0.3333333333333333, -0.3333333333333333, 0.6666666666666667]])"
      ]
     },
     "execution_count": 161,
     "metadata": {},
     "output_type": "execute_result"
    }
   ],
   "source": [
    "m, _ = y.shape\n",
    "M = np.eye (m) - np.ones ((m, m)) / m\n",
    "print(f\"m={m}\")\n",
    "M"
   ]
  },
  {
   "cell_type": "markdown",
   "metadata": {},
   "source": [
    "## SQT ausrechnen"
   ]
  },
  {
   "cell_type": "code",
   "execution_count": 162,
   "metadata": {},
   "outputs": [
    {
     "data": {
      "text/plain": [
       "array([[2.666666666666667]])"
      ]
     },
     "execution_count": 162,
     "metadata": {},
     "output_type": "execute_result"
    }
   ],
   "source": [
    "SQT = y.T @ M @ y\n",
    "SQT"
   ]
  },
  {
   "cell_type": "markdown",
   "metadata": {},
   "source": [
    "## Bestimmtheitsmass \"R2\""
   ]
  },
  {
   "cell_type": "code",
   "execution_count": 163,
   "metadata": {},
   "outputs": [
    {
     "data": {
      "text/plain": [
       "array([[0.75]])"
      ]
     },
     "execution_count": 163,
     "metadata": {},
     "output_type": "execute_result"
    }
   ],
   "source": [
    "R2 = 1 - SQR/SQT\n",
    "R2"
   ]
  },
  {
   "cell_type": "markdown",
   "metadata": {},
   "source": [
    "# Hauptkomponentenanalyse"
   ]
  },
  {
   "cell_type": "code",
   "execution_count": 11,
   "metadata": {},
   "outputs": [],
   "source": [
    "# Datenmatrix x-tilde\n",
    "Xtilde = np.array([\n",
    "    [1, 2],\n",
    "    [3, -1],\n",
    "    [5, -2],\n",
    "    [8, -3],\n",
    "    [9, -5],\n",
    "])"
   ]
  },
  {
   "cell_type": "markdown",
   "metadata": {},
   "source": [
    "## Zentrierende Datenmatrix"
   ]
  },
  {
   "cell_type": "code",
   "execution_count": 12,
   "metadata": {},
   "outputs": [
    {
     "name": "stdout",
     "output_type": "stream",
     "text": [
      "m=5\n"
     ]
    },
    {
     "data": {
      "text/plain": [
       "array([[4/5, -1/5, -1/5, -1/5, -1/5],\n",
       "       [-1/5, 4/5, -1/5, -1/5, -1/5],\n",
       "       [-1/5, -1/5, 4/5, -1/5, -1/5],\n",
       "       [-1/5, -1/5, -1/5, 4/5, -1/5],\n",
       "       [-1/5, -1/5, -1/5, -1/5, 4/5]])"
      ]
     },
     "execution_count": 12,
     "metadata": {},
     "output_type": "execute_result"
    }
   ],
   "source": [
    "m, _ = Xtilde.shape\n",
    "M = np.eye (m) - np.ones ((m, m)) / m\n",
    "print(f\"m={m}\")\n",
    "M"
   ]
  },
  {
   "cell_type": "markdown",
   "metadata": {},
   "source": [
    "## Zentrierte Datenmatrix"
   ]
  },
  {
   "cell_type": "code",
   "execution_count": 13,
   "metadata": {},
   "outputs": [
    {
     "data": {
      "text/plain": [
       "array([[-21/5, 19/5],\n",
       "       [-11/5, 4/5],\n",
       "       [-1/5, -1/5],\n",
       "       [14/5, -6/5],\n",
       "       [19/5, -16/5]])"
      ]
     },
     "execution_count": 13,
     "metadata": {},
     "output_type": "execute_result"
    }
   ],
   "source": [
    "X = M @ Xtilde\n",
    "X"
   ]
  },
  {
   "cell_type": "markdown",
   "metadata": {},
   "source": [
    "## Kovarianzmatrix \"C\""
   ]
  },
  {
   "cell_type": "code",
   "execution_count": 14,
   "metadata": {},
   "outputs": [
    {
     "data": {
      "text/plain": [
       "array([[56/5, -83/10],\n",
       "       [-83/10, 67/10]])"
      ]
     },
     "execution_count": 14,
     "metadata": {},
     "output_type": "execute_result"
    }
   ],
   "source": [
    "C = (1 / (m-1)) * X.T @ X\n",
    "C"
   ]
  },
  {
   "cell_type": "markdown",
   "metadata": {},
   "source": [
    "## Eigenwertzerlegung / Spektralzerlegung der Kovarianzmatrix \"C\""
   ]
  },
  {
   "cell_type": "markdown",
   "metadata": {},
   "source": [
    "## Eigenwerte und Eigenvektoren berechnen"
   ]
  },
  {
   "cell_type": "code",
   "execution_count": 17,
   "metadata": {},
   "outputs": [
    {
     "name": "stdout",
     "output_type": "stream",
     "text": [
      "[17.54956394243336 0.35043605756663876]\n",
      "\n",
      "[[0.7942421461138713 0.6076013605452442]\n",
      " [-0.6076013605452442 0.7942421461138713]]\n"
     ]
    }
   ],
   "source": [
    "ew, ev = np.linalg.eig(C)\n",
    "print(ew)\n",
    "print()\n",
    "print(ev)"
   ]
  },
  {
   "cell_type": "markdown",
   "metadata": {},
   "source": [
    "### Matrizen zusammensetzen: C = V * A * V.T\n",
    "\n",
    "- V: Spalten = Eigenvektoren\n",
    "- A: Diagonalmatrix mit Eigenwerten\n",
    "- V.T: Zeilen = Eigenvektoren"
   ]
  },
  {
   "cell_type": "markdown",
   "metadata": {},
   "source": [
    "## Singulärwertzerlegung der zentrierten Datenmatrix X"
   ]
  },
  {
   "cell_type": "code",
   "execution_count": 169,
   "metadata": {},
   "outputs": [
    {
     "name": "stdout",
     "output_type": "stream",
     "text": [
      "[[-0.6063390625908323 0.6063390625908325]\n",
      " [-0.25746437496366703 -0.742535625036333]\n",
      " [0.12126781251816647 -0.12126781251816642]\n",
      " [0.7425356250363329 0.25746437496366703]]\n",
      "\n",
      "[[5.787263818288452 0.0]\n",
      " [0.0 0.7124447329648512]]\n",
      "\n",
      "[[0.6154122094026357 0.7882054380161092]\n",
      " [-0.7882054380161092 0.6154122094026357]]\n"
     ]
    }
   ],
   "source": [
    "U, D, VT = np.linalg.svd(X, full_matrices=False)\n",
    "Sigma = np.diag (D)\n",
    "\n",
    "print(U)\n",
    "print()\n",
    "print(Sigma)\n",
    "print()\n",
    "print(VT)"
   ]
  },
  {
   "cell_type": "markdown",
   "metadata": {},
   "source": [
    "# Eigenwerte / Eigenvektoren"
   ]
  },
  {
   "cell_type": "code",
   "execution_count": 170,
   "metadata": {},
   "outputs": [
    {
     "data": {
      "text/plain": [
       "(array([9.517834423809099, -4.5178344238091]),\n",
       " array([[0.7318630507095947, -0.681451740775563],\n",
       "        [0.681451740775563, 0.7318630507095947]]))"
      ]
     },
     "execution_count": 170,
     "metadata": {},
     "output_type": "execute_result"
    }
   ],
   "source": [
    "A = np.array([\n",
    "    [3, 7],\n",
    "    [7, 2],\n",
    "])\n",
    "\n",
    "np.linalg.eig(A)"
   ]
  }
 ],
 "metadata": {
  "kernelspec": {
   "display_name": "Python 3.11.0 64-bit",
   "language": "python",
   "name": "python3"
  },
  "language_info": {
   "codemirror_mode": {
    "name": "ipython",
    "version": 3
   },
   "file_extension": ".py",
   "mimetype": "text/x-python",
   "name": "python",
   "nbconvert_exporter": "python",
   "pygments_lexer": "ipython3",
   "version": "3.11.0"
  },
  "orig_nbformat": 4,
  "vscode": {
   "interpreter": {
    "hash": "c261aea317cc0286b3b3261fbba9abdec21eaa57589985bb7a274bf54d6cc0a7"
   }
  }
 },
 "nbformat": 4,
 "nbformat_minor": 2
}
