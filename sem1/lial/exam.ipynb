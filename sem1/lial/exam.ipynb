{
 "cells": [
  {
   "cell_type": "code",
   "execution_count": 2,
   "metadata": {},
   "outputs": [],
   "source": [
    "import numpy as np\n",
    "import fractions\n",
    "\n",
    "# np.set_printoptions(formatter={'all':lambda x: str(fractions.Fraction(x).limit_denominator())}) # display as fractions (1/3)\n",
    "np.set_printoptions(formatter={'all':lambda x: str(x)}) # display as decimal numbers (0.33333...)"
   ]
  },
  {
   "cell_type": "markdown",
   "metadata": {},
   "source": [
    "# Lineare Regression"
   ]
  },
  {
   "cell_type": "code",
   "execution_count": 3,
   "metadata": {},
   "outputs": [],
   "source": [
    "# Datenmatrix X und Vektor y der Zielgrössen\n",
    "\n",
    "X = np.array([\n",
    "    [1, 2],\n",
    "    [1, 3],\n",
    "    [1, 5],\n",
    "    [1, 7],\n",
    "    [1, 11],\n",
    "])\n",
    "\n",
    "y = np.array([\n",
    "    [4],\n",
    "    [2],\n",
    "    [0],\n",
    "    [-1],\n",
    "    [-3],\n",
    "])"
   ]
  },
  {
   "cell_type": "markdown",
   "metadata": {},
   "source": [
    "## \"$ X^TX $\""
   ]
  },
  {
   "cell_type": "code",
   "execution_count": 4,
   "metadata": {},
   "outputs": [
    {
     "data": {
      "text/plain": [
       "array([[5, 28],\n",
       "       [28, 208]])"
      ]
     },
     "execution_count": 4,
     "metadata": {},
     "output_type": "execute_result"
    }
   ],
   "source": [
    "X.T @ X"
   ]
  },
  {
   "cell_type": "code",
   "execution_count": 5,
   "metadata": {},
   "outputs": [
    {
     "data": {
      "text/plain": [
       "array([[2],\n",
       "       [-26]])"
      ]
     },
     "execution_count": 5,
     "metadata": {},
     "output_type": "execute_result"
    }
   ],
   "source": [
    "X.T @ y"
   ]
  },
  {
   "cell_type": "markdown",
   "metadata": {},
   "source": [
    "## Vektor der Regressionskoeffizienten \"$ \\hat{b} = (X^TX)^{-1}X^Ty $\""
   ]
  },
  {
   "cell_type": "code",
   "execution_count": 21,
   "metadata": {},
   "outputs": [
    {
     "data": {
      "text/plain": [
       "array([[2.1824104234527684],\n",
       "       [0.5146579804560261]])"
      ]
     },
     "execution_count": 21,
     "metadata": {},
     "output_type": "execute_result"
    }
   ],
   "source": [
    "bhat = np.linalg.inv(X.T @ X) @ X.T @ y\n",
    "bhat"
   ]
  },
  {
   "cell_type": "markdown",
   "metadata": {},
   "source": [
    "## Projektionsmatrix \"$ P = X(X^TX)^{-1}X^T $\""
   ]
  },
  {
   "cell_type": "code",
   "execution_count": 22,
   "metadata": {},
   "outputs": [
    {
     "data": {
      "text/plain": [
       "array([[0.5130293159609121, 0.4625407166123779, 0.15960912052117263,\n",
       "        -0.042345276872964216, -0.09283387622149843],\n",
       "       [0.4625407166123779, 0.4201954397394137, 0.16612377850162866,\n",
       "        -0.0032573289902280422, -0.04560260586319222],\n",
       "       [0.15960912052117265, 0.16612377850162868, 0.2052117263843648,\n",
       "        0.23127035830618892, 0.23778501628664492],\n",
       "       [-0.04234527687296414, -0.0032573289902279867,\n",
       "        0.23127035830618892, 0.38762214983713356, 0.4267100977198697],\n",
       "       [-0.09283387622149833, -0.04560260586319215, 0.23778501628664495,\n",
       "        0.4267100977198697, 0.4739413680781759]])"
      ]
     },
     "execution_count": 22,
     "metadata": {},
     "output_type": "execute_result"
    }
   ],
   "source": [
    "P = X @ np.linalg.inv(X.T @ X) @ X.T\n",
    "P"
   ]
  },
  {
   "cell_type": "markdown",
   "metadata": {},
   "source": [
    "## Residualmatrix \"$ Q = I - P $\""
   ]
  },
  {
   "cell_type": "code",
   "execution_count": 23,
   "metadata": {},
   "outputs": [
    {
     "data": {
      "text/plain": [
       "array([[0.48697068403908794, -0.4625407166123779, -0.15960912052117263,\n",
       "        0.042345276872964216, 0.09283387622149843],\n",
       "       [-0.4625407166123779, 0.5798045602605864, -0.16612377850162866,\n",
       "        0.0032573289902280422, 0.04560260586319222],\n",
       "       [-0.15960912052117265, -0.16612377850162868, 0.7947882736156352,\n",
       "        -0.23127035830618892, -0.23778501628664492],\n",
       "       [0.04234527687296414, 0.0032573289902279867, -0.23127035830618892,\n",
       "        0.6123778501628665, -0.4267100977198697],\n",
       "       [0.09283387622149833, 0.04560260586319215, -0.23778501628664495,\n",
       "        -0.4267100977198697, 0.5260586319218241]])"
      ]
     },
     "execution_count": 23,
     "metadata": {},
     "output_type": "execute_result"
    }
   ],
   "source": [
    "I = np.identity(P.shape[0])\n",
    "Q = I - P\n",
    "Q"
   ]
  },
  {
   "cell_type": "markdown",
   "metadata": {},
   "source": [
    "## Prädiktionsvektor \"$ \\hat{y} = Py $\""
   ]
  },
  {
   "cell_type": "code",
   "execution_count": 24,
   "metadata": {},
   "outputs": [
    {
     "data": {
      "text/plain": [
       "array([[-0.39087947882736207],\n",
       "       [0.12377850162866413],\n",
       "       [3.211726384364821],\n",
       "       [5.270358306188925],\n",
       "       [5.78501628664495]])"
      ]
     },
     "execution_count": 24,
     "metadata": {},
     "output_type": "execute_result"
    }
   ],
   "source": [
    "yhat = P @ y\n",
    "yhat"
   ]
  },
  {
   "cell_type": "markdown",
   "metadata": {},
   "source": [
    "## Fehlervektor \"$ \\mathbf{e} = y - \\hat{y} = Qy $\""
   ]
  },
  {
   "cell_type": "code",
   "execution_count": 25,
   "metadata": {},
   "outputs": [
    {
     "data": {
      "text/plain": [
       "array([[-1.6091205211726378],\n",
       "       [1.876221498371336],\n",
       "       [-0.21172638436482055],\n",
       "       [-0.2703583061889243],\n",
       "       [0.2149837133550494]])"
      ]
     },
     "execution_count": 25,
     "metadata": {},
     "output_type": "execute_result"
    }
   ],
   "source": [
    "# entweder\n",
    "e = y - yhat\n",
    "\n",
    "# oder\n",
    "e = Q @ y\n",
    "\n",
    "e"
   ]
  },
  {
   "cell_type": "markdown",
   "metadata": {},
   "source": [
    "## SQR (Summe der Quadrate der Restabweichungen) \"$ e^Te $\""
   ]
  },
  {
   "cell_type": "code",
   "execution_count": 26,
   "metadata": {},
   "outputs": [
    {
     "data": {
      "text/plain": [
       "array([[6.273615635179153]])"
      ]
     },
     "execution_count": 26,
     "metadata": {},
     "output_type": "execute_result"
    }
   ],
   "source": [
    "SQR = e.T @ e\n",
    "SQR"
   ]
  },
  {
   "cell_type": "markdown",
   "metadata": {},
   "source": [
    "## SQT (Summe der Quadrate der Totalen Abweichungen)"
   ]
  },
  {
   "cell_type": "markdown",
   "metadata": {},
   "source": [
    "### Zentrierende Matrix \"$ M = I - \\frac{1}{m}\\mathbf{1}\\mathbf{1}^T $\""
   ]
  },
  {
   "cell_type": "code",
   "execution_count": 27,
   "metadata": {},
   "outputs": [
    {
     "name": "stdout",
     "output_type": "stream",
     "text": [
      "m=5\n"
     ]
    },
    {
     "data": {
      "text/plain": [
       "array([[0.8, -0.2, -0.2, -0.2, -0.2],\n",
       "       [-0.2, 0.8, -0.2, -0.2, -0.2],\n",
       "       [-0.2, -0.2, 0.8, -0.2, -0.2],\n",
       "       [-0.2, -0.2, -0.2, 0.8, -0.2],\n",
       "       [-0.2, -0.2, -0.2, -0.2, 0.8]])"
      ]
     },
     "execution_count": 27,
     "metadata": {},
     "output_type": "execute_result"
    }
   ],
   "source": [
    "m, _ = y.shape\n",
    "M = np.eye (m) - np.ones ((m, m)) / m\n",
    "print(f\"m={m}\")\n",
    "M"
   ]
  },
  {
   "cell_type": "markdown",
   "metadata": {},
   "source": [
    "## SQT ausrechnen \"$ y^TMy $\""
   ]
  },
  {
   "cell_type": "code",
   "execution_count": 28,
   "metadata": {},
   "outputs": [
    {
     "data": {
      "text/plain": [
       "array([[38.800000000000004]])"
      ]
     },
     "execution_count": 28,
     "metadata": {},
     "output_type": "execute_result"
    }
   ],
   "source": [
    "SQT = y.T @ M @ y\n",
    "SQT"
   ]
  },
  {
   "cell_type": "markdown",
   "metadata": {},
   "source": [
    "## Bestimmtheitsmass \"$ R^2 = 1 - \\frac{SQR}{SQT} $\""
   ]
  },
  {
   "cell_type": "code",
   "execution_count": 29,
   "metadata": {},
   "outputs": [
    {
     "data": {
      "text/plain": [
       "array([[0.8383088753819806]])"
      ]
     },
     "execution_count": 29,
     "metadata": {},
     "output_type": "execute_result"
    }
   ],
   "source": [
    "R2 = 1 - SQR/SQT\n",
    "R2"
   ]
  },
  {
   "cell_type": "markdown",
   "metadata": {},
   "source": [
    "# Hauptkomponentenanalyse"
   ]
  },
  {
   "cell_type": "code",
   "execution_count": 14,
   "metadata": {},
   "outputs": [],
   "source": [
    "# Datenmatrix x-tilde\n",
    "Xtilde = np.array([\n",
    "    [-1, 8],\n",
    "    [3, 7],\n",
    "    [5, 1],\n",
    "    [7, 5],\n",
    "    [11, -1],\n",
    "])"
   ]
  },
  {
   "cell_type": "markdown",
   "metadata": {},
   "source": [
    "## Zentrierende Datenmatrix \"$ M = I - \\frac{1}{m}\\mathbf{1}\\mathbf{1}^T $\""
   ]
  },
  {
   "cell_type": "code",
   "execution_count": 15,
   "metadata": {},
   "outputs": [
    {
     "name": "stdout",
     "output_type": "stream",
     "text": [
      "m=5\n"
     ]
    },
    {
     "data": {
      "text/plain": [
       "array([[0.8, -0.2, -0.2, -0.2, -0.2],\n",
       "       [-0.2, 0.8, -0.2, -0.2, -0.2],\n",
       "       [-0.2, -0.2, 0.8, -0.2, -0.2],\n",
       "       [-0.2, -0.2, -0.2, 0.8, -0.2],\n",
       "       [-0.2, -0.2, -0.2, -0.2, 0.8]])"
      ]
     },
     "execution_count": 15,
     "metadata": {},
     "output_type": "execute_result"
    }
   ],
   "source": [
    "m, _ = Xtilde.shape\n",
    "M = np.eye (m) - np.ones ((m, m)) / m\n",
    "print(f\"m={m}\")\n",
    "M"
   ]
  },
  {
   "cell_type": "markdown",
   "metadata": {},
   "source": [
    "## Zentrierte Datenmatrix \"$ X = M\\tilde{X} $\""
   ]
  },
  {
   "cell_type": "code",
   "execution_count": 16,
   "metadata": {},
   "outputs": [
    {
     "data": {
      "text/plain": [
       "array([[-6.0, 4.0],\n",
       "       [-2.0, 3.0],\n",
       "       [5.551115123125783e-17, -3.0],\n",
       "       [2.0, 1.0],\n",
       "       [6.0, -5.0]])"
      ]
     },
     "execution_count": 16,
     "metadata": {},
     "output_type": "execute_result"
    }
   ],
   "source": [
    "X = M @ Xtilde\n",
    "X"
   ]
  },
  {
   "cell_type": "markdown",
   "metadata": {},
   "source": [
    "## Kovarianzmatrix \"$ C = \\frac{1}{m-1}X^TX $\""
   ]
  },
  {
   "cell_type": "code",
   "execution_count": 19,
   "metadata": {},
   "outputs": [
    {
     "data": {
      "text/plain": [
       "array([[20.0, -14.5],\n",
       "       [-14.5, 15.0]])"
      ]
     },
     "execution_count": 19,
     "metadata": {},
     "output_type": "execute_result"
    }
   ],
   "source": [
    "C = (1 / (m-1)) * X.T @ X\n",
    "C"
   ]
  },
  {
   "cell_type": "markdown",
   "metadata": {},
   "source": [
    "## Eigenwertzerlegung / Spektralzerlegung der Kovarianzmatrix \"$ \\mathbf{C} $\""
   ]
  },
  {
   "cell_type": "markdown",
   "metadata": {},
   "source": [
    "## Eigenwerte und Eigenvektoren berechnen"
   ]
  },
  {
   "cell_type": "code",
   "execution_count": 20,
   "metadata": {},
   "outputs": [
    {
     "name": "stdout",
     "output_type": "stream",
     "text": [
      "[32.213938969562165 2.786061030437841]\n",
      "\n",
      "[[0.7648225011424699 0.6442410587242766]\n",
      " [-0.6442410587242766 0.7648225011424699]]\n"
     ]
    }
   ],
   "source": [
    "ew, ev = np.linalg.eig(C)\n",
    "print(ew)\n",
    "print()\n",
    "print(ev)"
   ]
  },
  {
   "cell_type": "markdown",
   "metadata": {},
   "source": [
    "### Matrizen zusammensetzen: $ \\mathbf{C}=\\mathbf{V}\\Lambda\\mathbf{V}^\\intercal $"
   ]
  },
  {
   "cell_type": "markdown",
   "metadata": {},
   "source": [
    "- $ \\mathbf{V} $: Spalten = Eigenvektoren\n",
    "- $ \\Lambda $: Diagonalmatrix mit Eigenwerten\n",
    "- $ \\mathbf{V}^\\intercal $: Zeilen = Eigenvektoren"
   ]
  },
  {
   "cell_type": "markdown",
   "metadata": {},
   "source": [
    "## Singulärwertzerlegung der zentrierten Datenmatrix $ \\mathbf{X} $"
   ]
  },
  {
   "cell_type": "code",
   "execution_count": 6,
   "metadata": {},
   "outputs": [
    {
     "name": "stdout",
     "output_type": "stream",
     "text": [
      "[[0.0 -0.7071067811865472 0.7071067811865475]\n",
      " [0.0 -0.7071067811865475 -0.7071067811865475]\n",
      " [-1.0 0.0 0.0]]\n",
      "\n",
      "[[2.23606797749979 0.0 0.0]\n",
      " [0.0 1.4142135623730951 0.0]\n",
      " [0.0 0.0 0.0]]\n",
      "\n",
      "[[-0.0 -0.8944271909999159 -0.4472135954999579]\n",
      " [-1.0 -0.0 -0.0]\n",
      " [0.0 -0.4472135954999579 0.8944271909999159]]\n"
     ]
    }
   ],
   "source": [
    "X = np.array([\n",
    "    [1,0,0],\n",
    "    [1,0,0],\n",
    "    [0,2,1]\n",
    "])\n",
    "\n",
    "U, D, VT = np.linalg.svd(X, full_matrices=False)\n",
    "Sigma = np.diag (D)\n",
    "\n",
    "print(U)\n",
    "print()\n",
    "print(Sigma)\n",
    "print()\n",
    "print(VT)"
   ]
  },
  {
   "cell_type": "markdown",
   "metadata": {},
   "source": [
    "# Eigenwerte / Eigenvektoren"
   ]
  },
  {
   "cell_type": "code",
   "execution_count": 11,
   "metadata": {},
   "outputs": [
    {
     "data": {
      "text/plain": [
       "array([[2, 0, 0],\n",
       "       [0, 4, 2],\n",
       "       [0, 2, 1]])"
      ]
     },
     "execution_count": 11,
     "metadata": {},
     "output_type": "execute_result"
    }
   ],
   "source": [
    "B= X.T@X\n",
    "B"
   ]
  },
  {
   "cell_type": "code",
   "execution_count": 10,
   "metadata": {},
   "outputs": [
    {
     "data": {
      "text/plain": [
       "(array([0.0, 5.0, 2.0]),\n",
       " array([[0.0, 0.0, 1.0],\n",
       "        [0.4472135954999579, -0.8944271909999159, 0.0],\n",
       "        [-0.8944271909999159, -0.4472135954999579, 0.0]]))"
      ]
     },
     "execution_count": 10,
     "metadata": {},
     "output_type": "execute_result"
    }
   ],
   "source": [
    "A = np.array([\n",
    "    [3, 7],\n",
    "    [7, 2],\n",
    "])\n",
    "\n",
    "np.linalg.eig(B)"
   ]
  },
  {
   "cell_type": "markdown",
   "metadata": {},
   "source": [
    "# Projektion auf einen Vektor (eindimensionaler Teilraum)"
   ]
  },
  {
   "cell_type": "code",
   "execution_count": 21,
   "metadata": {},
   "outputs": [],
   "source": [
    "# Aufgabenstellung: Projizieren Sie den Vektor b auf eine Gerade durch a.\n",
    "\n",
    "b = np.array([\n",
    "    [6],\n",
    "    [8]\n",
    "])\n",
    "\n",
    "a = np.array([\n",
    "    [2],\n",
    "    [5]\n",
    "])"
   ]
  },
  {
   "cell_type": "markdown",
   "metadata": {},
   "source": [
    "## \"$ \\mathbf{a}^\\intercal\\mathbf{a} $\""
   ]
  },
  {
   "cell_type": "code",
   "execution_count": 22,
   "metadata": {},
   "outputs": [
    {
     "data": {
      "text/plain": [
       "array([[29]])"
      ]
     },
     "execution_count": 22,
     "metadata": {},
     "output_type": "execute_result"
    }
   ],
   "source": [
    "ata = a.T @ a\n",
    "ata"
   ]
  },
  {
   "cell_type": "markdown",
   "metadata": {},
   "source": [
    "## Projektionsmatrix \"$ P = \\frac{1}{a^Ta} $\""
   ]
  },
  {
   "cell_type": "code",
   "execution_count": 26,
   "metadata": {},
   "outputs": [
    {
     "data": {
      "text/plain": [
       "array([[0.13793103448275862, 0.3448275862068966],\n",
       "       [0.3448275862068966, 0.8620689655172414]])"
      ]
     },
     "execution_count": 26,
     "metadata": {},
     "output_type": "execute_result"
    }
   ],
   "source": [
    "P = (1 / ata) * a @ a.T\n",
    "P"
   ]
  },
  {
   "cell_type": "markdown",
   "metadata": {},
   "source": [
    "## Projektion von $ \\mathbf{b} $ \"$ Pb $\""
   ]
  },
  {
   "cell_type": "code",
   "execution_count": 24,
   "metadata": {},
   "outputs": [
    {
     "data": {
      "text/plain": [
       "array([[3.586206896551724],\n",
       "       [8.965517241379311]])"
      ]
     },
     "execution_count": 24,
     "metadata": {},
     "output_type": "execute_result"
    }
   ],
   "source": [
    "Pb = P @ b\n",
    "Pb"
   ]
  },
  {
   "cell_type": "markdown",
   "metadata": {},
   "source": [
    "## Fehlervektor \"$ e = b -Pb $\""
   ]
  },
  {
   "cell_type": "code",
   "execution_count": 25,
   "metadata": {},
   "outputs": [
    {
     "data": {
      "text/plain": [
       "array([[2.413793103448276],\n",
       "       [-0.9655172413793114]])"
      ]
     },
     "execution_count": 25,
     "metadata": {},
     "output_type": "execute_result"
    }
   ],
   "source": [
    "e = b - Pb\n",
    "e"
   ]
  },
  {
   "cell_type": "markdown",
   "metadata": {},
   "source": [
    "## Check ob Fehlervektor orthogonal zu \"$ \\mathbf{a} $\" ist"
   ]
  },
  {
   "cell_type": "code",
   "execution_count": 71,
   "metadata": {},
   "outputs": [
    {
     "data": {
      "text/plain": [
       "array([[0]])"
      ]
     },
     "execution_count": 71,
     "metadata": {},
     "output_type": "execute_result"
    }
   ],
   "source": [
    "# falls 0 => orthogonal\n",
    "a.T @ e"
   ]
  },
  {
   "cell_type": "markdown",
   "metadata": {},
   "source": [
    "# Projektion auf einen mehrdimensionalen Teilraum"
   ]
  },
  {
   "cell_type": "code",
   "execution_count": 72,
   "metadata": {},
   "outputs": [],
   "source": [
    "# Aufgabenstellung: Projizieren Sie den Vektor v auf die Ebene A\n",
    "\n",
    "b = np.array([\n",
    "    [3],\n",
    "    [4],\n",
    "    [4],\n",
    "])\n",
    "\n",
    "A = np.array([\n",
    "    [2, 1],\n",
    "    [2, 0],\n",
    "    [1, 0],\n",
    "])"
   ]
  },
  {
   "cell_type": "markdown",
   "metadata": {},
   "source": [
    "## \"$ \\mathbf{A}^\\intercal\\mathbf{A} $\""
   ]
  },
  {
   "cell_type": "code",
   "execution_count": 73,
   "metadata": {},
   "outputs": [
    {
     "data": {
      "text/plain": [
       "array([[9, 2],\n",
       "       [2, 1]])"
      ]
     },
     "execution_count": 73,
     "metadata": {},
     "output_type": "execute_result"
    }
   ],
   "source": [
    "ATA = A.T @ A\n",
    "ATA"
   ]
  },
  {
   "cell_type": "markdown",
   "metadata": {},
   "source": [
    "## Projektionsmatrix \"$ P = A(A^TA)^{-1}A^T $\""
   ]
  },
  {
   "cell_type": "code",
   "execution_count": 75,
   "metadata": {},
   "outputs": [
    {
     "data": {
      "text/plain": [
       "array([[1, 0, 0],\n",
       "       [0, 4/5, 2/5],\n",
       "       [0, 2/5, 1/5]])"
      ]
     },
     "execution_count": 75,
     "metadata": {},
     "output_type": "execute_result"
    }
   ],
   "source": [
    "P = A @ np.linalg.inv(ATA) @ A.T\n",
    "P"
   ]
  },
  {
   "cell_type": "markdown",
   "metadata": {},
   "source": [
    "## Projektion von $ \\mathbf{b} $ \"$ Pb $\""
   ]
  },
  {
   "cell_type": "code",
   "execution_count": 76,
   "metadata": {},
   "outputs": [
    {
     "data": {
      "text/plain": [
       "array([[3],\n",
       "       [24/5],\n",
       "       [12/5]])"
      ]
     },
     "execution_count": 76,
     "metadata": {},
     "output_type": "execute_result"
    }
   ],
   "source": [
    "Pb = P @ b\n",
    "Pb"
   ]
  },
  {
   "cell_type": "markdown",
   "metadata": {},
   "source": [
    "## Fehlervektor \"$ \\mathbf{e} $\""
   ]
  },
  {
   "cell_type": "code",
   "execution_count": 77,
   "metadata": {},
   "outputs": [
    {
     "data": {
      "text/plain": [
       "array([[0],\n",
       "       [-4/5],\n",
       "       [8/5]])"
      ]
     },
     "execution_count": 77,
     "metadata": {},
     "output_type": "execute_result"
    }
   ],
   "source": [
    "e = b - Pb\n",
    "e"
   ]
  },
  {
   "cell_type": "markdown",
   "metadata": {},
   "source": [
    "## Check ob Fehlervektor orthogonal zu den Spaltenvektoren von \"$ \\mathbf{A} $\" ist"
   ]
  },
  {
   "cell_type": "code",
   "execution_count": 81,
   "metadata": {},
   "outputs": [
    {
     "data": {
      "text/plain": [
       "array([1, 0, 0])"
      ]
     },
     "execution_count": 81,
     "metadata": {},
     "output_type": "execute_result"
    }
   ],
   "source": [
    "a1 = A[:, 0]\n",
    "a2 = A[:, 1]"
   ]
  },
  {
   "cell_type": "code",
   "execution_count": 82,
   "metadata": {},
   "outputs": [
    {
     "data": {
      "text/plain": [
       "array([0])"
      ]
     },
     "execution_count": 82,
     "metadata": {},
     "output_type": "execute_result"
    }
   ],
   "source": [
    "# falls 0 => orthogonal\n",
    "a1.T @ e"
   ]
  },
  {
   "cell_type": "code",
   "execution_count": 83,
   "metadata": {},
   "outputs": [
    {
     "data": {
      "text/plain": [
       "array([0])"
      ]
     },
     "execution_count": 83,
     "metadata": {},
     "output_type": "execute_result"
    }
   ],
   "source": [
    "# falls 0 => orthogonal\n",
    "a2.T @ e"
   ]
  },
  {
   "cell_type": "markdown",
   "metadata": {},
   "source": [
    "# Schnittwinkel zweier Geraden\n",
    "\n",
    "$ \\cos{\\alpha} = \\frac{\\vec{u} * \\vec{v}}{\\lvert \\vec{u} \\rvert * \\lvert \\vec{v} \\rvert}$"
   ]
  },
  {
   "cell_type": "code",
   "execution_count": 89,
   "metadata": {},
   "outputs": [
    {
     "data": {
      "text/plain": [
       "62.60030804589705"
      ]
     },
     "execution_count": 89,
     "metadata": {},
     "output_type": "execute_result"
    }
   ],
   "source": [
    "u = np.array([4, 2, -1])  # Richtungsvektor erste Gerade\n",
    "v = np.array([5, -2, 3])  # Richtungsvektor zweite Gerade\n",
    "\n",
    "c = np.dot(u, v) / np.linalg.norm(u) / np.linalg.norm(v)  # Kosinus des Winkels\n",
    "angle_rad = np.arccos(np.clip(c, -1, 1)) # Winkel in rad\n",
    "angle_deg = np.rad2deg(angle_rad) # Winkel in grad\n",
    "angle_deg\n"
   ]
  }
 ],
 "metadata": {
  "kernelspec": {
   "display_name": "Python 3.10.7 64-bit",
   "language": "python",
   "name": "python3"
  },
  "language_info": {
   "codemirror_mode": {
    "name": "ipython",
    "version": 3
   },
   "file_extension": ".py",
   "mimetype": "text/x-python",
   "name": "python",
   "nbconvert_exporter": "python",
   "pygments_lexer": "ipython3",
   "version": "3.10.7"
  },
  "orig_nbformat": 4,
  "vscode": {
   "interpreter": {
    "hash": "f2d45db5096ab8b098d0ebc3076b01f4e2b5c688e5600888c149a102067a0e45"
   }
  }
 },
 "nbformat": 4,
 "nbformat_minor": 2
}
