{
 "cells": [
  {
   "cell_type": "code",
   "execution_count": 1,
   "id": "7096cefa",
   "metadata": {},
   "outputs": [],
   "source": [
    "import pandas as pd \n",
    "import numpy as np \n",
    "import matplotlib.pyplot as plt\n",
    "plt.rcParams['figure.dpi'] = 72"
   ]
  },
  {
   "cell_type": "markdown",
   "id": "927c7b74",
   "metadata": {},
   "source": [
    "___\n",
    "# Prepare data "
   ]
  },
  {
   "cell_type": "markdown",
   "id": "6df4f2d7",
   "metadata": {},
   "source": [
    "Info about the dataset: https://github.com/rfordatascience/tidytuesday/tree/master/data/2023/2023-02-14"
   ]
  },
  {
   "cell_type": "markdown",
   "id": "e93a74b0",
   "metadata": {},
   "source": [
    "Inspect the data and previous work: https://hollywoodagegap.com/"
   ]
  },
  {
   "cell_type": "markdown",
   "id": "62489d5d",
   "metadata": {},
   "source": [
    "Dataset contains birth dates of actors playing in Hollywood movies in roles which involve being part of a couple"
   ]
  },
  {
   "cell_type": "code",
   "execution_count": 2,
   "id": "06d0c458",
   "metadata": {},
   "outputs": [],
   "source": [
    "df = pd.read_csv('https://raw.githubusercontent.com/rfordatascience/tidytuesday/master/data/2023/2023-02-14/age_gaps.csv')"
   ]
  },
  {
   "cell_type": "code",
   "execution_count": 3,
   "id": "84532fc1",
   "metadata": {},
   "outputs": [
    {
     "data": {
      "text/plain": [
       "movie_name            Harold and Maude\n",
       "release_year                      1971\n",
       "director                     Hal Ashby\n",
       "age_difference                      52\n",
       "couple_number                        1\n",
       "actor_1_name               Ruth Gordon\n",
       "actor_2_name                  Bud Cort\n",
       "character_1_gender               woman\n",
       "character_2_gender                 man\n",
       "actor_1_birthdate           1896-10-30\n",
       "actor_2_birthdate           1948-03-29\n",
       "actor_1_age                         75\n",
       "actor_2_age                         23\n",
       "Name: 0, dtype: object"
      ]
     },
     "execution_count": 3,
     "metadata": {},
     "output_type": "execute_result"
    }
   ],
   "source": [
    "df.iloc[0]"
   ]
  },
  {
   "cell_type": "code",
   "execution_count": 4,
   "id": "23114488",
   "metadata": {},
   "outputs": [],
   "source": [
    "# convert to datetimes, extract the birth year\n",
    "\n",
    "for col in ['actor_1_birthdate', 'actor_2_birthdate']: \n",
    "    df[col] = pd.to_datetime(df[col])\n",
    "    \n",
    "for col in ['actor_2_birthdate', 'actor_1_birthdate']: \n",
    "    df[col+'_year'] = df[col].dt.year"
   ]
  },
  {
   "cell_type": "code",
   "execution_count": 5,
   "id": "e4337b4d",
   "metadata": {},
   "outputs": [],
   "source": [
    "# gender flag for the couple: if same gender, output \"s\", otherwise output \"m\" if male is older, else \"w\" if woman is older \n",
    "# \"e\" for erroneous entries \n",
    "\n",
    "def gender_flag(char1g, char2g): \n",
    "    if char1g == char2g: \n",
    "        out = 's'\n",
    "    else: \n",
    "        if char1g == 'man': \n",
    "            out = 'm'\n",
    "        elif char1g == 'woman': \n",
    "            out = 'w'\n",
    "        else: \n",
    "            out = 'e'\n",
    "    return out \n",
    "\n",
    "# character_1 is always older \n",
    "df['gender_flag'] = df.apply(lambda x: gender_flag(x['character_1_gender'], x['character_2_gender']), axis=1)"
   ]
  },
  {
   "cell_type": "code",
   "execution_count": 6,
   "id": "b6d1e6f9",
   "metadata": {},
   "outputs": [
    {
     "data": {
      "text/plain": [
       "movie_name                   Harold and Maude\n",
       "release_year                             1971\n",
       "director                            Hal Ashby\n",
       "age_difference                             52\n",
       "couple_number                               1\n",
       "actor_1_name                      Ruth Gordon\n",
       "actor_2_name                         Bud Cort\n",
       "character_1_gender                      woman\n",
       "character_2_gender                        man\n",
       "actor_1_birthdate         1896-10-30 00:00:00\n",
       "actor_2_birthdate         1948-03-29 00:00:00\n",
       "actor_1_age                                75\n",
       "actor_2_age                                23\n",
       "actor_2_birthdate_year                   1948\n",
       "actor_1_birthdate_year                   1896\n",
       "gender_flag                                 w\n",
       "Name: 0, dtype: object"
      ]
     },
     "execution_count": 6,
     "metadata": {},
     "output_type": "execute_result"
    }
   ],
   "source": [
    "df.iloc[0]"
   ]
  },
  {
   "cell_type": "markdown",
   "id": "4b6d0303",
   "metadata": {},
   "source": [
    "`actor_1`: older actor "
   ]
  },
  {
   "cell_type": "markdown",
   "id": "fc057b3b",
   "metadata": {},
   "source": [
    "___ \n",
    "## Exploration"
   ]
  },
  {
   "cell_type": "markdown",
   "id": "e2bc98ff",
   "metadata": {},
   "source": [
    "<span style=\"background:DarkSeaGreen\">Question: When were those actors born?</span>"
   ]
  },
  {
   "cell_type": "markdown",
   "id": "9e7eac67",
   "metadata": {},
   "source": [
    "Story angle: <span style=\"background:salmon\">scale</span> and <span style=\"background:salmon\">variation</span> -> use histogram as the first step"
   ]
  },
  {
   "cell_type": "code",
   "execution_count": 7,
   "id": "2c3160a9",
   "metadata": {},
   "outputs": [],
   "source": [
    "year_range_common = np.arange(1895, 2025, 5)"
   ]
  },
  {
   "cell_type": "code",
   "execution_count": 8,
   "id": "9c388b04",
   "metadata": {},
   "outputs": [
    {
     "data": {
      "text/plain": [
       "<Axes: >"
      ]
     },
     "execution_count": 8,
     "metadata": {},
     "output_type": "execute_result"
    },
    {
     "data": {
      "image/png": "[encoded data removed]",
      "text/plain": [
       "<Figure size 460.8x345.6 with 1 Axes>"
      ]
     },
     "metadata": {},
     "output_type": "display_data"
    }
   ],
   "source": [
    "df['actor_1_birthdate_year'].hist(bins=year_range_common)"
   ]
  },
  {
   "cell_type": "code",
   "execution_count": 9,
   "id": "f5f0dd61",
   "metadata": {},
   "outputs": [
    {
     "data": {
      "text/plain": [
       "<Axes: >"
      ]
     },
     "execution_count": 9,
     "metadata": {},
     "output_type": "execute_result"
    },
    {
     "data": {
      "image/png": "[encoded data removed]",
      "text/plain": [
       "<Figure size 460.8x345.6 with 1 Axes>"
      ]
     },
     "metadata": {},
     "output_type": "display_data"
    }
   ],
   "source": [
    "df['actor_2_birthdate_year'].hist(bins=year_range_common)"
   ]
  },
  {
   "cell_type": "markdown",
   "id": "76af5c9b",
   "metadata": {},
   "source": [
    "Follow-up storytelling question (distributions - <span style=\"background:salmon\">min and max</span>): <span style=\"background:DarkSeaGreen\">who is the oldest in the dataset? the youngest?</span>\n",
    "-> this data structure doesn't show it optimally, because we have `actor_1` and `actor_2` split -> back to the data manipulation"
   ]
  },
  {
   "cell_type": "code",
   "execution_count": 10,
   "id": "579b1df9",
   "metadata": {},
   "outputs": [],
   "source": [
    "all_actors = pd.concat([df[['actor_1_birthdate_year', 'actor_1_name']]\\\n",
    "               .rename(columns={'actor_1_birthdate_year':'actor_birthdate_year', 'actor_1_name': 'actor_name'}), \n",
    "          df[['actor_2_birthdate_year', 'actor_2_name']]\\\n",
    "               .rename(columns={'actor_2_birthdate_year':'actor_birthdate_year', 'actor_2_name': 'actor_name'}), \n",
    "            ], axis=0)\\\n",
    "    .reset_index()\\\n",
    "    .rename(columns={'index': 'film_id'})"
   ]
  },
  {
   "cell_type": "code",
   "execution_count": 11,
   "id": "d6750070",
   "metadata": {},
   "outputs": [],
   "source": [
    "unique_actors = all_actors.groupby(['actor_name', 'actor_birthdate_year'])['film_id'].nunique()\\\n",
    "    .rename('num_movies')\\\n",
    "    .reset_index()"
   ]
  },
  {
   "cell_type": "code",
   "execution_count": 12,
   "id": "a66ce29f",
   "metadata": {},
   "outputs": [
    {
     "data": {
      "text/html": [
       "<div>\n",
       "<style scoped>\n",
       "    .dataframe tbody tr th:only-of-type {\n",
       "        vertical-align: middle;\n",
       "    }\n",
       "\n",
       "    .dataframe tbody tr th {\n",
       "        vertical-align: top;\n",
       "    }\n",
       "\n",
       "    .dataframe thead th {\n",
       "        text-align: right;\n",
       "    }\n",
       "</style>\n",
       "<table border=\"1\" class=\"dataframe\">\n",
       "  <thead>\n",
       "    <tr style=\"text-align: right;\">\n",
       "      <th></th>\n",
       "      <th>actor_name</th>\n",
       "      <th>actor_birthdate_year</th>\n",
       "      <th>num_movies</th>\n",
       "    </tr>\n",
       "  </thead>\n",
       "  <tbody>\n",
       "    <tr>\n",
       "      <th>0</th>\n",
       "      <td>Aaron Eckhart</td>\n",
       "      <td>1968</td>\n",
       "      <td>3</td>\n",
       "    </tr>\n",
       "    <tr>\n",
       "      <th>1</th>\n",
       "      <td>Aaron Stanford</td>\n",
       "      <td>1976</td>\n",
       "      <td>2</td>\n",
       "    </tr>\n",
       "    <tr>\n",
       "      <th>2</th>\n",
       "      <td>Aaron Taylor-Johnson</td>\n",
       "      <td>1990</td>\n",
       "      <td>2</td>\n",
       "    </tr>\n",
       "    <tr>\n",
       "      <th>3</th>\n",
       "      <td>Adam Driver</td>\n",
       "      <td>1983</td>\n",
       "      <td>1</td>\n",
       "    </tr>\n",
       "    <tr>\n",
       "      <th>4</th>\n",
       "      <td>Adam Garcia</td>\n",
       "      <td>1973</td>\n",
       "      <td>1</td>\n",
       "    </tr>\n",
       "  </tbody>\n",
       "</table>\n",
       "</div>"
      ],
      "text/plain": [
       "             actor_name  actor_birthdate_year  num_movies\n",
       "0         Aaron Eckhart                  1968           3\n",
       "1        Aaron Stanford                  1976           2\n",
       "2  Aaron Taylor-Johnson                  1990           2\n",
       "3           Adam Driver                  1983           1\n",
       "4           Adam Garcia                  1973           1"
      ]
     },
     "execution_count": 12,
     "metadata": {},
     "output_type": "execute_result"
    }
   ],
   "source": [
    "unique_actors.head()"
   ]
  },
  {
   "cell_type": "code",
   "execution_count": 13,
   "id": "23283bc5",
   "metadata": {},
   "outputs": [
    {
     "data": {
      "text/plain": [
       "<Axes: >"
      ]
     },
     "execution_count": 13,
     "metadata": {},
     "output_type": "execute_result"
    },
    {
     "data": {
      "image/png": "[encoded data removed]",
      "text/plain": [
       "<Figure size 460.8x345.6 with 1 Axes>"
      ]
     },
     "metadata": {},
     "output_type": "display_data"
    }
   ],
   "source": [
    "unique_actors['actor_birthdate_year'].hist(bins=year_range_common)"
   ]
  },
  {
   "cell_type": "markdown",
   "id": "a50217d6",
   "metadata": {},
   "source": [
    "\"For free\" I get the metadata about number of movies"
   ]
  },
  {
   "cell_type": "markdown",
   "id": "7a76c0fc",
   "metadata": {},
   "source": [
    "This data structure has opened another side question - <span style=\"background:DarkSeaGreen\">who is the most popular actor?</span> (storytelling angle -> <span style=\"background:salmon\">ranking</span>)"
   ]
  },
  {
   "cell_type": "code",
   "execution_count": 14,
   "id": "52a0e937",
   "metadata": {},
   "outputs": [
    {
     "data": {
      "text/html": [
       "<div>\n",
       "<style scoped>\n",
       "    .dataframe tbody tr th:only-of-type {\n",
       "        vertical-align: middle;\n",
       "    }\n",
       "\n",
       "    .dataframe tbody tr th {\n",
       "        vertical-align: top;\n",
       "    }\n",
       "\n",
       "    .dataframe thead th {\n",
       "        text-align: right;\n",
       "    }\n",
       "</style>\n",
       "<table border=\"1\" class=\"dataframe\">\n",
       "  <thead>\n",
       "    <tr style=\"text-align: right;\">\n",
       "      <th></th>\n",
       "      <th>actor_name</th>\n",
       "      <th>actor_birthdate_year</th>\n",
       "      <th>num_movies</th>\n",
       "    </tr>\n",
       "  </thead>\n",
       "  <tbody>\n",
       "    <tr>\n",
       "      <th>562</th>\n",
       "      <td>Keanu Reeves</td>\n",
       "      <td>1964</td>\n",
       "      <td>27</td>\n",
       "    </tr>\n",
       "    <tr>\n",
       "      <th>5</th>\n",
       "      <td>Adam Sandler</td>\n",
       "      <td>1966</td>\n",
       "      <td>20</td>\n",
       "    </tr>\n",
       "    <tr>\n",
       "      <th>886</th>\n",
       "      <td>Sean Connery</td>\n",
       "      <td>1930</td>\n",
       "      <td>17</td>\n",
       "    </tr>\n",
       "    <tr>\n",
       "      <th>853</th>\n",
       "      <td>Roger Moore</td>\n",
       "      <td>1927</td>\n",
       "      <td>17</td>\n",
       "    </tr>\n",
       "    <tr>\n",
       "      <th>618</th>\n",
       "      <td>Leonardo DiCaprio</td>\n",
       "      <td>1974</td>\n",
       "      <td>17</td>\n",
       "    </tr>\n",
       "    <tr>\n",
       "      <th>564</th>\n",
       "      <td>Keira Knightley</td>\n",
       "      <td>1985</td>\n",
       "      <td>14</td>\n",
       "    </tr>\n",
       "    <tr>\n",
       "      <th>811</th>\n",
       "      <td>Pierce Brosnan</td>\n",
       "      <td>1953</td>\n",
       "      <td>14</td>\n",
       "    </tr>\n",
       "    <tr>\n",
       "      <th>884</th>\n",
       "      <td>Scarlett Johansson</td>\n",
       "      <td>1984</td>\n",
       "      <td>13</td>\n",
       "    </tr>\n",
       "    <tr>\n",
       "      <th>833</th>\n",
       "      <td>Reese Witherspoon</td>\n",
       "      <td>1976</td>\n",
       "      <td>13</td>\n",
       "    </tr>\n",
       "    <tr>\n",
       "      <th>374</th>\n",
       "      <td>Harrison Ford</td>\n",
       "      <td>1942</td>\n",
       "      <td>13</td>\n",
       "    </tr>\n",
       "  </tbody>\n",
       "</table>\n",
       "</div>"
      ],
      "text/plain": [
       "             actor_name  actor_birthdate_year  num_movies\n",
       "562        Keanu Reeves                  1964          27\n",
       "5          Adam Sandler                  1966          20\n",
       "886        Sean Connery                  1930          17\n",
       "853         Roger Moore                  1927          17\n",
       "618   Leonardo DiCaprio                  1974          17\n",
       "564     Keira Knightley                  1985          14\n",
       "811      Pierce Brosnan                  1953          14\n",
       "884  Scarlett Johansson                  1984          13\n",
       "833   Reese Witherspoon                  1976          13\n",
       "374       Harrison Ford                  1942          13"
      ]
     },
     "execution_count": 14,
     "metadata": {},
     "output_type": "execute_result"
    }
   ],
   "source": [
    "unique_actors.sort_values(by='num_movies', ascending=False).head(10)"
   ]
  },
  {
   "cell_type": "markdown",
   "id": "c9a67cc9",
   "metadata": {},
   "source": [
    "Keanu 27, much more compared to the others. <span style=\"background:DarkSeaGreen\">Does it mean that some male actors are casted unproportionally frequently?</span>\n",
    "\n",
    "And only 3 women in the top10 actors... is the <span style=\"background:DarkSeaGreen\">distribution split by gender</span> different? But if we want a split by gender, we need to have a different data structure! again, back to the analysis... (but postpone it for now) "
   ]
  },
  {
   "cell_type": "markdown",
   "id": "014d71ce",
   "metadata": {},
   "source": [
    "<span style=\"background:DarkSeaGreen\">What is the typical value for # of times of being hired to play in a romantic couple?</span> let's see the <span style=\"background:salmon\">distribution</span>: "
   ]
  },
  {
   "cell_type": "code",
   "execution_count": 15,
   "id": "69aa53bb",
   "metadata": {},
   "outputs": [
    {
     "data": {
      "text/plain": [
       "<Axes: >"
      ]
     },
     "execution_count": 15,
     "metadata": {},
     "output_type": "execute_result"
    },
    {
     "data": {
      "image/png": "[encoded data removed]",
      "text/plain": [
       "<Figure size 460.8x345.6 with 1 Axes>"
      ]
     },
     "metadata": {},
     "output_type": "display_data"
    }
   ],
   "source": [
    "unique_actors['num_movies'].hist(bins=np.arange(1,30,1))"
   ]
  },
  {
   "cell_type": "markdown",
   "id": "ed8db262",
   "metadata": {},
   "source": [
    "Storytelling questions we have identified so far:  \n",
    "- are some actors casted unproportionally frequently in romantic settings? \n",
    "- who is the most/least frequent actor cast? \n",
    "- how does it differ by gender? "
   ]
  },
  {
   "cell_type": "markdown",
   "id": "ec711882",
   "metadata": {},
   "source": [
    "___"
   ]
  },
  {
   "cell_type": "markdown",
   "id": "09b48808",
   "metadata": {},
   "source": [
    "Follow-up question: \n",
    "- we have looked at the actors birth year, but what about the relation between <span style=\"background:DarkSeaGreen\">when the movie was made and how old was the actor at the time they have been cast?</span> (storytelling angle -> <span style=\"background:salmon\">relationships</span>)"
   ]
  },
  {
   "cell_type": "markdown",
   "id": "08335f18",
   "metadata": {},
   "source": [
    "When were the films made?"
   ]
  },
  {
   "cell_type": "code",
   "execution_count": 16,
   "id": "dcc3b08c",
   "metadata": {},
   "outputs": [
    {
     "data": {
      "text/plain": [
       "<Axes: >"
      ]
     },
     "execution_count": 16,
     "metadata": {},
     "output_type": "execute_result"
    },
    {
     "data": {
      "image/png": "[encoded data removed]",
      "text/plain": [
       "<Figure size 460.8x345.6 with 1 Axes>"
      ]
     },
     "metadata": {},
     "output_type": "display_data"
    }
   ],
   "source": [
    "df['release_year'].hist(bins=year_range_common)"
   ]
  },
  {
   "cell_type": "markdown",
   "id": "e09207cb",
   "metadata": {},
   "source": [
    "Calculate actor's age at the time of the movie: "
   ]
  },
  {
   "cell_type": "code",
   "execution_count": 17,
   "id": "cc74ac56",
   "metadata": {},
   "outputs": [],
   "source": [
    "age_at_movie = \\\n",
    "    pd.concat([\n",
    "        df[['release_year', 'actor_1_age']].rename(columns={'actor_1_age': 'actor_age'}), \n",
    "        df[['release_year', 'actor_2_age']].rename(columns={'actor_2_age': 'actor_age'})\n",
    "        ], axis=0)\\\n",
    "    .reset_index()"
   ]
  },
  {
   "cell_type": "code",
   "execution_count": 18,
   "id": "1fa2f18d",
   "metadata": {},
   "outputs": [
    {
     "data": {
      "text/plain": [
       "<Axes: >"
      ]
     },
     "execution_count": 18,
     "metadata": {},
     "output_type": "execute_result"
    },
    {
     "data": {
      "image/png": "[encoded data removed]",
      "text/plain": [
       "<Figure size 460.8x345.6 with 1 Axes>"
      ]
     },
     "metadata": {},
     "output_type": "display_data"
    }
   ],
   "source": [
    "age_at_movie['actor_age'].hist(bins=np.arange(10,100,5))"
   ]
  },
  {
   "cell_type": "markdown",
   "id": "29637515",
   "metadata": {},
   "source": [
    "Follow-up questions:  \n",
    "- <span style=\"background:DarkSeaGreen\">the youngest cast? the oldest?</span> (storytelling angle -> <span style=\"background:salmon\">ranking</span>)\n"
   ]
  },
  {
   "cell_type": "markdown",
   "id": "f24b68f9",
   "metadata": {},
   "source": [
    "___"
   ]
  },
  {
   "cell_type": "markdown",
   "id": "ed9fbacb",
   "metadata": {},
   "source": [
    "<span style=\"background:DarkSeaGreen\">How did it change in time?</span> (angle: <span style=\"background:salmon\">trends</span>) Did the directors and producers have differing preferences for older/younger actors in different decades? "
   ]
  },
  {
   "cell_type": "markdown",
   "id": "9bf02a9a",
   "metadata": {},
   "source": [
    "Approach 1 (crude): group old movies and young movies together across a threshold "
   ]
  },
  {
   "cell_type": "code",
   "execution_count": 19,
   "id": "ace4d09c",
   "metadata": {},
   "outputs": [
    {
     "data": {
      "text/plain": [
       "<Axes: >"
      ]
     },
     "execution_count": 19,
     "metadata": {},
     "output_type": "execute_result"
    },
    {
     "data": {
      "image/png": "[encoded data removed]",
      "text/plain": [
       "<Figure size 460.8x345.6 with 1 Axes>"
      ]
     },
     "metadata": {},
     "output_type": "display_data"
    }
   ],
   "source": [
    "# again, how did the histogram look like? \n",
    "df['release_year'].hist(bins=year_range_common)"
   ]
  },
  {
   "cell_type": "markdown",
   "id": "6c0a65e4",
   "metadata": {},
   "source": [
    "Experiment: "
   ]
  },
  {
   "cell_type": "code",
   "execution_count": 20,
   "id": "6b1cb555",
   "metadata": {},
   "outputs": [
    {
     "data": {
      "image/png": "[encoded data removed]",
      "text/plain": [
       "<Figure size 460.8x345.6 with 1 Axes>"
      ]
     },
     "metadata": {},
     "output_type": "display_data"
    }
   ],
   "source": [
    "filmyear1, filmyear2 = [1920, 1979]\n",
    "# filmyear1, filmyear2 = [1980, 1999]\n",
    "# filmyear1, filmyear2= [2000, 2020]\n",
    "\n",
    "ax = age_at_movie[age_at_movie['release_year'].isin(np.arange(filmyear1,filmyear2+1,1))]\\\n",
    "    ['actor_age'].hist(bins=np.arange(10,100,5))\n",
    "ax.set_title(f'{filmyear1}-{filmyear2}');"
   ]
  },
  {
   "cell_type": "markdown",
   "id": "a489e1d5",
   "metadata": {},
   "source": [
    "Difficult to compare - let's normalize and overplot"
   ]
  },
  {
   "cell_type": "code",
   "execution_count": 21,
   "id": "f2edf39c",
   "metadata": {},
   "outputs": [
    {
     "data": {
      "text/plain": [
       "<matplotlib.legend.Legend at 0x19d2094bd50>"
      ]
     },
     "execution_count": 21,
     "metadata": {},
     "output_type": "execute_result"
    },
    {
     "data": {
      "image/png": "[encoded data removed]",
      "text/plain": [
       "<Figure size 460.8x345.6 with 1 Axes>"
      ]
     },
     "metadata": {},
     "output_type": "display_data"
    }
   ],
   "source": [
    "year_bins = [[1920, 1959], [1960, 1979], [1980, 1999],  [2000, 2020]]\n",
    "\n",
    "f, ax = plt.subplots()\n",
    "for filmyear1, filmyear2 in year_bins: \n",
    "    age_at_movie[age_at_movie['release_year'].isin(np.arange(filmyear1,filmyear2+1,1))]\\\n",
    "        ['actor_age']\\\n",
    "        .hist(\n",
    "            bins=np.arange(10,100,5), \n",
    "            ax=ax, alpha=0.5, \n",
    "            density=True, \n",
    "            label=f'{filmyear1}-{filmyear2}')\n",
    "\n",
    "ax.legend()"
   ]
  },
  {
   "cell_type": "markdown",
   "id": "704b613d",
   "metadata": {},
   "source": [
    "There may be a trend, but it's still difficult to see... we would need to look for a better chart: small multiples"
   ]
  },
  {
   "cell_type": "code",
   "execution_count": 24,
   "id": "7a55129c",
   "metadata": {},
   "outputs": [
    {
     "ename": "IndentationError",
     "evalue": "unexpected indent (2569596465.py, line 9)",
     "output_type": "error",
     "traceback": [
      "\u001b[1;36m  Cell \u001b[1;32mIn [24], line 9\u001b[1;36m\u001b[0m\n\u001b[1;33m    .hist(\u001b[0m\n\u001b[1;37m    ^\u001b[0m\n\u001b[1;31mIndentationError\u001b[0m\u001b[1;31m:\u001b[0m unexpected indent\n"
     ]
    }
   ],
   "source": [
    "year_bins = [[1920, 1959], [1960, 1979], [1980, 1999],  [2000, 2020]]\n",
    "\n",
    "f, ax = plt.subplots(nrows=len(year_bins), figsize=(4,8), sharey=True)\n",
    "\n",
    "for i, (filmyear1, filmyear2) in enumerate(year_bins): \n",
    "    this_ax = ax[i]\n",
    "    age_at_movie[age_at_movie['release_year'].isin(np.arange(filmyear1,filmyear2+1,1))]\\\n",
    "        ['actor_age']\\\n",
    "        .hist(\n",
    "            bins=np.arange(10,100,5), \n",
    "            ax=this_ax, alpha=0.5, \n",
    "            density=True, \n",
    "            label=f'{filmyear1}-{filmyear2}')\n",
    "    this_ax.legend()"
   ]
  },
  {
   "cell_type": "markdown",
   "id": "3accc88d",
   "metadata": {},
   "source": [
    "Better, but not perfect\n",
    "\n",
    "Maybe a line chart would be even better, but with data from other time periods as a background?  \n",
    "\n",
    "Or maybe a few scatter clouds arranged vertically, with actor age on the y-axis and movie year range on the x-axis?  \n",
    "-> try it out; also, go back to the \"roots\" - chart catalogues, encodings, etc. "
   ]
  },
  {
   "cell_type": "markdown",
   "id": "51eb29e7",
   "metadata": {},
   "source": [
    "Note: At this point it starts to make sense to structure the code into functions and other re-usable chunks "
   ]
  },
  {
   "cell_type": "markdown",
   "id": "9c325eaf",
   "metadata": {},
   "source": [
    "Our hypothesis / red thread for a data story by now: older movies showed high percentage of older people cast in romantic roles. In the 60s-70s, the peak age for an actor seen in a romantic role was 30-40 yo. In the 80s and 90s, more younger people were cast. In the 2000s-2020s, again more 40+ people. But still a stark contrast to the 1920-1959, where the distribution seems almost bimodal.  \n",
    "-> Storytelling angle: change and variation  \n",
    "-> maybe though there is a better chart, e.g. a slope graph, to show this relationship? (calculate values like mode, median, avg and look at their relations) -> close the loop between data transformation and visualization again "
   ]
  },
  {
   "cell_type": "markdown",
   "id": "848b163d",
   "metadata": {},
   "source": [
    "It seems interesting. This could be the final chart of the story. We need to think about what does the reader need to know about this dataset and its context in order to comprehend this chart and appreciate its insight? Maybe there are some articles about how the directors in different decades thought about casting younger or older actors in particular story settings? \n",
    "\n",
    "This background information would form the first part of the data story and could be supplemented with other charts. Maybe we can even re-use some of the distributions we have used in the exploration, but adapted graphically to the final chart. "
   ]
  },
  {
   "cell_type": "markdown",
   "id": "dea0278f",
   "metadata": {},
   "source": [
    "There are also some follow-up questions if we want to continue with the investigation:  \n",
    "- <span style=\"background:DarkSeaGreen\">what about an age difference within the couple?</span>\n",
    "- <span style=\"background:DarkSeaGreen\">does it differ between same-sex and mixed couples?</span>\n",
    "- ..."
   ]
  },
  {
   "cell_type": "markdown",
   "id": "53427f25",
   "metadata": {},
   "source": [
    "Some other alternative angles that could be interesting: \n",
    "\n",
    "- <span style=\"background:DarkSeaGreen\">proportion of movies per actor which did or did not have him/her forming a couple</span> (e.g. Sylvester Stallone)\n",
    "- extend it with a dataset about the <span style=\"background:DarkSeaGreen\">movie genre, topic</span>\n",
    "- extend it with data about <span style=\"background:DarkSeaGreen\">movie and actors earnings</span>\n",
    "- how about <span style=\"background:DarkSeaGreen\">the age of actors in non-romantic roles? is there a similar actor-age preference for a particular decade?</span>\n",
    "- is it reflected <span style=\"background:DarkSeaGreen\">in depiction of actors e.g. in advertisements? </span>\n",
    "- ... "
   ]
  },
  {
   "cell_type": "code",
   "execution_count": null,
   "id": "9aa77be1",
   "metadata": {},
   "outputs": [],
   "source": []
  }
 ],
 "metadata": {
  "hide_input": false,
  "kernelspec": {
   "display_name": "Python 3",
   "language": "python",
   "name": "python3"
  },
  "language_info": {
   "codemirror_mode": {
    "name": "ipython",
    "version": 3
   },
   "file_extension": ".py",
   "mimetype": "text/x-python",
   "name": "python",
   "nbconvert_exporter": "python",
   "pygments_lexer": "ipython3",
   "version": "3.11.6"
  }
 },
 "nbformat": 4,
 "nbformat_minor": 5
}
