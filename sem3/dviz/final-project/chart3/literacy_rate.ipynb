{
 "cells": [
  {
   "cell_type": "code",
   "execution_count": 16,
   "metadata": {},
   "outputs": [],
   "source": [
    "import pandas as pd\n",
    "import matplotlib.pyplot as plt\n",
    "import seaborn as sns\n",
    "import geopandas as gpd\n",
    "\n",
    "# import the IO functions \n",
    "import plotly.io as pio\n",
    "# import low-level API\n",
    "import plotly.graph_objects as go\n",
    "# import high-level API\n",
    "import plotly.express as px "
   ]
  },
  {
   "cell_type": "code",
   "execution_count": 17,
   "metadata": {},
   "outputs": [
    {
     "data": {
      "text/html": [
       "<div>\n",
       "<style scoped>\n",
       "    .dataframe tbody tr th:only-of-type {\n",
       "        vertical-align: middle;\n",
       "    }\n",
       "\n",
       "    .dataframe tbody tr th {\n",
       "        vertical-align: top;\n",
       "    }\n",
       "\n",
       "    .dataframe thead th {\n",
       "        text-align: right;\n",
       "    }\n",
       "</style>\n",
       "<table border=\"1\" class=\"dataframe\">\n",
       "  <thead>\n",
       "    <tr style=\"text-align: right;\">\n",
       "      <th></th>\n",
       "      <th>Entity</th>\n",
       "      <th>Code</th>\n",
       "      <th>Year</th>\n",
       "      <th>Historical and more recent literacy estimates</th>\n",
       "    </tr>\n",
       "  </thead>\n",
       "  <tbody>\n",
       "    <tr>\n",
       "      <th>1853</th>\n",
       "      <td>Spain</td>\n",
       "      <td>ESP</td>\n",
       "      <td>1475</td>\n",
       "      <td>3.0</td>\n",
       "    </tr>\n",
       "    <tr>\n",
       "      <th>726</th>\n",
       "      <td>Germany</td>\n",
       "      <td>DEU</td>\n",
       "      <td>1475</td>\n",
       "      <td>9.0</td>\n",
       "    </tr>\n",
       "    <tr>\n",
       "      <th>1608</th>\n",
       "      <td>Poland</td>\n",
       "      <td>POL</td>\n",
       "      <td>1475</td>\n",
       "      <td>0.0</td>\n",
       "    </tr>\n",
       "    <tr>\n",
       "      <th>1381</th>\n",
       "      <td>Netherlands</td>\n",
       "      <td>NLD</td>\n",
       "      <td>1475</td>\n",
       "      <td>17.0</td>\n",
       "    </tr>\n",
       "    <tr>\n",
       "      <th>1943</th>\n",
       "      <td>Sweden</td>\n",
       "      <td>SWE</td>\n",
       "      <td>1475</td>\n",
       "      <td>1.0</td>\n",
       "    </tr>\n",
       "  </tbody>\n",
       "</table>\n",
       "</div>"
      ],
      "text/plain": [
       "           Entity Code  Year  Historical and more recent literacy estimates\n",
       "1853        Spain  ESP  1475                                            3.0\n",
       "726       Germany  DEU  1475                                            9.0\n",
       "1608       Poland  POL  1475                                            0.0\n",
       "1381  Netherlands  NLD  1475                                           17.0\n",
       "1943       Sweden  SWE  1475                                            1.0"
      ]
     },
     "execution_count": 17,
     "metadata": {},
     "output_type": "execute_result"
    }
   ],
   "source": [
    "data = pd.read_csv('./cross-country-literacy-rates.csv')\n",
    "\n",
    "data.sort_values(by=['Year'], inplace=True)\n",
    "data.head()"
   ]
  },
  {
   "cell_type": "code",
   "execution_count": 18,
   "metadata": {},
   "outputs": [
    {
     "data": {
      "text/plain": [
       "Year\n",
       "2013     47\n",
       "2014     84\n",
       "2015    170\n",
       "2016     45\n",
       "2017     45\n",
       "2018     52\n",
       "2019     42\n",
       "2020     43\n",
       "2021     55\n",
       "2022     58\n",
       "Name: Entity, dtype: int64"
      ]
     },
     "execution_count": 18,
     "metadata": {},
     "output_type": "execute_result"
    }
   ],
   "source": [
    "# sadly, not all countries have data for all years\n",
    "# we want to find out how many countries have data for each year\n",
    "\n",
    "# count the number of countries with a data point for each year\n",
    "country_count_per_year = data.groupby('Year')['Entity'].nunique()\n",
    "\n",
    "country_count_per_year.tail(10)"
   ]
  },
  {
   "cell_type": "code",
   "execution_count": 19,
   "metadata": {},
   "outputs": [
    {
     "data": {
      "text/plain": [
       "{'American Samoa',\n",
       " 'Andorra',\n",
       " 'Anguilla',\n",
       " 'Antigua and Barbuda',\n",
       " 'Arab World',\n",
       " 'Australia',\n",
       " 'Austria',\n",
       " 'Bahamas',\n",
       " 'Barbados',\n",
       " 'Belgium',\n",
       " 'Bermuda',\n",
       " 'British Virgin Islands',\n",
       " 'Canada',\n",
       " 'Caribbean small states',\n",
       " 'Cayman Islands',\n",
       " 'Central Europe and the Baltics',\n",
       " 'Cook Islands',\n",
       " 'Czechia',\n",
       " 'Denmark',\n",
       " 'Djibouti',\n",
       " 'Dominica',\n",
       " 'Early-demographic dividend',\n",
       " 'East Asia & Pacific',\n",
       " 'East Asia & Pacific (IDA & IBRD)',\n",
       " 'East Asia & Pacific (excluding high income)',\n",
       " 'Europe & Central Asia',\n",
       " 'Europe & Central Asia (IDA & IBRD)',\n",
       " 'Europe & Central Asia (excluding high income)',\n",
       " 'Fiji',\n",
       " 'Finland',\n",
       " 'Fragile and conflict affected situations',\n",
       " 'France',\n",
       " 'French Polynesia',\n",
       " 'Germany',\n",
       " 'Gibraltar',\n",
       " 'Greenland',\n",
       " 'Grenada',\n",
       " 'Heavily indebted poor countries (HIPC)',\n",
       " 'Hong Kong',\n",
       " 'IBRD only',\n",
       " 'IDA & IBRD total',\n",
       " 'IDA blend',\n",
       " 'IDA only',\n",
       " 'IDA total',\n",
       " 'Iceland',\n",
       " 'Ireland',\n",
       " 'Israel',\n",
       " 'Japan',\n",
       " 'Kosovo',\n",
       " 'Late-demographic dividend',\n",
       " 'Latin America & Caribbean',\n",
       " 'Latin America & Caribbean (IDA & IBRD)',\n",
       " 'Latin America & Caribbean (excluding high income)',\n",
       " 'Least developed countries: UN classification',\n",
       " 'Liechtenstein',\n",
       " 'Low income',\n",
       " 'Lower middle income',\n",
       " 'Luxembourg',\n",
       " 'Micronesia',\n",
       " 'Middle East & North Africa',\n",
       " 'Middle East & North Africa (IDA & IBRD)',\n",
       " 'Middle East & North Africa (excluding high income)',\n",
       " 'Middle income',\n",
       " 'Monaco',\n",
       " 'Montserrat',\n",
       " 'Netherlands',\n",
       " 'New Zealand',\n",
       " 'Niue',\n",
       " 'North America (WB)',\n",
       " 'Northern Mariana Islands',\n",
       " 'Norway',\n",
       " 'Other small states',\n",
       " 'Pacific island small states',\n",
       " 'Pre-demographic dividend',\n",
       " 'Saint Helena',\n",
       " 'Saint Kitts and Nevis',\n",
       " 'Saint Lucia',\n",
       " 'Saint Pierre and Miquelon',\n",
       " 'Saint Vincent and the Grenadines',\n",
       " 'San Marino',\n",
       " 'Slovakia',\n",
       " 'Small states',\n",
       " 'Solomon Islands',\n",
       " 'Somalia',\n",
       " 'South Asia',\n",
       " 'South Asia (IDA & IBRD)',\n",
       " 'South Korea',\n",
       " 'Sub-Saharan Africa',\n",
       " 'Sub-Saharan Africa (IDA & IBRD)',\n",
       " 'Sub-Saharan Africa (excluding high income)',\n",
       " 'Sweden',\n",
       " 'Switzerland',\n",
       " 'Taiwan',\n",
       " 'Turks and Caicos Islands',\n",
       " 'United Kingdom',\n",
       " 'United States',\n",
       " 'Upper middle income',\n",
       " 'Vatican',\n",
       " 'Virgin Islands',\n",
       " 'Wallis and Futuna'}"
      ]
     },
     "execution_count": 19,
     "metadata": {},
     "output_type": "execute_result"
    }
   ],
   "source": [
    "# next we want to find out which countries are missing in each year\n",
    "\n",
    "# first, we find all unique countries in the dataset\n",
    "all_countries = set(data['Entity'].unique())\n",
    "\n",
    "# now, for each year, we will find which countries are missing\n",
    "missing_countries_per_year = {}\n",
    "for year in data['Year'].unique():\n",
    "    countries_in_year = set(data[data['Year'] == year]['Entity'])\n",
    "    missing_countries = all_countries - countries_in_year\n",
    "    missing_countries_per_year[year] = missing_countries\n",
    "\n",
    "# converting the result to a more readable format (sorted by year)\n",
    "missing_countries_per_year_sorted = dict(sorted(missing_countries_per_year.items()))\n",
    "\n",
    "missing_countries_per_year_sorted[2015]"
   ]
  },
  {
   "cell_type": "code",
   "execution_count": 20,
   "metadata": {},
   "outputs": [
    {
     "data": {
      "text/html": [
       "<div>\n",
       "<style scoped>\n",
       "    .dataframe tbody tr th:only-of-type {\n",
       "        vertical-align: middle;\n",
       "    }\n",
       "\n",
       "    .dataframe tbody tr th {\n",
       "        vertical-align: top;\n",
       "    }\n",
       "\n",
       "    .dataframe thead th {\n",
       "        text-align: right;\n",
       "    }\n",
       "</style>\n",
       "<table border=\"1\" class=\"dataframe\">\n",
       "  <thead>\n",
       "    <tr style=\"text-align: right;\">\n",
       "      <th></th>\n",
       "      <th>Entity</th>\n",
       "      <th>Code</th>\n",
       "      <th>Year</th>\n",
       "      <th>Historical and more recent literacy estimates</th>\n",
       "    </tr>\n",
       "  </thead>\n",
       "  <tbody>\n",
       "    <tr>\n",
       "      <th>0</th>\n",
       "      <td>Afghanistan</td>\n",
       "      <td>AFG</td>\n",
       "      <td>2021</td>\n",
       "      <td>37.26604</td>\n",
       "    </tr>\n",
       "    <tr>\n",
       "      <th>1</th>\n",
       "      <td>Albania</td>\n",
       "      <td>ALB</td>\n",
       "      <td>2022</td>\n",
       "      <td>98.50000</td>\n",
       "    </tr>\n",
       "    <tr>\n",
       "      <th>2</th>\n",
       "      <td>Algeria</td>\n",
       "      <td>DZA</td>\n",
       "      <td>2018</td>\n",
       "      <td>81.40784</td>\n",
       "    </tr>\n",
       "    <tr>\n",
       "      <th>3</th>\n",
       "      <td>American Samoa</td>\n",
       "      <td>ASM</td>\n",
       "      <td>1980</td>\n",
       "      <td>97.34416</td>\n",
       "    </tr>\n",
       "    <tr>\n",
       "      <th>4</th>\n",
       "      <td>Andorra</td>\n",
       "      <td>AND</td>\n",
       "      <td>2011</td>\n",
       "      <td>100.00000</td>\n",
       "    </tr>\n",
       "  </tbody>\n",
       "</table>\n",
       "</div>"
      ],
      "text/plain": [
       "           Entity Code  Year  Historical and more recent literacy estimates\n",
       "0     Afghanistan  AFG  2021                                       37.26604\n",
       "1         Albania  ALB  2022                                       98.50000\n",
       "2         Algeria  DZA  2018                                       81.40784\n",
       "3  American Samoa  ASM  1980                                       97.34416\n",
       "4         Andorra  AND  2011                                      100.00000"
      ]
     },
     "execution_count": 20,
     "metadata": {},
     "output_type": "execute_result"
    }
   ],
   "source": [
    "# To combine the data such that each country has a datapoint using the latest available year, \n",
    "# we'll use the latest entry for each country\n",
    "\n",
    "# Getting the latest entry for each country\n",
    "latest_data_per_country = data.sort_values('Year').groupby('Entity').last().reset_index()\n",
    "\n",
    "latest_data_per_country.head()"
   ]
  },
  {
   "cell_type": "code",
   "execution_count": 21,
   "metadata": {},
   "outputs": [
    {
     "data": {
      "text/html": [
       "<div>\n",
       "<style scoped>\n",
       "    .dataframe tbody tr th:only-of-type {\n",
       "        vertical-align: middle;\n",
       "    }\n",
       "\n",
       "    .dataframe tbody tr th {\n",
       "        vertical-align: top;\n",
       "    }\n",
       "\n",
       "    .dataframe thead th {\n",
       "        text-align: right;\n",
       "    }\n",
       "</style>\n",
       "<table border=\"1\" class=\"dataframe\">\n",
       "  <thead>\n",
       "    <tr style=\"text-align: right;\">\n",
       "      <th></th>\n",
       "      <th>Entity</th>\n",
       "      <th>Code_earliest</th>\n",
       "      <th>Year_earliest</th>\n",
       "      <th>Historical and more recent literacy estimates_earliest</th>\n",
       "      <th>Code_latest</th>\n",
       "      <th>Year_latest</th>\n",
       "      <th>Historical and more recent literacy estimates_latest</th>\n",
       "      <th>Literacy_Rate_Increase</th>\n",
       "    </tr>\n",
       "  </thead>\n",
       "  <tbody>\n",
       "    <tr>\n",
       "      <th>0</th>\n",
       "      <td>Afghanistan</td>\n",
       "      <td>AFG</td>\n",
       "      <td>1979</td>\n",
       "      <td>18.15768</td>\n",
       "      <td>AFG</td>\n",
       "      <td>2021</td>\n",
       "      <td>37.266040</td>\n",
       "      <td>19.108360</td>\n",
       "    </tr>\n",
       "    <tr>\n",
       "      <th>1</th>\n",
       "      <td>Albania</td>\n",
       "      <td>ALB</td>\n",
       "      <td>2001</td>\n",
       "      <td>98.71298</td>\n",
       "      <td>ALB</td>\n",
       "      <td>2022</td>\n",
       "      <td>98.500000</td>\n",
       "      <td>-0.212980</td>\n",
       "    </tr>\n",
       "    <tr>\n",
       "      <th>2</th>\n",
       "      <td>Algeria</td>\n",
       "      <td>DZA</td>\n",
       "      <td>1987</td>\n",
       "      <td>49.63088</td>\n",
       "      <td>DZA</td>\n",
       "      <td>2018</td>\n",
       "      <td>81.407840</td>\n",
       "      <td>31.776960</td>\n",
       "    </tr>\n",
       "    <tr>\n",
       "      <th>3</th>\n",
       "      <td>American Samoa</td>\n",
       "      <td>ASM</td>\n",
       "      <td>1980</td>\n",
       "      <td>97.34416</td>\n",
       "      <td>ASM</td>\n",
       "      <td>1980</td>\n",
       "      <td>97.344160</td>\n",
       "      <td>0.000000</td>\n",
       "    </tr>\n",
       "    <tr>\n",
       "      <th>4</th>\n",
       "      <td>Andorra</td>\n",
       "      <td>AND</td>\n",
       "      <td>2011</td>\n",
       "      <td>100.00000</td>\n",
       "      <td>AND</td>\n",
       "      <td>2011</td>\n",
       "      <td>100.000000</td>\n",
       "      <td>0.000000</td>\n",
       "    </tr>\n",
       "    <tr>\n",
       "      <th>5</th>\n",
       "      <td>Angola</td>\n",
       "      <td>AGO</td>\n",
       "      <td>2001</td>\n",
       "      <td>67.40542</td>\n",
       "      <td>AGO</td>\n",
       "      <td>2022</td>\n",
       "      <td>72.400000</td>\n",
       "      <td>4.994580</td>\n",
       "    </tr>\n",
       "    <tr>\n",
       "      <th>6</th>\n",
       "      <td>Anguilla</td>\n",
       "      <td>AIA</td>\n",
       "      <td>1984</td>\n",
       "      <td>95.00000</td>\n",
       "      <td>AIA</td>\n",
       "      <td>1984</td>\n",
       "      <td>95.000000</td>\n",
       "      <td>0.000000</td>\n",
       "    </tr>\n",
       "    <tr>\n",
       "      <th>7</th>\n",
       "      <td>Antigua and Barbuda</td>\n",
       "      <td>ATG</td>\n",
       "      <td>2001</td>\n",
       "      <td>98.95000</td>\n",
       "      <td>ATG</td>\n",
       "      <td>2014</td>\n",
       "      <td>98.950000</td>\n",
       "      <td>0.000000</td>\n",
       "    </tr>\n",
       "    <tr>\n",
       "      <th>8</th>\n",
       "      <td>Arab World</td>\n",
       "      <td>None</td>\n",
       "      <td>1990</td>\n",
       "      <td>54.59347</td>\n",
       "      <td>None</td>\n",
       "      <td>2010</td>\n",
       "      <td>77.364586</td>\n",
       "      <td>22.771116</td>\n",
       "    </tr>\n",
       "    <tr>\n",
       "      <th>9</th>\n",
       "      <td>Arab World (WB)</td>\n",
       "      <td>None</td>\n",
       "      <td>1978</td>\n",
       "      <td>46.47531</td>\n",
       "      <td>None</td>\n",
       "      <td>2022</td>\n",
       "      <td>75.171530</td>\n",
       "      <td>28.696220</td>\n",
       "    </tr>\n",
       "    <tr>\n",
       "      <th>10</th>\n",
       "      <td>Argentina</td>\n",
       "      <td>ARG</td>\n",
       "      <td>1900</td>\n",
       "      <td>51.30000</td>\n",
       "      <td>ARG</td>\n",
       "      <td>2015</td>\n",
       "      <td>98.089970</td>\n",
       "      <td>46.789970</td>\n",
       "    </tr>\n",
       "    <tr>\n",
       "      <th>11</th>\n",
       "      <td>Armenia</td>\n",
       "      <td>ARM</td>\n",
       "      <td>1989</td>\n",
       "      <td>98.75196</td>\n",
       "      <td>ARM</td>\n",
       "      <td>2020</td>\n",
       "      <td>99.788610</td>\n",
       "      <td>1.036650</td>\n",
       "    </tr>\n",
       "    <tr>\n",
       "      <th>12</th>\n",
       "      <td>Aruba</td>\n",
       "      <td>ABW</td>\n",
       "      <td>2000</td>\n",
       "      <td>97.29125</td>\n",
       "      <td>ABW</td>\n",
       "      <td>2020</td>\n",
       "      <td>97.990000</td>\n",
       "      <td>0.698750</td>\n",
       "    </tr>\n",
       "    <tr>\n",
       "      <th>13</th>\n",
       "      <td>Australia</td>\n",
       "      <td>AUS</td>\n",
       "      <td>2003</td>\n",
       "      <td>99.00000</td>\n",
       "      <td>AUS</td>\n",
       "      <td>2003</td>\n",
       "      <td>99.000000</td>\n",
       "      <td>0.000000</td>\n",
       "    </tr>\n",
       "    <tr>\n",
       "      <th>14</th>\n",
       "      <td>Austria</td>\n",
       "      <td>AUT</td>\n",
       "      <td>2011</td>\n",
       "      <td>98.00000</td>\n",
       "      <td>AUT</td>\n",
       "      <td>2011</td>\n",
       "      <td>98.000000</td>\n",
       "      <td>0.000000</td>\n",
       "    </tr>\n",
       "    <tr>\n",
       "      <th>15</th>\n",
       "      <td>Azerbaijan</td>\n",
       "      <td>AZE</td>\n",
       "      <td>1999</td>\n",
       "      <td>98.79180</td>\n",
       "      <td>AZE</td>\n",
       "      <td>2019</td>\n",
       "      <td>99.795980</td>\n",
       "      <td>1.004180</td>\n",
       "    </tr>\n",
       "    <tr>\n",
       "      <th>16</th>\n",
       "      <td>Bahamas</td>\n",
       "      <td>BHS</td>\n",
       "      <td>2003</td>\n",
       "      <td>95.60000</td>\n",
       "      <td>BHS</td>\n",
       "      <td>2003</td>\n",
       "      <td>95.600000</td>\n",
       "      <td>0.000000</td>\n",
       "    </tr>\n",
       "    <tr>\n",
       "      <th>17</th>\n",
       "      <td>Bahrain</td>\n",
       "      <td>BHR</td>\n",
       "      <td>1981</td>\n",
       "      <td>69.75351</td>\n",
       "      <td>BHR</td>\n",
       "      <td>2015</td>\n",
       "      <td>95.717260</td>\n",
       "      <td>25.963750</td>\n",
       "    </tr>\n",
       "    <tr>\n",
       "      <th>18</th>\n",
       "      <td>Bangladesh</td>\n",
       "      <td>BGD</td>\n",
       "      <td>1981</td>\n",
       "      <td>29.22723</td>\n",
       "      <td>BGD</td>\n",
       "      <td>2020</td>\n",
       "      <td>74.908900</td>\n",
       "      <td>45.681670</td>\n",
       "    </tr>\n",
       "    <tr>\n",
       "      <th>19</th>\n",
       "      <td>Barbados</td>\n",
       "      <td>BRB</td>\n",
       "      <td>1970</td>\n",
       "      <td>99.26808</td>\n",
       "      <td>BRB</td>\n",
       "      <td>2002</td>\n",
       "      <td>99.700000</td>\n",
       "      <td>0.431920</td>\n",
       "    </tr>\n",
       "    <tr>\n",
       "      <th>20</th>\n",
       "      <td>Belarus</td>\n",
       "      <td>BLR</td>\n",
       "      <td>1989</td>\n",
       "      <td>97.88337</td>\n",
       "      <td>BLR</td>\n",
       "      <td>2019</td>\n",
       "      <td>99.874000</td>\n",
       "      <td>1.990630</td>\n",
       "    </tr>\n",
       "    <tr>\n",
       "      <th>21</th>\n",
       "      <td>Belgium</td>\n",
       "      <td>BEL</td>\n",
       "      <td>1475</td>\n",
       "      <td>10.00000</td>\n",
       "      <td>BEL</td>\n",
       "      <td>2003</td>\n",
       "      <td>99.000000</td>\n",
       "      <td>89.000000</td>\n",
       "    </tr>\n",
       "    <tr>\n",
       "      <th>22</th>\n",
       "      <td>Belize</td>\n",
       "      <td>BLZ</td>\n",
       "      <td>1991</td>\n",
       "      <td>70.29842</td>\n",
       "      <td>BLZ</td>\n",
       "      <td>2015</td>\n",
       "      <td>82.776820</td>\n",
       "      <td>12.478400</td>\n",
       "    </tr>\n",
       "    <tr>\n",
       "      <th>23</th>\n",
       "      <td>Benin</td>\n",
       "      <td>BEN</td>\n",
       "      <td>1979</td>\n",
       "      <td>16.48273</td>\n",
       "      <td>BEN</td>\n",
       "      <td>2022</td>\n",
       "      <td>47.100000</td>\n",
       "      <td>30.617270</td>\n",
       "    </tr>\n",
       "    <tr>\n",
       "      <th>24</th>\n",
       "      <td>Bermuda</td>\n",
       "      <td>BMU</td>\n",
       "      <td>2005</td>\n",
       "      <td>98.00000</td>\n",
       "      <td>BMU</td>\n",
       "      <td>2005</td>\n",
       "      <td>98.000000</td>\n",
       "      <td>0.000000</td>\n",
       "    </tr>\n",
       "    <tr>\n",
       "      <th>25</th>\n",
       "      <td>Bhutan</td>\n",
       "      <td>BTN</td>\n",
       "      <td>2005</td>\n",
       "      <td>52.81469</td>\n",
       "      <td>BTN</td>\n",
       "      <td>2022</td>\n",
       "      <td>72.100000</td>\n",
       "      <td>19.285310</td>\n",
       "    </tr>\n",
       "    <tr>\n",
       "      <th>26</th>\n",
       "      <td>Bolivia</td>\n",
       "      <td>BOL</td>\n",
       "      <td>1900</td>\n",
       "      <td>18.00000</td>\n",
       "      <td>BOL</td>\n",
       "      <td>2020</td>\n",
       "      <td>93.852560</td>\n",
       "      <td>75.852560</td>\n",
       "    </tr>\n",
       "    <tr>\n",
       "      <th>27</th>\n",
       "      <td>Bosnia and Herzegovina</td>\n",
       "      <td>BIH</td>\n",
       "      <td>1991</td>\n",
       "      <td>89.06359</td>\n",
       "      <td>BIH</td>\n",
       "      <td>2022</td>\n",
       "      <td>98.300000</td>\n",
       "      <td>9.236410</td>\n",
       "    </tr>\n",
       "    <tr>\n",
       "      <th>28</th>\n",
       "      <td>Botswana</td>\n",
       "      <td>BWA</td>\n",
       "      <td>1991</td>\n",
       "      <td>68.58091</td>\n",
       "      <td>BWA</td>\n",
       "      <td>2015</td>\n",
       "      <td>88.224410</td>\n",
       "      <td>19.643500</td>\n",
       "    </tr>\n",
       "    <tr>\n",
       "      <th>29</th>\n",
       "      <td>Brazil</td>\n",
       "      <td>BRA</td>\n",
       "      <td>1900</td>\n",
       "      <td>35.00000</td>\n",
       "      <td>BRA</td>\n",
       "      <td>2022</td>\n",
       "      <td>94.690000</td>\n",
       "      <td>59.690000</td>\n",
       "    </tr>\n",
       "    <tr>\n",
       "      <th>30</th>\n",
       "      <td>British Virgin Islands</td>\n",
       "      <td>VGB</td>\n",
       "      <td>1991</td>\n",
       "      <td>97.80000</td>\n",
       "      <td>VGB</td>\n",
       "      <td>1991</td>\n",
       "      <td>97.800000</td>\n",
       "      <td>0.000000</td>\n",
       "    </tr>\n",
       "    <tr>\n",
       "      <th>31</th>\n",
       "      <td>Brunei</td>\n",
       "      <td>BRN</td>\n",
       "      <td>1981</td>\n",
       "      <td>77.73550</td>\n",
       "      <td>BRN</td>\n",
       "      <td>2021</td>\n",
       "      <td>97.590000</td>\n",
       "      <td>19.854500</td>\n",
       "    </tr>\n",
       "    <tr>\n",
       "      <th>32</th>\n",
       "      <td>Bulgaria</td>\n",
       "      <td>BGR</td>\n",
       "      <td>2001</td>\n",
       "      <td>98.20356</td>\n",
       "      <td>BGR</td>\n",
       "      <td>2021</td>\n",
       "      <td>98.420000</td>\n",
       "      <td>0.216440</td>\n",
       "    </tr>\n",
       "    <tr>\n",
       "      <th>33</th>\n",
       "      <td>Burkina Faso</td>\n",
       "      <td>BFA</td>\n",
       "      <td>1975</td>\n",
       "      <td>8.83023</td>\n",
       "      <td>BFA</td>\n",
       "      <td>2022</td>\n",
       "      <td>34.490000</td>\n",
       "      <td>25.659770</td>\n",
       "    </tr>\n",
       "    <tr>\n",
       "      <th>34</th>\n",
       "      <td>Burundi</td>\n",
       "      <td>BDI</td>\n",
       "      <td>1979</td>\n",
       "      <td>22.50855</td>\n",
       "      <td>BDI</td>\n",
       "      <td>2022</td>\n",
       "      <td>75.540000</td>\n",
       "      <td>53.031450</td>\n",
       "    </tr>\n",
       "    <tr>\n",
       "      <th>35</th>\n",
       "      <td>Cambodia</td>\n",
       "      <td>KHM</td>\n",
       "      <td>1998</td>\n",
       "      <td>67.33503</td>\n",
       "      <td>KHM</td>\n",
       "      <td>2022</td>\n",
       "      <td>83.780000</td>\n",
       "      <td>16.444970</td>\n",
       "    </tr>\n",
       "    <tr>\n",
       "      <th>36</th>\n",
       "      <td>Cameroon</td>\n",
       "      <td>CMR</td>\n",
       "      <td>1976</td>\n",
       "      <td>41.21621</td>\n",
       "      <td>CMR</td>\n",
       "      <td>2020</td>\n",
       "      <td>78.230000</td>\n",
       "      <td>37.013790</td>\n",
       "    </tr>\n",
       "    <tr>\n",
       "      <th>37</th>\n",
       "      <td>Canada</td>\n",
       "      <td>CAN</td>\n",
       "      <td>2003</td>\n",
       "      <td>99.00000</td>\n",
       "      <td>CAN</td>\n",
       "      <td>2003</td>\n",
       "      <td>99.000000</td>\n",
       "      <td>0.000000</td>\n",
       "    </tr>\n",
       "    <tr>\n",
       "      <th>38</th>\n",
       "      <td>Cape Verde</td>\n",
       "      <td>CPV</td>\n",
       "      <td>1990</td>\n",
       "      <td>62.79686</td>\n",
       "      <td>CPV</td>\n",
       "      <td>2022</td>\n",
       "      <td>91.000000</td>\n",
       "      <td>28.203140</td>\n",
       "    </tr>\n",
       "    <tr>\n",
       "      <th>39</th>\n",
       "      <td>Caribbean small states</td>\n",
       "      <td>None</td>\n",
       "      <td>2000</td>\n",
       "      <td>88.13780</td>\n",
       "      <td>None</td>\n",
       "      <td>2010</td>\n",
       "      <td>91.760710</td>\n",
       "      <td>3.622910</td>\n",
       "    </tr>\n",
       "    <tr>\n",
       "      <th>40</th>\n",
       "      <td>Cayman Islands</td>\n",
       "      <td>CYM</td>\n",
       "      <td>2007</td>\n",
       "      <td>98.86782</td>\n",
       "      <td>CYM</td>\n",
       "      <td>2017</td>\n",
       "      <td>98.867820</td>\n",
       "      <td>0.000000</td>\n",
       "    </tr>\n",
       "    <tr>\n",
       "      <th>41</th>\n",
       "      <td>Central African Republic</td>\n",
       "      <td>CAF</td>\n",
       "      <td>1975</td>\n",
       "      <td>18.23617</td>\n",
       "      <td>CAF</td>\n",
       "      <td>2020</td>\n",
       "      <td>37.490000</td>\n",
       "      <td>19.253830</td>\n",
       "    </tr>\n",
       "    <tr>\n",
       "      <th>42</th>\n",
       "      <td>Central Europe and the Baltics</td>\n",
       "      <td>None</td>\n",
       "      <td>1990</td>\n",
       "      <td>98.59496</td>\n",
       "      <td>None</td>\n",
       "      <td>2010</td>\n",
       "      <td>99.360960</td>\n",
       "      <td>0.766000</td>\n",
       "    </tr>\n",
       "    <tr>\n",
       "      <th>43</th>\n",
       "      <td>Central Europe and the Baltics (WB)</td>\n",
       "      <td>None</td>\n",
       "      <td>1982</td>\n",
       "      <td>97.97562</td>\n",
       "      <td>None</td>\n",
       "      <td>2022</td>\n",
       "      <td>99.427520</td>\n",
       "      <td>1.451900</td>\n",
       "    </tr>\n",
       "    <tr>\n",
       "      <th>44</th>\n",
       "      <td>Chad</td>\n",
       "      <td>TCD</td>\n",
       "      <td>1993</td>\n",
       "      <td>10.89465</td>\n",
       "      <td>TCD</td>\n",
       "      <td>2022</td>\n",
       "      <td>27.280000</td>\n",
       "      <td>16.385350</td>\n",
       "    </tr>\n",
       "    <tr>\n",
       "      <th>45</th>\n",
       "      <td>Chile</td>\n",
       "      <td>CHL</td>\n",
       "      <td>1900</td>\n",
       "      <td>43.00000</td>\n",
       "      <td>CHL</td>\n",
       "      <td>2022</td>\n",
       "      <td>97.160000</td>\n",
       "      <td>54.160000</td>\n",
       "    </tr>\n",
       "    <tr>\n",
       "      <th>46</th>\n",
       "      <td>China</td>\n",
       "      <td>CHN</td>\n",
       "      <td>1982</td>\n",
       "      <td>65.50509</td>\n",
       "      <td>CHN</td>\n",
       "      <td>2020</td>\n",
       "      <td>97.150000</td>\n",
       "      <td>31.644910</td>\n",
       "    </tr>\n",
       "    <tr>\n",
       "      <th>47</th>\n",
       "      <td>Colombia</td>\n",
       "      <td>COL</td>\n",
       "      <td>1900</td>\n",
       "      <td>34.00000</td>\n",
       "      <td>COL</td>\n",
       "      <td>2020</td>\n",
       "      <td>95.636330</td>\n",
       "      <td>61.636330</td>\n",
       "    </tr>\n",
       "    <tr>\n",
       "      <th>48</th>\n",
       "      <td>Comoros</td>\n",
       "      <td>COM</td>\n",
       "      <td>1980</td>\n",
       "      <td>47.91923</td>\n",
       "      <td>COM</td>\n",
       "      <td>2022</td>\n",
       "      <td>61.710000</td>\n",
       "      <td>13.790770</td>\n",
       "    </tr>\n",
       "    <tr>\n",
       "      <th>49</th>\n",
       "      <td>Congo</td>\n",
       "      <td>COG</td>\n",
       "      <td>1984</td>\n",
       "      <td>59.61912</td>\n",
       "      <td>COG</td>\n",
       "      <td>2021</td>\n",
       "      <td>80.610000</td>\n",
       "      <td>20.990880</td>\n",
       "    </tr>\n",
       "  </tbody>\n",
       "</table>\n",
       "</div>"
      ],
      "text/plain": [
       "                                 Entity Code_earliest  Year_earliest  \\\n",
       "0                           Afghanistan           AFG           1979   \n",
       "1                               Albania           ALB           2001   \n",
       "2                               Algeria           DZA           1987   \n",
       "3                        American Samoa           ASM           1980   \n",
       "4                               Andorra           AND           2011   \n",
       "5                                Angola           AGO           2001   \n",
       "6                              Anguilla           AIA           1984   \n",
       "7                   Antigua and Barbuda           ATG           2001   \n",
       "8                            Arab World          None           1990   \n",
       "9                       Arab World (WB)          None           1978   \n",
       "10                            Argentina           ARG           1900   \n",
       "11                              Armenia           ARM           1989   \n",
       "12                                Aruba           ABW           2000   \n",
       "13                            Australia           AUS           2003   \n",
       "14                              Austria           AUT           2011   \n",
       "15                           Azerbaijan           AZE           1999   \n",
       "16                              Bahamas           BHS           2003   \n",
       "17                              Bahrain           BHR           1981   \n",
       "18                           Bangladesh           BGD           1981   \n",
       "19                             Barbados           BRB           1970   \n",
       "20                              Belarus           BLR           1989   \n",
       "21                              Belgium           BEL           1475   \n",
       "22                               Belize           BLZ           1991   \n",
       "23                                Benin           BEN           1979   \n",
       "24                              Bermuda           BMU           2005   \n",
       "25                               Bhutan           BTN           2005   \n",
       "26                              Bolivia           BOL           1900   \n",
       "27               Bosnia and Herzegovina           BIH           1991   \n",
       "28                             Botswana           BWA           1991   \n",
       "29                               Brazil           BRA           1900   \n",
       "30               British Virgin Islands           VGB           1991   \n",
       "31                               Brunei           BRN           1981   \n",
       "32                             Bulgaria           BGR           2001   \n",
       "33                         Burkina Faso           BFA           1975   \n",
       "34                              Burundi           BDI           1979   \n",
       "35                             Cambodia           KHM           1998   \n",
       "36                             Cameroon           CMR           1976   \n",
       "37                               Canada           CAN           2003   \n",
       "38                           Cape Verde           CPV           1990   \n",
       "39               Caribbean small states          None           2000   \n",
       "40                       Cayman Islands           CYM           2007   \n",
       "41             Central African Republic           CAF           1975   \n",
       "42       Central Europe and the Baltics          None           1990   \n",
       "43  Central Europe and the Baltics (WB)          None           1982   \n",
       "44                                 Chad           TCD           1993   \n",
       "45                                Chile           CHL           1900   \n",
       "46                                China           CHN           1982   \n",
       "47                             Colombia           COL           1900   \n",
       "48                              Comoros           COM           1980   \n",
       "49                                Congo           COG           1984   \n",
       "\n",
       "    Historical and more recent literacy estimates_earliest Code_latest  \\\n",
       "0                                            18.15768              AFG   \n",
       "1                                            98.71298              ALB   \n",
       "2                                            49.63088              DZA   \n",
       "3                                            97.34416              ASM   \n",
       "4                                           100.00000              AND   \n",
       "5                                            67.40542              AGO   \n",
       "6                                            95.00000              AIA   \n",
       "7                                            98.95000              ATG   \n",
       "8                                            54.59347             None   \n",
       "9                                            46.47531             None   \n",
       "10                                           51.30000              ARG   \n",
       "11                                           98.75196              ARM   \n",
       "12                                           97.29125              ABW   \n",
       "13                                           99.00000              AUS   \n",
       "14                                           98.00000              AUT   \n",
       "15                                           98.79180              AZE   \n",
       "16                                           95.60000              BHS   \n",
       "17                                           69.75351              BHR   \n",
       "18                                           29.22723              BGD   \n",
       "19                                           99.26808              BRB   \n",
       "20                                           97.88337              BLR   \n",
       "21                                           10.00000              BEL   \n",
       "22                                           70.29842              BLZ   \n",
       "23                                           16.48273              BEN   \n",
       "24                                           98.00000              BMU   \n",
       "25                                           52.81469              BTN   \n",
       "26                                           18.00000              BOL   \n",
       "27                                           89.06359              BIH   \n",
       "28                                           68.58091              BWA   \n",
       "29                                           35.00000              BRA   \n",
       "30                                           97.80000              VGB   \n",
       "31                                           77.73550              BRN   \n",
       "32                                           98.20356              BGR   \n",
       "33                                            8.83023              BFA   \n",
       "34                                           22.50855              BDI   \n",
       "35                                           67.33503              KHM   \n",
       "36                                           41.21621              CMR   \n",
       "37                                           99.00000              CAN   \n",
       "38                                           62.79686              CPV   \n",
       "39                                           88.13780             None   \n",
       "40                                           98.86782              CYM   \n",
       "41                                           18.23617              CAF   \n",
       "42                                           98.59496             None   \n",
       "43                                           97.97562             None   \n",
       "44                                           10.89465              TCD   \n",
       "45                                           43.00000              CHL   \n",
       "46                                           65.50509              CHN   \n",
       "47                                           34.00000              COL   \n",
       "48                                           47.91923              COM   \n",
       "49                                           59.61912              COG   \n",
       "\n",
       "    Year_latest  Historical and more recent literacy estimates_latest  \\\n",
       "0          2021                                          37.266040      \n",
       "1          2022                                          98.500000      \n",
       "2          2018                                          81.407840      \n",
       "3          1980                                          97.344160      \n",
       "4          2011                                         100.000000      \n",
       "5          2022                                          72.400000      \n",
       "6          1984                                          95.000000      \n",
       "7          2014                                          98.950000      \n",
       "8          2010                                          77.364586      \n",
       "9          2022                                          75.171530      \n",
       "10         2015                                          98.089970      \n",
       "11         2020                                          99.788610      \n",
       "12         2020                                          97.990000      \n",
       "13         2003                                          99.000000      \n",
       "14         2011                                          98.000000      \n",
       "15         2019                                          99.795980      \n",
       "16         2003                                          95.600000      \n",
       "17         2015                                          95.717260      \n",
       "18         2020                                          74.908900      \n",
       "19         2002                                          99.700000      \n",
       "20         2019                                          99.874000      \n",
       "21         2003                                          99.000000      \n",
       "22         2015                                          82.776820      \n",
       "23         2022                                          47.100000      \n",
       "24         2005                                          98.000000      \n",
       "25         2022                                          72.100000      \n",
       "26         2020                                          93.852560      \n",
       "27         2022                                          98.300000      \n",
       "28         2015                                          88.224410      \n",
       "29         2022                                          94.690000      \n",
       "30         1991                                          97.800000      \n",
       "31         2021                                          97.590000      \n",
       "32         2021                                          98.420000      \n",
       "33         2022                                          34.490000      \n",
       "34         2022                                          75.540000      \n",
       "35         2022                                          83.780000      \n",
       "36         2020                                          78.230000      \n",
       "37         2003                                          99.000000      \n",
       "38         2022                                          91.000000      \n",
       "39         2010                                          91.760710      \n",
       "40         2017                                          98.867820      \n",
       "41         2020                                          37.490000      \n",
       "42         2010                                          99.360960      \n",
       "43         2022                                          99.427520      \n",
       "44         2022                                          27.280000      \n",
       "45         2022                                          97.160000      \n",
       "46         2020                                          97.150000      \n",
       "47         2020                                          95.636330      \n",
       "48         2022                                          61.710000      \n",
       "49         2021                                          80.610000      \n",
       "\n",
       "    Literacy_Rate_Increase  \n",
       "0                19.108360  \n",
       "1                -0.212980  \n",
       "2                31.776960  \n",
       "3                 0.000000  \n",
       "4                 0.000000  \n",
       "5                 4.994580  \n",
       "6                 0.000000  \n",
       "7                 0.000000  \n",
       "8                22.771116  \n",
       "9                28.696220  \n",
       "10               46.789970  \n",
       "11                1.036650  \n",
       "12                0.698750  \n",
       "13                0.000000  \n",
       "14                0.000000  \n",
       "15                1.004180  \n",
       "16                0.000000  \n",
       "17               25.963750  \n",
       "18               45.681670  \n",
       "19                0.431920  \n",
       "20                1.990630  \n",
       "21               89.000000  \n",
       "22               12.478400  \n",
       "23               30.617270  \n",
       "24                0.000000  \n",
       "25               19.285310  \n",
       "26               75.852560  \n",
       "27                9.236410  \n",
       "28               19.643500  \n",
       "29               59.690000  \n",
       "30                0.000000  \n",
       "31               19.854500  \n",
       "32                0.216440  \n",
       "33               25.659770  \n",
       "34               53.031450  \n",
       "35               16.444970  \n",
       "36               37.013790  \n",
       "37                0.000000  \n",
       "38               28.203140  \n",
       "39                3.622910  \n",
       "40                0.000000  \n",
       "41               19.253830  \n",
       "42                0.766000  \n",
       "43                1.451900  \n",
       "44               16.385350  \n",
       "45               54.160000  \n",
       "46               31.644910  \n",
       "47               61.636330  \n",
       "48               13.790770  \n",
       "49               20.990880  "
      ]
     },
     "execution_count": 21,
     "metadata": {},
     "output_type": "execute_result"
    }
   ],
   "source": [
    "# To calculate the increase in literacy rate for each country, we need to find the earliest and latest data points for each country\n",
    "# and then compute the difference\n",
    "\n",
    "earliest_data_per_country = data.sort_values('Year').groupby('Entity').first().reset_index()\n",
    "\n",
    "# Merging the earliest and latest data\n",
    "earliest_latest_data = pd.merge(earliest_data_per_country, latest_data_per_country, on='Entity', suffixes=('_earliest', '_latest'))\n",
    "\n",
    "earliest_latest_data['Literacy_Rate_Increase'] = earliest_latest_data['Historical and more recent literacy estimates_latest'] - earliest_latest_data['Historical and more recent literacy estimates_earliest']\n",
    "\n",
    "earliest_latest_data.head(50)\n"
   ]
  },
  {
   "cell_type": "code",
   "execution_count": 22,
   "metadata": {},
   "outputs": [
    {
     "name": "stderr",
     "output_type": "stream",
     "text": [
      "C:\\Users\\David\\AppData\\Local\\Temp\\ipykernel_24080\\2333073256.py:1: FutureWarning:\n",
      "\n",
      "The geopandas.dataset module is deprecated and will be removed in GeoPandas 1.0. You can get the original 'naturalearth_lowres' data from https://www.naturalearthdata.com/downloads/110m-cultural-vectors/.\n",
      "\n"
     ]
    },
    {
     "data": {
      "text/html": [
       "<div>\n",
       "<style scoped>\n",
       "    .dataframe tbody tr th:only-of-type {\n",
       "        vertical-align: middle;\n",
       "    }\n",
       "\n",
       "    .dataframe tbody tr th {\n",
       "        vertical-align: top;\n",
       "    }\n",
       "\n",
       "    .dataframe thead th {\n",
       "        text-align: right;\n",
       "    }\n",
       "</style>\n",
       "<table border=\"1\" class=\"dataframe\">\n",
       "  <thead>\n",
       "    <tr style=\"text-align: right;\">\n",
       "      <th></th>\n",
       "      <th>pop_est</th>\n",
       "      <th>continent</th>\n",
       "      <th>name</th>\n",
       "      <th>iso_a3</th>\n",
       "      <th>gdp_md_est</th>\n",
       "      <th>geometry</th>\n",
       "    </tr>\n",
       "  </thead>\n",
       "  <tbody>\n",
       "    <tr>\n",
       "      <th>0</th>\n",
       "      <td>889953.0</td>\n",
       "      <td>Oceania</td>\n",
       "      <td>Fiji</td>\n",
       "      <td>FJI</td>\n",
       "      <td>5496</td>\n",
       "      <td>MULTIPOLYGON (((180.00000 -16.06713, 180.00000...</td>\n",
       "    </tr>\n",
       "    <tr>\n",
       "      <th>1</th>\n",
       "      <td>58005463.0</td>\n",
       "      <td>Africa</td>\n",
       "      <td>Tanzania</td>\n",
       "      <td>TZA</td>\n",
       "      <td>63177</td>\n",
       "      <td>POLYGON ((33.90371 -0.95000, 34.07262 -1.05982...</td>\n",
       "    </tr>\n",
       "    <tr>\n",
       "      <th>2</th>\n",
       "      <td>603253.0</td>\n",
       "      <td>Africa</td>\n",
       "      <td>W. Sahara</td>\n",
       "      <td>ESH</td>\n",
       "      <td>907</td>\n",
       "      <td>POLYGON ((-8.66559 27.65643, -8.66512 27.58948...</td>\n",
       "    </tr>\n",
       "    <tr>\n",
       "      <th>3</th>\n",
       "      <td>37589262.0</td>\n",
       "      <td>North America</td>\n",
       "      <td>Canada</td>\n",
       "      <td>CAN</td>\n",
       "      <td>1736425</td>\n",
       "      <td>MULTIPOLYGON (((-122.84000 49.00000, -122.9742...</td>\n",
       "    </tr>\n",
       "    <tr>\n",
       "      <th>4</th>\n",
       "      <td>328239523.0</td>\n",
       "      <td>North America</td>\n",
       "      <td>United States of America</td>\n",
       "      <td>USA</td>\n",
       "      <td>21433226</td>\n",
       "      <td>MULTIPOLYGON (((-122.84000 49.00000, -120.0000...</td>\n",
       "    </tr>\n",
       "    <tr>\n",
       "      <th>...</th>\n",
       "      <td>...</td>\n",
       "      <td>...</td>\n",
       "      <td>...</td>\n",
       "      <td>...</td>\n",
       "      <td>...</td>\n",
       "      <td>...</td>\n",
       "    </tr>\n",
       "    <tr>\n",
       "      <th>172</th>\n",
       "      <td>6944975.0</td>\n",
       "      <td>Europe</td>\n",
       "      <td>Serbia</td>\n",
       "      <td>SRB</td>\n",
       "      <td>51475</td>\n",
       "      <td>POLYGON ((18.82982 45.90887, 18.82984 45.90888...</td>\n",
       "    </tr>\n",
       "    <tr>\n",
       "      <th>173</th>\n",
       "      <td>622137.0</td>\n",
       "      <td>Europe</td>\n",
       "      <td>Montenegro</td>\n",
       "      <td>MNE</td>\n",
       "      <td>5542</td>\n",
       "      <td>POLYGON ((20.07070 42.58863, 19.80161 42.50009...</td>\n",
       "    </tr>\n",
       "    <tr>\n",
       "      <th>174</th>\n",
       "      <td>1794248.0</td>\n",
       "      <td>Europe</td>\n",
       "      <td>Kosovo</td>\n",
       "      <td>-99</td>\n",
       "      <td>7926</td>\n",
       "      <td>POLYGON ((20.59025 41.85541, 20.52295 42.21787...</td>\n",
       "    </tr>\n",
       "    <tr>\n",
       "      <th>175</th>\n",
       "      <td>1394973.0</td>\n",
       "      <td>North America</td>\n",
       "      <td>Trinidad and Tobago</td>\n",
       "      <td>TTO</td>\n",
       "      <td>24269</td>\n",
       "      <td>POLYGON ((-61.68000 10.76000, -61.10500 10.890...</td>\n",
       "    </tr>\n",
       "    <tr>\n",
       "      <th>176</th>\n",
       "      <td>11062113.0</td>\n",
       "      <td>Africa</td>\n",
       "      <td>S. Sudan</td>\n",
       "      <td>SSD</td>\n",
       "      <td>11998</td>\n",
       "      <td>POLYGON ((30.83385 3.50917, 29.95350 4.17370, ...</td>\n",
       "    </tr>\n",
       "  </tbody>\n",
       "</table>\n",
       "<p>177 rows × 6 columns</p>\n",
       "</div>"
      ],
      "text/plain": [
       "         pop_est      continent                      name iso_a3  gdp_md_est  \\\n",
       "0       889953.0        Oceania                      Fiji    FJI        5496   \n",
       "1     58005463.0         Africa                  Tanzania    TZA       63177   \n",
       "2       603253.0         Africa                 W. Sahara    ESH         907   \n",
       "3     37589262.0  North America                    Canada    CAN     1736425   \n",
       "4    328239523.0  North America  United States of America    USA    21433226   \n",
       "..           ...            ...                       ...    ...         ...   \n",
       "172    6944975.0         Europe                    Serbia    SRB       51475   \n",
       "173     622137.0         Europe                Montenegro    MNE        5542   \n",
       "174    1794248.0         Europe                    Kosovo    -99        7926   \n",
       "175    1394973.0  North America       Trinidad and Tobago    TTO       24269   \n",
       "176   11062113.0         Africa                  S. Sudan    SSD       11998   \n",
       "\n",
       "                                              geometry  \n",
       "0    MULTIPOLYGON (((180.00000 -16.06713, 180.00000...  \n",
       "1    POLYGON ((33.90371 -0.95000, 34.07262 -1.05982...  \n",
       "2    POLYGON ((-8.66559 27.65643, -8.66512 27.58948...  \n",
       "3    MULTIPOLYGON (((-122.84000 49.00000, -122.9742...  \n",
       "4    MULTIPOLYGON (((-122.84000 49.00000, -120.0000...  \n",
       "..                                                 ...  \n",
       "172  POLYGON ((18.82982 45.90887, 18.82984 45.90888...  \n",
       "173  POLYGON ((20.07070 42.58863, 19.80161 42.50009...  \n",
       "174  POLYGON ((20.59025 41.85541, 20.52295 42.21787...  \n",
       "175  POLYGON ((-61.68000 10.76000, -61.10500 10.890...  \n",
       "176  POLYGON ((30.83385 3.50917, 29.95350 4.17370, ...  \n",
       "\n",
       "[177 rows x 6 columns]"
      ]
     },
     "execution_count": 22,
     "metadata": {},
     "output_type": "execute_result"
    }
   ],
   "source": [
    "world = gpd.read_file(gpd.datasets.get_path('naturalearth_lowres'))\n",
    "world\n"
   ]
  },
  {
   "cell_type": "code",
   "execution_count": 23,
   "metadata": {},
   "outputs": [
    {
     "data": {
      "text/html": [
       "<div>\n",
       "<style scoped>\n",
       "    .dataframe tbody tr th:only-of-type {\n",
       "        vertical-align: middle;\n",
       "    }\n",
       "\n",
       "    .dataframe tbody tr th {\n",
       "        vertical-align: top;\n",
       "    }\n",
       "\n",
       "    .dataframe thead th {\n",
       "        text-align: right;\n",
       "    }\n",
       "</style>\n",
       "<table border=\"1\" class=\"dataframe\">\n",
       "  <thead>\n",
       "    <tr style=\"text-align: right;\">\n",
       "      <th></th>\n",
       "      <th>pop_est</th>\n",
       "      <th>continent</th>\n",
       "      <th>name</th>\n",
       "      <th>iso_a3</th>\n",
       "      <th>gdp_md_est</th>\n",
       "      <th>geometry</th>\n",
       "      <th>Entity</th>\n",
       "      <th>Code</th>\n",
       "      <th>Year</th>\n",
       "      <th>Historical and more recent literacy estimates</th>\n",
       "    </tr>\n",
       "  </thead>\n",
       "  <tbody>\n",
       "    <tr>\n",
       "      <th>0</th>\n",
       "      <td>889953.0</td>\n",
       "      <td>Oceania</td>\n",
       "      <td>Fiji</td>\n",
       "      <td>FJI</td>\n",
       "      <td>5496</td>\n",
       "      <td>MULTIPOLYGON (((180.00000 -16.06713, 180.00000...</td>\n",
       "      <td>Fiji</td>\n",
       "      <td>FJI</td>\n",
       "      <td>2003</td>\n",
       "      <td>93.70000</td>\n",
       "    </tr>\n",
       "    <tr>\n",
       "      <th>1</th>\n",
       "      <td>58005463.0</td>\n",
       "      <td>Africa</td>\n",
       "      <td>Tanzania</td>\n",
       "      <td>TZA</td>\n",
       "      <td>63177</td>\n",
       "      <td>POLYGON ((33.90371 -0.95000, 34.07262 -1.05982...</td>\n",
       "      <td>Tanzania</td>\n",
       "      <td>TZA</td>\n",
       "      <td>2022</td>\n",
       "      <td>82.02000</td>\n",
       "    </tr>\n",
       "    <tr>\n",
       "      <th>2</th>\n",
       "      <td>37589262.0</td>\n",
       "      <td>North America</td>\n",
       "      <td>Canada</td>\n",
       "      <td>CAN</td>\n",
       "      <td>1736425</td>\n",
       "      <td>MULTIPOLYGON (((-122.84000 49.00000, -122.9742...</td>\n",
       "      <td>Canada</td>\n",
       "      <td>CAN</td>\n",
       "      <td>2003</td>\n",
       "      <td>99.00000</td>\n",
       "    </tr>\n",
       "    <tr>\n",
       "      <th>3</th>\n",
       "      <td>328239523.0</td>\n",
       "      <td>North America</td>\n",
       "      <td>United States of America</td>\n",
       "      <td>USA</td>\n",
       "      <td>21433226</td>\n",
       "      <td>MULTIPOLYGON (((-122.84000 49.00000, -120.0000...</td>\n",
       "      <td>United States</td>\n",
       "      <td>USA</td>\n",
       "      <td>2003</td>\n",
       "      <td>99.00000</td>\n",
       "    </tr>\n",
       "    <tr>\n",
       "      <th>4</th>\n",
       "      <td>18513930.0</td>\n",
       "      <td>Asia</td>\n",
       "      <td>Kazakhstan</td>\n",
       "      <td>KAZ</td>\n",
       "      <td>181665</td>\n",
       "      <td>POLYGON ((87.35997 49.21498, 86.59878 48.54918...</td>\n",
       "      <td>Kazakhstan</td>\n",
       "      <td>KAZ</td>\n",
       "      <td>2020</td>\n",
       "      <td>99.80000</td>\n",
       "    </tr>\n",
       "    <tr>\n",
       "      <th>...</th>\n",
       "      <td>...</td>\n",
       "      <td>...</td>\n",
       "      <td>...</td>\n",
       "      <td>...</td>\n",
       "      <td>...</td>\n",
       "      <td>...</td>\n",
       "      <td>...</td>\n",
       "      <td>...</td>\n",
       "      <td>...</td>\n",
       "      <td>...</td>\n",
       "    </tr>\n",
       "    <tr>\n",
       "      <th>165</th>\n",
       "      <td>2083459.0</td>\n",
       "      <td>Europe</td>\n",
       "      <td>North Macedonia</td>\n",
       "      <td>MKD</td>\n",
       "      <td>12547</td>\n",
       "      <td>POLYGON ((22.38053 42.32026, 22.88137 41.99930...</td>\n",
       "      <td>North Macedonia</td>\n",
       "      <td>MKD</td>\n",
       "      <td>2015</td>\n",
       "      <td>97.84376</td>\n",
       "    </tr>\n",
       "    <tr>\n",
       "      <th>166</th>\n",
       "      <td>6944975.0</td>\n",
       "      <td>Europe</td>\n",
       "      <td>Serbia</td>\n",
       "      <td>SRB</td>\n",
       "      <td>51475</td>\n",
       "      <td>POLYGON ((18.82982 45.90887, 18.82984 45.90888...</td>\n",
       "      <td>Serbia</td>\n",
       "      <td>SRB</td>\n",
       "      <td>2019</td>\n",
       "      <td>99.48253</td>\n",
       "    </tr>\n",
       "    <tr>\n",
       "      <th>167</th>\n",
       "      <td>622137.0</td>\n",
       "      <td>Europe</td>\n",
       "      <td>Montenegro</td>\n",
       "      <td>MNE</td>\n",
       "      <td>5542</td>\n",
       "      <td>POLYGON ((20.07070 42.58863, 19.80161 42.50009...</td>\n",
       "      <td>Montenegro</td>\n",
       "      <td>MNE</td>\n",
       "      <td>2021</td>\n",
       "      <td>98.98000</td>\n",
       "    </tr>\n",
       "    <tr>\n",
       "      <th>168</th>\n",
       "      <td>1394973.0</td>\n",
       "      <td>North America</td>\n",
       "      <td>Trinidad and Tobago</td>\n",
       "      <td>TTO</td>\n",
       "      <td>24269</td>\n",
       "      <td>POLYGON ((-61.68000 10.76000, -61.10500 10.890...</td>\n",
       "      <td>Trinidad and Tobago</td>\n",
       "      <td>TTO</td>\n",
       "      <td>2015</td>\n",
       "      <td>98.96958</td>\n",
       "    </tr>\n",
       "    <tr>\n",
       "      <th>169</th>\n",
       "      <td>11062113.0</td>\n",
       "      <td>Africa</td>\n",
       "      <td>S. Sudan</td>\n",
       "      <td>SSD</td>\n",
       "      <td>11998</td>\n",
       "      <td>POLYGON ((30.83385 3.50917, 29.95350 4.17370, ...</td>\n",
       "      <td>South Sudan</td>\n",
       "      <td>SSD</td>\n",
       "      <td>2018</td>\n",
       "      <td>34.52276</td>\n",
       "    </tr>\n",
       "  </tbody>\n",
       "</table>\n",
       "<p>170 rows × 10 columns</p>\n",
       "</div>"
      ],
      "text/plain": [
       "         pop_est      continent                      name iso_a3  gdp_md_est  \\\n",
       "0       889953.0        Oceania                      Fiji    FJI        5496   \n",
       "1     58005463.0         Africa                  Tanzania    TZA       63177   \n",
       "2     37589262.0  North America                    Canada    CAN     1736425   \n",
       "3    328239523.0  North America  United States of America    USA    21433226   \n",
       "4     18513930.0           Asia                Kazakhstan    KAZ      181665   \n",
       "..           ...            ...                       ...    ...         ...   \n",
       "165    2083459.0         Europe           North Macedonia    MKD       12547   \n",
       "166    6944975.0         Europe                    Serbia    SRB       51475   \n",
       "167     622137.0         Europe                Montenegro    MNE        5542   \n",
       "168    1394973.0  North America       Trinidad and Tobago    TTO       24269   \n",
       "169   11062113.0         Africa                  S. Sudan    SSD       11998   \n",
       "\n",
       "                                              geometry               Entity  \\\n",
       "0    MULTIPOLYGON (((180.00000 -16.06713, 180.00000...                 Fiji   \n",
       "1    POLYGON ((33.90371 -0.95000, 34.07262 -1.05982...             Tanzania   \n",
       "2    MULTIPOLYGON (((-122.84000 49.00000, -122.9742...               Canada   \n",
       "3    MULTIPOLYGON (((-122.84000 49.00000, -120.0000...        United States   \n",
       "4    POLYGON ((87.35997 49.21498, 86.59878 48.54918...           Kazakhstan   \n",
       "..                                                 ...                  ...   \n",
       "165  POLYGON ((22.38053 42.32026, 22.88137 41.99930...      North Macedonia   \n",
       "166  POLYGON ((18.82982 45.90887, 18.82984 45.90888...               Serbia   \n",
       "167  POLYGON ((20.07070 42.58863, 19.80161 42.50009...           Montenegro   \n",
       "168  POLYGON ((-61.68000 10.76000, -61.10500 10.890...  Trinidad and Tobago   \n",
       "169  POLYGON ((30.83385 3.50917, 29.95350 4.17370, ...          South Sudan   \n",
       "\n",
       "    Code  Year  Historical and more recent literacy estimates  \n",
       "0    FJI  2003                                       93.70000  \n",
       "1    TZA  2022                                       82.02000  \n",
       "2    CAN  2003                                       99.00000  \n",
       "3    USA  2003                                       99.00000  \n",
       "4    KAZ  2020                                       99.80000  \n",
       "..   ...   ...                                            ...  \n",
       "165  MKD  2015                                       97.84376  \n",
       "166  SRB  2019                                       99.48253  \n",
       "167  MNE  2021                                       98.98000  \n",
       "168  TTO  2015                                       98.96958  \n",
       "169  SSD  2018                                       34.52276  \n",
       "\n",
       "[170 rows x 10 columns]"
      ]
     },
     "execution_count": 23,
     "metadata": {},
     "output_type": "execute_result"
    }
   ],
   "source": [
    "merged = world.merge(latest_data_per_country, left_on='iso_a3', right_on='Code')\n",
    "merged\n"
   ]
  },
  {
   "cell_type": "code",
   "execution_count": 24,
   "metadata": {},
   "outputs": [
    {
     "data": {
      "image/png": "[encoded data removed]",
      "text/plain": [
       "<Figure size 1500x1000 with 1 Axes>"
      ]
     },
     "metadata": {},
     "output_type": "display_data"
    }
   ],
   "source": [
    "# plot using matplotlib\n",
    "fig, ax = plt.subplots(1, 1, figsize=(15, 10))\n",
    "merged.plot(column='Historical and more recent literacy estimates', ax=ax, legend=False,\n",
    "            legend_kwds={'label': \"Literacy Rate (%)\",\n",
    "                         'orientation': \"horizontal\"})\n",
    "\n",
    "ax.set_title('World Literacy Rates')\n",
    "ax.set_axis_off()"
   ]
  },
  {
   "cell_type": "code",
   "execution_count": 25,
   "metadata": {},
   "outputs": [
    {
     "data": {
      "application/vnd.plotly.v1+json": {
       "config": {
        "plotlyServerURL": "https://plot.ly"
       },
       "data": [
        {
         "coloraxis": "coloraxis",
         "geo": "geo",
         "hovertemplate": "<b>%{hovertext}</b><br><br>Year=1475<br>Code=%{location}<br>Literacy Rate (%)=%{z}<extra></extra>",
         "hovertext": [
          "Spain",
          "Germany",
          "Poland",
          "Netherlands",
          "Sweden",
          "France",
          "Belgium",
          "Italy",
          "United Kingdom",
          "Ireland"
         ],
         "locations": [
          "ESP",
          "DEU",
          "POL",
          "NLD",
          "SWE",
          "FRA",
          "BEL",
          "ITA",
          "GBR",
          "IRL"
         ],
         "name": "",
         "type": "choropleth",
         "z": [
          3,
          9,
          0,
          17,
          1,
          6,
          10,
          15,
          5,
          0
         ]
        }
       ],
       "frames": [
        {
         "data": [
          {
           "coloraxis": "coloraxis",
           "geo": "geo",
           "hovertemplate": "<b>%{hovertext}</b><br><br>Year=1475<br>Code=%{location}<br>Literacy Rate (%)=%{z}<extra></extra>",
           "hovertext": [
            "Spain",
            "Germany",
            "Poland",
            "Netherlands",
            "Sweden",
            "France",
            "Belgium",
            "Italy",
            "United Kingdom",
            "Ireland"
           ],
           "locations": [
            "ESP",
            "DEU",
            "POL",
            "NLD",
            "SWE",
            "FRA",
            "BEL",
            "ITA",
            "GBR",
            "IRL"
           ],
           "name": "",
           "type": "choropleth",
           "z": [
            3,
            9,
            0,
            17,
            1,
            6,
            10,
            15,
            5,
            0
           ]
          }
         ],
         "name": "1475"
        },
        {
         "data": [
          {
           "coloraxis": "coloraxis",
           "geo": "geo",
           "hovertemplate": "<b>%{hovertext}</b><br><br>Year=1550<br>Code=%{location}<br>Literacy Rate (%)=%{z}<extra></extra>",
           "hovertext": [
            "Germany",
            "Belgium",
            "Netherlands",
            "United Kingdom",
            "France",
            "Italy",
            "Sweden",
            "Poland",
            "Spain",
            "Ireland"
           ],
           "locations": [
            "DEU",
            "BEL",
            "NLD",
            "GBR",
            "FRA",
            "ITA",
            "SWE",
            "POL",
            "ESP",
            "IRL"
           ],
           "name": "",
           "type": "choropleth",
           "z": [
            16,
            17,
            12,
            16,
            19,
            18,
            1,
            0,
            4,
            0
           ]
          }
         ],
         "name": "1550"
        },
        {
         "data": [
          {
           "coloraxis": "coloraxis",
           "geo": "geo",
           "hovertemplate": "<b>%{hovertext}</b><br><br>Year=1650<br>Code=%{location}<br>Literacy Rate (%)=%{z}<extra></extra>",
           "hovertext": [
            "Ireland",
            "Italy",
            "France",
            "Sweden",
            "Belgium",
            "Poland",
            "Germany",
            "Spain",
            "United Kingdom",
            "Netherlands"
           ],
           "locations": [
            "IRL",
            "ITA",
            "FRA",
            "SWE",
            "BEL",
            "POL",
            "DEU",
            "ESP",
            "GBR",
            "NLD"
           ],
           "name": "",
           "type": "choropleth",
           "z": [
            3,
            23,
            29,
            23,
            25,
            3,
            31,
            5,
            53,
            53
           ]
          }
         ],
         "name": "1650"
        },
        {
         "data": [
          {
           "coloraxis": "coloraxis",
           "geo": "geo",
           "hovertemplate": "<b>%{hovertext}</b><br><br>Year=1750<br>Code=%{location}<br>Literacy Rate (%)=%{z}<extra></extra>",
           "hovertext": [
            "Belgium",
            "Spain",
            "Ireland",
            "Netherlands",
            "Sweden",
            "United Kingdom",
            "Italy",
            "Poland",
            "France",
            "Germany"
           ],
           "locations": [
            "BEL",
            "ESP",
            "IRL",
            "NLD",
            "SWE",
            "GBR",
            "ITA",
            "POL",
            "FRA",
            "DEU"
           ],
           "name": "",
           "type": "choropleth",
           "z": [
            13,
            8,
            21,
            85,
            48,
            54,
            23,
            5,
            29,
            38
           ]
          }
         ],
         "name": "1750"
        },
        {
         "data": [
          {
           "coloraxis": "coloraxis",
           "geo": "geo",
           "hovertemplate": "<b>%{hovertext}</b><br><br>Year=1820<br>Code=%{location}<br>Literacy Rate (%)=%{z}<extra></extra>",
           "hovertext": [
            "Russia",
            "Spain",
            "France",
            "United Kingdom",
            "Sweden",
            "World",
            "Italy"
           ],
           "locations": [
            "RUS",
            "ESP",
            "FRA",
            "GBR",
            "SWE",
            "OWID_WRL",
            "ITA"
           ],
           "name": "",
           "type": "choropleth",
           "z": [
            8,
            20,
            38,
            53,
            75,
            12,
            22
           ]
          }
         ],
         "name": "1820"
        },
        {
         "data": [
          {
           "coloraxis": "coloraxis",
           "geo": "geo",
           "hovertemplate": "<b>%{hovertext}</b><br><br>Year=1870<br>Code=%{location}<br>Literacy Rate (%)=%{z}<extra></extra>",
           "hovertext": [
            "France",
            "Russia",
            "World",
            "Spain",
            "United Kingdom",
            "United States",
            "Italy",
            "Sweden"
           ],
           "locations": [
            "FRA",
            "RUS",
            "OWID_WRL",
            "ESP",
            "GBR",
            "USA",
            "ITA",
            "SWE"
           ],
           "name": "",
           "type": "choropleth",
           "z": [
            69,
            15,
            19,
            30,
            76,
            80,
            32,
            80
           ]
          }
         ],
         "name": "1870"
        },
        {
         "data": [
          {
           "coloraxis": "coloraxis",
           "geo": "geo",
           "hovertemplate": "<b>%{hovertext}</b><br><br>Year=1880<br>Code=%{location}<br>Literacy Rate (%)=%{z}<extra></extra>",
           "hovertext": [
            "United States",
            "World"
           ],
           "locations": [
            "USA",
            "OWID_WRL"
           ],
           "name": "",
           "type": "choropleth",
           "z": [
            83,
            20
           ]
          }
         ],
         "name": "1880"
        },
        {
         "data": [
          {
           "coloraxis": "coloraxis",
           "geo": "geo",
           "hovertemplate": "<b>%{hovertext}</b><br><br>Year=1890<br>Code=%{location}<br>Literacy Rate (%)=%{z}<extra></extra>",
           "hovertext": [
            "World",
            "United States"
           ],
           "locations": [
            "OWID_WRL",
            "USA"
           ],
           "name": "",
           "type": "choropleth",
           "z": [
            21,
            86.7
           ]
          }
         ],
         "name": "1890"
        },
        {
         "data": [
          {
           "coloraxis": "coloraxis",
           "geo": "geo",
           "hovertemplate": "<b>%{hovertext}</b><br><br>Year=1900<br>Code=%{location}<br>Literacy Rate (%)=%{z}<extra></extra>",
           "hovertext": [
            "Ecuador",
            "Argentina",
            "Guatemala",
            "Peru",
            "Brazil",
            "Uruguay",
            "El Salvador",
            "Haiti",
            "World",
            "Costa Rica",
            "Chile",
            "Honduras",
            "Panama",
            "United States",
            "Cuba",
            "Paraguay",
            "Venezuela",
            "Colombia",
            "Mexico",
            "Bolivia"
           ],
           "locations": [
            "ECU",
            "ARG",
            "GTM",
            "PER",
            "BRA",
            "URY",
            "SLV",
            "HTI",
            "OWID_WRL",
            "CRI",
            "CHL",
            "HND",
            "PAN",
            "USA",
            "CUB",
            "PRY",
            "VEN",
            "COL",
            "MEX",
            "BOL"
           ],
           "name": "",
           "type": "choropleth",
           "z": [
            33,
            51.3,
            12,
            24,
            35,
            59,
            26,
            8,
            21,
            36,
            43,
            28,
            17,
            89.3,
            46,
            31,
            28,
            34,
            24,
            18
           ]
          }
         ],
         "name": "1900"
        },
        {
         "data": [
          {
           "coloraxis": "coloraxis",
           "geo": "geo",
           "hovertemplate": "<b>%{hovertext}</b><br><br>Year=1910<br>Code=%{location}<br>Literacy Rate (%)=%{z}<extra></extra>",
           "hovertext": [
            "Haiti",
            "Chile",
            "El Salvador",
            "Mexico",
            "Uruguay",
            "Venezuela",
            "United States",
            "Panama",
            "Cuba",
            "Colombia",
            "Bolivia",
            "Brazil",
            "Costa Rica",
            "Peru",
            "Paraguay",
            "Ecuador",
            "Guatemala",
            "World",
            "Honduras",
            "Argentina"
           ],
           "locations": [
            "HTI",
            "CHL",
            "SLV",
            "MEX",
            "URY",
            "VEN",
            "USA",
            "PAN",
            "CUB",
            "COL",
            "BOL",
            "BRA",
            "CRI",
            "PER",
            "PRY",
            "ECU",
            "GTM",
            "OWID_WRL",
            "HND",
            "ARG"
           ],
           "name": "",
           "type": "choropleth",
           "z": [
            8,
            53,
            27,
            30,
            65,
            29,
            92.3,
            27,
            57,
            39,
            20,
            35,
            46,
            29,
            38,
            38,
            13,
            26,
            30,
            60.4
           ]
          }
         ],
         "name": "1910"
        },
        {
         "data": [
          {
           "coloraxis": "coloraxis",
           "geo": "geo",
           "hovertemplate": "<b>%{hovertext}</b><br><br>Year=1920<br>Code=%{location}<br>Literacy Rate (%)=%{z}<extra></extra>",
           "hovertext": [
            "Venezuela",
            "Haiti",
            "Guatemala",
            "Bolivia",
            "Brazil",
            "Honduras",
            "World",
            "El Salvador",
            "Dominican Republic",
            "Paraguay",
            "Colombia",
            "Costa Rica",
            "Chile",
            "Argentina",
            "Panama",
            "Uruguay",
            "Mexico",
            "Nicaragua",
            "United States",
            "Cuba",
            "Ecuador",
            "Peru"
           ],
           "locations": [
            "VEN",
            "HTI",
            "GTM",
            "BOL",
            "BRA",
            "HND",
            "OWID_WRL",
            "SLV",
            "DOM",
            "PRY",
            "COL",
            "CRI",
            "CHL",
            "ARG",
            "PAN",
            "URY",
            "MEX",
            "NIC",
            "USA",
            "CUB",
            "ECU",
            "PER"
           ],
           "name": "",
           "type": "choropleth",
           "z": [
            32,
            8,
            15,
            22,
            35,
            32,
            32,
            27,
            29,
            45,
            44,
            57,
            63,
            68.2,
            42,
            70,
            35,
            39,
            94,
            64,
            42,
            33
           ]
          }
         ],
         "name": "1920"
        },
        {
         "data": [
          {
           "coloraxis": "coloraxis",
           "geo": "geo",
           "hovertemplate": "<b>%{hovertext}</b><br><br>Year=1930<br>Code=%{location}<br>Literacy Rate (%)=%{z}<extra></extra>",
           "hovertext": [
            "Colombia",
            "Mexico",
            "World",
            "Venezuela",
            "Paraguay",
            "Bolivia",
            "Nicaragua",
            "Guatemala",
            "United States",
            "Brazil",
            "Costa Rica",
            "Haiti",
            "Cuba",
            "Honduras",
            "Panama",
            "Uruguay",
            "Dominican Republic",
            "Chile",
            "Peru",
            "Ecuador",
            "Argentina",
            "El Salvador"
           ],
           "locations": [
            "COL",
            "MEX",
            "OWID_WRL",
            "VEN",
            "PRY",
            "BOL",
            "NIC",
            "GTM",
            "USA",
            "BRA",
            "CRI",
            "HTI",
            "CUB",
            "HND",
            "PAN",
            "URY",
            "DOM",
            "CHL",
            "PER",
            "ECU",
            "ARG",
            "SLV"
           ],
           "name": "",
           "type": "choropleth",
           "z": [
            52,
            36,
            33,
            36,
            52,
            25,
            39,
            19,
            95.7,
            39,
            67,
            8,
            71,
            33,
            46,
            76,
            26,
            75,
            37,
            46,
            74.9,
            28
           ]
          }
         ],
         "name": "1930"
        },
        {
         "data": [
          {
           "coloraxis": "coloraxis",
           "geo": "geo",
           "hovertemplate": "<b>%{hovertext}</b><br><br>Year=1940<br>Code=%{location}<br>Literacy Rate (%)=%{z}<extra></extra>",
           "hovertext": [
            "Cuba",
            "Ecuador",
            "Peru",
            "Honduras",
            "United States",
            "Uruguay",
            "Venezuela",
            "Guatemala",
            "Mexico",
            "Argentina",
            "World",
            "Panama",
            "Costa Rica",
            "Brazil",
            "Colombia",
            "Chile",
            "Nicaragua",
            "El Salvador",
            "Dominican Republic",
            "Paraguay",
            "Haiti",
            "Bolivia"
           ],
           "locations": [
            "CUB",
            "ECU",
            "PER",
            "HND",
            "USA",
            "URY",
            "VEN",
            "GTM",
            "MEX",
            "ARG",
            "OWID_WRL",
            "PAN",
            "CRI",
            "BRA",
            "COL",
            "CHL",
            "NIC",
            "SLV",
            "DOM",
            "PRY",
            "HTI",
            "BOL"
           ],
           "name": "",
           "type": "choropleth",
           "z": [
            76,
            51,
            42,
            35,
            97.1,
            81,
            42,
            24,
            46,
            81.7,
            42,
            58,
            73,
            44,
            57,
            73,
            38,
            35,
            30,
            59,
            9,
            28
           ]
          }
         ],
         "name": "1940"
        },
        {
         "data": [
          {
           "coloraxis": "coloraxis",
           "geo": "geo",
           "hovertemplate": "<b>%{hovertext}</b><br><br>Year=1947<br>Code=%{location}<br>Literacy Rate (%)=%{z}<extra></extra>",
           "hovertext": [
            "United States"
           ],
           "locations": [
            "USA"
           ],
           "name": "",
           "type": "choropleth",
           "z": [
            97.3
           ]
          }
         ],
         "name": "1947"
        },
        {
         "data": [
          {
           "coloraxis": "coloraxis",
           "geo": "geo",
           "hovertemplate": "<b>%{hovertext}</b><br><br>Year=1950<br>Code=%{location}<br>Literacy Rate (%)=%{z}<extra></extra>",
           "hovertext": [
            "Nicaragua",
            "Paraguay",
            "Costa Rica",
            "United States",
            "World",
            "Uruguay",
            "Brazil",
            "Peru",
            "Guatemala",
            "El Salvador",
            "Bolivia",
            "Ecuador",
            "Honduras",
            "Venezuela",
            "Cuba",
            "Mexico",
            "Argentina",
            "Panama",
            "Colombia",
            "Chile",
            "Dominican Republic",
            "Haiti"
           ],
           "locations": [
            "NIC",
            "PRY",
            "CRI",
            "USA",
            "OWID_WRL",
            "URY",
            "BRA",
            "PER",
            "GTM",
            "SLV",
            "BOL",
            "ECU",
            "HND",
            "VEN",
            "CUB",
            "MEX",
            "ARG",
            "PAN",
            "COL",
            "CHL",
            "DOM",
            "HTI"
           ],
           "name": "",
           "type": "choropleth",
           "z": [
            38,
            66,
            79,
            96.8,
            36,
            86,
            49,
            51,
            29,
            42,
            32,
            56,
            40,
            51,
            78,
            60,
            87.6,
            67,
            62,
            79,
            43,
            11
           ]
          }
         ],
         "name": "1950"
        },
        {
         "data": [
          {
           "coloraxis": "coloraxis",
           "geo": "geo",
           "hovertemplate": "<b>%{hovertext}</b><br><br>Year=1952<br>Code=%{location}<br>Literacy Rate (%)=%{z}<extra></extra>",
           "hovertext": [
            "United States"
           ],
           "locations": [
            "USA"
           ],
           "name": "",
           "type": "choropleth",
           "z": [
            97.5
           ]
          }
         ],
         "name": "1952"
        },
        {
         "data": [
          {
           "coloraxis": "coloraxis",
           "geo": "geo",
           "hovertemplate": "<b>%{hovertext}</b><br><br>Year=1959<br>Code=%{location}<br>Literacy Rate (%)=%{z}<extra></extra>",
           "hovertext": [
            "United States"
           ],
           "locations": [
            "USA"
           ],
           "name": "",
           "type": "choropleth",
           "z": [
            97.8
           ]
          }
         ],
         "name": "1959"
        },
        {
         "data": [
          {
           "coloraxis": "coloraxis",
           "geo": "geo",
           "hovertemplate": "<b>%{hovertext}</b><br><br>Year=1960<br>Code=%{location}<br>Literacy Rate (%)=%{z}<extra></extra>",
           "hovertext": [
            "Haiti",
            "Colombia",
            "Guatemala",
            "Peru",
            "Chile",
            "World",
            "Panama",
            "Mexico",
            "Dominican Republic",
            "Uruguay",
            "Paraguay",
            "Venezuela",
            "Brazil",
            "Cuba",
            "Nicaragua",
            "El Salvador",
            "Bolivia",
            "Costa Rica",
            "Argentina",
            "Ecuador",
            "Honduras"
           ],
           "locations": [
            "HTI",
            "COL",
            "GTM",
            "PER",
            "CHL",
            "OWID_WRL",
            "PAN",
            "MEX",
            "DOM",
            "URY",
            "PRY",
            "VEN",
            "BRA",
            "CUB",
            "NIC",
            "SLV",
            "BOL",
            "CRI",
            "ARG",
            "ECU",
            "HND"
           ],
           "name": "",
           "type": "choropleth",
           "z": [
            16,
            70,
            35,
            60,
            84,
            42,
            73,
            65,
            64,
            89,
            73,
            62,
            60,
            79,
            47,
            48,
            44,
            83,
            91.4,
            65,
            44
           ]
          }
         ],
         "name": "1960"
        },
        {
         "data": [
          {
           "coloraxis": "coloraxis",
           "geo": "geo",
           "hovertemplate": "<b>%{hovertext}</b><br><br>Year=1969<br>Code=%{location}<br>Literacy Rate (%)=%{z}<extra></extra>",
           "hovertext": [
            "United States",
            "Wallis and Futuna"
           ],
           "locations": [
            "USA",
            "WLF"
           ],
           "name": "",
           "type": "choropleth",
           "z": [
            99,
            50
           ]
          }
         ],
         "name": "1969"
        },
        {
         "data": [
          {
           "coloraxis": "coloraxis",
           "geo": "geo",
           "hovertemplate": "<b>%{hovertext}</b><br><br>Year=1970<br>Code=%{location}<br>Literacy Rate (%)=%{z}<extra></extra>",
           "hovertext": [
            "Argentina",
            "Honduras",
            "Venezuela",
            "Bolivia",
            "Dominican Republic",
            "Turks and Caicos Islands",
            "Peru",
            "Grenada",
            "Paraguay",
            "Chile",
            "Panama",
            "El Salvador",
            "Costa Rica",
            "Uruguay",
            "Saint Vincent and the Grenadines",
            "Nicaragua",
            "Ecuador",
            "Montserrat",
            "Cuba",
            "Barbados",
            "Mexico",
            "Haiti",
            "Guatemala",
            "Colombia",
            "Brazil"
           ],
           "locations": [
            "ARG",
            "HND",
            "VEN",
            "BOL",
            "DOM",
            "TCA",
            "PER",
            "GRD",
            "PRY",
            "CHL",
            "PAN",
            "SLV",
            "CRI",
            "URY",
            "VCT",
            "NIC",
            "ECU",
            "MSR",
            "CUB",
            "BRB",
            "MEX",
            "HTI",
            "GTM",
            "COL",
            "BRA"
           ],
           "name": "",
           "type": "choropleth",
           "z": [
            93,
            53,
            76,
            58,
            67,
            98,
            72,
            97.79447,
            80,
            88,
            79,
            58,
            88,
            93,
            95.63216,
            57,
            74,
            97,
            89,
            99.26808,
            75,
            22,
            45,
            78,
            68
           ]
          }
         ],
         "name": "1970"
        },
        {
         "data": [
          {
           "coloraxis": "coloraxis",
           "geo": "geo",
           "hovertemplate": "<b>%{hovertext}</b><br><br>Year=1971<br>Code=%{location}<br>Literacy Rate (%)=%{z}<extra></extra>",
           "hovertext": [
            "Uruguay",
            "Ecuador",
            "Bolivia",
            "Dominican Republic",
            "Honduras",
            "Venezuela",
            "El Salvador",
            "Paraguay",
            "Haiti",
            "Panama",
            "Guatemala",
            "Colombia",
            "Cuba",
            "Nicaragua",
            "Costa Rica"
           ],
           "locations": [
            "URY",
            "ECU",
            "BOL",
            "DOM",
            "HND",
            "VEN",
            "SLV",
            "PRY",
            "HTI",
            "PAN",
            "GTM",
            "COL",
            "CUB",
            "NIC",
            "CRI"
           ],
           "name": "",
           "type": "choropleth",
           "z": [
            93,
            75,
            59,
            68,
            54,
            77,
            59,
            80,
            23,
            80,
            46,
            79,
            90,
            57,
            89
           ]
          }
         ],
         "name": "1971"
        },
        {
         "data": [
          {
           "coloraxis": "coloraxis",
           "geo": "geo",
           "hovertemplate": "<b>%{hovertext}</b><br><br>Year=1972<br>Code=%{location}<br>Literacy Rate (%)=%{z}<extra></extra>",
           "hovertext": [
            "Paraguay",
            "Uruguay",
            "Costa Rica",
            "Colombia",
            "Cuba",
            "Dominican Republic",
            "Panama",
            "Nicaragua",
            "El Salvador",
            "Ecuador",
            "Venezuela",
            "Haiti",
            "Honduras",
            "Bolivia",
            "Guatemala",
            "Somalia"
           ],
           "locations": [
            "PRY",
            "URY",
            "CRI",
            "COL",
            "CUB",
            "DOM",
            "PAN",
            "NIC",
            "SLV",
            "ECU",
            "VEN",
            "HTI",
            "HND",
            "BOL",
            "GTM",
            "SOM"
           ],
           "name": "",
           "type": "choropleth",
           "z": [
            81,
            93,
            89,
            79,
            90,
            68,
            80,
            58,
            60,
            76,
            78,
            24,
            55,
            60,
            47,
            5.40465
           ]
          }
         ],
         "name": "1972"
        },
        {
         "data": [
          {
           "coloraxis": "coloraxis",
           "geo": "geo",
           "hovertemplate": "<b>%{hovertext}</b><br><br>Year=1973<br>Code=%{location}<br>Literacy Rate (%)=%{z}<extra></extra>",
           "hovertext": [
            "El Salvador",
            "Ecuador",
            "Costa Rica",
            "Nicaragua",
            "Paraguay",
            "Dominican Republic",
            "Honduras",
            "Bolivia",
            "Cuba",
            "Uruguay",
            "Colombia",
            "Guatemala",
            "Venezuela",
            "Haiti",
            "Panama"
           ],
           "locations": [
            "SLV",
            "ECU",
            "CRI",
            "NIC",
            "PRY",
            "DOM",
            "HND",
            "BOL",
            "CUB",
            "URY",
            "COL",
            "GTM",
            "VEN",
            "HTI",
            "PAN"
           ],
           "name": "",
           "type": "choropleth",
           "z": [
            61,
            77,
            89,
            58,
            82,
            69,
            56,
            61,
            90,
            93,
            80,
            48,
            79,
            25,
            81
           ]
          }
         ],
         "name": "1973"
        },
        {
         "data": [
          {
           "coloraxis": "coloraxis",
           "geo": "geo",
           "hovertemplate": "<b>%{hovertext}</b><br><br>Year=1974<br>Code=%{location}<br>Literacy Rate (%)=%{z}<extra></extra>",
           "hovertext": [
            "Venezuela",
            "Dominican Republic",
            "Honduras",
            "Colombia",
            "Paraguay",
            "Guatemala",
            "Nicaragua",
            "Cuba",
            "Bolivia",
            "Panama",
            "Ecuador",
            "Middle East and North Africa (WB)",
            "Haiti",
            "Uruguay",
            "Latin America and Caribbean (WB)",
            "El Salvador",
            "Costa Rica"
           ],
           "locations": [
            "VEN",
            "DOM",
            "HND",
            "COL",
            "PRY",
            "GTM",
            "NIC",
            "CUB",
            "BOL",
            "PAN",
            "ECU",
            null,
            "HTI",
            "URY",
            null,
            "SLV",
            "CRI"
           ],
           "name": "",
           "type": "choropleth",
           "z": [
            80,
            70,
            57,
            81,
            82,
            48,
            59,
            91,
            62,
            81,
            77,
            43.99972,
            25,
            94,
            78.71795,
            61,
            90
           ]
          }
         ],
         "name": "1974"
        },
        {
         "data": [
          {
           "coloraxis": "coloraxis",
           "geo": "geo",
           "hovertemplate": "<b>%{hovertext}</b><br><br>Year=1975<br>Code=%{location}<br>Literacy Rate (%)=%{z}<extra></extra>",
           "hovertext": [
            "Bolivia",
            "Costa Rica",
            "Honduras",
            "Venezuela",
            "Lower-middle-income countries",
            "Paraguay",
            "Panama",
            "Middle East and North Africa (WB)",
            "Kuwait",
            "United Arab Emirates",
            "Central African Republic",
            "Dominican Republic",
            "Latin America and Caribbean (WB)",
            "Burkina Faso",
            "Haiti",
            "Turkey",
            "Colombia",
            "Ecuador",
            "Nicaragua",
            "Uruguay",
            "El Salvador",
            "Guatemala",
            "South Asia (WB)",
            "Cuba"
           ],
           "locations": [
            "BOL",
            "CRI",
            "HND",
            "VEN",
            null,
            "PRY",
            "PAN",
            null,
            "KWT",
            "ARE",
            "CAF",
            "DOM",
            null,
            "BFA",
            "HTI",
            "TUR",
            "COL",
            "ECU",
            "NIC",
            "URY",
            "SLV",
            "GTM",
            null,
            "CUB"
           ],
           "name": "",
           "type": "choropleth",
           "z": [
            63,
            90,
            58,
            80,
            46.08655,
            83,
            82,
            44.48717,
            59.56439,
            53.51488,
            18.23617,
            70,
            78.73679,
            8.83023,
            26,
            61.62768,
            81,
            78,
            59,
            93.86107,
            62,
            49,
            36.03934,
            91
           ]
          }
         ],
         "name": "1975"
        },
        {
         "data": [
          {
           "coloraxis": "coloraxis",
           "geo": "geo",
           "hovertemplate": "<b>%{hovertext}</b><br><br>Year=1976<br>Code=%{location}<br>Literacy Rate (%)=%{z}<extra></extra>",
           "hovertext": [
            "Middle East and North Africa (WB)",
            "Mali",
            "Cameroon",
            "Upper-middle-income countries",
            "Latin America and Caribbean (WB)",
            "Guatemala",
            "Panama",
            "Colombia",
            "Eswatini",
            "Cuba",
            "Venezuela",
            "New Caledonia",
            "Lower-middle-income countries",
            "East Asia and the Pacific (WB)",
            "Bolivia",
            "Haiti",
            "Paraguay",
            "Iran",
            "Honduras",
            "South Asia (WB)",
            "Dominican Republic",
            "Tonga",
            "Costa Rica",
            "Ecuador",
            "World",
            "Egypt",
            "Nicaragua"
           ],
           "locations": [
            null,
            "MLI",
            "CMR",
            null,
            null,
            "GTM",
            "PAN",
            "COL",
            "SWZ",
            "CUB",
            "VEN",
            "NCL",
            null,
            null,
            "BOL",
            "HTI",
            "PRY",
            "IRN",
            "HND",
            null,
            "DOM",
            "TON",
            "CRI",
            "ECU",
            "OWID_WRL",
            "EGY",
            "NIC"
           ],
           "name": "",
           "type": "choropleth",
           "z": [
            45.01565,
            9.43381,
            41.21621,
            68.74029,
            79.08727,
            50,
            83,
            82,
            55.32504,
            91,
            81,
            91.30037,
            46.21935,
            65.691,
            63.20815,
            27,
            84,
            36.5184,
            58,
            36.04425,
            71,
            99.59246,
            90,
            79,
            65.58655,
            38.19676,
            59
           ]
          }
         ],
         "name": "1976"
        },
        {
         "data": [
          {
           "coloraxis": "coloraxis",
           "geo": "geo",
           "hovertemplate": "<b>%{hovertext}</b><br><br>Year=1977<br>Code=%{location}<br>Literacy Rate (%)=%{z}<extra></extra>",
           "hovertext": [
            "Lower-middle-income countries",
            "Colombia",
            "French Polynesia",
            "Middle East and North Africa (WB)",
            "South Asia (WB)",
            "Guatemala",
            "Nicaragua",
            "Cuba",
            "Latin America and Caribbean (WB)",
            "Paraguay",
            "Costa Rica",
            "World",
            "Maldives",
            "Dominican Republic",
            "Panama",
            "Haiti",
            "Ecuador",
            "Honduras",
            "East Asia and the Pacific (WB)",
            "Venezuela",
            "Upper-middle-income countries"
           ],
           "locations": [
            null,
            "COL",
            "PYF",
            null,
            null,
            "GTM",
            "NIC",
            "CUB",
            null,
            "PRY",
            "CRI",
            "OWID_WRL",
            "MDV",
            "DOM",
            "PAN",
            "HTI",
            "ECU",
            "HND",
            null,
            "VEN",
            null
           ],
           "name": "",
           "type": "choropleth",
           "z": [
            46.74835,
            82,
            98,
            45.55852,
            36.6957,
            51,
            60,
            92,
            79.48948,
            84,
            91,
            65.87833,
            82.29996,
            72,
            83,
            28,
            80,
            59,
            65.87666,
            82,
            68.93139
           ]
          }
         ],
         "name": "1977"
        },
        {
         "data": [
          {
           "coloraxis": "coloraxis",
           "geo": "geo",
           "hovertemplate": "<b>%{hovertext}</b><br><br>Year=1978<br>Code=%{location}<br>Literacy Rate (%)=%{z}<extra></extra>",
           "hovertext": [
            "Middle East and North Africa (WB)",
            "Upper-middle-income countries",
            "Nicaragua",
            "Costa Rica",
            "Haiti",
            "Latin America and Caribbean (WB)",
            "Dominican Republic",
            "Honduras",
            "Arab World (WB)",
            "Paraguay",
            "Lower-middle-income countries",
            "East Asia and the Pacific (WB)",
            "World",
            "Poland",
            "South Asia (WB)",
            "Ecuador",
            "Panama",
            "Venezuela",
            "Colombia",
            "Cuba",
            "Guatemala",
            "Rwanda"
           ],
           "locations": [
            null,
            null,
            "NIC",
            "CRI",
            "HTI",
            null,
            "DOM",
            "HND",
            null,
            "PRY",
            null,
            null,
            "OWID_WRL",
            "POL",
            null,
            "ECU",
            "PAN",
            "VEN",
            "COL",
            "CUB",
            "GTM",
            "RWA"
           ],
           "name": "",
           "type": "choropleth",
           "z": [
            46.21684,
            69.90414,
            60,
            91,
            29,
            79.92699,
            73,
            60,
            46.47531,
            85,
            47.29462,
            66.96806,
            66.50104,
            98.74274,
            37.34392,
            80,
            84,
            83,
            83,
            92,
            52,
            38.24343
           ]
          }
         ],
         "name": "1978"
        },
        {
         "data": [
          {
           "coloraxis": "coloraxis",
           "geo": "geo",
           "hovertemplate": "<b>%{hovertext}</b><br><br>Year=1979<br>Code=%{location}<br>Literacy Rate (%)=%{z}<extra></extra>",
           "hovertext": [
            "Jordan",
            "Nicaragua",
            "Latin America and Caribbean (WB)",
            "Lower-middle-income countries",
            "Ecuador",
            "Mexico",
            "Paraguay",
            "South Asia (WB)",
            "Honduras",
            "East Asia and the Pacific (WB)",
            "Haiti",
            "Dominican Republic",
            "Panama",
            "Middle East and North Africa (WB)",
            "Cuba",
            "Guinea-Bissau",
            "Peru",
            "Guatemala",
            "Afghanistan",
            "Colombia",
            "Chile",
            "Argentina",
            "Upper-middle-income countries",
            "Arab World (WB)",
            "Benin",
            "Vietnam",
            "World",
            "United States",
            "Brazil",
            "Costa Rica",
            "Burundi",
            "Vanuatu",
            "Venezuela"
           ],
           "locations": [
            "JOR",
            "NIC",
            null,
            null,
            "ECU",
            "MEX",
            "PRY",
            null,
            "HND",
            null,
            "HTI",
            "DOM",
            "PAN",
            null,
            "CUB",
            "GNB",
            "PER",
            "GTM",
            "AFG",
            "COL",
            "CHL",
            "ARG",
            null,
            null,
            "BEN",
            "VNM",
            "OWID_WRL",
            "USA",
            "BRA",
            "CRI",
            "BDI",
            "VUT",
            "VEN"
           ],
           "name": "",
           "type": "choropleth",
           "z": [
            66.79681,
            61,
            80.32272,
            47.81219,
            81,
            82,
            85,
            37.98005,
            61,
            68.18393,
            30,
            73,
            84,
            46.88817,
            92,
            19.95825,
            79,
            52,
            18.15768,
            84,
            91,
            94.2,
            70.97245,
            46.94826,
            16.48273,
            83.82594,
            67.15501,
            99.4,
            75,
            91,
            22.50855,
            52.87392,
            83
           ]
          }
         ],
         "name": "1979"
        },
        {
         "data": [
          {
           "coloraxis": "coloraxis",
           "geo": "geo",
           "hovertemplate": "<b>%{hovertext}</b><br><br>Year=1980<br>Code=%{location}<br>Literacy Rate (%)=%{z}<extra></extra>",
           "hovertext": [
            "World",
            "Philippines",
            "Latin America and Caribbean (WB)",
            "Trinidad and Tobago",
            "Peru",
            "Saint Vincent and the Grenadines",
            "Chile",
            "Lower-middle-income countries",
            "Argentina",
            "Dominican Republic",
            "Kuwait",
            "Nicaragua",
            "South Africa",
            "Barbados",
            "South Asia (WB)",
            "Hungary",
            "Honduras",
            "Haiti",
            "East Asia and the Pacific (WB)",
            "Brazil",
            "Venezuela",
            "Guam",
            "Grenada",
            "Thailand",
            "Ecuador",
            "Singapore",
            "Indonesia",
            "Puerto Rico",
            "Turkey",
            "Middle East and North Africa (WB)",
            "Micronesia",
            "Upper-middle-income countries",
            "Palau",
            "Comoros",
            "Mexico",
            "Arab World (WB)",
            "Northern Mariana Islands",
            "Panama",
            "Cuba",
            "American Samoa",
            "Mozambique",
            "Costa Rica",
            "Paraguay",
            "Colombia",
            "Malaysia"
           ],
           "locations": [
            "OWID_WRL",
            "PHL",
            null,
            "TTO",
            "PER",
            "VCT",
            "CHL",
            null,
            "ARG",
            "DOM",
            "KWT",
            "NIC",
            "ZAF",
            "BRB",
            null,
            "HUN",
            "HND",
            "HTI",
            null,
            "BRA",
            "VEN",
            "GUM",
            "GRD",
            "THA",
            "ECU",
            "SGP",
            "IDN",
            "PRI",
            "TUR",
            null,
            null,
            null,
            "PLW",
            "COM",
            "MEX",
            null,
            "MNP",
            "PAN",
            "CUB",
            "ASM",
            "MOZ",
            "CRI",
            "PRY",
            "COL",
            "MYS"
           ],
           "name": "",
           "type": "choropleth",
           "z": [
            67.58338,
            83.31723,
            80.63629,
            94.97032,
            79,
            96.9,
            92,
            48.36388,
            93.91286,
            74,
            67.51766,
            61,
            76.20049,
            99.5,
            38.5959,
            98.85829,
            61,
            31,
            68.76246,
            74.58673,
            84,
            96.42065,
            98.4,
            87.98176,
            82,
            82.90605,
            67.31267,
            86.74606,
            65.69434,
            47.65529,
            89,
            71.50332,
            91.92142,
            47.91923,
            82.98924,
            47.53087,
            97,
            88.07174,
            93,
            97.34416,
            26.99771,
            92,
            86,
            84,
            69.51633
           ]
          }
         ],
         "name": "1980"
        },
        {
         "data": [
          {
           "coloraxis": "coloraxis",
           "geo": "geo",
           "hovertemplate": "<b>%{hovertext}</b><br><br>Year=1981<br>Code=%{location}<br>Literacy Rate (%)=%{z}<extra></extra>",
           "hovertext": [
            "Upper-middle-income countries",
            "South Asia (WB)",
            "Ecuador",
            "Nicaragua",
            "India",
            "Syria",
            "Sri Lanka",
            "Costa Rica",
            "Honduras",
            "Pakistan",
            "Haiti",
            "Montenegro",
            "East Asia and the Pacific (WB)",
            "Paraguay",
            "Venezuela",
            "Spain",
            "Nepal",
            "Brunei",
            "Greece",
            "Italy",
            "Macao",
            "Portugal",
            "Middle East and North Africa (WB)",
            "Sao Tome and Principe",
            "Bangladesh",
            "Bahrain",
            "Peru",
            "Dominican Republic",
            "Latin America and Caribbean (WB)",
            "Colombia",
            "World",
            "Arab World (WB)",
            "Lower-middle-income countries",
            "Cuba"
           ],
           "locations": [
            null,
            null,
            "ECU",
            "NIC",
            "IND",
            "SYR",
            "LKA",
            "CRI",
            "HND",
            "PAK",
            "HTI",
            "MNE",
            null,
            "PRY",
            "VEN",
            "ESP",
            "NPL",
            "BRN",
            "GRC",
            "ITA",
            "MAC",
            "PRT",
            null,
            "STP",
            "BGD",
            "BHR",
            "PER",
            "DOM",
            null,
            "COL",
            "OWID_WRL",
            null,
            null,
            "CUB"
           ],
           "name": "",
           "type": "choropleth",
           "z": [
            72.87539,
            38.63157,
            82,
            61,
            40.76359,
            55.6545,
            86.77792,
            92,
            62,
            25.72519,
            31,
            89.6353,
            70.37613,
            86,
            84.7322,
            92.80977,
            20.57367,
            77.7355,
            90.51232,
            96.46054,
            90.37818,
            79.43561,
            48.42226,
            57.32426,
            29.22723,
            69.75351,
            81.91846,
            73.06457,
            81.06476,
            85,
            68.29191,
            48.11101,
            48.55208,
            97.84665
           ]
          }
         ],
         "name": "1981"
        },
        {
         "data": [
          {
           "coloraxis": "coloraxis",
           "geo": "geo",
           "hovertemplate": "<b>%{hovertext}</b><br><br>Year=1982<br>Code=%{location}<br>Literacy Rate (%)=%{z}<extra></extra>",
           "hovertext": [
            "China",
            "Nicaragua",
            "East Asia and the Pacific (WB)",
            "Lower-middle-income countries",
            "Ecuador",
            "Paraguay",
            "Zimbabwe",
            "World",
            "Central Europe and the Baltics (WB)",
            "Costa Rica",
            "Chile",
            "Upper-middle-income countries",
            "Arab World (WB)",
            "South Asia (WB)",
            "Morocco",
            "Saint Pierre and Miquelon",
            "Haiti",
            "Latin America and Caribbean (WB)",
            "Middle East and North Africa (WB)",
            "Honduras"
           ],
           "locations": [
            "CHN",
            "NIC",
            null,
            null,
            "ECU",
            "PRY",
            "ZWE",
            "OWID_WRL",
            null,
            "CRI",
            "CHL",
            null,
            null,
            null,
            "MAR",
            "SPM",
            "HTI",
            null,
            null,
            "HND"
           ],
           "name": "",
           "type": "choropleth",
           "z": [
            65.50509,
            62,
            70.96971,
            49.45058,
            83.55269,
            78.45861,
            77.79417,
            68.84949,
            97.97562,
            92,
            91.1284,
            73.4479,
            48.67683,
            39.82555,
            30.2578,
            99,
            34.73469,
            81.44642,
            49.24596,
            63
           ]
          }
         ],
         "name": "1982"
        },
        {
         "data": [
          {
           "coloraxis": "coloraxis",
           "geo": "geo",
           "hovertemplate": "<b>%{hovertext}</b><br><br>Year=1983<br>Code=%{location}<br>Literacy Rate (%)=%{z}<extra></extra>",
           "hovertext": [
            "South Asia (WB)",
            "Lower-middle-income countries",
            "Central Europe and the Baltics (WB)",
            "Myanmar",
            "World",
            "Middle East and North Africa (WB)",
            "Latin America and Caribbean (WB)",
            "Nicaragua",
            "Arab World (WB)",
            "Honduras",
            "Israel",
            "Costa Rica",
            "Upper-middle-income countries",
            "East Asia and the Pacific (WB)"
           ],
           "locations": [
            null,
            null,
            null,
            "MMR",
            "OWID_WRL",
            null,
            null,
            "NIC",
            null,
            "HND",
            "ISR",
            "CRI",
            null,
            null
           ],
           "name": "",
           "type": "choropleth",
           "z": [
            40.47922,
            50.02004,
            97.999,
            78.57041,
            69.5504,
            50.03418,
            81.84256,
            62,
            48.89918,
            64,
            91.75141,
            92,
            74.5785,
            72.24865
           ]
          }
         ],
         "name": "1983"
        },
        {
         "data": [
          {
           "coloraxis": "coloraxis",
           "geo": "geo",
           "hovertemplate": "<b>%{hovertext}</b><br><br>Year=1984<br>Code=%{location}<br>Literacy Rate (%)=%{z}<extra></extra>",
           "hovertext": [
            "Liberia",
            "Honduras",
            "Central Europe and the Baltics (WB)",
            "Nicaragua",
            "Vanuatu",
            "Arab World (WB)",
            "World",
            "Anguilla",
            "Libya",
            "Middle East and North Africa (WB)",
            "South Asia (WB)",
            "Latin America and Caribbean (WB)",
            "Congo",
            "Upper-middle-income countries",
            "Costa Rica",
            "Lower-middle-income countries",
            "Tunisia",
            "East Asia and the Pacific (WB)"
           ],
           "locations": [
            "LBR",
            "HND",
            null,
            "NIC",
            "VUT",
            null,
            "OWID_WRL",
            "AIA",
            "LBY",
            null,
            null,
            null,
            "COG",
            null,
            "CRI",
            null,
            "TUN",
            null
           ],
           "name": "",
           "type": "choropleth",
           "z": [
            32.10677,
            64,
            98.03503,
            63,
            58.2,
            49.61644,
            70.20852,
            95,
            60.16439,
            50.90994,
            41.1337,
            82.2144,
            59.61912,
            75.58398,
            92.62904,
            50.62377,
            48.1907,
            73.23173
           ]
          }
         ],
         "name": "1984"
        },
        {
         "data": [
          {
           "coloraxis": "coloraxis",
           "geo": "geo",
           "hovertemplate": "<b>%{hovertext}</b><br><br>Year=1985<br>Code=%{location}<br>Literacy Rate (%)=%{z}<extra></extra>",
           "hovertext": [
            "Upper-middle-income countries",
            "Maldives",
            "United Arab Emirates",
            "Latin America and Caribbean (WB)",
            "Lower-middle-income countries",
            "Nicaragua",
            "Western and Central Africa (WB)",
            "Middle East and North Africa (WB)",
            "Arab World (WB)",
            "South Asia (WB)",
            "Malta",
            "Honduras",
            "Sub-Saharan Africa (WB)",
            "Kuwait",
            "World",
            "East Asia and the Pacific (WB)",
            "Turkey",
            "Uruguay",
            "Central Europe and the Baltics (WB)"
           ],
           "locations": [
            null,
            "MDV",
            "ARE",
            null,
            null,
            "NIC",
            null,
            null,
            null,
            null,
            "MLT",
            "HND",
            null,
            "KWT",
            "OWID_WRL",
            null,
            "TUR",
            "URY",
            null
           ],
           "name": "",
           "type": "choropleth",
           "z": [
            76.43733,
            92.23005,
            71.2353,
            82.5733,
            51.23839,
            63,
            40.29465,
            51.93806,
            50.50422,
            41.78566,
            86.92984,
            65,
            49.67415,
            74.49087,
            70.8034,
            74.16798,
            75.96824,
            95.37998,
            98.06434
           ]
          }
         ],
         "name": "1985"
        },
        {
         "data": [
          {
           "coloraxis": "coloraxis",
           "geo": "geo",
           "hovertemplate": "<b>%{hovertext}</b><br><br>Year=1986<br>Code=%{location}<br>Literacy Rate (%)=%{z}<extra></extra>",
           "hovertext": [
            "Egypt",
            "Honduras",
            "Sub-Saharan Africa (WB)",
            "Middle East and North Africa (WB)",
            "Central Europe and the Baltics (WB)",
            "Lower-middle-income countries",
            "Qatar",
            "Western and Central Africa (WB)",
            "Upper-middle-income countries",
            "Latin America and Caribbean (WB)",
            "Eswatini",
            "World",
            "Iran",
            "South Asia (WB)",
            "Arab World (WB)",
            "East Asia and the Pacific (WB)",
            "Nicaragua"
           ],
           "locations": [
            "EGY",
            "HND",
            null,
            null,
            null,
            null,
            "QAT",
            null,
            null,
            null,
            "SWZ",
            "OWID_WRL",
            "IRN",
            null,
            null,
            null,
            "NIC"
           ],
           "name": "",
           "type": "choropleth",
           "z": [
            44.42399,
            66,
            49.99364,
            52.89378,
            98.09401,
            51.76948,
            75.63504,
            40.55083,
            77.26837,
            82.92528,
            67.23938,
            71.35792,
            52.31976,
            42.44037,
            51.30673,
            75.00072,
            63
           ]
          }
         ],
         "name": "1986"
        },
        {
         "data": [
          {
           "coloraxis": "coloraxis",
           "geo": "geo",
           "hovertemplate": "<b>%{hovertext}</b><br><br>Year=1987<br>Code=%{location}<br>Literacy Rate (%)=%{z}<extra></extra>",
           "hovertext": [
            "East Asia and the Pacific (WB)",
            "Sub-Saharan Africa (WB)",
            "Saint Helena",
            "Honduras",
            "Upper-middle-income countries",
            "Seychelles",
            "Malawi",
            "South Asia (WB)",
            "World",
            "Western and Central Africa (WB)",
            "Arab World (WB)",
            "Algeria",
            "Lower-middle-income countries",
            "Middle East and North Africa (WB)",
            "Southern and Eastern Africa (WB)",
            "Latin America and Caribbean (WB)",
            "Central Europe and the Baltics (WB)",
            "Nicaragua"
           ],
           "locations": [
            null,
            null,
            "SHN",
            "HND",
            null,
            "SYC",
            "MWI",
            null,
            "OWID_WRL",
            null,
            null,
            "DZA",
            null,
            null,
            null,
            null,
            null,
            "NIC"
           ],
           "name": "",
           "type": "choropleth",
           "z": [
            76.17425,
            50.62375,
            97,
            66,
            78.11403,
            84.22922,
            48.53665,
            43.09805,
            72.04868,
            41.29927,
            51.98211,
            49.63088,
            52.62234,
            53.72572,
            56.85891,
            83.21761,
            98.12998,
            64
           ]
          }
         ],
         "name": "1987"
        },
        {
         "data": [
          {
           "coloraxis": "coloraxis",
           "geo": "geo",
           "hovertemplate": "<b>%{hovertext}</b><br><br>Year=1988<br>Code=%{location}<br>Literacy Rate (%)=%{z}<extra></extra>",
           "hovertext": [
            "South Asia (WB)",
            "Nicaragua",
            "Upper-middle-income countries",
            "Honduras",
            "East Asia and the Pacific (WB)",
            "World",
            "Arab World (WB)",
            "Southern and Eastern Africa (WB)",
            "Latin America and Caribbean (WB)",
            "Central Europe and the Baltics (WB)",
            "Western and Central Africa (WB)",
            "Cote d'Ivoire",
            "Tanzania",
            "Sub-Saharan Africa (WB)",
            "Lower-middle-income countries",
            "Senegal",
            "Central African Republic",
            "Middle East and North Africa (WB)",
            "Poland",
            "Low-income countries"
           ],
           "locations": [
            null,
            "NIC",
            null,
            "HND",
            null,
            "OWID_WRL",
            null,
            null,
            null,
            null,
            null,
            "CIV",
            "TZA",
            null,
            null,
            "SEN",
            "CAF",
            null,
            "POL",
            null
           ],
           "name": "",
           "type": "choropleth",
           "z": [
            43.84537,
            64,
            81.40846,
            67,
            79.95977,
            73.77016,
            52.97973,
            57.16619,
            83.70771,
            98.21289,
            42.03242,
            34.13928,
            59.1138,
            51.10168,
            53.31907,
            26.86885,
            33.62442,
            54.84007,
            99.3,
            46.46776
           ]
          }
         ],
         "name": "1988"
        },
        {
         "data": [
          {
           "coloraxis": "coloraxis",
           "geo": "geo",
           "hovertemplate": "<b>%{hovertext}</b><br><br>Year=1989<br>Code=%{location}<br>Literacy Rate (%)=%{z}<extra></extra>",
           "hovertext": [
            "East Asia and the Pacific (WB)",
            "Upper-middle-income countries",
            "World",
            "Armenia",
            "Western and Central Africa (WB)",
            "Southern and Eastern Africa (WB)",
            "Lower-middle-income countries",
            "Nicaragua",
            "South Asia (WB)",
            "Honduras",
            "Vietnam",
            "Sub-Saharan Africa (WB)",
            "Moldova",
            "Russia",
            "Estonia",
            "Kazakhstan",
            "Low-income countries",
            "Tajikistan",
            "New Caledonia",
            "Belarus",
            "Middle East and North Africa (WB)",
            "Lithuania",
            "Latin America and Caribbean (WB)",
            "Arab World (WB)",
            "Central Europe and the Baltics (WB)",
            "Latvia"
           ],
           "locations": [
            null,
            null,
            "OWID_WRL",
            "ARM",
            null,
            null,
            null,
            "NIC",
            null,
            "HND",
            "VNM",
            null,
            "MDA",
            "RUS",
            "EST",
            "KAZ",
            null,
            "TJK",
            "NCL",
            "BLR",
            null,
            "LTU",
            null,
            null,
            null,
            "LVA"
           ],
           "name": "",
           "type": "choropleth",
           "z": [
            80.60751,
            82.00051,
            74.30384,
            98.75196,
            42.82516,
            57.61875,
            54.04309,
            64,
            44.61243,
            68,
            87.59645,
            51.69056,
            96.37755,
            97.98605,
            99.72644,
            97.52938,
            46.91318,
            97.69402,
            93.08063,
            97.88337,
            55.84551,
            98.44127,
            84.14951,
            53.85493,
            98.27741,
            99.4523
           ]
          }
         ],
         "name": "1989"
        },
        {
         "data": [
          {
           "coloraxis": "coloraxis",
           "geo": "geo",
           "hovertemplate": "<b>%{hovertext}</b><br><br>Year=1990<br>Code=%{location}<br>Literacy Rate (%)=%{z}<extra></extra>",
           "hovertext": [
            "Middle East and North Africa (WB)",
            "Sub-Saharan Africa (IDA & IBRD)",
            "Pre-demographic dividend",
            "Guam",
            "East Asia and the Pacific (WB)",
            "Turkey",
            "Upper middle income",
            "Middle income",
            "Mauritius",
            "Puerto Rico",
            "Late-demographic dividend",
            "Lower-middle-income countries",
            "Western and Central Africa (WB)",
            "Mexico",
            "Trinidad and Tobago",
            "Heavily indebted poor countries (HIPC)",
            "Latin America & Caribbean (IDA & IBRD)",
            "Latin America & Caribbean (excluding high income)",
            "Ecuador",
            "Venezuela",
            "Upper-middle-income countries",
            "Central Europe and the Baltics (WB)",
            "Middle East & North Africa",
            "Arab World (WB)",
            "Least developed countries: UN classification",
            "Southern and Eastern Africa (WB)",
            "Burundi",
            "Latin America and Caribbean (WB)",
            "Zambia",
            "World",
            "Latin America & Caribbean",
            "Low income",
            "East Asia & Pacific",
            "Europe & Central Asia (excluding high income)",
            "IDA only",
            "IDA total",
            "Singapore",
            "Lower middle income",
            "Europe & Central Asia (IDA & IBRD)",
            "Panama",
            "Europe & Central Asia",
            "South Asia (WB)",
            "South Asia",
            "South Asia (IDA & IBRD)",
            "Maldives",
            "Indonesia",
            "Early-demographic dividend",
            "Middle East & North Africa (IDA & IBRD)",
            "Middle East & North Africa (excluding high income)",
            "Arab World",
            "Philippines",
            "IDA blend",
            "IDA & IBRD total",
            "East Asia & Pacific (excluding high income)",
            "Cape Verde",
            "IBRD only",
            "Other small states",
            "Central Europe and the Baltics",
            "Sub-Saharan Africa (WB)",
            "Hungary",
            "East Asia & Pacific (IDA & IBRD)",
            "China",
            "Nicaragua",
            "Small states",
            "Low-income countries"
           ],
           "locations": [
            null,
            null,
            null,
            "GUM",
            null,
            "TUR",
            null,
            null,
            "MUS",
            "PRI",
            null,
            null,
            null,
            "MEX",
            "TTO",
            null,
            null,
            null,
            "ECU",
            "VEN",
            null,
            null,
            null,
            null,
            null,
            null,
            "BDI",
            null,
            "ZMB",
            "OWID_WRL",
            null,
            null,
            null,
            null,
            null,
            null,
            "SGP",
            null,
            null,
            "PAN",
            null,
            null,
            null,
            null,
            "MDV",
            "IDN",
            null,
            null,
            null,
            null,
            "PHL",
            null,
            null,
            null,
            "CPV",
            null,
            null,
            null,
            null,
            "HUN",
            null,
            "CHN",
            "NIC",
            null,
            null
           ],
           "name": "",
           "type": "choropleth",
           "z": [
            58.23571,
            52.53158,
            51.186974,
            99.36915,
            80.46115,
            79.23245,
            81.91885,
            71.37112,
            79.86866,
            89.6225,
            82.47946,
            54.91134,
            43.60494,
            87.55615,
            96.93855,
            45.420242,
            87.06507,
            87.10164,
            88.29876,
            89.82525,
            81.94503,
            98.34538,
            58.496243,
            54.79577,
            45.830433,
            58.18002,
            37.38472,
            84.46313,
            64.99828,
            74.60577,
            87.46383,
            46.02458,
            82.054344,
            95.56776,
            48.29747,
            54.1447,
            89.096,
            58.59612,
            95.9422,
            88.77986,
            97.26079,
            45.3592,
            46.487602,
            46.487602,
            96.01826,
            81.51985,
            59.518055,
            55.75025,
            56.03943,
            54.59347,
            93.5739,
            63.288082,
            69.8612,
            79.7442,
            62.79686,
            73.64205,
            73.33838,
            98.59496,
            52.3394,
            99.1,
            79.458626,
            77.78506,
            65,
            77.28492,
            47.39702
           ]
          }
         ],
         "name": "1990"
        },
        {
         "data": [
          {
           "coloraxis": "coloraxis",
           "geo": "geo",
           "hovertemplate": "<b>%{hovertext}</b><br><br>Year=1991<br>Code=%{location}<br>Literacy Rate (%)=%{z}<extra></extra>",
           "hovertext": [
            "Argentina",
            "Belize",
            "Samoa",
            "Iran",
            "British Virgin Islands",
            "Brunei",
            "Rwanda",
            "Portugal",
            "Middle East and North Africa (WB)",
            "Bahrain",
            "Low-income countries",
            "Latin America and Caribbean (WB)",
            "Lower-middle-income countries",
            "Southern and Eastern Africa (WB)",
            "South Asia (WB)",
            "Western and Central Africa (WB)",
            "Uganda",
            "India",
            "Sao Tome and Principe",
            "Botswana",
            "Montenegro",
            "Bosnia and Herzegovina",
            "Bangladesh",
            "Nigeria",
            "Upper-middle-income countries",
            "Slovenia",
            "Croatia",
            "East Asia and the Pacific (WB)",
            "Nicaragua",
            "Malaysia",
            "World",
            "Greece",
            "Spain",
            "Sub-Saharan Africa (WB)",
            "Arab World (WB)",
            "Burkina Faso",
            "Central Europe and the Baltics (WB)",
            "Nepal",
            "Namibia"
           ],
           "locations": [
            "ARG",
            "BLZ",
            "WSM",
            "IRN",
            "VGB",
            "BRN",
            "RWA",
            "PRT",
            null,
            "BHR",
            null,
            null,
            null,
            null,
            null,
            null,
            "UGA",
            "IND",
            "STP",
            "BWA",
            "MNE",
            "BIH",
            "BGD",
            "NGA",
            null,
            "SVN",
            "HRV",
            null,
            "NIC",
            "MYS",
            "OWID_WRL",
            "GRC",
            "ESP",
            null,
            null,
            "BFA",
            null,
            "NPL",
            "NAM"
           ],
           "name": "",
           "type": "choropleth",
           "z": [
            96.04072,
            70.29842,
            97.94433,
            65.5314,
            97.8,
            87.80418,
            57.85349,
            87.94785,
            59.51876,
            84.01383,
            47.67013,
            85.06566,
            55.46039,
            58.14119,
            45.78956,
            44.82332,
            56.10738,
            48.22207,
            73.24242,
            68.58091,
            93.46274,
            89.06359,
            35.3193,
            55.44675,
            83.05663,
            99.52452,
            96.70155,
            81.70511,
            65,
            82.91537,
            75.19876,
            92.61045,
            96.49497,
            52.81162,
            55.81391,
            13.56923,
            98.40635,
            32.97559,
            75.81658
           ]
          }
         ],
         "name": "1991"
        },
        {
         "data": [
          {
           "coloraxis": "coloraxis",
           "geo": "geo",
           "hovertemplate": "<b>%{hovertext}</b><br><br>Year=1992<br>Code=%{location}<br>Literacy Rate (%)=%{z}<extra></extra>",
           "hovertext": [
            "Saudi Arabia",
            "Benin",
            "Western and Central Africa (WB)",
            "Bolivia",
            "Latin America and Caribbean (WB)",
            "Lower-middle-income countries",
            "Southern and Eastern Africa (WB)",
            "East Asia and the Pacific (WB)",
            "Arab World (WB)",
            "World",
            "Chile",
            "Paraguay",
            "Sub-Saharan Africa (WB)",
            "Nicaragua",
            "Zimbabwe",
            "Upper-middle-income countries",
            "Romania",
            "El Salvador",
            "Central Europe and the Baltics (WB)",
            "Middle East and North Africa (WB)",
            "South Asia (WB)",
            "Low-income countries",
            "Cyprus"
           ],
           "locations": [
            "SAU",
            "BEN",
            null,
            "BOL",
            null,
            null,
            null,
            null,
            null,
            "OWID_WRL",
            "CHL",
            "PRY",
            null,
            "NIC",
            "ZWE",
            null,
            "ROU",
            "SLV",
            null,
            null,
            null,
            null,
            "CYP"
           ],
           "name": "",
           "type": "choropleth",
           "z": [
            70.82165,
            27.24517,
            45.16338,
            79.99177,
            85.6456,
            56.43855,
            58.53064,
            82.22357,
            56.86386,
            75.64575,
            94.29114,
            90.27182,
            53.17252,
            65,
            83.51258,
            83.58292,
            96.70998,
            74.14316,
            98.4627,
            60.49936,
            47.08633,
            47.86018,
            94.36247
           ]
          }
         ],
         "name": "1992"
        },
        {
         "data": [
          {
           "coloraxis": "coloraxis",
           "geo": "geo",
           "hovertemplate": "<b>%{hovertext}</b><br><br>Year=1993<br>Code=%{location}<br>Literacy Rate (%)=%{z}<extra></extra>",
           "hovertext": [
            "Sub-Saharan Africa (WB)",
            "South Asia (WB)",
            "Arab World (WB)",
            "Lower-middle-income countries",
            "Low-income countries",
            "Chad",
            "Peru",
            "Gabon",
            "Western and Central Africa (WB)",
            "Colombia",
            "Upper-middle-income countries",
            "Central Europe and the Baltics (WB)",
            "Nicaragua",
            "Latin America and Caribbean (WB)",
            "East Asia and the Pacific (WB)",
            "Middle East and North Africa (WB)",
            "Southern and Eastern Africa (WB)",
            "World"
           ],
           "locations": [
            null,
            null,
            null,
            null,
            null,
            "TCD",
            "PER",
            "GAB",
            null,
            "COL",
            null,
            null,
            "NIC",
            null,
            null,
            null,
            null,
            "OWID_WRL"
           ],
           "name": "",
           "type": "choropleth",
           "z": [
            53.72444,
            48.08146,
            57.68294,
            57.25194,
            48.05545,
            10.89465,
            87.15063,
            72.23367,
            46.00217,
            91.06309,
            84.08188,
            98.51395,
            66,
            86.24845,
            82.68984,
            61.39244,
            58.9126,
            76.05962
           ]
          }
         ],
         "name": "1993"
        },
        {
         "data": [
          {
           "coloraxis": "coloraxis",
           "geo": "geo",
           "hovertemplate": "<b>%{hovertext}</b><br><br>Year=1994<br>Code=%{location}<br>Literacy Rate (%)=%{z}<extra></extra>",
           "hovertext": [
            "Liberia",
            "Low-income countries",
            "Guatemala",
            "Philippines",
            "South Asia (WB)",
            "Europe and Central Asia (WB)",
            "Western and Central Africa (WB)",
            "Yemen",
            "Southern and Eastern Africa (WB)",
            "Central Europe and the Baltics (WB)",
            "Hungary",
            "Upper-middle-income countries",
            "Latin America and Caribbean (WB)",
            "Poland",
            "Arab World (WB)",
            "Tunisia",
            "Libya",
            "Ethiopia",
            "Morocco",
            "Lower-middle-income countries",
            "Sub-Saharan Africa (WB)",
            "East Asia and the Pacific (WB)",
            "World",
            "North Macedonia",
            "Vanuatu",
            "Seychelles",
            "Middle East and North Africa (WB)",
            "Nicaragua",
            "Palau"
           ],
           "locations": [
            "LBR",
            null,
            "GTM",
            "PHL",
            null,
            null,
            null,
            "YEM",
            null,
            null,
            "HUN",
            null,
            null,
            "POL",
            null,
            "TUN",
            "LBY",
            "ETH",
            "MAR",
            null,
            null,
            null,
            "OWID_WRL",
            "MKD",
            "VUT",
            "SYC",
            null,
            "NIC",
            "PLW"
           ],
           "name": "",
           "type": "choropleth",
           "z": [
            42.66605,
            48.47019,
            64.21164,
            93.91597,
            48.84938,
            95.7228,
            46.86951,
            37.09,
            59.52685,
            98.56429,
            98.98207,
            84.56281,
            86.82307,
            99.40237,
            58.44878,
            59.06181,
            76.5,
            27.01135,
            41.59411,
            57.99136,
            54.4332,
            83.2462,
            76.46277,
            94.05875,
            68.7,
            87.81115,
            62.19767,
            66,
            94.4333
           ]
          }
         ],
         "name": "1994"
        },
        {
         "data": [
          {
           "coloraxis": "coloraxis",
           "geo": "geo",
           "hovertemplate": "<b>%{hovertext}</b><br><br>Year=1995<br>Code=%{location}<br>Literacy Rate (%)=%{z}<extra></extra>",
           "hovertext": [
            "Maldives",
            "Turkmenistan",
            "Low-income countries",
            "Europe and Central Asia (WB)",
            "Malta",
            "South Asia (WB)",
            "Sub-Saharan Africa (WB)",
            "Middle East and North Africa (WB)",
            "Kuwait",
            "Latin America and Caribbean (WB)",
            "World",
            "Southern and Eastern Africa (WB)",
            "Central Europe and the Baltics (WB)",
            "East Asia and the Pacific (WB)",
            "Nicaragua",
            "Arab World (WB)",
            "Laos",
            "Upper-middle-income countries",
            "Western and Central Africa (WB)",
            "Lower-middle-income countries"
           ],
           "locations": [
            "MDV",
            "TKM",
            null,
            null,
            "MLT",
            null,
            null,
            null,
            "KWT",
            null,
            "OWID_WRL",
            null,
            null,
            null,
            "NIC",
            null,
            "LAO",
            null,
            null,
            null
           ],
           "name": "",
           "type": "choropleth",
           "z": [
            96.3265,
            98.77832,
            48.68699,
            95.85668,
            87.8687,
            49.64048,
            54.72776,
            63.81457,
            78.3955,
            87.40622,
            76.86894,
            59.92194,
            98.61207,
            83.79772,
            67,
            59.59429,
            60.25133,
            85.04725,
            47.01763,
            58.78256
           ]
          }
         ],
         "name": "1995"
        },
        {
         "data": [
          {
           "coloraxis": "coloraxis",
           "geo": "geo",
           "hovertemplate": "<b>%{hovertext}</b><br><br>Year=1996<br>Code=%{location}<br>Literacy Rate (%)=%{z}<extra></extra>",
           "hovertext": [
            "Southern and Eastern Africa (WB)",
            "Guinea",
            "World",
            "South Africa",
            "Tonga",
            "Lower-middle-income countries",
            "Low-income countries",
            "Sub-Saharan Africa (WB)",
            "Burkina Faso",
            "Nicaragua",
            "Upper-middle-income countries",
            "Middle East and North Africa (WB)",
            "South Asia (WB)",
            "Latin America and Caribbean (WB)",
            "Iran",
            "East Asia and the Pacific (WB)",
            "Egypt",
            "Arab World (WB)",
            "Colombia",
            "Western and Central Africa (WB)",
            "Uruguay",
            "Europe and Central Asia (WB)",
            "New Caledonia"
           ],
           "locations": [
            null,
            "GIN",
            "OWID_WRL",
            "ZAF",
            "TON",
            null,
            null,
            null,
            "BFA",
            "NIC",
            null,
            null,
            null,
            null,
            "IRN",
            null,
            "EGY",
            null,
            "COL",
            null,
            "URY",
            null,
            "NCL"
           ],
           "name": "",
           "type": "choropleth",
           "z": [
            60.43493,
            20.55375,
            77.25817,
            82.4021,
            98.90537,
            59.54242,
            49.01804,
            55.34565,
            12.84817,
            67,
            85.50188,
            65.12471,
            50.4492,
            87.72445,
            73.06025,
            84.29004,
            55.587,
            60.88104,
            91.20716,
            47.80645,
            96.78181,
            96.01994,
            96.13792
           ]
          }
         ],
         "name": "1996"
        },
        {
         "data": [
          {
           "coloraxis": "coloraxis",
           "geo": "geo",
           "hovertemplate": "<b>%{hovertext}</b><br><br>Year=1997<br>Code=%{location}<br>Literacy Rate (%)=%{z}<extra></extra>",
           "hovertext": [
            "Western and Central Africa (WB)",
            "Low-income countries",
            "Arab World (WB)",
            "Palestine",
            "Latin America and Caribbean (WB)",
            "Upper-middle-income countries",
            "Lower-middle-income countries",
            "Sub-Saharan Africa (WB)",
            "World",
            "Nicaragua",
            "East Asia and the Pacific (WB)",
            "Mozambique",
            "Qatar",
            "Europe and Central Asia (WB)",
            "Middle East and North Africa (WB)",
            "South Asia (WB)",
            "Southern and Eastern Africa (WB)"
           ],
           "locations": [
            null,
            null,
            null,
            "PSE",
            null,
            null,
            null,
            null,
            "OWID_WRL",
            "NIC",
            null,
            "MOZ",
            "QAT",
            null,
            null,
            null,
            null
           ],
           "name": "",
           "type": "choropleth",
           "z": [
            48.82888,
            49.68811,
            61.82833,
            86.07696,
            88.04447,
            89.81379,
            60.26108,
            56.19275,
            79.24868,
            67,
            89.27749,
            38.70788,
            83.26216,
            96.14668,
            66.04063,
            51.26017,
            61.17406
           ]
          }
         ],
         "name": "1997"
        },
        {
         "data": [
          {
           "coloraxis": "coloraxis",
           "geo": "geo",
           "hovertemplate": "<b>%{hovertext}</b><br><br>Year=1998<br>Code=%{location}<br>Literacy Rate (%)=%{z}<extra></extra>",
           "hovertext": [
            "Low-income countries",
            "Cote d'Ivoire",
            "Upper-middle-income countries",
            "Pakistan",
            "Middle East and North Africa (WB)",
            "Latin America and Caribbean (WB)",
            "East Asia and the Pacific (WB)",
            "Arab World (WB)",
            "Western and Central Africa (WB)",
            "Lower-middle-income countries",
            "Sub-Saharan Africa (WB)",
            "Europe and Central Asia (WB)",
            "Nicaragua",
            "World",
            "South Asia (WB)",
            "Southern and Eastern Africa (WB)",
            "Mali",
            "Cambodia",
            "Malawi"
           ],
           "locations": [
            null,
            "CIV",
            null,
            "PAK",
            null,
            null,
            null,
            null,
            null,
            null,
            null,
            null,
            "NIC",
            "OWID_WRL",
            null,
            null,
            "MLI",
            "KHM",
            "MWI"
           ],
           "name": "",
           "type": "choropleth",
           "z": [
            50.38674,
            36.35024,
            90.20424,
            42.69931,
            67.25558,
            88.39904,
            89.64008,
            63.03689,
            50.17558,
            63.48546,
            56.86825,
            96.2917,
            68,
            80.43393,
            56.10294,
            61.40871,
            19.04497,
            67.33503,
            64.13425
           ]
          }
         ],
         "name": "1998"
        },
        {
         "data": [
          {
           "coloraxis": "coloraxis",
           "geo": "geo",
           "hovertemplate": "<b>%{hovertext}</b><br><br>Year=1999<br>Code=%{location}<br>Literacy Rate (%)=%{z}<extra></extra>",
           "hovertext": [
            "Kyrgyzstan",
            "Solomon Islands",
            "Vanuatu",
            "Jamaica",
            "Lower-middle-income countries",
            "Upper-middle-income countries",
            "Vietnam",
            "Middle East and North Africa (WB)",
            "Low-income countries",
            "Zambia",
            "South Asia (WB)",
            "World",
            "Azerbaijan",
            "Arab World (WB)",
            "Nicaragua",
            "Southern and Eastern Africa (WB)",
            "Western and Central Africa (WB)",
            "East Asia and the Pacific (WB)",
            "Kazakhstan",
            "Belarus",
            "Latin America and Caribbean (WB)",
            "Sub-Saharan Africa (WB)",
            "Europe and Central Asia (WB)"
           ],
           "locations": [
            "KGZ",
            "SLB",
            "VUT",
            "JAM",
            null,
            null,
            "VNM",
            null,
            null,
            "ZMB",
            null,
            "OWID_WRL",
            "AZE",
            null,
            "NIC",
            null,
            null,
            null,
            "KAZ",
            "BLR",
            null,
            null,
            null
           ],
           "name": "",
           "type": "choropleth",
           "z": [
            98.70161,
            76.6,
            74,
            79.92012,
            64.18974,
            90.5234,
            90.2783,
            68.35577,
            50.95138,
            68.00179,
            56.87631,
            80.7684,
            98.7918,
            64.11116,
            68,
            62.25842,
            51.05166,
            89.96095,
            99.51266,
            99.59073,
            88.70349,
            57.72549,
            96.40454
           ]
          }
         ],
         "name": "1999"
        },
        {
         "data": [
          {
           "coloraxis": "coloraxis",
           "geo": "geo",
           "hovertemplate": "<b>%{hovertext}</b><br><br>Year=2000<br>Code=%{location}<br>Literacy Rate (%)=%{z}<extra></extra>",
           "hovertext": [
            "Mauritius",
            "Latin America & Caribbean (excluding high income)",
            "Saudi Arabia",
            "Mongolia",
            "Laos",
            "Finland",
            "Lesotho",
            "Pre-demographic dividend",
            "Tajikistan",
            "Togo",
            "East Asia & Pacific (excluding high income)",
            "Thailand",
            "Late-demographic dividend",
            "Latin America & Caribbean",
            "Latin America & Caribbean (IDA & IBRD)",
            "Costa Rica",
            "Chad",
            "Middle East and North Africa (WB)",
            "Guam",
            "Luxembourg",
            "Rwanda",
            "Latvia",
            "Nicaragua",
            "Mexico",
            "Arab World",
            "Brazil",
            "Trinidad and Tobago",
            "Least developed countries: UN classification",
            "Ghana",
            "Latin America and Caribbean (WB)",
            "Madagascar",
            "Southern and Eastern Africa (WB)",
            "Guinea-Bissau",
            "Burundi",
            "Vietnam",
            "Lower-middle-income countries",
            "Bosnia and Herzegovina",
            "Gambia",
            "Heavily indebted poor countries (HIPC)",
            "Uzbekistan",
            "East Asia and the Pacific (WB)",
            "Fragile and conflict affected situations",
            "East Asia & Pacific (IDA & IBRD)",
            "Middle East & North Africa (IDA & IBRD)",
            "Sub-Saharan Africa",
            "IDA total",
            "Myanmar",
            "Europe & Central Asia (IDA & IBRD)",
            "Europe & Central Asia",
            "East Asia & Pacific",
            "Low-income countries",
            "Western and Central Africa (WB)",
            "Comoros",
            "Upper-middle-income countries",
            "Middle income",
            "Cameroon",
            "Cote d'Ivoire",
            "Europe & Central Asia (excluding high income)",
            "Panama",
            "Sub-Saharan Africa (WB)",
            "South Asia (IDA & IBRD)",
            "Iraq",
            "Eswatini",
            "Maldives",
            "Sudan",
            "Sub-Saharan Africa (excluding high income)",
            "Equatorial Guinea",
            "Early-demographic dividend",
            "Papua New Guinea",
            "Estonia",
            "Philippines",
            "South Asia",
            "IDA only",
            "Moldova",
            "IBRD only",
            "Sub-Saharan Africa (IDA & IBRD)",
            "Middle East & North Africa",
            "Mauritania",
            "Malaysia",
            "China",
            "World",
            "Europe and Central Asia (WB)",
            "South Asia (WB)",
            "Low income",
            "IDA & IBRD total",
            "Upper middle income",
            "Kenya",
            "Singapore",
            "Aruba",
            "Lower middle income",
            "Cape Verde",
            "Other small states",
            "Pacific island small states",
            "Arab World (WB)",
            "Small states",
            "Caribbean small states",
            "Central African Republic",
            "Central Europe and the Baltics",
            "Middle East & North Africa (excluding high income)"
           ],
           "locations": [
            "MUS",
            null,
            "SAU",
            "MNG",
            "LAO",
            "FIN",
            "LSO",
            null,
            "TJK",
            "TGO",
            null,
            "THA",
            null,
            null,
            null,
            "CRI",
            "TCD",
            null,
            "GUM",
            "LUX",
            "RWA",
            "LVA",
            "NIC",
            "MEX",
            null,
            "BRA",
            "TTO",
            null,
            "GHA",
            null,
            "MDG",
            null,
            "GNB",
            "BDI",
            "VNM",
            null,
            "BIH",
            "GMB",
            null,
            "UZB",
            null,
            null,
            null,
            null,
            null,
            null,
            "MMR",
            null,
            null,
            null,
            null,
            null,
            "COM",
            null,
            null,
            "CMR",
            "CIV",
            null,
            "PAN",
            null,
            null,
            "IRQ",
            "SWZ",
            "MDV",
            "SDN",
            null,
            "GNQ",
            null,
            "PNG",
            "EST",
            "PHL",
            null,
            null,
            "MDA",
            null,
            null,
            null,
            "MRT",
            "MYS",
            "CHN",
            "OWID_WRL",
            null,
            null,
            null,
            null,
            null,
            "KEN",
            "SGP",
            "ABW",
            null,
            "CPV",
            null,
            null,
            null,
            null,
            null,
            "CAF",
            null,
            null
           ],
           "name": "",
           "type": "choropleth",
           "z": [
            84.30309,
            89.45039,
            79.35094,
            97.76885,
            69.58312,
            100,
            86.25443,
            55.785202,
            99.45068,
            53.1776,
            90.77303,
            92.64654,
            91.466995,
            89.73644,
            89.47367,
            94.86819,
            25.65421,
            69.23674,
            99.56,
            100,
            64.8886,
            99.74657,
            66,
            90.53562,
            66.006065,
            86.36788,
            97.9,
            53.4134,
            57.89747,
            88.956,
            70.68617,
            62.49518,
            41.35777,
            59.30362,
            90.15613,
            64.36212,
            96.6631,
            36.81773,
            52.221073,
            98.64258,
            90.24882,
            63.947193,
            90.649956,
            67.76973,
            56.981934,
            59.467594,
            89.94176,
            97.452644,
            98.14584,
            91.61869,
            51.08766,
            47.05716,
            68.48923,
            90.8407,
            79.70074,
            68.40916,
            48.74076,
            97.21841,
            91.89962,
            56.25376,
            58.08542,
            74.0522,
            81.6607,
            96.3265,
            61.34587,
            56.976406,
            88.3083,
            69.11661,
            57.34326,
            99.7672,
            92.60006,
            58.08542,
            55.4478,
            96.6538,
            82.563576,
            56.981934,
            70.40315,
            51.20768,
            88.68776,
            90.92021,
            80.87452,
            96.49407,
            57.65058,
            52.69497,
            77.90584,
            90.65731,
            82.22908,
            92.5494,
            97.29125,
            67.3316,
            76.11044,
            78.839775,
            86.692055,
            64.8063,
            81.47796,
            88.1378,
            50.64517,
            98.96019,
            68.023575
           ]
          }
         ],
         "name": "2000"
        },
        {
         "data": [
          {
           "coloraxis": "coloraxis",
           "geo": "geo",
           "hovertemplate": "<b>%{hovertext}</b><br><br>Year=2001<br>Code=%{location}<br>Literacy Rate (%)=%{z}<extra></extra>",
           "hovertext": [
            "Low-income countries",
            "Lithuania",
            "Antigua and Barbuda",
            "World",
            "Armenia",
            "Lower-middle-income countries",
            "Democratic Republic of Congo",
            "Macao",
            "Cyprus",
            "Arab World (WB)",
            "Argentina",
            "Belize",
            "Honduras",
            "Niger",
            "Sri Lanka",
            "Bulgaria",
            "Brunei",
            "East Timor",
            "Ukraine",
            "Venezuela",
            "Albania",
            "Sub-Saharan Africa (WB)",
            "Slovenia",
            "East Asia and the Pacific (WB)",
            "Europe and Central Asia (WB)",
            "Somalia",
            "Western and Central Africa (WB)",
            "Italy",
            "Ecuador",
            "Upper-middle-income countries",
            "Laos",
            "Greenland",
            "Southern and Eastern Africa (WB)",
            "Latin America and Caribbean (WB)",
            "India",
            "Namibia",
            "Croatia",
            "Bahrain",
            "Bangladesh",
            "South Asia (WB)",
            "Greece",
            "Angola",
            "Saint Lucia",
            "Sao Tome and Principe",
            "Nepal",
            "Middle East and North Africa (WB)",
            "Nicaragua",
            "Bolivia"
           ],
           "locations": [
            null,
            "LTU",
            "ATG",
            "OWID_WRL",
            "ARM",
            null,
            "COD",
            "MAC",
            "CYP",
            null,
            "ARG",
            "BLZ",
            "HND",
            "NER",
            "LKA",
            "BGR",
            "BRN",
            "TLS",
            "UKR",
            "VEN",
            "ALB",
            null,
            "SVN",
            null,
            null,
            "SOM",
            null,
            "ITA",
            "ECU",
            null,
            "LAO",
            "GRL",
            null,
            null,
            "IND",
            "NAM",
            "HRV",
            "BHR",
            "BGD",
            null,
            "GRC",
            "AGO",
            "LCA",
            "STP",
            "NPL",
            null,
            "NIC",
            "BOL"
           ],
           "name": "",
           "type": "choropleth",
           "z": [
            52.20483,
            99.64575,
            98.95,
            81.20433,
            99.40016,
            64.92597,
            67.17299,
            91.29537,
            96.80363,
            66.24235,
            97.19331,
            80.9,
            80.01103,
            14.37604,
            90.68275,
            98.20356,
            92.67113,
            37.6,
            99.43041,
            92.97983,
            98.71298,
            57.49454,
            99.6,
            90.64381,
            96.5861,
            37.8,
            48.76261,
            98.41662,
            90.98403,
            91.18142,
            68.73439,
            100,
            63.41789,
            89.14797,
            61.01456,
            84.94426,
            98.14668,
            86.54874,
            47.4855,
            58.09879,
            95.99436,
            67.40542,
            90.1,
            84.90851,
            48.60897,
            70.5084,
            76.67713,
            86.72367
           ]
          }
         ],
         "name": "2001"
        },
        {
         "data": [
          {
           "coloraxis": "coloraxis",
           "geo": "geo",
           "hovertemplate": "<b>%{hovertext}</b><br><br>Year=2002<br>Code=%{location}<br>Literacy Rate (%)=%{z}<extra></extra>",
           "hovertext": [
            "Low-income countries",
            "Tanzania",
            "Benin",
            "South Asia (WB)",
            "Arab World (WB)",
            "Syria",
            "Hong Kong",
            "North Macedonia",
            "Lower-middle-income countries",
            "Iran",
            "Western and Central Africa (WB)",
            "Georgia",
            "Sub-Saharan Africa (WB)",
            "World",
            "Barbados",
            "Russia",
            "Senegal",
            "Romania",
            "Chile",
            "Latin America and Caribbean (WB)",
            "Dominican Republic",
            "Mexico",
            "Upper-middle-income countries",
            "Southern and Eastern Africa (WB)",
            "Middle East and North Africa (WB)",
            "Zambia",
            "Seychelles",
            "Japan",
            "Cuba",
            "Uganda",
            "Europe and Central Asia (WB)",
            "Guatemala",
            "Algeria",
            "Eritrea",
            "East Asia and the Pacific (WB)"
           ],
           "locations": [
            null,
            "TZA",
            "BEN",
            null,
            null,
            "SYR",
            "HKG",
            "MKD",
            null,
            "IRN",
            null,
            "GEO",
            null,
            "OWID_WRL",
            "BRB",
            "RUS",
            "SEN",
            "ROU",
            "CHL",
            null,
            "DOM",
            "MEX",
            null,
            null,
            null,
            "ZMB",
            "SYC",
            "JPN",
            "CUB",
            "UGA",
            null,
            "GTM",
            "DZA",
            "ERI",
            null
           ],
           "name": "",
           "type": "choropleth",
           "z": [
            52.86006,
            69.4309,
            34.65785,
            59.20313,
            67.3602,
            82.88825,
            93.5,
            96.12893,
            65.69058,
            77,
            49.47245,
            99.65235,
            57.98504,
            81.57198,
            99.7,
            99.44097,
            39.27525,
            97.29759,
            95.71662,
            89.29534,
            86.99647,
            90.27465,
            91.45816,
            63.74941,
            71.02652,
            69.14922,
            91.83646,
            99,
            99.79907,
            68.14251,
            96.76737,
            69.10173,
            69.8735,
            52.51395,
            90.98892
           ]
          }
         ],
         "name": "2002"
        },
        {
         "data": [
          {
           "coloraxis": "coloraxis",
           "geo": "geo",
           "hovertemplate": "<b>%{hovertext}</b><br><br>Year=2003<br>Code=%{location}<br>Literacy Rate (%)=%{z}<extra></extra>",
           "hovertext": [
            "Grenada",
            "Mali",
            "France",
            "Guinea",
            "Germany",
            "Fiji",
            "United Kingdom",
            "Burkina Faso",
            "Lower-middle-income countries",
            "Montenegro",
            "Haiti",
            "Sub-Saharan Africa (WB)",
            "Europe and Central Asia (WB)",
            "Bahamas",
            "Botswana",
            "Nigeria",
            "Southern and Eastern Africa (WB)",
            "Mozambique",
            "North America (WB)",
            "Taiwan",
            "Low-income countries",
            "Western and Central Africa (WB)",
            "Monaco",
            "Oman",
            "Jordan",
            "Ireland",
            "Australia",
            "East Asia and the Pacific (WB)",
            "Middle East and North Africa (WB)",
            "Serbia",
            "Latin America and Caribbean (WB)",
            "World",
            "Saint Kitts and Nevis",
            "Upper-middle-income countries",
            "Belgium",
            "New Zealand",
            "Switzerland",
            "United States",
            "Sweden",
            "Dominica",
            "Canada",
            "Philippines",
            "Denmark",
            "Djibouti",
            "Arab World (WB)",
            "South Asia (WB)",
            "Iceland",
            "Netherlands"
           ],
           "locations": [
            "GRD",
            "MLI",
            "FRA",
            "GIN",
            "DEU",
            "FJI",
            "GBR",
            "BFA",
            null,
            "MNE",
            "HTI",
            null,
            null,
            "BHS",
            "BWA",
            "NGA",
            null,
            "MOZ",
            null,
            "TWN",
            null,
            null,
            "MCO",
            "OMN",
            "JOR",
            "IRL",
            "AUS",
            null,
            null,
            "SRB",
            null,
            "OWID_WRL",
            "KNA",
            null,
            "BEL",
            "NZL",
            "CHE",
            "USA",
            "SWE",
            "DMA",
            "CAN",
            "PHL",
            "DNK",
            "DJI",
            null,
            null,
            "ISL",
            "NLD"
           ],
           "name": "",
           "type": "choropleth",
           "z": [
            96,
            24,
            99,
            29.70402,
            99,
            93.7,
            99,
            21.82292,
            66.75361,
            97.77346,
            58.7439,
            58.34713,
            96.86625,
            95.6,
            81.18871,
            54.77318,
            64.3503,
            48.15884,
            98.57133,
            96.1,
            53.04443,
            49.47437,
            99,
            81.36331,
            89.89232,
            99,
            99,
            91.35197,
            74.09117,
            96.39724,
            90.08651,
            82.06556,
            97.8,
            91.86902,
            99,
            99,
            99,
            99,
            99,
            94,
            99,
            92.59069,
            99,
            67.9,
            69.98903,
            60.09578,
            99,
            99
           ]
          }
         ],
         "name": "2003"
        },
        {
         "data": [
          {
           "coloraxis": "coloraxis",
           "geo": "geo",
           "hovertemplate": "<b>%{hovertext}</b><br><br>Year=2004<br>Code=%{location}<br>Literacy Rate (%)=%{z}<extra></extra>",
           "hovertext": [
            "East Asia and the Pacific (WB)",
            "Turkey",
            "Suriname",
            "Cambodia",
            "Gabon",
            "Palau",
            "Mexico",
            "Colombia",
            "Tunisia",
            "Trinidad and Tobago",
            "Europe and Central Asia (WB)",
            "Upper-middle-income countries",
            "Yemen",
            "Sub-Saharan Africa (WB)",
            "El Salvador",
            "Ethiopia",
            "Syria",
            "Arab World (WB)",
            "Cape Verde",
            "Lower-middle-income countries",
            "Spain",
            "South Asia (WB)",
            "Hungary",
            "Saudi Arabia",
            "Indonesia",
            "Palestine",
            "Israel",
            "Samoa",
            "Low-income countries",
            "Western and Central Africa (WB)",
            "Slovenia",
            "Slovakia",
            "Sierra Leone",
            "Puerto Rico",
            "Middle East and North Africa (WB)",
            "Poland",
            "Libya",
            "Liberia",
            "North America (WB)",
            "Qatar",
            "Peru",
            "Brazil",
            "Vanuatu",
            "Morocco",
            "Chad",
            "Southern and Eastern Africa (WB)",
            "Latin America and Caribbean (WB)",
            "World"
           ],
           "locations": [
            null,
            "TUR",
            "SUR",
            "KHM",
            "GAB",
            "PLW",
            "MEX",
            "COL",
            "TUN",
            "TTO",
            null,
            null,
            "YEM",
            null,
            "SLV",
            "ETH",
            "SYR",
            null,
            "CPV",
            null,
            "ESP",
            null,
            "HUN",
            "SAU",
            "IDN",
            "PSE",
            "ISR",
            "WSM",
            null,
            null,
            "SVN",
            "SVK",
            "SLE",
            "PRI",
            null,
            "POL",
            "LBY",
            "LBR",
            null,
            "QAT",
            "PER",
            "BRA",
            "VUT",
            "MAR",
            "TCD",
            null,
            null,
            "OWID_WRL"
           ],
           "name": "",
           "type": "choropleth",
           "z": [
            91.69667,
            87.36549,
            89.59806,
            73.60995,
            81.84552,
            96.9898,
            90.95374,
            92.80378,
            74.297,
            98.28851,
            96.94808,
            92.12041,
            54.1,
            59.86667,
            80.77836,
            35.9,
            80.84452,
            70.57378,
            80.01972,
            67.48014,
            97.16512,
            60.87617,
            99.02922,
            82.85774,
            90.38479,
            92.47751,
            97.1,
            98.54048,
            54.50513,
            51.38341,
            99.65179,
            99.6,
            34.82679,
            90.52934,
            74.7003,
            99.61794,
            85.41682,
            43.10837,
            98.58384,
            88.96239,
            87.66985,
            88.61624,
            78.4,
            52.30626,
            28.38143,
            65.60042,
            90.02801,
            82.43894
           ]
          }
         ],
         "name": "2004"
        },
        {
         "data": [
          {
           "coloraxis": "coloraxis",
           "geo": "geo",
           "hovertemplate": "<b>%{hovertext}</b><br><br>Year=2005<br>Code=%{location}<br>Literacy Rate (%)=%{z}<extra></extra>",
           "hovertext": [
            "Western and Central Africa (WB)",
            "Jordan",
            "Nicaragua",
            "Mexico",
            "Europe and Central Asia (WB)",
            "Upper-middle-income countries",
            "Arab World (WB)",
            "Thailand",
            "Kuwait",
            "Middle East and North Africa (WB)",
            "Burkina Faso",
            "Colombia",
            "Congo",
            "Madagascar",
            "East Asia and the Pacific (WB)",
            "Pakistan",
            "Southern and Eastern Africa (WB)",
            "Low-income countries",
            "Egypt",
            "Bhutan",
            "Bermuda",
            "Turkey",
            "Niger",
            "North America (WB)",
            "South Asia (WB)",
            "United Arab Emirates",
            "Virgin Islands",
            "Lower-middle-income countries",
            "Malta",
            "Peru",
            "World",
            "Spain",
            "Ethiopia",
            "Iran",
            "Turkmenistan",
            "Latin America and Caribbean (WB)",
            "Sub-Saharan Africa (WB)",
            "Laos"
           ],
           "locations": [
            null,
            "JOR",
            "NIC",
            "MEX",
            null,
            null,
            null,
            "THA",
            "KWT",
            null,
            "BFA",
            "COL",
            "COG",
            "MDG",
            null,
            "PAK",
            null,
            null,
            "EGY",
            "BTN",
            "BMU",
            "TUR",
            "NER",
            null,
            null,
            "ARE",
            null,
            null,
            "MLT",
            "PER",
            "OWID_WRL",
            "ESP",
            "ETH",
            "IRN",
            "TKM",
            null,
            null,
            "LAO"
           ],
           "name": "",
           "type": "choropleth",
           "z": [
            51.42382,
            91.13075,
            78.00298,
            91.63027,
            97.11324,
            92.44411,
            70.23333,
            93.50647,
            93.27446,
            74.46502,
            23.5222,
            92.84866,
            76.11479,
            58.93594,
            92.01266,
            49.87364,
            63.94247,
            53.67301,
            67.33187,
            52.81469,
            98,
            88.22906,
            28.67242,
            98.60252,
            60.62967,
            90.03385,
            90,
            67.13873,
            92.36309,
            87.90867,
            82.37777,
            97.75069,
            29.82034,
            82.4412,
            99.4,
            90.51114,
            58.89574,
            72.70226
           ]
          }
         ],
         "name": "2005"
        },
        {
         "data": [
          {
           "coloraxis": "coloraxis",
           "geo": "geo",
           "hovertemplate": "<b>%{hovertext}</b><br><br>Year=2006<br>Code=%{location}<br>Literacy Rate (%)=%{z}<extra></extra>",
           "hovertext": [
            "North America (WB)",
            "Algeria",
            "New Caledonia",
            "Nigeria",
            "Pakistan",
            "World",
            "Middle East and North Africa (WB)",
            "Palestine",
            "East Asia and the Pacific (WB)",
            "Uganda",
            "Tonga",
            "Upper-middle-income countries",
            "Senegal",
            "Lower-middle-income countries",
            "Peru",
            "Egypt",
            "Haiti",
            "Benin",
            "Low-income countries",
            "Iran",
            "South Asia (WB)",
            "Latin America and Caribbean (WB)",
            "India",
            "Indonesia",
            "Turkey",
            "Uruguay",
            "Sub-Saharan Africa (WB)",
            "Maldives",
            "Burkina Faso",
            "Sri Lanka",
            "Mexico",
            "Western and Central Africa (WB)",
            "Southern and Eastern Africa (WB)",
            "Spain",
            "Macao",
            "Colombia",
            "Brazil",
            "Mali",
            "Arab World (WB)",
            "Europe and Central Asia (WB)",
            "El Salvador",
            "Kuwait",
            "Togo"
           ],
           "locations": [
            null,
            "DZA",
            "NCL",
            "NGA",
            "PAK",
            "OWID_WRL",
            null,
            "PSE",
            null,
            "UGA",
            "TON",
            null,
            "SEN",
            null,
            "PER",
            "EGY",
            "HTI",
            "BEN",
            null,
            "IRN",
            null,
            null,
            "IND",
            "IDN",
            "TUR",
            "URY",
            null,
            "MDV",
            "BFA",
            "LKA",
            "MEX",
            null,
            null,
            "ESP",
            "MAC",
            "COL",
            "BRA",
            "MLI",
            null,
            null,
            "SLV",
            "KWT",
            "TGO"
           ],
           "name": "",
           "type": "choropleth",
           "z": [
            98.61302,
            72.64868,
            97.3,
            70.19835,
            54.15121,
            82.46365,
            74.54419,
            93.45087,
            92.41628,
            71.37314,
            99.01846,
            92.73255,
            41.89115,
            67.42352,
            88.69934,
            66.36991,
            48.68502,
            28.70211,
            52.02352,
            82.33132,
            60.16197,
            90.46458,
            62.75447,
            91.98227,
            88.11939,
            97.78963,
            60.25526,
            98.3979,
            22.47258,
            90.80883,
            91.73452,
            57.47115,
            62.13387,
            97.75214,
            93.49975,
            92.29968,
            89.61523,
            26.17655,
            69.12741,
            97.14116,
            83.55946,
            93.28212,
            56.88837
           ]
          }
         ],
         "name": "2006"
        },
        {
         "data": [
          {
           "coloraxis": "coloraxis",
           "geo": "geo",
           "hovertemplate": "<b>%{hovertext}</b><br><br>Year=2007<br>Code=%{location}<br>Literacy Rate (%)=%{z}<extra></extra>",
           "hovertext": [
            "Cameroon",
            "World",
            "South Africa",
            "Jordan",
            "Honduras",
            "North America (WB)",
            "Turkey",
            "South Asia (WB)",
            "Palestine",
            "Western and Central Africa (WB)",
            "Sub-Saharan Africa (WB)",
            "Namibia",
            "Ethiopia",
            "Venezuela",
            "Brazil",
            "Europe and Central Asia (WB)",
            "Southern and Eastern Africa (WB)",
            "Burkina Faso",
            "Uruguay",
            "Bolivia",
            "El Salvador",
            "Kosovo",
            "Kenya",
            "Peru",
            "Democratic Republic of Congo",
            "Lower-middle-income countries",
            "East Timor",
            "Paraguay",
            "Low-income countries",
            "Tunisia",
            "Pakistan",
            "Mauritania",
            "Colombia",
            "Zambia",
            "Mexico",
            "East Asia and the Pacific (WB)",
            "Arab World (WB)",
            "Liberia",
            "Upper-middle-income countries",
            "Bangladesh",
            "Middle East and North Africa (WB)",
            "Kuwait",
            "Cayman Islands",
            "Lebanon",
            "Dominican Republic",
            "Latin America and Caribbean (WB)",
            "Azerbaijan",
            "Spain",
            "Ecuador",
            "Qatar"
           ],
           "locations": [
            "CMR",
            "OWID_WRL",
            "ZAF",
            "JOR",
            "HND",
            null,
            "TUR",
            null,
            "PSE",
            null,
            null,
            "NAM",
            "ETH",
            "VEN",
            "BRA",
            null,
            null,
            "BFA",
            "URY",
            "BOL",
            "SLV",
            "OWID_KOS",
            "KEN",
            "PER",
            "COD",
            null,
            "TLS",
            "PRY",
            null,
            "TUN",
            "PAK",
            "MRT",
            "COL",
            "ZMB",
            "MEX",
            null,
            null,
            "LBR",
            null,
            "BGD",
            null,
            "KWT",
            "CYM",
            "LBN",
            "DOM",
            null,
            "AZE",
            "ESP",
            "ECU",
            "QAT"
           ],
           "name": "",
           "type": "choropleth",
           "z": [
            70.67994,
            82.92806,
            88.71725,
            92.19958,
            83.58899,
            98.6258,
            88.6559,
            61.70198,
            93.7617,
            50.11955,
            57.71746,
            76.48659,
            38.99598,
            95.15464,
            90.00937,
            97.24182,
            62.83576,
            28.29366,
            97.86389,
            90.74347,
            82.02863,
            91.9,
            72.15703,
            89.59081,
            61.20555,
            67.74212,
            50.6,
            94.55822,
            53.35608,
            77.1904,
            52.13683,
            45.50378,
            92.65179,
            61.12709,
            92.79517,
            93.44074,
            69.87659,
            42.94108,
            93.57468,
            46.6636,
            75.23202,
            93.66419,
            98.86782,
            89.61244,
            88.24446,
            91.07581,
            99.59319,
            97.93884,
            92.09679,
            93.08255
           ]
          }
         ],
         "name": "2007"
        },
        {
         "data": [
          {
           "coloraxis": "coloraxis",
           "geo": "geo",
           "hovertemplate": "<b>%{hovertext}</b><br><br>Year=2008<br>Code=%{location}<br>Literacy Rate (%)=%{z}<extra></extra>",
           "hovertext": [
            "Eritrea",
            "Cambodia",
            "El Salvador",
            "East Asia and the Pacific (WB)",
            "Sri Lanka",
            "World",
            "Tunisia",
            "Europe and Central Asia (WB)",
            "Upper-middle-income countries",
            "Sub-Saharan Africa (WB)",
            "Albania",
            "Algeria",
            "Suriname",
            "Ecuador",
            "Uruguay",
            "Sudan",
            "Palestine",
            "Middle East and North Africa (WB)",
            "Chile",
            "Low-income countries",
            "Latin America and Caribbean (WB)",
            "Philippines",
            "Sao Tome and Principe",
            "Kuwait",
            "Lower-middle-income countries",
            "Western and Central Africa (WB)",
            "Spain",
            "Oman",
            "Iran",
            "North Korea",
            "North America (WB)",
            "Paraguay",
            "Indonesia",
            "Qatar",
            "Arab World (WB)",
            "Nigeria",
            "Pakistan",
            "South Korea",
            "Burundi",
            "South Sudan",
            "Bolivia",
            "South Asia (WB)",
            "Colombia",
            "Mexico",
            "Morocco",
            "Brazil",
            "Southern and Eastern Africa (WB)"
           ],
           "locations": [
            "ERI",
            "KHM",
            "SLV",
            null,
            "LKA",
            "OWID_WRL",
            "TUN",
            null,
            null,
            null,
            "ALB",
            "DZA",
            "SUR",
            "ECU",
            "URY",
            "SDN",
            "PSE",
            null,
            "CHL",
            null,
            null,
            "PHL",
            "STP",
            "KWT",
            null,
            null,
            "ESP",
            "OMN",
            "IRN",
            "PRK",
            null,
            "PRY",
            "IDN",
            "QAT",
            null,
            "NGA",
            "PAK",
            "KOR",
            "BDI",
            "SSD",
            "BOL",
            null,
            "COL",
            "MEX",
            "MAR",
            "BRA",
            null
           ],
           "name": "",
           "type": "choropleth",
           "z": [
            64.66297,
            76.87129,
            83.9513,
            93.72558,
            90.55795,
            83.25666,
            77.71462,
            97.35377,
            93.85072,
            57.88128,
            95.93864,
            75.13605,
            94.62094,
            92.39005,
            98.16356,
            53.51738,
            94.00984,
            75.84242,
            98.64901,
            54.1951,
            91.32739,
            95.4201,
            69.53639,
            93.8983,
            68.38011,
            49.81004,
            97.63061,
            86.62114,
            82.9623,
            99.99819,
            98.64645,
            93.29208,
            92.1923,
            93.98973,
            70.67663,
            51.07766,
            55.52637,
            97.96594,
            48.08406,
            26.83128,
            90.69811,
            62.79358,
            93.37818,
            92.9256,
            55.14792,
            90.03662,
            63.30951
           ]
          }
         ],
         "name": "2008"
        },
        {
         "data": [
          {
           "coloraxis": "coloraxis",
           "geo": "geo",
           "hovertemplate": "<b>%{hovertext}</b><br><br>Year=2009<br>Code=%{location}<br>Literacy Rate (%)=%{z}<extra></extra>",
           "hovertext": [
            "Upper-middle-income countries",
            "Paraguay",
            "Palestine",
            "Pakistan",
            "Spain",
            "Togo",
            "Western and Central Africa (WB)",
            "World",
            "South Africa",
            "Turkey",
            "Sub-Saharan Africa (WB)",
            "South Asia (WB)",
            "Uruguay",
            "Vietnam",
            "Venezuela",
            "Southern and Eastern Africa (WB)",
            "Qatar",
            "Senegal",
            "Lower-middle-income countries",
            "Kyrgyzstan",
            "Latin America and Caribbean (WB)",
            "Colombia",
            "Madagascar",
            "Belarus",
            "Azerbaijan",
            "Bolivia",
            "Lebanon",
            "Cambodia",
            "El Salvador",
            "Middle East and North Africa (WB)",
            "Arab World (WB)",
            "Morocco",
            "Mexico",
            "East Asia and the Pacific (WB)",
            "Chile",
            "Lesotho",
            "Mozambique",
            "Kazakhstan",
            "Europe and Central Asia (WB)",
            "Indonesia",
            "Ecuador",
            "Guyana",
            "Greece",
            "Low-income countries",
            "Brazil"
           ],
           "locations": [
            null,
            "PRY",
            "PSE",
            "PAK",
            "ESP",
            "TGO",
            null,
            "OWID_WRL",
            "ZAF",
            "TUR",
            null,
            null,
            "URY",
            "VNM",
            "VEN",
            null,
            "QAT",
            "SEN",
            null,
            "KGZ",
            null,
            "COL",
            "MDG",
            "BLR",
            "AZE",
            "BOL",
            "LBN",
            "KHM",
            "SLV",
            null,
            null,
            "MAR",
            "MEX",
            null,
            "CHL",
            "LSO",
            "MOZ",
            "KAZ",
            null,
            "IDN",
            "ECU",
            "GUY",
            "GRC",
            null,
            "BRA"
           ],
           "name": "",
           "type": "choropleth",
           "z": [
            93.93437,
            93.75424,
            94.43018,
            54.89264,
            97.67927,
            57.09338,
            50.69238,
            83.5132,
            92.89486,
            90.81672,
            58.65356,
            63.46568,
            98.26723,
            93.52045,
            95.51199,
            64.00042,
            94.72429,
            48.03678,
            69.18902,
            99.24343,
            91.59747,
            93.24469,
            64.48091,
            99.61706,
            99.75984,
            91.16783,
            91.18419,
            76.13796,
            84.10289,
            75.86177,
            69.58039,
            56.08367,
            93.44188,
            94.02799,
            98.55368,
            75.8002,
            50.58381,
            99.73241,
            97.41368,
            92.5817,
            92.24976,
            84.99401,
            93.90511,
            54.65457,
            90.29821
           ]
          }
         ],
         "name": "2009"
        },
        {
         "data": [
          {
           "coloraxis": "coloraxis",
           "geo": "geo",
           "hovertemplate": "<b>%{hovertext}</b><br><br>Year=2010<br>Code=%{location}<br>Literacy Rate (%)=%{z}<extra></extra>",
           "hovertext": [
            "Sub-Saharan Africa (excluding high income)",
            "Central Europe and the Baltics",
            "Europe and Central Asia (WB)",
            "Papua New Guinea",
            "Panama",
            "Tajikistan",
            "Upper-middle-income countries",
            "Mali",
            "Suriname",
            "Seychelles",
            "Caribbean small states",
            "Spain",
            "Egypt",
            "Cameroon",
            "Heavily indebted poor countries (HIPC)",
            "Mexico",
            "Uruguay",
            "Eswatini",
            "El Salvador",
            "Palestine",
            "Honduras",
            "Kuwait",
            "Russia",
            "Central African Republic",
            "South Africa",
            "South Asia (WB)",
            "China",
            "Turkey",
            "Early-demographic dividend",
            "East Asia & Pacific",
            "East Asia & Pacific (IDA & IBRD)",
            "East Asia & Pacific (excluding high income)",
            "Sub-Saharan Africa (IDA & IBRD)",
            "Thailand",
            "Puerto Rico",
            "Low-income countries",
            "Low income",
            "Jordan",
            "Ecuador",
            "Tunisia",
            "East Timor",
            "East Asia and the Pacific (WB)",
            "Malaysia",
            "Sub-Saharan Africa",
            "Uganda",
            "Malawi",
            "Colombia",
            "Guinea",
            "Upper middle income",
            "Paraguay",
            "Kazakhstan",
            "Sri Lanka",
            "Qatar",
            "Dominican Republic",
            "Least developed countries: UN classification",
            "Fragile and conflict affected situations",
            "Lower-middle-income countries",
            "Small states",
            "Lower middle income",
            "Tanzania",
            "Ghana",
            "Pre-demographic dividend",
            "Latin America & Caribbean (IDA & IBRD)",
            "Late-demographic dividend",
            "Mongolia",
            "South Asia (IDA & IBRD)",
            "Latin America & Caribbean",
            "Latin America and Caribbean (WB)",
            "Other small states",
            "Singapore",
            "Southern and Eastern Africa (WB)",
            "World",
            "Sub-Saharan Africa (WB)",
            "Europe & Central Asia (IDA & IBRD)",
            "Azerbaijan",
            "Equatorial Guinea",
            "Western and Central Africa (WB)",
            "Oman",
            "IDA & IBRD total",
            "IDA total",
            "Arab World",
            "Europe & Central Asia",
            "IDA only",
            "Middle East and North Africa (WB)",
            "IDA blend",
            "Arab World (WB)",
            "South Asia",
            "IBRD only",
            "Aruba",
            "Middle East & North Africa (excluding high income)",
            "Europe & Central Asia (excluding high income)",
            "Rwanda",
            "Zambia",
            "Pakistan",
            "Brazil",
            "Middle East & North Africa",
            "Middle East & North Africa (IDA & IBRD)",
            "Bahrain",
            "Latin America & Caribbean (excluding high income)",
            "Middle income"
           ],
           "locations": [
            null,
            null,
            null,
            "PNG",
            "PAN",
            "TJK",
            null,
            "MLI",
            "SUR",
            "SYC",
            null,
            "ESP",
            "EGY",
            "CMR",
            null,
            "MEX",
            "URY",
            "SWZ",
            "SLV",
            "PSE",
            "HND",
            "KWT",
            "RUS",
            "CAF",
            "ZAF",
            null,
            "CHN",
            "TUR",
            null,
            null,
            null,
            null,
            null,
            "THA",
            "PRI",
            null,
            null,
            "JOR",
            "ECU",
            "TUN",
            "TLS",
            null,
            "MYS",
            null,
            "UGA",
            "MWI",
            "COL",
            "GIN",
            null,
            "PRY",
            "KAZ",
            "LKA",
            "QAT",
            "DOM",
            null,
            null,
            null,
            null,
            null,
            "TZA",
            "GHA",
            null,
            null,
            null,
            "MNG",
            null,
            null,
            null,
            null,
            "SGP",
            null,
            "OWID_WRL",
            null,
            null,
            "AZE",
            "GNQ",
            null,
            "OMN",
            null,
            null,
            null,
            null,
            null,
            null,
            null,
            null,
            null,
            null,
            "ABW",
            null,
            null,
            "RWA",
            "ZMB",
            "PAK",
            "BRA",
            null,
            null,
            "BHR",
            null,
            null
           ],
           "name": "",
           "type": "choropleth",
           "z": [
            60.875755,
            99.36096,
            97.74728,
            61.6,
            94.09412,
            99.7,
            94.1354,
            31.09975,
            94.67575,
            93.95423,
            91.76071,
            97.7489,
            72.04785,
            71.29051,
            57.837166,
            93.06894,
            98.07271,
            83.09829,
            84.49272,
            94.71748,
            84.75536,
            94.46901,
            99.68427,
            36.75261,
            92.87732,
            66.03606,
            95.12448,
            92.6606,
            76.50836,
            95.10822,
            94.68925,
            94.75167,
            60.880547,
            96.43091,
            91.96523,
            55.08571,
            56.57406,
            92.55104,
            91.85404,
            79.13058,
            58.30898,
            94.12464,
            93.11789,
            60.880547,
            73.21188,
            61.30972,
            93.37233,
            25.30774,
            94.26899,
            93.87092,
            99.78163,
            91.18136,
            96.28374,
            89.53873,
            60.568233,
            68.33667,
            70.93375,
            85.654785,
            73.91008,
            67.8007,
            71.49707,
            58.624794,
            92.4664,
            94.78494,
            98.257,
            66.69118,
            92.62431,
            91.58735,
            83.64996,
            95.85733,
            64.61788,
            84.16,
            59.21304,
            98.89095,
            99.77114,
            94.37054,
            51.15696,
            86.939,
            82.39069,
            64.43312,
            77.364586,
            98.99759,
            61.650894,
            76.66655,
            69.031975,
            70.51842,
            66.69118,
            87.32906,
            96.82264,
            78.43881,
            98.79964,
            65.85227,
            83.00767,
            55.37519,
            90.37918,
            80.750015,
            78.23286,
            94.55679,
            92.44799,
            84.38868
           ]
          }
         ],
         "name": "2010"
        },
        {
         "data": [
          {
           "coloraxis": "coloraxis",
           "geo": "geo",
           "hovertemplate": "<b>%{hovertext}</b><br><br>Year=2011<br>Code=%{location}<br>Literacy Rate (%)=%{z}<extra></extra>",
           "hovertext": [
            "Czechia",
            "Cyprus",
            "Arab World (WB)",
            "Indonesia",
            "Montenegro",
            "Armenia",
            "Niue",
            "Lower-middle-income countries",
            "Austria",
            "Dominican Republic",
            "India",
            "Turkey",
            "Zimbabwe",
            "Tonga",
            "Nepal",
            "Portugal",
            "Jordan",
            "Solomon Islands",
            "Afghanistan",
            "Tunisia",
            "Namibia",
            "Liechtenstein",
            "Lithuania",
            "Ecuador",
            "Albania",
            "Estonia",
            "Gibraltar",
            "East Asia and the Pacific (WB)",
            "World",
            "Low-income countries",
            "Andorra",
            "San Marino",
            "Morocco",
            "Senegal",
            "Croatia",
            "Brazil",
            "Azerbaijan",
            "South Asia (WB)",
            "Laos",
            "Mali",
            "Bolivia",
            "Bosnia and Herzegovina",
            "Malta",
            "Marshall Islands",
            "Sub-Saharan Africa (WB)",
            "Spain",
            "Middle East and North Africa (WB)",
            "Norway",
            "Uruguay",
            "Togo",
            "Southern and Eastern Africa (WB)",
            "Honduras",
            "Pakistan",
            "Vatican",
            "Bulgaria",
            "Palestine",
            "Mexico",
            "Venezuela",
            "Brunei",
            "Mauritius",
            "Latvia",
            "Romania",
            "Upper-middle-income countries",
            "Qatar",
            "Samoa",
            "Costa Rica",
            "Cook Islands",
            "Congo",
            "Macao",
            "Europe and Central Asia (WB)",
            "Singapore",
            "Colombia",
            "Italy",
            "Western and Central Africa (WB)",
            "South Africa",
            "Bahrain",
            "Bangladesh",
            "Latin America and Caribbean (WB)",
            "El Salvador",
            "Serbia",
            "Chile"
           ],
           "locations": [
            "CZE",
            "CYP",
            null,
            "IDN",
            "MNE",
            "ARM",
            "NIU",
            null,
            "AUT",
            "DOM",
            "IND",
            "TUR",
            "ZWE",
            "TON",
            "NPL",
            "PRT",
            "JOR",
            "SLB",
            "AFG",
            "TUN",
            "NAM",
            "LIE",
            "LTU",
            "ECU",
            "ALB",
            "EST",
            "GIB",
            null,
            "OWID_WRL",
            null,
            "AND",
            "SMR",
            "MAR",
            "SEN",
            "HRV",
            "BRA",
            "AZE",
            null,
            "LAO",
            "MLI",
            "BOL",
            "BIH",
            "MLT",
            "MHL",
            null,
            "ESP",
            null,
            "NOR",
            "URY",
            "TGO",
            null,
            "HND",
            "PAK",
            "VAT",
            "BGR",
            "PSE",
            "MEX",
            "VEN",
            "BRN",
            "MUS",
            "LVA",
            "ROU",
            null,
            "QAT",
            "WSM",
            "CRI",
            "COK",
            "COG",
            "MAC",
            null,
            "SGP",
            "COL",
            "ITA",
            null,
            "ZAF",
            "BHR",
            "BGD",
            null,
            "SLV",
            "SRB",
            "CHL"
           ],
           "name": "",
           "type": "choropleth",
           "z": [
            99,
            98.67843,
            72.2775,
            92.81191,
            98.44221,
            99.74441,
            95,
            71.01206,
            98,
            90.10638,
            69.30256,
            94.10609,
            83.58271,
            99.38553,
            59.62725,
            94.47705,
            95.90445,
            84.1,
            31.44885,
            79.65391,
            88.27463,
            100,
            99.8156,
            91.5869,
            96.8453,
            99.88579,
            80,
            93.83104,
            84.32265,
            57.13771,
            100,
            96,
            67.08416,
            51.81455,
            99.12536,
            91.41124,
            99.77863,
            66.50597,
            58.28794,
            30.61867,
            92.22615,
            98.14204,
            93.30736,
            98.26508,
            60.78816,
            97.78375,
            77.35669,
            100,
            98.3359,
            60.40994,
            66.82965,
            85.1233,
            54.73802,
            100,
            98.35245,
            95.02582,
            93.51998,
            94.77022,
            96.08556,
            89.24984,
            99.8959,
            98.60429,
            94.38587,
            96.40687,
            98.97326,
            97.40658,
            95,
            79.31117,
            95.64004,
            97.88421,
            96.18604,
            93.58053,
            98.84828,
            51.76631,
            93.10214,
            92.3,
            58.76918,
            92.15575,
            85.49399,
            97.96241,
            96.70301
           ]
          }
         ],
         "name": "2011"
        },
        {
         "data": [
          {
           "coloraxis": "coloraxis",
           "geo": "geo",
           "hovertemplate": "<b>%{hovertext}</b><br><br>Year=2012<br>Code=%{location}<br>Literacy Rate (%)=%{z}<extra></extra>",
           "hovertext": [
            "Europe and Central Asia (WB)",
            "Egypt",
            "Tanzania",
            "Suriname",
            "Jordan",
            "Rwanda",
            "Qatar",
            "Latin America and Caribbean (WB)",
            "Ecuador",
            "Sub-Saharan Africa (WB)",
            "Guatemala",
            "Honduras",
            "Gabon",
            "Palestine",
            "Mexico",
            "Brazil",
            "Southern and Eastern Africa (WB)",
            "Pakistan",
            "Middle East and North Africa (WB)",
            "Bolivia",
            "Bhutan",
            "Benin",
            "Tunisia",
            "Bangladesh",
            "Western and Central Africa (WB)",
            "Singapore",
            "Iraq",
            "Azerbaijan",
            "Arab World (WB)",
            "Niger",
            "Morocco",
            "World",
            "Iran",
            "Albania",
            "North Macedonia",
            "Kuwait",
            "Sao Tome and Principe",
            "Paraguay",
            "Lower-middle-income countries",
            "Ukraine",
            "South Asia (WB)",
            "Democratic Republic of Congo",
            "Cuba",
            "Uruguay",
            "Cote d'Ivoire",
            "Comoros",
            "Madagascar",
            "Upper-middle-income countries",
            "Peru",
            "South Africa",
            "Turkey",
            "Low-income countries",
            "Spain",
            "Cape Verde",
            "Mauritius",
            "East Asia and the Pacific (WB)",
            "Dominican Republic",
            "Uganda"
           ],
           "locations": [
            null,
            "EGY",
            "TZA",
            "SUR",
            "JOR",
            "RWA",
            "QAT",
            null,
            "ECU",
            null,
            "GTM",
            "HND",
            "GAB",
            "PSE",
            "MEX",
            "BRA",
            null,
            "PAK",
            null,
            "BOL",
            "BTN",
            "BEN",
            "TUN",
            "BGD",
            null,
            "SGP",
            "IRQ",
            "AZE",
            null,
            "NER",
            "MAR",
            "OWID_WRL",
            "IRN",
            "ALB",
            "MKD",
            "KWT",
            "STP",
            "PRY",
            null,
            "UKR",
            null,
            "COD",
            "CUB",
            "URY",
            "CIV",
            "COM",
            "MDG",
            null,
            "PER",
            "ZAF",
            "TUR",
            null,
            "ESP",
            "CPV",
            "MUS",
            null,
            "DOM",
            "UGA"
           ],
           "name": "",
           "type": "choropleth",
           "z": [
            97.98754,
            73.86559,
            78.10059,
            92.86866,
            97.89032,
            68.33103,
            96.67859,
            92.39838,
            92.06473,
            61.96924,
            78.26486,
            85.35555,
            82.2838,
            95.67101,
            94.2284,
            91.33785,
            68.36135,
            56.76434,
            79.85406,
            94.46057,
            55.31756,
            32.94882,
            80.21875,
            57.86075,
            52.41016,
            96.36979,
            77.2,
            99.77577,
            75.70189,
            30.56039,
            69.42539,
            84.76106,
            83.62599,
            97.24697,
            97.6,
            95.51317,
            90.1431,
            94.19747,
            71.84989,
            99.97435,
            67.30776,
            75.01719,
            99.67311,
            98.39594,
            40.98163,
            49.19614,
            71.57262,
            94.83447,
            93.84173,
            93.72947,
            94.91975,
            57.59889,
            97.89454,
            85.32779,
            91.76601,
            94.02285,
            90.15518,
            70.19822
           ]
          }
         ],
         "name": "2012"
        },
        {
         "data": [
          {
           "coloraxis": "coloraxis",
           "geo": "geo",
           "hovertemplate": "<b>%{hovertext}</b><br><br>Year=2013<br>Code=%{location}<br>Literacy Rate (%)=%{z}<extra></extra>",
           "hovertext": [
            "Senegal",
            "Kuwait",
            "Spain",
            "Southern and Eastern Africa (WB)",
            "Sierra Leone",
            "Gambia",
            "Saudi Arabia",
            "Singapore",
            "Europe and Central Asia (WB)",
            "Paraguay",
            "Mauritius",
            "Central Europe and the Baltics (WB)",
            "Mauritania",
            "Arab World (WB)",
            "Uruguay",
            "Uzbekistan",
            "Honduras",
            "Azerbaijan",
            "Palestine",
            "Mexico",
            "Western and Central Africa (WB)",
            "Brazil",
            "Palau",
            "Bangladesh",
            "Botswana",
            "Pakistan",
            "Upper-middle-income countries",
            "Bosnia and Herzegovina",
            "Chile",
            "Lower-middle-income countries",
            "Latin America and Caribbean (WB)",
            "Sub-Saharan Africa (WB)",
            "El Salvador",
            "Egypt",
            "Iran",
            "Qatar",
            "Ecuador",
            "Thailand",
            "East Asia and the Pacific (WB)",
            "Philippines",
            "Low-income countries",
            "Turkey",
            "World",
            "South Asia (WB)",
            "Dominican Republic",
            "Guatemala",
            "Middle East and North Africa (WB)"
           ],
           "locations": [
            "SEN",
            "KWT",
            "ESP",
            null,
            "SLE",
            "GMB",
            "SAU",
            "SGP",
            null,
            "PRY",
            "MUS",
            null,
            "MRT",
            null,
            "URY",
            "UZB",
            "HND",
            "AZE",
            "PSE",
            "MEX",
            null,
            "BRA",
            "PLW",
            "BGD",
            "BWA",
            "PAK",
            null,
            "BIH",
            "CHL",
            null,
            null,
            null,
            "SLV",
            "EGY",
            "IRN",
            "QAT",
            "ECU",
            "THA",
            null,
            "PHL",
            null,
            "TUR",
            "OWID_WRL",
            null,
            "DOM",
            "GTM",
            null
           ],
           "name": "",
           "type": "choropleth",
           "z": [
            43.5345,
            95.58582,
            98.07913,
            69.3831,
            32.42617,
            41.95005,
            94.42634,
            96.54802,
            98.05367,
            95.05904,
            91.49003,
            99.29847,
            62.06875,
            73.27648,
            98.36387,
            99.99486,
            85.46442,
            99.78936,
            96.04603,
            93.96285,
            53.00278,
            91.48424,
            99.50313,
            61.01554,
            86.82318,
            55.59499,
            94.60601,
            96.99177,
            96.26706,
            72.41251,
            92.44463,
            62.83043,
            86.76758,
            72.4425,
            84.6268,
            97.47785,
            93.29463,
            93.70207,
            94.12432,
            96.398,
            58.55048,
            95.25666,
            84.86014,
            68.05453,
            90.85815,
            77.03867,
            77.86291
           ]
          }
         ],
         "name": "2013"
        },
        {
         "data": [
          {
           "coloraxis": "coloraxis",
           "geo": "geo",
           "hovertemplate": "<b>%{hovertext}</b><br><br>Year=2014<br>Code=%{location}<br>Literacy Rate (%)=%{z}<extra></extra>",
           "hovertext": [
            "Guinea-Bissau",
            "Hungary",
            "Honduras",
            "Guinea",
            "South Asia (WB)",
            "Guyana",
            "Guatemala",
            "New Caledonia",
            "Turkey",
            "Southern and Eastern Africa (WB)",
            "Uruguay",
            "Uzbekistan",
            "Burundi",
            "Vanuatu",
            "Burkina Faso",
            "Brazil",
            "Botswana",
            "Bosnia and Herzegovina",
            "Cambodia",
            "Bangladesh",
            "Azerbaijan",
            "Argentina",
            "Arab World (WB)",
            "Antigua and Barbuda",
            "Angola",
            "World",
            "Yemen",
            "Zimbabwe",
            "Western and Central Africa (WB)",
            "Greece",
            "Upper-middle-income countries",
            "Chad",
            "Georgia",
            "Spain",
            "Europe and Central Asia (WB)",
            "Eritrea",
            "Equatorial Guinea",
            "Sub-Saharan Africa (WB)",
            "Syria",
            "Tajikistan",
            "Central Europe and the Baltics (WB)",
            "Ecuador",
            "East Asia and the Pacific (WB)",
            "Tunisia",
            "Turkmenistan",
            "Dominican Republic",
            "Ukraine",
            "Cote d'Ivoire",
            "Comoros",
            "Colombia",
            "Trinidad and Tobago",
            "Indonesia",
            "Gambia",
            "Paraguay",
            "Jamaica",
            "Oman",
            "Morocco",
            "Papua New Guinea",
            "Sierra Leone",
            "Qatar",
            "Malawi",
            "Latin America and Caribbean (WB)",
            "South Africa",
            "Low-income countries",
            "Slovenia",
            "Myanmar",
            "Peru",
            "Maldives",
            "Moldova",
            "Lower-middle-income countries",
            "North Macedonia",
            "Kenya",
            "Rwanda",
            "Mauritius",
            "Singapore",
            "Lesotho",
            "Libya",
            "Poland",
            "Iraq",
            "Pakistan",
            "Palestine",
            "Iran",
            "Mexico",
            "Middle East and North Africa (WB)"
           ],
           "locations": [
            "GNB",
            "HUN",
            "HND",
            "GIN",
            null,
            "GUY",
            "GTM",
            "NCL",
            "TUR",
            null,
            "URY",
            "UZB",
            "BDI",
            "VUT",
            "BFA",
            "BRA",
            "BWA",
            "BIH",
            "KHM",
            "BGD",
            "AZE",
            "ARG",
            null,
            "ATG",
            "AGO",
            "OWID_WRL",
            "YEM",
            "ZWE",
            null,
            "GRC",
            null,
            "TCD",
            "GEO",
            "ESP",
            null,
            "ERI",
            "GNQ",
            null,
            "SYR",
            "TJK",
            null,
            "ECU",
            null,
            "TUN",
            "TKM",
            "DOM",
            "UKR",
            "CIV",
            "COM",
            "COL",
            "TTO",
            "IDN",
            "GMB",
            "PRY",
            "JAM",
            "OMN",
            "MAR",
            "PNG",
            "SLE",
            "QAT",
            "MWI",
            null,
            "ZAF",
            null,
            "SVN",
            "MMR",
            "PER",
            "MDV",
            "MDA",
            null,
            "MKD",
            "KEN",
            "RWA",
            "MUS",
            "SGP",
            "LSO",
            "LBY",
            "POL",
            "IRQ",
            "PAK",
            "PSE",
            "IRN",
            "MEX",
            null
           ],
           "name": "",
           "type": "choropleth",
           "z": [
            45.58116,
            99.05012,
            87.19753,
            32.00384,
            68.79317,
            85.63973,
            81.2859,
            96.80667,
            95.43963,
            69.83477,
            98.43593,
            99.98055,
            61.51349,
            84.7,
            34.5994,
            91.72943,
            87.70751,
            98.37765,
            78.05509,
            61.0933,
            99.78899,
            98.03402,
            77.57787,
            98.95,
            66.03011,
            85.43371,
            68.78942,
            88.69342,
            54.00676,
            97.53238,
            95.30264,
            39.04967,
            99.58619,
            98.09372,
            98.09614,
            72.79049,
            94.95674,
            63.51338,
            86.3,
            99.76841,
            99.31573,
            94.22264,
            94.65799,
            79.03643,
            99.67285,
            91.76376,
            99.75347,
            43.90842,
            77.57327,
            94.18625,
            98.91949,
            95.11622,
            54.38756,
            95.03481,
            88.13225,
            91.9812,
            75.5862,
            63.09609,
            47.18624,
            97.74669,
            65.14537,
            92.88939,
            94.1399,
            58.89173,
            99.71005,
            92.92316,
            93.70795,
            98.61012,
            99.35989,
            73.23756,
            97.75175,
            78.73304,
            70.80413,
            92.47476,
            96.71669,
            76.6352,
            91.04144,
            99.77411,
            82.2,
            56.97715,
            96.21293,
            84.70524,
            94.55588,
            81.56906
           ]
          }
         ],
         "name": "2014"
        },
        {
         "data": [
          {
           "coloraxis": "coloraxis",
           "geo": "geo",
           "hovertemplate": "<b>%{hovertext}</b><br><br>Year=2015<br>Code=%{location}<br>Literacy Rate (%)=%{z}<extra></extra>",
           "hovertext": [
            "Sao Tome and Principe",
            "Latin America and Caribbean (WB)",
            "Paraguay",
            "Sub-Saharan Africa (WB)",
            "Palau",
            "Lower-middle-income countries",
            "Cote d'Ivoire",
            "Western and Central Africa (WB)",
            "North Korea",
            "Senegal",
            "Uganda",
            "Zimbabwe",
            "Ukraine",
            "Rwanda",
            "Croatia",
            "Europe and Central Asia (WB)",
            "Democratic Republic of Congo",
            "Ethiopia",
            "Cyprus",
            "Eswatini",
            "Laos",
            "Kyrgyzstan",
            "Bahrain",
            "Estonia",
            "Saudi Arabia",
            "Indonesia",
            "Eritrea",
            "United Arab Emirates",
            "Brunei",
            "Equatorial Guinea",
            "Azerbaijan",
            "Cuba",
            "Samoa",
            "Mexico",
            "Brazil",
            "Romania",
            "Sudan",
            "Benin",
            "Lithuania",
            "Thailand",
            "Bosnia and Herzegovina",
            "Oman",
            "Puerto Rico",
            "Lesotho",
            "Bhutan",
            "Togo",
            "Tunisia",
            "Liberia",
            "Libya",
            "East Timor",
            "Tonga",
            "Bolivia",
            "Portugal",
            "Poland",
            "Vietnam",
            "Trinidad and Tobago",
            "Lebanon",
            "Ecuador",
            "Belize",
            "Tanzania",
            "Dominican Republic",
            "Turkmenistan",
            "Suriname",
            "North Macedonia",
            "El Salvador",
            "Turkey",
            "Peru",
            "Bangladesh",
            "Egypt",
            "Botswana",
            "Venezuela",
            "Low-income countries",
            "Syria",
            "Middle East and North Africa (WB)",
            "Belarus",
            "Qatar",
            "Tajikistan",
            "Philippines",
            "Latvia",
            "Pakistan",
            "Cameroon",
            "Russia",
            "Aruba",
            "Costa Rica",
            "Mauritius",
            "Algeria",
            "Upper-middle-income countries",
            "Uruguay",
            "Papua New Guinea",
            "Haiti",
            "South Sudan",
            "Maldives",
            "Guyana",
            "South Asia (WB)",
            "Jordan",
            "World",
            "Guinea-Bissau",
            "Central Europe and the Baltics (WB)",
            "Guinea",
            "Kazakhstan",
            "Mozambique",
            "Guatemala",
            "Chad",
            "Bulgaria",
            "Slovenia",
            "Guam",
            "Jamaica",
            "Yemen",
            "Malta",
            "Nepal",
            "Afghanistan",
            "India",
            "Iran",
            "Cape Verde",
            "Zambia",
            "Iraq",
            "Namibia",
            "Myanmar",
            "Hungary",
            "Mali",
            "Central African Republic",
            "Marshall Islands",
            "Honduras",
            "Panama",
            "Mauritania",
            "Albania",
            "South Africa",
            "Italy",
            "Cambodia",
            "Greece",
            "Morocco",
            "Malaysia",
            "Uzbekistan",
            "Gambia",
            "New Caledonia",
            "Madagascar",
            "Burundi",
            "Gabon",
            "Colombia",
            "Seychelles",
            "Serbia",
            "Kuwait",
            "Spain",
            "Macao",
            "Comoros",
            "Argentina",
            "Armenia",
            "Vanuatu",
            "Moldova",
            "Congo",
            "Sri Lanka",
            "Burkina Faso",
            "Palestine",
            "Georgia",
            "Arab World (WB)",
            "China",
            "East Asia and the Pacific (WB)",
            "Southern and Eastern Africa (WB)",
            "Chile",
            "Angola",
            "Kenya",
            "Nicaragua",
            "Malawi",
            "Niger",
            "Montenegro",
            "Nigeria",
            "Singapore",
            "Ghana",
            "Sierra Leone",
            "Mongolia"
           ],
           "locations": [
            "STP",
            null,
            "PRY",
            null,
            "PLW",
            null,
            "CIV",
            null,
            "PRK",
            "SEN",
            "UGA",
            "ZWE",
            "UKR",
            "RWA",
            "HRV",
            null,
            "COD",
            "ETH",
            "CYP",
            "SWZ",
            "LAO",
            "KGZ",
            "BHR",
            "EST",
            "SAU",
            "IDN",
            "ERI",
            "ARE",
            "BRN",
            "GNQ",
            "AZE",
            "CUB",
            "WSM",
            "MEX",
            "BRA",
            "ROU",
            "SDN",
            "BEN",
            "LTU",
            "THA",
            "BIH",
            "OMN",
            "PRI",
            "LSO",
            "BTN",
            "TGO",
            "TUN",
            "LBR",
            "LBY",
            "TLS",
            "TON",
            "BOL",
            "PRT",
            "POL",
            "VNM",
            "TTO",
            "LBN",
            "ECU",
            "BLZ",
            "TZA",
            "DOM",
            "TKM",
            "SUR",
            "MKD",
            "SLV",
            "TUR",
            "PER",
            "BGD",
            "EGY",
            "BWA",
            "VEN",
            null,
            "SYR",
            null,
            "BLR",
            "QAT",
            "TJK",
            "PHL",
            "LVA",
            "PAK",
            "CMR",
            "RUS",
            "ABW",
            "CRI",
            "MUS",
            "DZA",
            null,
            "URY",
            "PNG",
            "HTI",
            "SSD",
            "MDV",
            "GUY",
            null,
            "JOR",
            "OWID_WRL",
            "GNB",
            null,
            "GIN",
            "KAZ",
            "MOZ",
            "GTM",
            "TCD",
            "BGR",
            "SVN",
            "GUM",
            "JAM",
            "YEM",
            "MLT",
            "NPL",
            "AFG",
            "IND",
            "IRN",
            "CPV",
            "ZMB",
            "IRQ",
            "NAM",
            "MMR",
            "HUN",
            "MLI",
            "CAF",
            "MHL",
            "HND",
            "PAN",
            "MRT",
            "ALB",
            "ZAF",
            "ITA",
            "KHM",
            "GRC",
            "MAR",
            "MYS",
            "UZB",
            "GMB",
            "NCL",
            "MDG",
            "BDI",
            "GAB",
            "COL",
            "SYC",
            "SRB",
            "KWT",
            "ESP",
            "MAC",
            "COM",
            "ARG",
            "ARM",
            "VUT",
            "MDA",
            "COG",
            "LKA",
            "BFA",
            "PSE",
            "GEO",
            null,
            "CHN",
            null,
            null,
            "CHL",
            "AGO",
            "KEN",
            "NIC",
            "MWI",
            "NER",
            "MNE",
            "NGA",
            "SGP",
            "GHA",
            "SLE",
            "MNG"
           ],
           "name": "",
           "type": "choropleth",
           "z": [
            91.74711,
            93.05001,
            95.55484,
            64.13228,
            96.59374,
            74.02703,
            43.26532,
            54.81832,
            99.99924,
            55.62485,
            73.80984,
            86.87348,
            99.76411,
            71.2435,
            99.27259,
            98.13865,
            77.22167,
            49.03152,
            99.05978,
            87.47019,
            84.66104,
            99.50132,
            95.71726,
            99.82351,
            94.84237,
            95.21793,
            73.84525,
            92.98637,
            96.65653,
            95.19566,
            99.78806,
            99.71072,
            99.01501,
            94.47228,
            92.0479,
            98.75703,
            58.60132,
            38.44714,
            99.82328,
            92.86831,
            98.48576,
            93.03861,
            93.32942,
            79.36093,
            63.90682,
            63.74562,
            81.05419,
            47.60014,
            91.38887,
            64.06614,
            99.39786,
            92.45508,
            95.42811,
            99.78742,
            94.51427,
            98.96958,
            94.0511,
            94.45566,
            82.77682,
            77.88723,
            91.99121,
            99.69293,
            95.53899,
            97.84376,
            87.96985,
            95.60142,
            94.16234,
            65.13733,
            75.84262,
            88.22441,
            96.60522,
            59.36031,
            86.30393,
            79.55848,
            99.72204,
            97.75709,
            99.78105,
            98.18255,
            99.89269,
            56.44031,
            74.98558,
            99.71957,
            97.5242,
            97.64725,
            92.7076,
            79.6084,
            95.07114,
            98.52387,
            63.43349,
            60.68935,
            31.97625,
            99.32102,
            87.53532,
            69.75716,
            98.01435,
            85.60183,
            59.77285,
            99.33277,
            30.47279,
            99.78785,
            56.039,
            79.07421,
            26.00299,
            98.38858,
            99.71476,
            99.78904,
            88.4999,
            69.96195,
            94.06661,
            64.66364,
            38.16804,
            72.2253,
            87.17253,
            86.79029,
            85.11726,
            79.72176,
            90.8205,
            93.09005,
            99.38088,
            33.06889,
            36.75261,
            98.26508,
            87.90683,
            95.03823,
            52.12356,
            97.5539,
            94.36792,
            99.01579,
            80.52649,
            95.29287,
            71.71055,
            94.63699,
            99.98383,
            50.77797,
            96.93782,
            64.6563,
            85.49609,
            83.23788,
            94.24505,
            95.32108,
            98.00289,
            95.68545,
            98.14326,
            96.2276,
            78.13739,
            98.08997,
            99.76842,
            85.05868,
            99.24439,
            79.31117,
            92.61417,
            37.7467,
            96.47712,
            99.75962,
            74.98121,
            96.35745,
            94.8695,
            70.31342,
            96.87413,
            71.16416,
            78.0234,
            82.61455,
            62.14354,
            19.1026,
            98.71995,
            59.56808,
            96.82549,
            76.5759,
            48.4319,
            98.36764
           ]
          }
         ],
         "name": "2015"
        },
        {
         "data": [
          {
           "coloraxis": "coloraxis",
           "geo": "geo",
           "hovertemplate": "<b>%{hovertext}</b><br><br>Year=2016<br>Code=%{location}<br>Literacy Rate (%)=%{z}<extra></extra>",
           "hovertext": [
            "Chad",
            "Turkey",
            "Paraguay",
            "Palestine",
            "Mexico",
            "Dominican Republic",
            "Uzbekistan",
            "Democratic Republic of Congo",
            "Peru",
            "Uruguay",
            "Brazil",
            "Colombia",
            "Lower-middle-income countries",
            "Low-income countries",
            "Mauritius",
            "Upper-middle-income countries",
            "Maldives",
            "Venezuela",
            "Central Europe and the Baltics (WB)",
            "Macao",
            "Indonesia",
            "Bangladesh",
            "Armenia",
            "El Salvador",
            "Arab World (WB)",
            "Latin America and Caribbean (WB)",
            "Sri Lanka",
            "Southern and Eastern Africa (WB)",
            "Singapore",
            "Middle East and North Africa (WB)",
            "East Asia and the Pacific (WB)",
            "Western and Central Africa (WB)",
            "Serbia",
            "World",
            "Spain",
            "Myanmar",
            "Sub-Saharan Africa (WB)",
            "Iran",
            "Ecuador",
            "Europe and Central Asia (WB)",
            "South Asia (WB)",
            "Iraq",
            "Haiti",
            "Azerbaijan",
            "Honduras"
           ],
           "locations": [
            "TCD",
            "TUR",
            "PRY",
            "PSE",
            "MEX",
            "DOM",
            "UZB",
            "COD",
            "PER",
            "URY",
            "BRA",
            "COL",
            null,
            null,
            "MUS",
            null,
            "MDV",
            "VEN",
            null,
            "MAC",
            "IDN",
            "BGD",
            "ARM",
            "SLV",
            null,
            null,
            "LKA",
            null,
            "SGP",
            null,
            null,
            null,
            "SRB",
            "OWID_WRL",
            "ESP",
            "MMR",
            null,
            "IRN",
            "ECU",
            null,
            null,
            "IRQ",
            "HTI",
            "AZE",
            "HND"
           ],
           "name": "",
           "type": "choropleth",
           "z": [
            22.31155,
            96.16733,
            94.65024,
            96.71919,
            94.85962,
            93.77846,
            99.98657,
            77.04268,
            94.17367,
            98.56147,
            92.80844,
            94.65385,
            74.70815,
            60.10976,
            93.15784,
            95.64911,
            97.73495,
            97.12709,
            99.3535,
            96.53849,
            95.37697,
            72.75872,
            99.74441,
            88.14177,
            76.38673,
            93.52842,
            92.3869,
            71.0952,
            97.04956,
            80.59259,
            95.03397,
            55.43792,
            98.84151,
            86.06116,
            98.25051,
            75.5512,
            64.8614,
            85.54425,
            94.35023,
            98.23154,
            71.10493,
            83.3,
            61.69135,
            99.79006,
            88.98748
           ]
          }
         ],
         "name": "2016"
        },
        {
         "data": [
          {
           "coloraxis": "coloraxis",
           "geo": "geo",
           "hovertemplate": "<b>%{hovertext}</b><br><br>Year=2017<br>Code=%{location}<br>Literacy Rate (%)=%{z}<extra></extra>",
           "hovertext": [
            "Armenia",
            "Azerbaijan",
            "Kuwait",
            "Saudi Arabia",
            "Sri Lanka",
            "Europe and Central Asia (WB)",
            "Senegal",
            "East Asia and the Pacific (WB)",
            "Chile",
            "Arab World (WB)",
            "Cayman Islands",
            "Iraq",
            "South Africa",
            "South Asia (WB)",
            "Upper-middle-income countries",
            "World",
            "Palestine",
            "Mozambique",
            "Uruguay",
            "Singapore",
            "Southern and Eastern Africa (WB)",
            "Brazil",
            "Georgia",
            "Burundi",
            "Central Europe and the Baltics (WB)",
            "Ethiopia",
            "North America (WB)",
            "Turkey",
            "Mexico",
            "Peru",
            "Pakistan",
            "Egypt",
            "Ecuador",
            "Puerto Rico",
            "Bhutan",
            "Sub-Saharan Africa (WB)",
            "Lower-middle-income countries",
            "Bangladesh",
            "El Salvador",
            "Middle East and North Africa (WB)",
            "Low-income countries",
            "Western and Central Africa (WB)",
            "Liberia",
            "Latin America and Caribbean (WB)",
            "Oman"
           ],
           "locations": [
            "ARM",
            "AZE",
            "KWT",
            "SAU",
            "LKA",
            null,
            "SEN",
            null,
            "CHL",
            null,
            "CYM",
            "IRQ",
            "ZAF",
            null,
            null,
            "OWID_WRL",
            "PSE",
            "MOZ",
            "URY",
            "SGP",
            null,
            "BRA",
            "GEO",
            "BDI",
            null,
            "ETH",
            null,
            "TUR",
            "MEX",
            "PER",
            "PAK",
            "EGY",
            "ECU",
            "PRI",
            "BTN",
            null,
            null,
            "BGD",
            "SLV",
            null,
            null,
            null,
            "LBR",
            null,
            "OMN"
           ],
           "name": "",
           "type": "choropleth",
           "z": [
            99.73607,
            99.79123,
            96.03595,
            95.32863,
            91.89575,
            98.27937,
            51.90042,
            95.20588,
            96.40228,
            77.1703,
            98.86782,
            85.6,
            87.04667,
            71.79036,
            95.6296,
            86.28823,
            96.9244,
            60.65543,
            98.61572,
            97.20222,
            71.00907,
            93.07582,
            99.36426,
            68.37533,
            99.37043,
            51.77118,
            98.7193,
            96.15053,
            94.97278,
            94.14961,
            59.13205,
            71.16825,
            92.82979,
            92.39,
            66.56115,
            65.22324,
            75.37246,
            72.89297,
            88.48271,
            81.51193,
            61.12589,
            56.48554,
            48.30136,
            93.59473,
            95.576
           ]
          }
         ],
         "name": "2017"
        },
        {
         "data": [
          {
           "coloraxis": "coloraxis",
           "geo": "geo",
           "hovertemplate": "<b>%{hovertext}</b><br><br>Year=2018<br>Code=%{location}<br>Literacy Rate (%)=%{z}<extra></extra>",
           "hovertext": [
            "Singapore",
            "Peru",
            "Guatemala",
            "Uruguay",
            "Central Europe and the Baltics (WB)",
            "Latin America and Caribbean (WB)",
            "Algeria",
            "Southern and Eastern Africa (WB)",
            "South Sudan",
            "South Korea",
            "World",
            "South Asia (WB)",
            "Upper-middle-income countries",
            "Thailand",
            "Panama",
            "Oman",
            "Central African Republic",
            "Honduras",
            "Mali",
            "East Asia and the Pacific (WB)",
            "Indonesia",
            "Guinea",
            "Bangladesh",
            "Cameroon",
            "Uganda",
            "North America (WB)",
            "Lower-middle-income countries",
            "Brunei",
            "North Korea",
            "Sri Lanka",
            "Kuwait",
            "Uzbekistan",
            "Rwanda",
            "Burkina Faso",
            "Middle East and North Africa (WB)",
            "Mexico",
            "Europe and Central Asia (WB)",
            "El Salvador",
            "Spain",
            "Palestine",
            "Colombia",
            "Paraguay",
            "Western and Central Africa (WB)",
            "Nigeria",
            "Brazil",
            "Arab World (WB)",
            "Madagascar",
            "Low-income countries",
            "Eritrea",
            "Pakistan",
            "Sudan",
            "Sub-Saharan Africa (WB)"
           ],
           "locations": [
            "SGP",
            "PER",
            "GTM",
            "URY",
            null,
            null,
            "DZA",
            null,
            "SSD",
            "KOR",
            "OWID_WRL",
            null,
            null,
            "THA",
            "PAN",
            "OMN",
            "CAF",
            "HND",
            "MLI",
            null,
            "IDN",
            "GIN",
            "BGD",
            "CMR",
            "UGA",
            null,
            null,
            "BRN",
            "PRK",
            "LKA",
            "KWT",
            "UZB",
            "RWA",
            "BFA",
            null,
            "MEX",
            null,
            "SLV",
            "ESP",
            "PSE",
            "COL",
            "PRY",
            null,
            "NGA",
            "BRA",
            null,
            "MDG",
            null,
            "ERI",
            "PAK",
            "SDN",
            null
           ],
           "name": "",
           "type": "choropleth",
           "z": [
            97.34486,
            94.40827,
            80.81068,
            98.70386,
            99.38724,
            93.72667,
            81.40784,
            71.39262,
            34.52276,
            98.8,
            86.33905,
            72.08151,
            95.42072,
            93.76776,
            95.41181,
            95.65153,
            37.39582,
            87.20524,
            35.47377,
            95.30794,
            95.65856,
            39.61768,
            73.9122,
            77.07104,
            76.5275,
            98.72725,
            75.94947,
            97.21411,
            99.99819,
            91.70982,
            96.05647,
            99.99289,
            73.21559,
            39.34585,
            79.00979,
            95.37991,
            98.39641,
            89.0086,
            98.4365,
            97.21861,
            95.09251,
            94.0208,
            59.56846,
            62.01601,
            93.2275,
            74.28613,
            76.67968,
            60.92019,
            76.57052,
            57.01057,
            60.69718,
            66.68364
           ]
          }
         ],
         "name": "2018"
        },
        {
         "data": [
          {
           "coloraxis": "coloraxis",
           "geo": "geo",
           "hovertemplate": "<b>%{hovertext}</b><br><br>Year=2019<br>Code=%{location}<br>Literacy Rate (%)=%{z}<extra></extra>",
           "hovertext": [
            "Vietnam",
            "Myanmar",
            "North America (WB)",
            "Azerbaijan",
            "Middle East and North Africa (WB)",
            "World",
            "Bangladesh",
            "Pakistan",
            "Burkina Faso",
            "Uruguay",
            "Palestine",
            "Arab World (WB)",
            "Uzbekistan",
            "Belarus",
            "Western and Central Africa (WB)",
            "United Arab Emirates",
            "Philippines",
            "Cote d'Ivoire",
            "Sub-Saharan Africa (WB)",
            "Europe and Central Asia (WB)",
            "Sri Lanka",
            "Colombia",
            "El Salvador",
            "Paraguay",
            "Serbia",
            "Latin America and Caribbean (WB)",
            "Kyrgyzstan",
            "Southern and Eastern Africa (WB)",
            "Togo",
            "Singapore",
            "Lebanon",
            "Central Europe and the Baltics (WB)",
            "Turkey",
            "East Asia and the Pacific (WB)",
            "Honduras",
            "South Africa",
            "Italy",
            "South Asia (WB)",
            "Low-income countries",
            "Lower-middle-income countries",
            "Upper-middle-income countries",
            "Panama"
           ],
           "locations": [
            "VNM",
            "MMR",
            null,
            "AZE",
            null,
            "OWID_WRL",
            "BGD",
            "PAK",
            "BFA",
            "URY",
            "PSE",
            null,
            "UZB",
            "BLR",
            null,
            "ARE",
            "PHL",
            "CIV",
            null,
            null,
            "LKA",
            "COL",
            "SLV",
            "PRY",
            "SRB",
            null,
            "KGZ",
            null,
            "TGO",
            "SGP",
            "LBN",
            null,
            "TUR",
            null,
            "HND",
            "ZAF",
            "ITA",
            null,
            null,
            null,
            null,
            "PAN"
           ],
           "name": "",
           "type": "choropleth",
           "z": [
            95.75387,
            89.06995,
            98.73326,
            99.79598,
            79.341,
            86.4896,
            74.68446,
            57.99886,
            29.66328,
            98.77035,
            97.37826,
            74.60366,
            99.99995,
            99.874,
            59.51172,
            97.78251,
            96.27817,
            89.89342,
            67.41086,
            98.43328,
            92.25296,
            95.24927,
            89.13792,
            93.21353,
            99.48253,
            94.17398,
            99.6,
            72.63497,
            66.53708,
            97.47958,
            95.3,
            99.40212,
            96.74221,
            95.70822,
            88.50743,
            95.02297,
            99.3491,
            71.94279,
            61.11123,
            76.15857,
            95.73506,
            95.73608
           ]
          }
         ],
         "name": "2019"
        },
        {
         "data": [
          {
           "coloraxis": "coloraxis",
           "geo": "geo",
           "hovertemplate": "<b>%{hovertext}</b><br><br>Year=2020<br>Code=%{location}<br>Literacy Rate (%)=%{z}<extra></extra>",
           "hovertext": [
            "East Timor",
            "Cameroon",
            "Bangladesh",
            "Middle East and North Africa (WB)",
            "Sub-Saharan Africa (WB)",
            "Ecuador",
            "Bolivia",
            "Western and Central Africa (WB)",
            "East Asia and the Pacific (WB)",
            "El Salvador",
            "Mali",
            "Saudi Arabia",
            "Indonesia",
            "Zambia",
            "World",
            "South Asia (WB)",
            "Mozambique",
            "Singapore",
            "Kazakhstan",
            "Southern and Eastern Africa (WB)",
            "Mongolia",
            "Ghana",
            "Seychelles",
            "Arab World (WB)",
            "Spain",
            "Armenia",
            "Europe and Central Asia (WB)",
            "Aruba",
            "Mexico",
            "Kuwait",
            "North America (WB)",
            "Eswatini",
            "Sri Lanka",
            "Latin America and Caribbean (WB)",
            "Lower-middle-income countries",
            "China",
            "Peru",
            "Low-income countries",
            "Colombia",
            "Paraguay",
            "Central Europe and the Baltics (WB)",
            "Central African Republic",
            "Upper-middle-income countries"
           ],
           "locations": [
            "TLS",
            "CMR",
            "BGD",
            null,
            null,
            "ECU",
            "BOL",
            null,
            null,
            "SLV",
            "MLI",
            "SAU",
            "IDN",
            "ZMB",
            "OWID_WRL",
            null,
            "MOZ",
            "SGP",
            "KAZ",
            null,
            "MNG",
            "GHA",
            "SYC",
            null,
            "ESP",
            "ARM",
            null,
            "ABW",
            "MEX",
            "KWT",
            null,
            "SWZ",
            "LKA",
            null,
            null,
            "CHN",
            "PER",
            null,
            "COL",
            "PRY",
            null,
            "CAF",
            null
           ],
           "name": "",
           "type": "choropleth",
           "z": [
            69.9,
            78.23,
            74.9089,
            79.76233,
            67.54763,
            93.6261,
            93.85256,
            59.61751,
            96.00155,
            89.98453,
            30.76141,
            97.58507,
            95.99901,
            87.5,
            86.71151,
            72.65861,
            59.77961,
            97.13185,
            99.8,
            72.78562,
            99.18327,
            80.38,
            96.2,
            75.02288,
            98.59446,
            99.78861,
            98.50483,
            97.99,
            95.24785,
            96.45754,
            98.74023,
            89.28,
            92.3823,
            94.19925,
            76.69681,
            97.15,
            94.49793,
            61.18985,
            95.63633,
            94.54455,
            99.41718,
            37.49,
            95.95692
           ]
          }
         ],
         "name": "2020"
        },
        {
         "data": [
          {
           "coloraxis": "coloraxis",
           "geo": "geo",
           "hovertemplate": "<b>%{hovertext}</b><br><br>Year=2021<br>Code=%{location}<br>Literacy Rate (%)=%{z}<extra></extra>",
           "hovertext": [
            "Lithuania",
            "Bulgaria",
            "North America (WB)",
            "South Asia (WB)",
            "Costa Rica",
            "Western and Central Africa (WB)",
            "Upper-middle-income countries",
            "Samoa",
            "Rwanda",
            "Southern and Eastern Africa (WB)",
            "Estonia",
            "Congo",
            "Sri Lanka",
            "Vanuatu",
            "Croatia",
            "Middle East and North Africa (WB)",
            "Guinea",
            "Maldives",
            "Macao",
            "Jordan",
            "Europe and Central Asia (WB)",
            "Moldova",
            "Uzbekistan",
            "Central Europe and the Baltics (WB)",
            "Arab World (WB)",
            "Mauritius",
            "Montenegro",
            "Lower-middle-income countries",
            "Cuba",
            "Brunei",
            "World",
            "Nepal",
            "Poland",
            "Namibia",
            "East Asia and the Pacific (WB)",
            "Low-income countries",
            "Tonga",
            "Portugal",
            "Hungary",
            "Afghanistan",
            "Sub-Saharan Africa (WB)",
            "Malta",
            "Puerto Rico",
            "Ukraine",
            "South Africa",
            "Thailand",
            "Ecuador",
            "Cyprus",
            "United Arab Emirates",
            "Romania",
            "Latin America and Caribbean (WB)",
            "Russia",
            "Suriname",
            "Latvia",
            "Mauritania"
           ],
           "locations": [
            "LTU",
            "BGR",
            null,
            null,
            "CRI",
            null,
            null,
            "WSM",
            "RWA",
            null,
            "EST",
            "COG",
            "LKA",
            "VUT",
            "HRV",
            null,
            "GIN",
            "MDV",
            "MAC",
            "JOR",
            null,
            "MDA",
            "UZB",
            null,
            null,
            "MUS",
            "MNE",
            null,
            "CUB",
            "BRN",
            "OWID_WRL",
            "NPL",
            "POL",
            "NAM",
            null,
            null,
            "TON",
            "PRT",
            "HUN",
            "AFG",
            null,
            "MLT",
            "PRI",
            "UKR",
            "ZAF",
            "THA",
            "ECU",
            "CYP",
            "ARE",
            "ROU",
            null,
            "RUS",
            "SUR",
            "LVA",
            "MRT"
           ],
           "name": "",
           "type": "choropleth",
           "z": [
            99.83,
            98.42,
            98.73995,
            73.42247,
            98.04,
            60.03461,
            95.91167,
            99.1,
            75.9,
            72.58116,
            99.87,
            80.61,
            92.42903,
            89.1,
            99.45,
            80.01225,
            45.33,
            97.86,
            97.11,
            98.42,
            98.52377,
            99.6,
            99.99792,
            99.42526,
            75.23118,
            92.15,
            98.98,
            77.25923,
            99.67311,
            97.59,
            86.85275,
            71.15,
            99.8,
            92.25,
            96.03774,
            61.66338,
            99.4,
            96.78,
            99.1,
            37.26604,
            67.59193,
            94.94,
            92.4,
            100,
            90.00136,
            94.1,
            94.48359,
            99.36,
            98.12636,
            98.9,
            94.45465,
            99.92777,
            95,
            99.89,
            66.96
           ]
          }
         ],
         "name": "2021"
        },
        {
         "data": [
          {
           "coloraxis": "coloraxis",
           "geo": "geo",
           "hovertemplate": "<b>%{hovertext}</b><br><br>Year=2022<br>Code=%{location}<br>Literacy Rate (%)=%{z}<extra></extra>",
           "hovertext": [
            "Central Europe and the Baltics (WB)",
            "Cambodia",
            "Angola",
            "Sierra Leone",
            "Burundi",
            "World",
            "India",
            "Morocco",
            "Guatemala",
            "Cape Verde",
            "Iran",
            "Somalia",
            "Upper-middle-income countries",
            "Guinea-Bissau",
            "South Asia (WB)",
            "Guyana",
            "Albania",
            "Niger",
            "Lower-middle-income countries",
            "Southern and Eastern Africa (WB)",
            "Brazil",
            "United Arab Emirates",
            "Egypt",
            "Latin America and Caribbean (WB)",
            "Ecuador",
            "Democratic Republic of Congo",
            "Tanzania",
            "Sub-Saharan Africa (WB)",
            "Benin",
            "Uganda",
            "Bhutan",
            "Low-income countries",
            "Oman",
            "Dominican Republic",
            "Tunisia",
            "Bosnia and Herzegovina",
            "Lesotho",
            "Chad",
            "Laos",
            "North America (WB)",
            "Malawi",
            "Georgia",
            "Gambia",
            "Kenya",
            "Gabon",
            "Chile",
            "Arab World (WB)",
            "Western and Central Africa (WB)",
            "Uzbekistan",
            "Europe and Central Asia (WB)",
            "Madagascar",
            "Burkina Faso",
            "Venezuela",
            "Middle East and North Africa (WB)",
            "Comoros",
            "Sao Tome and Principe",
            "Senegal",
            "Zimbabwe"
           ],
           "locations": [
            null,
            "KHM",
            "AGO",
            "SLE",
            "BDI",
            "OWID_WRL",
            "IND",
            "MAR",
            "GTM",
            "CPV",
            "IRN",
            "SOM",
            null,
            "GNB",
            null,
            "GUY",
            "ALB",
            "NER",
            null,
            null,
            "BRA",
            "ARE",
            "EGY",
            null,
            "ECU",
            "COD",
            "TZA",
            null,
            "BEN",
            "UGA",
            "BTN",
            null,
            "OMN",
            "DOM",
            "TUN",
            "BIH",
            "LSO",
            "TCD",
            "LAO",
            null,
            "MWI",
            "GEO",
            "GMB",
            "KEN",
            "GAB",
            "CHL",
            null,
            null,
            "UZB",
            null,
            "MDG",
            "BFA",
            "VEN",
            null,
            "COM",
            "STP",
            "SEN",
            "ZWE"
           ],
           "name": "",
           "type": "choropleth",
           "z": [
            99.42752,
            83.78,
            72.4,
            48.64,
            75.54,
            87.01175,
            76.32278,
            77.35,
            84.27,
            91,
            88.96,
            41.025,
            95.95597,
            53.9,
            74.18776,
            90.03,
            98.5,
            38.1,
            77.79563,
            72.6004,
            94.69,
            98.28541,
            74.5,
            94.60012,
            93.94812,
            80.54,
            82.02,
            67.71501,
            47.1,
            80.59,
            72.1,
            61.87062,
            97.33906,
            95.5,
            83.56,
            98.3,
            82.01,
            27.28,
            87.52,
            98.74067,
            68.08,
            99.57499,
            58.67,
            82.88,
            85.69,
            97.16,
            75.17153,
            60.3127,
            99.99998,
            98.54106,
            77.48,
            34.49,
            97.6,
            80.35759,
            61.71,
            93.75,
            57.67,
            89.85
           ]
          }
         ],
         "name": "2022"
        }
       ],
       "layout": {
        "coloraxis": {
         "colorbar": {
          "title": {
           "text": "Literacy Rate (%)"
          }
         },
         "colorscale": [
          [
           0,
           "rgb(243, 231, 155)"
          ],
          [
           0.16666666666666666,
           "rgb(250, 196, 132)"
          ],
          [
           0.3333333333333333,
           "rgb(248, 160, 126)"
          ],
          [
           0.5,
           "rgb(235, 127, 134)"
          ],
          [
           0.6666666666666666,
           "rgb(206, 102, 147)"
          ],
          [
           0.8333333333333334,
           "rgb(160, 89, 160)"
          ],
          [
           1,
           "rgb(92, 83, 165)"
          ]
         ]
        },
        "geo": {
         "center": {},
         "domain": {
          "x": [
           0,
           1
          ],
          "y": [
           0,
           1
          ]
         }
        },
        "height": 1000,
        "legend": {
         "tracegroupgap": 0
        },
        "margin": {
         "t": 60
        },
        "sliders": [
         {
          "active": 0,
          "currentvalue": {
           "prefix": "Year="
          },
          "len": 0.9,
          "pad": {
           "b": 10,
           "t": 60
          },
          "steps": [
           {
            "args": [
             [
              "1475"
             ],
             {
              "frame": {
               "duration": 0,
               "redraw": true
              },
              "fromcurrent": true,
              "mode": "immediate",
              "transition": {
               "duration": 0,
               "easing": "linear"
              }
             }
            ],
            "label": "1475",
            "method": "animate"
           },
           {
            "args": [
             [
              "1550"
             ],
             {
              "frame": {
               "duration": 0,
               "redraw": true
              },
              "fromcurrent": true,
              "mode": "immediate",
              "transition": {
               "duration": 0,
               "easing": "linear"
              }
             }
            ],
            "label": "1550",
            "method": "animate"
           },
           {
            "args": [
             [
              "1650"
             ],
             {
              "frame": {
               "duration": 0,
               "redraw": true
              },
              "fromcurrent": true,
              "mode": "immediate",
              "transition": {
               "duration": 0,
               "easing": "linear"
              }
             }
            ],
            "label": "1650",
            "method": "animate"
           },
           {
            "args": [
             [
              "1750"
             ],
             {
              "frame": {
               "duration": 0,
               "redraw": true
              },
              "fromcurrent": true,
              "mode": "immediate",
              "transition": {
               "duration": 0,
               "easing": "linear"
              }
             }
            ],
            "label": "1750",
            "method": "animate"
           },
           {
            "args": [
             [
              "1820"
             ],
             {
              "frame": {
               "duration": 0,
               "redraw": true
              },
              "fromcurrent": true,
              "mode": "immediate",
              "transition": {
               "duration": 0,
               "easing": "linear"
              }
             }
            ],
            "label": "1820",
            "method": "animate"
           },
           {
            "args": [
             [
              "1870"
             ],
             {
              "frame": {
               "duration": 0,
               "redraw": true
              },
              "fromcurrent": true,
              "mode": "immediate",
              "transition": {
               "duration": 0,
               "easing": "linear"
              }
             }
            ],
            "label": "1870",
            "method": "animate"
           },
           {
            "args": [
             [
              "1880"
             ],
             {
              "frame": {
               "duration": 0,
               "redraw": true
              },
              "fromcurrent": true,
              "mode": "immediate",
              "transition": {
               "duration": 0,
               "easing": "linear"
              }
             }
            ],
            "label": "1880",
            "method": "animate"
           },
           {
            "args": [
             [
              "1890"
             ],
             {
              "frame": {
               "duration": 0,
               "redraw": true
              },
              "fromcurrent": true,
              "mode": "immediate",
              "transition": {
               "duration": 0,
               "easing": "linear"
              }
             }
            ],
            "label": "1890",
            "method": "animate"
           },
           {
            "args": [
             [
              "1900"
             ],
             {
              "frame": {
               "duration": 0,
               "redraw": true
              },
              "fromcurrent": true,
              "mode": "immediate",
              "transition": {
               "duration": 0,
               "easing": "linear"
              }
             }
            ],
            "label": "1900",
            "method": "animate"
           },
           {
            "args": [
             [
              "1910"
             ],
             {
              "frame": {
               "duration": 0,
               "redraw": true
              },
              "fromcurrent": true,
              "mode": "immediate",
              "transition": {
               "duration": 0,
               "easing": "linear"
              }
             }
            ],
            "label": "1910",
            "method": "animate"
           },
           {
            "args": [
             [
              "1920"
             ],
             {
              "frame": {
               "duration": 0,
               "redraw": true
              },
              "fromcurrent": true,
              "mode": "immediate",
              "transition": {
               "duration": 0,
               "easing": "linear"
              }
             }
            ],
            "label": "1920",
            "method": "animate"
           },
           {
            "args": [
             [
              "1930"
             ],
             {
              "frame": {
               "duration": 0,
               "redraw": true
              },
              "fromcurrent": true,
              "mode": "immediate",
              "transition": {
               "duration": 0,
               "easing": "linear"
              }
             }
            ],
            "label": "1930",
            "method": "animate"
           },
           {
            "args": [
             [
              "1940"
             ],
             {
              "frame": {
               "duration": 0,
               "redraw": true
              },
              "fromcurrent": true,
              "mode": "immediate",
              "transition": {
               "duration": 0,
               "easing": "linear"
              }
             }
            ],
            "label": "1940",
            "method": "animate"
           },
           {
            "args": [
             [
              "1947"
             ],
             {
              "frame": {
               "duration": 0,
               "redraw": true
              },
              "fromcurrent": true,
              "mode": "immediate",
              "transition": {
               "duration": 0,
               "easing": "linear"
              }
             }
            ],
            "label": "1947",
            "method": "animate"
           },
           {
            "args": [
             [
              "1950"
             ],
             {
              "frame": {
               "duration": 0,
               "redraw": true
              },
              "fromcurrent": true,
              "mode": "immediate",
              "transition": {
               "duration": 0,
               "easing": "linear"
              }
             }
            ],
            "label": "1950",
            "method": "animate"
           },
           {
            "args": [
             [
              "1952"
             ],
             {
              "frame": {
               "duration": 0,
               "redraw": true
              },
              "fromcurrent": true,
              "mode": "immediate",
              "transition": {
               "duration": 0,
               "easing": "linear"
              }
             }
            ],
            "label": "1952",
            "method": "animate"
           },
           {
            "args": [
             [
              "1959"
             ],
             {
              "frame": {
               "duration": 0,
               "redraw": true
              },
              "fromcurrent": true,
              "mode": "immediate",
              "transition": {
               "duration": 0,
               "easing": "linear"
              }
             }
            ],
            "label": "1959",
            "method": "animate"
           },
           {
            "args": [
             [
              "1960"
             ],
             {
              "frame": {
               "duration": 0,
               "redraw": true
              },
              "fromcurrent": true,
              "mode": "immediate",
              "transition": {
               "duration": 0,
               "easing": "linear"
              }
             }
            ],
            "label": "1960",
            "method": "animate"
           },
           {
            "args": [
             [
              "1969"
             ],
             {
              "frame": {
               "duration": 0,
               "redraw": true
              },
              "fromcurrent": true,
              "mode": "immediate",
              "transition": {
               "duration": 0,
               "easing": "linear"
              }
             }
            ],
            "label": "1969",
            "method": "animate"
           },
           {
            "args": [
             [
              "1970"
             ],
             {
              "frame": {
               "duration": 0,
               "redraw": true
              },
              "fromcurrent": true,
              "mode": "immediate",
              "transition": {
               "duration": 0,
               "easing": "linear"
              }
             }
            ],
            "label": "1970",
            "method": "animate"
           },
           {
            "args": [
             [
              "1971"
             ],
             {
              "frame": {
               "duration": 0,
               "redraw": true
              },
              "fromcurrent": true,
              "mode": "immediate",
              "transition": {
               "duration": 0,
               "easing": "linear"
              }
             }
            ],
            "label": "1971",
            "method": "animate"
           },
           {
            "args": [
             [
              "1972"
             ],
             {
              "frame": {
               "duration": 0,
               "redraw": true
              },
              "fromcurrent": true,
              "mode": "immediate",
              "transition": {
               "duration": 0,
               "easing": "linear"
              }
             }
            ],
            "label": "1972",
            "method": "animate"
           },
           {
            "args": [
             [
              "1973"
             ],
             {
              "frame": {
               "duration": 0,
               "redraw": true
              },
              "fromcurrent": true,
              "mode": "immediate",
              "transition": {
               "duration": 0,
               "easing": "linear"
              }
             }
            ],
            "label": "1973",
            "method": "animate"
           },
           {
            "args": [
             [
              "1974"
             ],
             {
              "frame": {
               "duration": 0,
               "redraw": true
              },
              "fromcurrent": true,
              "mode": "immediate",
              "transition": {
               "duration": 0,
               "easing": "linear"
              }
             }
            ],
            "label": "1974",
            "method": "animate"
           },
           {
            "args": [
             [
              "1975"
             ],
             {
              "frame": {
               "duration": 0,
               "redraw": true
              },
              "fromcurrent": true,
              "mode": "immediate",
              "transition": {
               "duration": 0,
               "easing": "linear"
              }
             }
            ],
            "label": "1975",
            "method": "animate"
           },
           {
            "args": [
             [
              "1976"
             ],
             {
              "frame": {
               "duration": 0,
               "redraw": true
              },
              "fromcurrent": true,
              "mode": "immediate",
              "transition": {
               "duration": 0,
               "easing": "linear"
              }
             }
            ],
            "label": "1976",
            "method": "animate"
           },
           {
            "args": [
             [
              "1977"
             ],
             {
              "frame": {
               "duration": 0,
               "redraw": true
              },
              "fromcurrent": true,
              "mode": "immediate",
              "transition": {
               "duration": 0,
               "easing": "linear"
              }
             }
            ],
            "label": "1977",
            "method": "animate"
           },
           {
            "args": [
             [
              "1978"
             ],
             {
              "frame": {
               "duration": 0,
               "redraw": true
              },
              "fromcurrent": true,
              "mode": "immediate",
              "transition": {
               "duration": 0,
               "easing": "linear"
              }
             }
            ],
            "label": "1978",
            "method": "animate"
           },
           {
            "args": [
             [
              "1979"
             ],
             {
              "frame": {
               "duration": 0,
               "redraw": true
              },
              "fromcurrent": true,
              "mode": "immediate",
              "transition": {
               "duration": 0,
               "easing": "linear"
              }
             }
            ],
            "label": "1979",
            "method": "animate"
           },
           {
            "args": [
             [
              "1980"
             ],
             {
              "frame": {
               "duration": 0,
               "redraw": true
              },
              "fromcurrent": true,
              "mode": "immediate",
              "transition": {
               "duration": 0,
               "easing": "linear"
              }
             }
            ],
            "label": "1980",
            "method": "animate"
           },
           {
            "args": [
             [
              "1981"
             ],
             {
              "frame": {
               "duration": 0,
               "redraw": true
              },
              "fromcurrent": true,
              "mode": "immediate",
              "transition": {
               "duration": 0,
               "easing": "linear"
              }
             }
            ],
            "label": "1981",
            "method": "animate"
           },
           {
            "args": [
             [
              "1982"
             ],
             {
              "frame": {
               "duration": 0,
               "redraw": true
              },
              "fromcurrent": true,
              "mode": "immediate",
              "transition": {
               "duration": 0,
               "easing": "linear"
              }
             }
            ],
            "label": "1982",
            "method": "animate"
           },
           {
            "args": [
             [
              "1983"
             ],
             {
              "frame": {
               "duration": 0,
               "redraw": true
              },
              "fromcurrent": true,
              "mode": "immediate",
              "transition": {
               "duration": 0,
               "easing": "linear"
              }
             }
            ],
            "label": "1983",
            "method": "animate"
           },
           {
            "args": [
             [
              "1984"
             ],
             {
              "frame": {
               "duration": 0,
               "redraw": true
              },
              "fromcurrent": true,
              "mode": "immediate",
              "transition": {
               "duration": 0,
               "easing": "linear"
              }
             }
            ],
            "label": "1984",
            "method": "animate"
           },
           {
            "args": [
             [
              "1985"
             ],
             {
              "frame": {
               "duration": 0,
               "redraw": true
              },
              "fromcurrent": true,
              "mode": "immediate",
              "transition": {
               "duration": 0,
               "easing": "linear"
              }
             }
            ],
            "label": "1985",
            "method": "animate"
           },
           {
            "args": [
             [
              "1986"
             ],
             {
              "frame": {
               "duration": 0,
               "redraw": true
              },
              "fromcurrent": true,
              "mode": "immediate",
              "transition": {
               "duration": 0,
               "easing": "linear"
              }
             }
            ],
            "label": "1986",
            "method": "animate"
           },
           {
            "args": [
             [
              "1987"
             ],
             {
              "frame": {
               "duration": 0,
               "redraw": true
              },
              "fromcurrent": true,
              "mode": "immediate",
              "transition": {
               "duration": 0,
               "easing": "linear"
              }
             }
            ],
            "label": "1987",
            "method": "animate"
           },
           {
            "args": [
             [
              "1988"
             ],
             {
              "frame": {
               "duration": 0,
               "redraw": true
              },
              "fromcurrent": true,
              "mode": "immediate",
              "transition": {
               "duration": 0,
               "easing": "linear"
              }
             }
            ],
            "label": "1988",
            "method": "animate"
           },
           {
            "args": [
             [
              "1989"
             ],
             {
              "frame": {
               "duration": 0,
               "redraw": true
              },
              "fromcurrent": true,
              "mode": "immediate",
              "transition": {
               "duration": 0,
               "easing": "linear"
              }
             }
            ],
            "label": "1989",
            "method": "animate"
           },
           {
            "args": [
             [
              "1990"
             ],
             {
              "frame": {
               "duration": 0,
               "redraw": true
              },
              "fromcurrent": true,
              "mode": "immediate",
              "transition": {
               "duration": 0,
               "easing": "linear"
              }
             }
            ],
            "label": "1990",
            "method": "animate"
           },
           {
            "args": [
             [
              "1991"
             ],
             {
              "frame": {
               "duration": 0,
               "redraw": true
              },
              "fromcurrent": true,
              "mode": "immediate",
              "transition": {
               "duration": 0,
               "easing": "linear"
              }
             }
            ],
            "label": "1991",
            "method": "animate"
           },
           {
            "args": [
             [
              "1992"
             ],
             {
              "frame": {
               "duration": 0,
               "redraw": true
              },
              "fromcurrent": true,
              "mode": "immediate",
              "transition": {
               "duration": 0,
               "easing": "linear"
              }
             }
            ],
            "label": "1992",
            "method": "animate"
           },
           {
            "args": [
             [
              "1993"
             ],
             {
              "frame": {
               "duration": 0,
               "redraw": true
              },
              "fromcurrent": true,
              "mode": "immediate",
              "transition": {
               "duration": 0,
               "easing": "linear"
              }
             }
            ],
            "label": "1993",
            "method": "animate"
           },
           {
            "args": [
             [
              "1994"
             ],
             {
              "frame": {
               "duration": 0,
               "redraw": true
              },
              "fromcurrent": true,
              "mode": "immediate",
              "transition": {
               "duration": 0,
               "easing": "linear"
              }
             }
            ],
            "label": "1994",
            "method": "animate"
           },
           {
            "args": [
             [
              "1995"
             ],
             {
              "frame": {
               "duration": 0,
               "redraw": true
              },
              "fromcurrent": true,
              "mode": "immediate",
              "transition": {
               "duration": 0,
               "easing": "linear"
              }
             }
            ],
            "label": "1995",
            "method": "animate"
           },
           {
            "args": [
             [
              "1996"
             ],
             {
              "frame": {
               "duration": 0,
               "redraw": true
              },
              "fromcurrent": true,
              "mode": "immediate",
              "transition": {
               "duration": 0,
               "easing": "linear"
              }
             }
            ],
            "label": "1996",
            "method": "animate"
           },
           {
            "args": [
             [
              "1997"
             ],
             {
              "frame": {
               "duration": 0,
               "redraw": true
              },
              "fromcurrent": true,
              "mode": "immediate",
              "transition": {
               "duration": 0,
               "easing": "linear"
              }
             }
            ],
            "label": "1997",
            "method": "animate"
           },
           {
            "args": [
             [
              "1998"
             ],
             {
              "frame": {
               "duration": 0,
               "redraw": true
              },
              "fromcurrent": true,
              "mode": "immediate",
              "transition": {
               "duration": 0,
               "easing": "linear"
              }
             }
            ],
            "label": "1998",
            "method": "animate"
           },
           {
            "args": [
             [
              "1999"
             ],
             {
              "frame": {
               "duration": 0,
               "redraw": true
              },
              "fromcurrent": true,
              "mode": "immediate",
              "transition": {
               "duration": 0,
               "easing": "linear"
              }
             }
            ],
            "label": "1999",
            "method": "animate"
           },
           {
            "args": [
             [
              "2000"
             ],
             {
              "frame": {
               "duration": 0,
               "redraw": true
              },
              "fromcurrent": true,
              "mode": "immediate",
              "transition": {
               "duration": 0,
               "easing": "linear"
              }
             }
            ],
            "label": "2000",
            "method": "animate"
           },
           {
            "args": [
             [
              "2001"
             ],
             {
              "frame": {
               "duration": 0,
               "redraw": true
              },
              "fromcurrent": true,
              "mode": "immediate",
              "transition": {
               "duration": 0,
               "easing": "linear"
              }
             }
            ],
            "label": "2001",
            "method": "animate"
           },
           {
            "args": [
             [
              "2002"
             ],
             {
              "frame": {
               "duration": 0,
               "redraw": true
              },
              "fromcurrent": true,
              "mode": "immediate",
              "transition": {
               "duration": 0,
               "easing": "linear"
              }
             }
            ],
            "label": "2002",
            "method": "animate"
           },
           {
            "args": [
             [
              "2003"
             ],
             {
              "frame": {
               "duration": 0,
               "redraw": true
              },
              "fromcurrent": true,
              "mode": "immediate",
              "transition": {
               "duration": 0,
               "easing": "linear"
              }
             }
            ],
            "label": "2003",
            "method": "animate"
           },
           {
            "args": [
             [
              "2004"
             ],
             {
              "frame": {
               "duration": 0,
               "redraw": true
              },
              "fromcurrent": true,
              "mode": "immediate",
              "transition": {
               "duration": 0,
               "easing": "linear"
              }
             }
            ],
            "label": "2004",
            "method": "animate"
           },
           {
            "args": [
             [
              "2005"
             ],
             {
              "frame": {
               "duration": 0,
               "redraw": true
              },
              "fromcurrent": true,
              "mode": "immediate",
              "transition": {
               "duration": 0,
               "easing": "linear"
              }
             }
            ],
            "label": "2005",
            "method": "animate"
           },
           {
            "args": [
             [
              "2006"
             ],
             {
              "frame": {
               "duration": 0,
               "redraw": true
              },
              "fromcurrent": true,
              "mode": "immediate",
              "transition": {
               "duration": 0,
               "easing": "linear"
              }
             }
            ],
            "label": "2006",
            "method": "animate"
           },
           {
            "args": [
             [
              "2007"
             ],
             {
              "frame": {
               "duration": 0,
               "redraw": true
              },
              "fromcurrent": true,
              "mode": "immediate",
              "transition": {
               "duration": 0,
               "easing": "linear"
              }
             }
            ],
            "label": "2007",
            "method": "animate"
           },
           {
            "args": [
             [
              "2008"
             ],
             {
              "frame": {
               "duration": 0,
               "redraw": true
              },
              "fromcurrent": true,
              "mode": "immediate",
              "transition": {
               "duration": 0,
               "easing": "linear"
              }
             }
            ],
            "label": "2008",
            "method": "animate"
           },
           {
            "args": [
             [
              "2009"
             ],
             {
              "frame": {
               "duration": 0,
               "redraw": true
              },
              "fromcurrent": true,
              "mode": "immediate",
              "transition": {
               "duration": 0,
               "easing": "linear"
              }
             }
            ],
            "label": "2009",
            "method": "animate"
           },
           {
            "args": [
             [
              "2010"
             ],
             {
              "frame": {
               "duration": 0,
               "redraw": true
              },
              "fromcurrent": true,
              "mode": "immediate",
              "transition": {
               "duration": 0,
               "easing": "linear"
              }
             }
            ],
            "label": "2010",
            "method": "animate"
           },
           {
            "args": [
             [
              "2011"
             ],
             {
              "frame": {
               "duration": 0,
               "redraw": true
              },
              "fromcurrent": true,
              "mode": "immediate",
              "transition": {
               "duration": 0,
               "easing": "linear"
              }
             }
            ],
            "label": "2011",
            "method": "animate"
           },
           {
            "args": [
             [
              "2012"
             ],
             {
              "frame": {
               "duration": 0,
               "redraw": true
              },
              "fromcurrent": true,
              "mode": "immediate",
              "transition": {
               "duration": 0,
               "easing": "linear"
              }
             }
            ],
            "label": "2012",
            "method": "animate"
           },
           {
            "args": [
             [
              "2013"
             ],
             {
              "frame": {
               "duration": 0,
               "redraw": true
              },
              "fromcurrent": true,
              "mode": "immediate",
              "transition": {
               "duration": 0,
               "easing": "linear"
              }
             }
            ],
            "label": "2013",
            "method": "animate"
           },
           {
            "args": [
             [
              "2014"
             ],
             {
              "frame": {
               "duration": 0,
               "redraw": true
              },
              "fromcurrent": true,
              "mode": "immediate",
              "transition": {
               "duration": 0,
               "easing": "linear"
              }
             }
            ],
            "label": "2014",
            "method": "animate"
           },
           {
            "args": [
             [
              "2015"
             ],
             {
              "frame": {
               "duration": 0,
               "redraw": true
              },
              "fromcurrent": true,
              "mode": "immediate",
              "transition": {
               "duration": 0,
               "easing": "linear"
              }
             }
            ],
            "label": "2015",
            "method": "animate"
           },
           {
            "args": [
             [
              "2016"
             ],
             {
              "frame": {
               "duration": 0,
               "redraw": true
              },
              "fromcurrent": true,
              "mode": "immediate",
              "transition": {
               "duration": 0,
               "easing": "linear"
              }
             }
            ],
            "label": "2016",
            "method": "animate"
           },
           {
            "args": [
             [
              "2017"
             ],
             {
              "frame": {
               "duration": 0,
               "redraw": true
              },
              "fromcurrent": true,
              "mode": "immediate",
              "transition": {
               "duration": 0,
               "easing": "linear"
              }
             }
            ],
            "label": "2017",
            "method": "animate"
           },
           {
            "args": [
             [
              "2018"
             ],
             {
              "frame": {
               "duration": 0,
               "redraw": true
              },
              "fromcurrent": true,
              "mode": "immediate",
              "transition": {
               "duration": 0,
               "easing": "linear"
              }
             }
            ],
            "label": "2018",
            "method": "animate"
           },
           {
            "args": [
             [
              "2019"
             ],
             {
              "frame": {
               "duration": 0,
               "redraw": true
              },
              "fromcurrent": true,
              "mode": "immediate",
              "transition": {
               "duration": 0,
               "easing": "linear"
              }
             }
            ],
            "label": "2019",
            "method": "animate"
           },
           {
            "args": [
             [
              "2020"
             ],
             {
              "frame": {
               "duration": 0,
               "redraw": true
              },
              "fromcurrent": true,
              "mode": "immediate",
              "transition": {
               "duration": 0,
               "easing": "linear"
              }
             }
            ],
            "label": "2020",
            "method": "animate"
           },
           {
            "args": [
             [
              "2021"
             ],
             {
              "frame": {
               "duration": 0,
               "redraw": true
              },
              "fromcurrent": true,
              "mode": "immediate",
              "transition": {
               "duration": 0,
               "easing": "linear"
              }
             }
            ],
            "label": "2021",
            "method": "animate"
           },
           {
            "args": [
             [
              "2022"
             ],
             {
              "frame": {
               "duration": 0,
               "redraw": true
              },
              "fromcurrent": true,
              "mode": "immediate",
              "transition": {
               "duration": 0,
               "easing": "linear"
              }
             }
            ],
            "label": "2022",
            "method": "animate"
           }
          ],
          "x": 0.1,
          "xanchor": "left",
          "y": 0,
          "yanchor": "top"
         }
        ],
        "template": {
         "data": {
          "bar": [
           {
            "error_x": {
             "color": "#2a3f5f"
            },
            "error_y": {
             "color": "#2a3f5f"
            },
            "marker": {
             "line": {
              "color": "#E5ECF6",
              "width": 0.5
             },
             "pattern": {
              "fillmode": "overlay",
              "size": 10,
              "solidity": 0.2
             }
            },
            "type": "bar"
           }
          ],
          "barpolar": [
           {
            "marker": {
             "line": {
              "color": "#E5ECF6",
              "width": 0.5
             },
             "pattern": {
              "fillmode": "overlay",
              "size": 10,
              "solidity": 0.2
             }
            },
            "type": "barpolar"
           }
          ],
          "carpet": [
           {
            "aaxis": {
             "endlinecolor": "#2a3f5f",
             "gridcolor": "white",
             "linecolor": "white",
             "minorgridcolor": "white",
             "startlinecolor": "#2a3f5f"
            },
            "baxis": {
             "endlinecolor": "#2a3f5f",
             "gridcolor": "white",
             "linecolor": "white",
             "minorgridcolor": "white",
             "startlinecolor": "#2a3f5f"
            },
            "type": "carpet"
           }
          ],
          "choropleth": [
           {
            "colorbar": {
             "outlinewidth": 0,
             "ticks": ""
            },
            "type": "choropleth"
           }
          ],
          "contour": [
           {
            "colorbar": {
             "outlinewidth": 0,
             "ticks": ""
            },
            "colorscale": [
             [
              0,
              "#0d0887"
             ],
             [
              0.1111111111111111,
              "#46039f"
             ],
             [
              0.2222222222222222,
              "#7201a8"
             ],
             [
              0.3333333333333333,
              "#9c179e"
             ],
             [
              0.4444444444444444,
              "#bd3786"
             ],
             [
              0.5555555555555556,
              "#d8576b"
             ],
             [
              0.6666666666666666,
              "#ed7953"
             ],
             [
              0.7777777777777778,
              "#fb9f3a"
             ],
             [
              0.8888888888888888,
              "#fdca26"
             ],
             [
              1,
              "#f0f921"
             ]
            ],
            "type": "contour"
           }
          ],
          "contourcarpet": [
           {
            "colorbar": {
             "outlinewidth": 0,
             "ticks": ""
            },
            "type": "contourcarpet"
           }
          ],
          "heatmap": [
           {
            "colorbar": {
             "outlinewidth": 0,
             "ticks": ""
            },
            "colorscale": [
             [
              0,
              "#0d0887"
             ],
             [
              0.1111111111111111,
              "#46039f"
             ],
             [
              0.2222222222222222,
              "#7201a8"
             ],
             [
              0.3333333333333333,
              "#9c179e"
             ],
             [
              0.4444444444444444,
              "#bd3786"
             ],
             [
              0.5555555555555556,
              "#d8576b"
             ],
             [
              0.6666666666666666,
              "#ed7953"
             ],
             [
              0.7777777777777778,
              "#fb9f3a"
             ],
             [
              0.8888888888888888,
              "#fdca26"
             ],
             [
              1,
              "#f0f921"
             ]
            ],
            "type": "heatmap"
           }
          ],
          "heatmapgl": [
           {
            "colorbar": {
             "outlinewidth": 0,
             "ticks": ""
            },
            "colorscale": [
             [
              0,
              "#0d0887"
             ],
             [
              0.1111111111111111,
              "#46039f"
             ],
             [
              0.2222222222222222,
              "#7201a8"
             ],
             [
              0.3333333333333333,
              "#9c179e"
             ],
             [
              0.4444444444444444,
              "#bd3786"
             ],
             [
              0.5555555555555556,
              "#d8576b"
             ],
             [
              0.6666666666666666,
              "#ed7953"
             ],
             [
              0.7777777777777778,
              "#fb9f3a"
             ],
             [
              0.8888888888888888,
              "#fdca26"
             ],
             [
              1,
              "#f0f921"
             ]
            ],
            "type": "heatmapgl"
           }
          ],
          "histogram": [
           {
            "marker": {
             "pattern": {
              "fillmode": "overlay",
              "size": 10,
              "solidity": 0.2
             }
            },
            "type": "histogram"
           }
          ],
          "histogram2d": [
           {
            "colorbar": {
             "outlinewidth": 0,
             "ticks": ""
            },
            "colorscale": [
             [
              0,
              "#0d0887"
             ],
             [
              0.1111111111111111,
              "#46039f"
             ],
             [
              0.2222222222222222,
              "#7201a8"
             ],
             [
              0.3333333333333333,
              "#9c179e"
             ],
             [
              0.4444444444444444,
              "#bd3786"
             ],
             [
              0.5555555555555556,
              "#d8576b"
             ],
             [
              0.6666666666666666,
              "#ed7953"
             ],
             [
              0.7777777777777778,
              "#fb9f3a"
             ],
             [
              0.8888888888888888,
              "#fdca26"
             ],
             [
              1,
              "#f0f921"
             ]
            ],
            "type": "histogram2d"
           }
          ],
          "histogram2dcontour": [
           {
            "colorbar": {
             "outlinewidth": 0,
             "ticks": ""
            },
            "colorscale": [
             [
              0,
              "#0d0887"
             ],
             [
              0.1111111111111111,
              "#46039f"
             ],
             [
              0.2222222222222222,
              "#7201a8"
             ],
             [
              0.3333333333333333,
              "#9c179e"
             ],
             [
              0.4444444444444444,
              "#bd3786"
             ],
             [
              0.5555555555555556,
              "#d8576b"
             ],
             [
              0.6666666666666666,
              "#ed7953"
             ],
             [
              0.7777777777777778,
              "#fb9f3a"
             ],
             [
              0.8888888888888888,
              "#fdca26"
             ],
             [
              1,
              "#f0f921"
             ]
            ],
            "type": "histogram2dcontour"
           }
          ],
          "mesh3d": [
           {
            "colorbar": {
             "outlinewidth": 0,
             "ticks": ""
            },
            "type": "mesh3d"
           }
          ],
          "parcoords": [
           {
            "line": {
             "colorbar": {
              "outlinewidth": 0,
              "ticks": ""
             }
            },
            "type": "parcoords"
           }
          ],
          "pie": [
           {
            "automargin": true,
            "type": "pie"
           }
          ],
          "scatter": [
           {
            "fillpattern": {
             "fillmode": "overlay",
             "size": 10,
             "solidity": 0.2
            },
            "type": "scatter"
           }
          ],
          "scatter3d": [
           {
            "line": {
             "colorbar": {
              "outlinewidth": 0,
              "ticks": ""
             }
            },
            "marker": {
             "colorbar": {
              "outlinewidth": 0,
              "ticks": ""
             }
            },
            "type": "scatter3d"
           }
          ],
          "scattercarpet": [
           {
            "marker": {
             "colorbar": {
              "outlinewidth": 0,
              "ticks": ""
             }
            },
            "type": "scattercarpet"
           }
          ],
          "scattergeo": [
           {
            "marker": {
             "colorbar": {
              "outlinewidth": 0,
              "ticks": ""
             }
            },
            "type": "scattergeo"
           }
          ],
          "scattergl": [
           {
            "marker": {
             "colorbar": {
              "outlinewidth": 0,
              "ticks": ""
             }
            },
            "type": "scattergl"
           }
          ],
          "scattermapbox": [
           {
            "marker": {
             "colorbar": {
              "outlinewidth": 0,
              "ticks": ""
             }
            },
            "type": "scattermapbox"
           }
          ],
          "scatterpolar": [
           {
            "marker": {
             "colorbar": {
              "outlinewidth": 0,
              "ticks": ""
             }
            },
            "type": "scatterpolar"
           }
          ],
          "scatterpolargl": [
           {
            "marker": {
             "colorbar": {
              "outlinewidth": 0,
              "ticks": ""
             }
            },
            "type": "scatterpolargl"
           }
          ],
          "scatterternary": [
           {
            "marker": {
             "colorbar": {
              "outlinewidth": 0,
              "ticks": ""
             }
            },
            "type": "scatterternary"
           }
          ],
          "surface": [
           {
            "colorbar": {
             "outlinewidth": 0,
             "ticks": ""
            },
            "colorscale": [
             [
              0,
              "#0d0887"
             ],
             [
              0.1111111111111111,
              "#46039f"
             ],
             [
              0.2222222222222222,
              "#7201a8"
             ],
             [
              0.3333333333333333,
              "#9c179e"
             ],
             [
              0.4444444444444444,
              "#bd3786"
             ],
             [
              0.5555555555555556,
              "#d8576b"
             ],
             [
              0.6666666666666666,
              "#ed7953"
             ],
             [
              0.7777777777777778,
              "#fb9f3a"
             ],
             [
              0.8888888888888888,
              "#fdca26"
             ],
             [
              1,
              "#f0f921"
             ]
            ],
            "type": "surface"
           }
          ],
          "table": [
           {
            "cells": {
             "fill": {
              "color": "#EBF0F8"
             },
             "line": {
              "color": "white"
             }
            },
            "header": {
             "fill": {
              "color": "#C8D4E3"
             },
             "line": {
              "color": "white"
             }
            },
            "type": "table"
           }
          ]
         },
         "layout": {
          "annotationdefaults": {
           "arrowcolor": "#2a3f5f",
           "arrowhead": 0,
           "arrowwidth": 1
          },
          "autotypenumbers": "strict",
          "coloraxis": {
           "colorbar": {
            "outlinewidth": 0,
            "ticks": ""
           }
          },
          "colorscale": {
           "diverging": [
            [
             0,
             "#8e0152"
            ],
            [
             0.1,
             "#c51b7d"
            ],
            [
             0.2,
             "#de77ae"
            ],
            [
             0.3,
             "#f1b6da"
            ],
            [
             0.4,
             "#fde0ef"
            ],
            [
             0.5,
             "#f7f7f7"
            ],
            [
             0.6,
             "#e6f5d0"
            ],
            [
             0.7,
             "#b8e186"
            ],
            [
             0.8,
             "#7fbc41"
            ],
            [
             0.9,
             "#4d9221"
            ],
            [
             1,
             "#276419"
            ]
           ],
           "sequential": [
            [
             0,
             "#0d0887"
            ],
            [
             0.1111111111111111,
             "#46039f"
            ],
            [
             0.2222222222222222,
             "#7201a8"
            ],
            [
             0.3333333333333333,
             "#9c179e"
            ],
            [
             0.4444444444444444,
             "#bd3786"
            ],
            [
             0.5555555555555556,
             "#d8576b"
            ],
            [
             0.6666666666666666,
             "#ed7953"
            ],
            [
             0.7777777777777778,
             "#fb9f3a"
            ],
            [
             0.8888888888888888,
             "#fdca26"
            ],
            [
             1,
             "#f0f921"
            ]
           ],
           "sequentialminus": [
            [
             0,
             "#0d0887"
            ],
            [
             0.1111111111111111,
             "#46039f"
            ],
            [
             0.2222222222222222,
             "#7201a8"
            ],
            [
             0.3333333333333333,
             "#9c179e"
            ],
            [
             0.4444444444444444,
             "#bd3786"
            ],
            [
             0.5555555555555556,
             "#d8576b"
            ],
            [
             0.6666666666666666,
             "#ed7953"
            ],
            [
             0.7777777777777778,
             "#fb9f3a"
            ],
            [
             0.8888888888888888,
             "#fdca26"
            ],
            [
             1,
             "#f0f921"
            ]
           ]
          },
          "colorway": [
           "#636efa",
           "#EF553B",
           "#00cc96",
           "#ab63fa",
           "#FFA15A",
           "#19d3f3",
           "#FF6692",
           "#B6E880",
           "#FF97FF",
           "#FECB52"
          ],
          "font": {
           "color": "#2a3f5f"
          },
          "geo": {
           "bgcolor": "white",
           "lakecolor": "white",
           "landcolor": "#E5ECF6",
           "showlakes": true,
           "showland": true,
           "subunitcolor": "white"
          },
          "hoverlabel": {
           "align": "left"
          },
          "hovermode": "closest",
          "mapbox": {
           "style": "light"
          },
          "paper_bgcolor": "white",
          "plot_bgcolor": "#E5ECF6",
          "polar": {
           "angularaxis": {
            "gridcolor": "white",
            "linecolor": "white",
            "ticks": ""
           },
           "bgcolor": "#E5ECF6",
           "radialaxis": {
            "gridcolor": "white",
            "linecolor": "white",
            "ticks": ""
           }
          },
          "scene": {
           "xaxis": {
            "backgroundcolor": "#E5ECF6",
            "gridcolor": "white",
            "gridwidth": 2,
            "linecolor": "white",
            "showbackground": true,
            "ticks": "",
            "zerolinecolor": "white"
           },
           "yaxis": {
            "backgroundcolor": "#E5ECF6",
            "gridcolor": "white",
            "gridwidth": 2,
            "linecolor": "white",
            "showbackground": true,
            "ticks": "",
            "zerolinecolor": "white"
           },
           "zaxis": {
            "backgroundcolor": "#E5ECF6",
            "gridcolor": "white",
            "gridwidth": 2,
            "linecolor": "white",
            "showbackground": true,
            "ticks": "",
            "zerolinecolor": "white"
           }
          },
          "shapedefaults": {
           "line": {
            "color": "#2a3f5f"
           }
          },
          "ternary": {
           "aaxis": {
            "gridcolor": "white",
            "linecolor": "white",
            "ticks": ""
           },
           "baxis": {
            "gridcolor": "white",
            "linecolor": "white",
            "ticks": ""
           },
           "bgcolor": "#E5ECF6",
           "caxis": {
            "gridcolor": "white",
            "linecolor": "white",
            "ticks": ""
           }
          },
          "title": {
           "x": 0.05
          },
          "xaxis": {
           "automargin": true,
           "gridcolor": "white",
           "linecolor": "white",
           "ticks": "",
           "title": {
            "standoff": 15
           },
           "zerolinecolor": "white",
           "zerolinewidth": 2
          },
          "yaxis": {
           "automargin": true,
           "gridcolor": "white",
           "linecolor": "white",
           "ticks": "",
           "title": {
            "standoff": 15
           },
           "zerolinecolor": "white",
           "zerolinewidth": 2
          }
         }
        },
        "updatemenus": [
         {
          "buttons": [
           {
            "args": [
             null,
             {
              "frame": {
               "duration": 500,
               "redraw": true
              },
              "fromcurrent": true,
              "mode": "immediate",
              "transition": {
               "duration": 500,
               "easing": "linear"
              }
             }
            ],
            "label": "&#9654;",
            "method": "animate"
           },
           {
            "args": [
             [
              null
             ],
             {
              "frame": {
               "duration": 0,
               "redraw": true
              },
              "fromcurrent": true,
              "mode": "immediate",
              "transition": {
               "duration": 0,
               "easing": "linear"
              }
             }
            ],
            "label": "&#9724;",
            "method": "animate"
           }
          ],
          "direction": "left",
          "pad": {
           "r": 10,
           "t": 70
          },
          "showactive": false,
          "type": "buttons",
          "x": 0.1,
          "xanchor": "right",
          "y": 0,
          "yanchor": "top"
         }
        ],
        "width": 2000
       }
      }
     },
     "metadata": {},
     "output_type": "display_data"
    }
   ],
   "source": [
    "# plot using plotly\n",
    "# version 1: animated\n",
    "\n",
    "fig = px.choropleth(data, locations=\"Code\",\n",
    "                    color=\"Historical and more recent literacy estimates\",\n",
    "                    hover_name=\"Entity\",\n",
    "                    color_continuous_scale=px.colors.sequential.Sunset,\n",
    "                    width=2000, height=1000,\n",
    "                    labels={'Historical and more recent literacy estimates':'Literacy Rate (%)'},\n",
    "                    animation_frame=\"Year\")\n",
    "\n",
    "fig.show()"
   ]
  },
  {
   "cell_type": "code",
   "execution_count": 26,
   "metadata": {},
   "outputs": [
    {
     "data": {
      "application/vnd.plotly.v1+json": {
       "config": {
        "plotlyServerURL": "https://plot.ly"
       },
       "data": [
        {
         "coloraxis": "coloraxis",
         "customdata": [
          [
           2021
          ],
          [
           2022
          ],
          [
           2018
          ],
          [
           1980
          ],
          [
           2011
          ],
          [
           2022
          ],
          [
           1984
          ],
          [
           2014
          ],
          [
           2010
          ],
          [
           2022
          ],
          [
           2015
          ],
          [
           2020
          ],
          [
           2020
          ],
          [
           2003
          ],
          [
           2011
          ],
          [
           2019
          ],
          [
           2003
          ],
          [
           2015
          ],
          [
           2020
          ],
          [
           2002
          ],
          [
           2019
          ],
          [
           2003
          ],
          [
           2015
          ],
          [
           2022
          ],
          [
           2005
          ],
          [
           2022
          ],
          [
           2020
          ],
          [
           2022
          ],
          [
           2015
          ],
          [
           2022
          ],
          [
           1991
          ],
          [
           2021
          ],
          [
           2021
          ],
          [
           2022
          ],
          [
           2022
          ],
          [
           2022
          ],
          [
           2020
          ],
          [
           2003
          ],
          [
           2022
          ],
          [
           2010
          ],
          [
           2017
          ],
          [
           2020
          ],
          [
           2010
          ],
          [
           2022
          ],
          [
           2022
          ],
          [
           2022
          ],
          [
           2020
          ],
          [
           2020
          ],
          [
           2022
          ],
          [
           2021
          ],
          [
           2011
          ],
          [
           2021
          ],
          [
           2019
          ],
          [
           2021
          ],
          [
           2021
          ],
          [
           2021
          ],
          [
           2011
          ],
          [
           2022
          ],
          [
           2003
          ],
          [
           2003
          ],
          [
           2003
          ],
          [
           2022
          ],
          [
           2010
          ],
          [
           2010
          ],
          [
           2010
          ],
          [
           2010
          ],
          [
           2021
          ],
          [
           2020
          ],
          [
           2022
          ],
          [
           2022
          ],
          [
           2020
          ],
          [
           2015
          ],
          [
           2018
          ],
          [
           2021
          ],
          [
           2020
          ],
          [
           2017
          ],
          [
           2010
          ],
          [
           2010
          ],
          [
           2010
          ],
          [
           2022
          ],
          [
           2003
          ],
          [
           2000
          ],
          [
           2010
          ],
          [
           2003
          ],
          [
           1977
          ],
          [
           2022
          ],
          [
           2022
          ],
          [
           2022
          ],
          [
           2003
          ],
          [
           2020
          ],
          [
           2011
          ],
          [
           2015
          ],
          [
           2001
          ],
          [
           2003
          ],
          [
           2015
          ],
          [
           2022
          ],
          [
           2021
          ],
          [
           2022
          ],
          [
           2022
          ],
          [
           2016
          ],
          [
           2010
          ],
          [
           2019
          ],
          [
           2002
          ],
          [
           2021
          ],
          [
           2010
          ],
          [
           2010
          ],
          [
           2010
          ],
          [
           2010
          ],
          [
           2010
          ],
          [
           2003
          ],
          [
           2022
          ],
          [
           2020
          ],
          [
           2022
          ],
          [
           2017
          ],
          [
           2003
          ],
          [
           2004
          ],
          [
           2019
          ],
          [
           2015
          ],
          [
           2002
          ],
          [
           2021
          ],
          [
           2020
          ],
          [
           2022
          ],
          [
           2007
          ],
          [
           2020
          ],
          [
           2019
          ],
          [
           2022
          ],
          [
           2010
          ],
          [
           2010
          ],
          [
           2010
          ],
          [
           2010
          ],
          [
           2022
          ],
          [
           2021
          ],
          [
           2010
          ],
          [
           2019
          ],
          [
           2022
          ],
          [
           2017
          ],
          [
           2015
          ],
          [
           2011
          ],
          [
           2021
          ],
          [
           2010
          ],
          [
           2022
          ],
          [
           2010
          ],
          [
           2022
          ],
          [
           2000
          ],
          [
           2021
          ],
          [
           2022
          ],
          [
           2022
          ],
          [
           2015
          ],
          [
           2021
          ],
          [
           2020
          ],
          [
           2021
          ],
          [
           2015
          ],
          [
           2021
          ],
          [
           2021
          ],
          [
           2020
          ],
          [
           1980
          ],
          [
           2010
          ],
          [
           2010
          ],
          [
           2010
          ],
          [
           2022
          ],
          [
           2010
          ],
          [
           2021
          ],
          [
           2003
          ],
          [
           2020
          ],
          [
           2021
          ],
          [
           1970
          ],
          [
           2022
          ],
          [
           2020
          ],
          [
           2019
          ],
          [
           2021
          ],
          [
           2021
          ],
          [
           2003
          ],
          [
           2015
          ],
          [
           2003
          ],
          [
           2015
          ],
          [
           2022
          ],
          [
           2018
          ],
          [
           2011
          ],
          [
           2022
          ],
          [
           2018
          ],
          [
           2015
          ],
          [
           1980
          ],
          [
           2011
          ],
          [
           2022
          ],
          [
           2010
          ],
          [
           2000
          ],
          [
           2019
          ],
          [
           2015
          ],
          [
           2019
          ],
          [
           2019
          ],
          [
           2015
          ],
          [
           2020
          ],
          [
           2020
          ],
          [
           2019
          ],
          [
           2021
          ],
          [
           2021
          ],
          [
           2010
          ],
          [
           2021
          ],
          [
           2015
          ],
          [
           2021
          ],
          [
           2021
          ],
          [
           2021
          ],
          [
           1987
          ],
          [
           2003
          ],
          [
           2001
          ],
          [
           1982
          ],
          [
           1980
          ],
          [
           2021
          ],
          [
           2011
          ],
          [
           2022
          ],
          [
           2020
          ],
          [
           2022
          ],
          [
           2019
          ],
          [
           2020
          ],
          [
           2022
          ],
          [
           2020
          ],
          [
           2004
          ],
          [
           2015
          ],
          [
           2010
          ],
          [
           2011
          ],
          [
           2022
          ],
          [
           2021
          ],
          [
           2010
          ],
          [
           2010
          ],
          [
           2022
          ],
          [
           2018
          ],
          [
           2018
          ],
          [
           2022
          ],
          [
           2020
          ],
          [
           2021
          ],
          [
           2010
          ],
          [
           2010
          ],
          [
           2022
          ],
          [
           2010
          ],
          [
           2018
          ],
          [
           2021
          ],
          [
           2003
          ],
          [
           2003
          ],
          [
           2015
          ],
          [
           2003
          ],
          [
           2015
          ],
          [
           2022
          ],
          [
           2021
          ],
          [
           2019
          ],
          [
           2021
          ],
          [
           2015
          ],
          [
           2022
          ],
          [
           2019
          ],
          [
           2015
          ],
          [
           1970
          ],
          [
           2022
          ],
          [
           2021
          ],
          [
           2022
          ],
          [
           2003
          ],
          [
           2003
          ],
          [
           2010
          ],
          [
           2022
          ],
          [
           2019
          ],
          [
           2022
          ],
          [
           2021
          ],
          [
           2011
          ],
          [
           2022
          ],
          [
           2019
          ],
          [
           2005
          ],
          [
           1969
          ],
          [
           2022
          ],
          [
           2022
          ],
          [
           2015
          ],
          [
           2020
          ],
          [
           2022
          ]
         ],
         "geo": "geo",
         "hovertemplate": "<b>%{hovertext}</b><br><br>Code=%{location}<br>Year=%{customdata[0]}<br>Literacy Rate (%)=%{z}<extra></extra>",
         "hovertext": [
          "Afghanistan",
          "Albania",
          "Algeria",
          "American Samoa",
          "Andorra",
          "Angola",
          "Anguilla",
          "Antigua and Barbuda",
          "Arab World",
          "Arab World (WB)",
          "Argentina",
          "Armenia",
          "Aruba",
          "Australia",
          "Austria",
          "Azerbaijan",
          "Bahamas",
          "Bahrain",
          "Bangladesh",
          "Barbados",
          "Belarus",
          "Belgium",
          "Belize",
          "Benin",
          "Bermuda",
          "Bhutan",
          "Bolivia",
          "Bosnia and Herzegovina",
          "Botswana",
          "Brazil",
          "British Virgin Islands",
          "Brunei",
          "Bulgaria",
          "Burkina Faso",
          "Burundi",
          "Cambodia",
          "Cameroon",
          "Canada",
          "Cape Verde",
          "Caribbean small states",
          "Cayman Islands",
          "Central African Republic",
          "Central Europe and the Baltics",
          "Central Europe and the Baltics (WB)",
          "Chad",
          "Chile",
          "China",
          "Colombia",
          "Comoros",
          "Congo",
          "Cook Islands",
          "Costa Rica",
          "Cote d'Ivoire",
          "Croatia",
          "Cuba",
          "Cyprus",
          "Czechia",
          "Democratic Republic of Congo",
          "Denmark",
          "Djibouti",
          "Dominica",
          "Dominican Republic",
          "Early-demographic dividend",
          "East Asia & Pacific",
          "East Asia & Pacific (IDA & IBRD)",
          "East Asia & Pacific (excluding high income)",
          "East Asia and the Pacific (WB)",
          "East Timor",
          "Ecuador",
          "Egypt",
          "El Salvador",
          "Equatorial Guinea",
          "Eritrea",
          "Estonia",
          "Eswatini",
          "Ethiopia",
          "Europe & Central Asia",
          "Europe & Central Asia (IDA & IBRD)",
          "Europe & Central Asia (excluding high income)",
          "Europe and Central Asia (WB)",
          "Fiji",
          "Finland",
          "Fragile and conflict affected situations",
          "France",
          "French Polynesia",
          "Gabon",
          "Gambia",
          "Georgia",
          "Germany",
          "Ghana",
          "Gibraltar",
          "Greece",
          "Greenland",
          "Grenada",
          "Guam",
          "Guatemala",
          "Guinea",
          "Guinea-Bissau",
          "Guyana",
          "Haiti",
          "Heavily indebted poor countries (HIPC)",
          "Honduras",
          "Hong Kong",
          "Hungary",
          "IBRD only",
          "IDA & IBRD total",
          "IDA blend",
          "IDA only",
          "IDA total",
          "Iceland",
          "India",
          "Indonesia",
          "Iran",
          "Iraq",
          "Ireland",
          "Israel",
          "Italy",
          "Jamaica",
          "Japan",
          "Jordan",
          "Kazakhstan",
          "Kenya",
          "Kosovo",
          "Kuwait",
          "Kyrgyzstan",
          "Laos",
          "Late-demographic dividend",
          "Latin America & Caribbean",
          "Latin America & Caribbean (IDA & IBRD)",
          "Latin America & Caribbean (excluding high income)",
          "Latin America and Caribbean (WB)",
          "Latvia",
          "Least developed countries: UN classification",
          "Lebanon",
          "Lesotho",
          "Liberia",
          "Libya",
          "Liechtenstein",
          "Lithuania",
          "Low income",
          "Low-income countries",
          "Lower middle income",
          "Lower-middle-income countries",
          "Luxembourg",
          "Macao",
          "Madagascar",
          "Malawi",
          "Malaysia",
          "Maldives",
          "Mali",
          "Malta",
          "Marshall Islands",
          "Mauritania",
          "Mauritius",
          "Mexico",
          "Micronesia",
          "Middle East & North Africa",
          "Middle East & North Africa (IDA & IBRD)",
          "Middle East & North Africa (excluding high income)",
          "Middle East and North Africa (WB)",
          "Middle income",
          "Moldova",
          "Monaco",
          "Mongolia",
          "Montenegro",
          "Montserrat",
          "Morocco",
          "Mozambique",
          "Myanmar",
          "Namibia",
          "Nepal",
          "Netherlands",
          "New Caledonia",
          "New Zealand",
          "Nicaragua",
          "Niger",
          "Nigeria",
          "Niue",
          "North America (WB)",
          "North Korea",
          "North Macedonia",
          "Northern Mariana Islands",
          "Norway",
          "Oman",
          "Other small states",
          "Pacific island small states",
          "Pakistan",
          "Palau",
          "Palestine",
          "Panama",
          "Papua New Guinea",
          "Paraguay",
          "Peru",
          "Philippines",
          "Poland",
          "Portugal",
          "Pre-demographic dividend",
          "Puerto Rico",
          "Qatar",
          "Romania",
          "Russia",
          "Rwanda",
          "Saint Helena",
          "Saint Kitts and Nevis",
          "Saint Lucia",
          "Saint Pierre and Miquelon",
          "Saint Vincent and the Grenadines",
          "Samoa",
          "San Marino",
          "Sao Tome and Principe",
          "Saudi Arabia",
          "Senegal",
          "Serbia",
          "Seychelles",
          "Sierra Leone",
          "Singapore",
          "Slovakia",
          "Slovenia",
          "Small states",
          "Solomon Islands",
          "Somalia",
          "South Africa",
          "South Asia",
          "South Asia (IDA & IBRD)",
          "South Asia (WB)",
          "South Korea",
          "South Sudan",
          "Southern and Eastern Africa (WB)",
          "Spain",
          "Sri Lanka",
          "Sub-Saharan Africa",
          "Sub-Saharan Africa (IDA & IBRD)",
          "Sub-Saharan Africa (WB)",
          "Sub-Saharan Africa (excluding high income)",
          "Sudan",
          "Suriname",
          "Sweden",
          "Switzerland",
          "Syria",
          "Taiwan",
          "Tajikistan",
          "Tanzania",
          "Thailand",
          "Togo",
          "Tonga",
          "Trinidad and Tobago",
          "Tunisia",
          "Turkey",
          "Turkmenistan",
          "Turks and Caicos Islands",
          "Uganda",
          "Ukraine",
          "United Arab Emirates",
          "United Kingdom",
          "United States",
          "Upper middle income",
          "Upper-middle-income countries",
          "Uruguay",
          "Uzbekistan",
          "Vanuatu",
          "Vatican",
          "Venezuela",
          "Vietnam",
          "Virgin Islands",
          "Wallis and Futuna",
          "Western and Central Africa (WB)",
          "World",
          "Yemen",
          "Zambia",
          "Zimbabwe"
         ],
         "locations": [
          "AFG",
          "ALB",
          "DZA",
          "ASM",
          "AND",
          "AGO",
          "AIA",
          "ATG",
          null,
          null,
          "ARG",
          "ARM",
          "ABW",
          "AUS",
          "AUT",
          "AZE",
          "BHS",
          "BHR",
          "BGD",
          "BRB",
          "BLR",
          "BEL",
          "BLZ",
          "BEN",
          "BMU",
          "BTN",
          "BOL",
          "BIH",
          "BWA",
          "BRA",
          "VGB",
          "BRN",
          "BGR",
          "BFA",
          "BDI",
          "KHM",
          "CMR",
          "CAN",
          "CPV",
          null,
          "CYM",
          "CAF",
          null,
          null,
          "TCD",
          "CHL",
          "CHN",
          "COL",
          "COM",
          "COG",
          "COK",
          "CRI",
          "CIV",
          "HRV",
          "CUB",
          "CYP",
          "CZE",
          "COD",
          "DNK",
          "DJI",
          "DMA",
          "DOM",
          null,
          null,
          null,
          null,
          null,
          "TLS",
          "ECU",
          "EGY",
          "SLV",
          "GNQ",
          "ERI",
          "EST",
          "SWZ",
          "ETH",
          null,
          null,
          null,
          null,
          "FJI",
          "FIN",
          null,
          "FRA",
          "PYF",
          "GAB",
          "GMB",
          "GEO",
          "DEU",
          "GHA",
          "GIB",
          "GRC",
          "GRL",
          "GRD",
          "GUM",
          "GTM",
          "GIN",
          "GNB",
          "GUY",
          "HTI",
          null,
          "HND",
          "HKG",
          "HUN",
          null,
          null,
          null,
          null,
          null,
          "ISL",
          "IND",
          "IDN",
          "IRN",
          "IRQ",
          "IRL",
          "ISR",
          "ITA",
          "JAM",
          "JPN",
          "JOR",
          "KAZ",
          "KEN",
          "OWID_KOS",
          "KWT",
          "KGZ",
          "LAO",
          null,
          null,
          null,
          null,
          null,
          "LVA",
          null,
          "LBN",
          "LSO",
          "LBR",
          "LBY",
          "LIE",
          "LTU",
          null,
          null,
          null,
          null,
          "LUX",
          "MAC",
          "MDG",
          "MWI",
          "MYS",
          "MDV",
          "MLI",
          "MLT",
          "MHL",
          "MRT",
          "MUS",
          "MEX",
          null,
          null,
          null,
          null,
          null,
          null,
          "MDA",
          "MCO",
          "MNG",
          "MNE",
          "MSR",
          "MAR",
          "MOZ",
          "MMR",
          "NAM",
          "NPL",
          "NLD",
          "NCL",
          "NZL",
          "NIC",
          "NER",
          "NGA",
          "NIU",
          null,
          "PRK",
          "MKD",
          "MNP",
          "NOR",
          "OMN",
          null,
          null,
          "PAK",
          "PLW",
          "PSE",
          "PAN",
          "PNG",
          "PRY",
          "PER",
          "PHL",
          "POL",
          "PRT",
          null,
          "PRI",
          "QAT",
          "ROU",
          "RUS",
          "RWA",
          "SHN",
          "KNA",
          "LCA",
          "SPM",
          "VCT",
          "WSM",
          "SMR",
          "STP",
          "SAU",
          "SEN",
          "SRB",
          "SYC",
          "SLE",
          "SGP",
          "SVK",
          "SVN",
          null,
          "SLB",
          "SOM",
          "ZAF",
          null,
          null,
          null,
          "KOR",
          "SSD",
          null,
          "ESP",
          "LKA",
          null,
          null,
          null,
          null,
          "SDN",
          "SUR",
          "SWE",
          "CHE",
          "SYR",
          "TWN",
          "TJK",
          "TZA",
          "THA",
          "TGO",
          "TON",
          "TTO",
          "TUN",
          "TUR",
          "TKM",
          "TCA",
          "UGA",
          "UKR",
          "ARE",
          "GBR",
          "USA",
          null,
          null,
          "URY",
          "UZB",
          "VUT",
          "VAT",
          "VEN",
          "VNM",
          null,
          "WLF",
          null,
          "OWID_WRL",
          "YEM",
          "ZMB",
          "ZWE"
         ],
         "name": "",
         "type": "choropleth",
         "z": [
          37.26604,
          98.5,
          81.40784,
          97.34416,
          100,
          72.4,
          95,
          98.95,
          77.364586,
          75.17153,
          98.08997,
          99.78861,
          97.99,
          99,
          98,
          99.79598,
          95.6,
          95.71726,
          74.9089,
          99.7,
          99.874,
          99,
          82.77682,
          47.1,
          98,
          72.1,
          93.85256,
          98.3,
          88.22441,
          94.69,
          97.8,
          97.59,
          98.42,
          34.49,
          75.54,
          83.78,
          78.23,
          99,
          91,
          91.76071,
          98.86782,
          37.49,
          99.36096,
          99.42752,
          27.28,
          97.16,
          97.15,
          95.63633,
          61.71,
          80.61,
          95,
          98.04,
          89.89342,
          99.45,
          99.67311,
          99.36,
          99,
          80.54,
          99,
          67.9,
          94,
          95.5,
          76.50836,
          95.10822,
          94.68925,
          94.75167,
          96.03774,
          69.9,
          93.94812,
          74.5,
          89.98453,
          95.19566,
          76.57052,
          99.87,
          89.28,
          51.77118,
          98.99759,
          98.89095,
          98.79964,
          98.54106,
          93.7,
          100,
          68.33667,
          99,
          98,
          85.69,
          58.67,
          99.57499,
          99,
          80.38,
          80,
          95.29287,
          100,
          96,
          99.78904,
          84.27,
          45.33,
          53.9,
          90.03,
          61.69135,
          57.837166,
          88.50743,
          93.5,
          99.1,
          87.32906,
          82.39069,
          69.031975,
          61.650894,
          64.43312,
          99,
          76.32278,
          95.99901,
          88.96,
          85.6,
          99,
          97.1,
          99.3491,
          88.4999,
          99,
          98.42,
          99.8,
          82.88,
          91.9,
          96.45754,
          99.6,
          87.52,
          94.78494,
          92.62431,
          92.4664,
          92.44799,
          94.60012,
          99.89,
          60.568233,
          95.3,
          82.01,
          48.30136,
          91.38887,
          100,
          99.83,
          56.57406,
          61.87062,
          73.91008,
          77.79563,
          100,
          97.11,
          77.48,
          68.08,
          94.63699,
          97.86,
          30.76141,
          94.94,
          98.26508,
          66.96,
          92.15,
          95.24785,
          89,
          80.750015,
          78.23286,
          78.43881,
          80.35759,
          84.38868,
          99.6,
          99,
          99.18327,
          98.98,
          97,
          77.35,
          59.77961,
          89.06995,
          92.25,
          71.15,
          99,
          96.93782,
          99,
          82.61455,
          38.1,
          62.01601,
          95,
          98.74067,
          99.99819,
          97.84376,
          97,
          100,
          97.33906,
          83.64996,
          86.692055,
          57.99886,
          96.59374,
          97.37826,
          95.73608,
          63.43349,
          94.54455,
          94.49793,
          96.27817,
          99.8,
          96.78,
          58.624794,
          92.4,
          97.75709,
          98.9,
          99.92777,
          75.9,
          97,
          97.8,
          90.1,
          99,
          96.9,
          99.1,
          96,
          93.75,
          97.58507,
          57.67,
          99.48253,
          96.2,
          48.64,
          97.13185,
          99.6,
          99.71476,
          85.654785,
          84.1,
          41.025,
          90.00136,
          66.69118,
          66.69118,
          74.18776,
          98.8,
          34.52276,
          72.6004,
          98.59446,
          92.42903,
          60.880547,
          60.880547,
          67.71501,
          60.875755,
          60.69718,
          95,
          99,
          99,
          86.30393,
          96.1,
          99.78105,
          82.02,
          94.1,
          66.53708,
          99.4,
          98.96958,
          83.56,
          96.74221,
          99.69293,
          98,
          80.59,
          100,
          98.28541,
          99,
          99,
          94.26899,
          95.95597,
          98.77035,
          99.99998,
          89.1,
          100,
          97.6,
          95.75387,
          90,
          50,
          60.3127,
          87.01175,
          69.96195,
          87.5,
          89.85
         ]
        }
       ],
       "layout": {
        "coloraxis": {
         "colorbar": {
          "title": {
           "text": "Literacy Rate (%)"
          }
         },
         "colorscale": [
          [
           0,
           "rgb(243, 231, 155)"
          ],
          [
           0.16666666666666666,
           "rgb(250, 196, 132)"
          ],
          [
           0.3333333333333333,
           "rgb(248, 160, 126)"
          ],
          [
           0.5,
           "rgb(235, 127, 134)"
          ],
          [
           0.6666666666666666,
           "rgb(206, 102, 147)"
          ],
          [
           0.8333333333333334,
           "rgb(160, 89, 160)"
          ],
          [
           1,
           "rgb(92, 83, 165)"
          ]
         ]
        },
        "geo": {
         "center": {},
         "domain": {
          "x": [
           0,
           1
          ],
          "y": [
           0,
           1
          ]
         }
        },
        "height": 1000,
        "legend": {
         "tracegroupgap": 0
        },
        "margin": {
         "t": 60
        },
        "template": {
         "data": {
          "bar": [
           {
            "error_x": {
             "color": "#2a3f5f"
            },
            "error_y": {
             "color": "#2a3f5f"
            },
            "marker": {
             "line": {
              "color": "#E5ECF6",
              "width": 0.5
             },
             "pattern": {
              "fillmode": "overlay",
              "size": 10,
              "solidity": 0.2
             }
            },
            "type": "bar"
           }
          ],
          "barpolar": [
           {
            "marker": {
             "line": {
              "color": "#E5ECF6",
              "width": 0.5
             },
             "pattern": {
              "fillmode": "overlay",
              "size": 10,
              "solidity": 0.2
             }
            },
            "type": "barpolar"
           }
          ],
          "carpet": [
           {
            "aaxis": {
             "endlinecolor": "#2a3f5f",
             "gridcolor": "white",
             "linecolor": "white",
             "minorgridcolor": "white",
             "startlinecolor": "#2a3f5f"
            },
            "baxis": {
             "endlinecolor": "#2a3f5f",
             "gridcolor": "white",
             "linecolor": "white",
             "minorgridcolor": "white",
             "startlinecolor": "#2a3f5f"
            },
            "type": "carpet"
           }
          ],
          "choropleth": [
           {
            "colorbar": {
             "outlinewidth": 0,
             "ticks": ""
            },
            "type": "choropleth"
           }
          ],
          "contour": [
           {
            "colorbar": {
             "outlinewidth": 0,
             "ticks": ""
            },
            "colorscale": [
             [
              0,
              "#0d0887"
             ],
             [
              0.1111111111111111,
              "#46039f"
             ],
             [
              0.2222222222222222,
              "#7201a8"
             ],
             [
              0.3333333333333333,
              "#9c179e"
             ],
             [
              0.4444444444444444,
              "#bd3786"
             ],
             [
              0.5555555555555556,
              "#d8576b"
             ],
             [
              0.6666666666666666,
              "#ed7953"
             ],
             [
              0.7777777777777778,
              "#fb9f3a"
             ],
             [
              0.8888888888888888,
              "#fdca26"
             ],
             [
              1,
              "#f0f921"
             ]
            ],
            "type": "contour"
           }
          ],
          "contourcarpet": [
           {
            "colorbar": {
             "outlinewidth": 0,
             "ticks": ""
            },
            "type": "contourcarpet"
           }
          ],
          "heatmap": [
           {
            "colorbar": {
             "outlinewidth": 0,
             "ticks": ""
            },
            "colorscale": [
             [
              0,
              "#0d0887"
             ],
             [
              0.1111111111111111,
              "#46039f"
             ],
             [
              0.2222222222222222,
              "#7201a8"
             ],
             [
              0.3333333333333333,
              "#9c179e"
             ],
             [
              0.4444444444444444,
              "#bd3786"
             ],
             [
              0.5555555555555556,
              "#d8576b"
             ],
             [
              0.6666666666666666,
              "#ed7953"
             ],
             [
              0.7777777777777778,
              "#fb9f3a"
             ],
             [
              0.8888888888888888,
              "#fdca26"
             ],
             [
              1,
              "#f0f921"
             ]
            ],
            "type": "heatmap"
           }
          ],
          "heatmapgl": [
           {
            "colorbar": {
             "outlinewidth": 0,
             "ticks": ""
            },
            "colorscale": [
             [
              0,
              "#0d0887"
             ],
             [
              0.1111111111111111,
              "#46039f"
             ],
             [
              0.2222222222222222,
              "#7201a8"
             ],
             [
              0.3333333333333333,
              "#9c179e"
             ],
             [
              0.4444444444444444,
              "#bd3786"
             ],
             [
              0.5555555555555556,
              "#d8576b"
             ],
             [
              0.6666666666666666,
              "#ed7953"
             ],
             [
              0.7777777777777778,
              "#fb9f3a"
             ],
             [
              0.8888888888888888,
              "#fdca26"
             ],
             [
              1,
              "#f0f921"
             ]
            ],
            "type": "heatmapgl"
           }
          ],
          "histogram": [
           {
            "marker": {
             "pattern": {
              "fillmode": "overlay",
              "size": 10,
              "solidity": 0.2
             }
            },
            "type": "histogram"
           }
          ],
          "histogram2d": [
           {
            "colorbar": {
             "outlinewidth": 0,
             "ticks": ""
            },
            "colorscale": [
             [
              0,
              "#0d0887"
             ],
             [
              0.1111111111111111,
              "#46039f"
             ],
             [
              0.2222222222222222,
              "#7201a8"
             ],
             [
              0.3333333333333333,
              "#9c179e"
             ],
             [
              0.4444444444444444,
              "#bd3786"
             ],
             [
              0.5555555555555556,
              "#d8576b"
             ],
             [
              0.6666666666666666,
              "#ed7953"
             ],
             [
              0.7777777777777778,
              "#fb9f3a"
             ],
             [
              0.8888888888888888,
              "#fdca26"
             ],
             [
              1,
              "#f0f921"
             ]
            ],
            "type": "histogram2d"
           }
          ],
          "histogram2dcontour": [
           {
            "colorbar": {
             "outlinewidth": 0,
             "ticks": ""
            },
            "colorscale": [
             [
              0,
              "#0d0887"
             ],
             [
              0.1111111111111111,
              "#46039f"
             ],
             [
              0.2222222222222222,
              "#7201a8"
             ],
             [
              0.3333333333333333,
              "#9c179e"
             ],
             [
              0.4444444444444444,
              "#bd3786"
             ],
             [
              0.5555555555555556,
              "#d8576b"
             ],
             [
              0.6666666666666666,
              "#ed7953"
             ],
             [
              0.7777777777777778,
              "#fb9f3a"
             ],
             [
              0.8888888888888888,
              "#fdca26"
             ],
             [
              1,
              "#f0f921"
             ]
            ],
            "type": "histogram2dcontour"
           }
          ],
          "mesh3d": [
           {
            "colorbar": {
             "outlinewidth": 0,
             "ticks": ""
            },
            "type": "mesh3d"
           }
          ],
          "parcoords": [
           {
            "line": {
             "colorbar": {
              "outlinewidth": 0,
              "ticks": ""
             }
            },
            "type": "parcoords"
           }
          ],
          "pie": [
           {
            "automargin": true,
            "type": "pie"
           }
          ],
          "scatter": [
           {
            "fillpattern": {
             "fillmode": "overlay",
             "size": 10,
             "solidity": 0.2
            },
            "type": "scatter"
           }
          ],
          "scatter3d": [
           {
            "line": {
             "colorbar": {
              "outlinewidth": 0,
              "ticks": ""
             }
            },
            "marker": {
             "colorbar": {
              "outlinewidth": 0,
              "ticks": ""
             }
            },
            "type": "scatter3d"
           }
          ],
          "scattercarpet": [
           {
            "marker": {
             "colorbar": {
              "outlinewidth": 0,
              "ticks": ""
             }
            },
            "type": "scattercarpet"
           }
          ],
          "scattergeo": [
           {
            "marker": {
             "colorbar": {
              "outlinewidth": 0,
              "ticks": ""
             }
            },
            "type": "scattergeo"
           }
          ],
          "scattergl": [
           {
            "marker": {
             "colorbar": {
              "outlinewidth": 0,
              "ticks": ""
             }
            },
            "type": "scattergl"
           }
          ],
          "scattermapbox": [
           {
            "marker": {
             "colorbar": {
              "outlinewidth": 0,
              "ticks": ""
             }
            },
            "type": "scattermapbox"
           }
          ],
          "scatterpolar": [
           {
            "marker": {
             "colorbar": {
              "outlinewidth": 0,
              "ticks": ""
             }
            },
            "type": "scatterpolar"
           }
          ],
          "scatterpolargl": [
           {
            "marker": {
             "colorbar": {
              "outlinewidth": 0,
              "ticks": ""
             }
            },
            "type": "scatterpolargl"
           }
          ],
          "scatterternary": [
           {
            "marker": {
             "colorbar": {
              "outlinewidth": 0,
              "ticks": ""
             }
            },
            "type": "scatterternary"
           }
          ],
          "surface": [
           {
            "colorbar": {
             "outlinewidth": 0,
             "ticks": ""
            },
            "colorscale": [
             [
              0,
              "#0d0887"
             ],
             [
              0.1111111111111111,
              "#46039f"
             ],
             [
              0.2222222222222222,
              "#7201a8"
             ],
             [
              0.3333333333333333,
              "#9c179e"
             ],
             [
              0.4444444444444444,
              "#bd3786"
             ],
             [
              0.5555555555555556,
              "#d8576b"
             ],
             [
              0.6666666666666666,
              "#ed7953"
             ],
             [
              0.7777777777777778,
              "#fb9f3a"
             ],
             [
              0.8888888888888888,
              "#fdca26"
             ],
             [
              1,
              "#f0f921"
             ]
            ],
            "type": "surface"
           }
          ],
          "table": [
           {
            "cells": {
             "fill": {
              "color": "#EBF0F8"
             },
             "line": {
              "color": "white"
             }
            },
            "header": {
             "fill": {
              "color": "#C8D4E3"
             },
             "line": {
              "color": "white"
             }
            },
            "type": "table"
           }
          ]
         },
         "layout": {
          "annotationdefaults": {
           "arrowcolor": "#2a3f5f",
           "arrowhead": 0,
           "arrowwidth": 1
          },
          "autotypenumbers": "strict",
          "coloraxis": {
           "colorbar": {
            "outlinewidth": 0,
            "ticks": ""
           }
          },
          "colorscale": {
           "diverging": [
            [
             0,
             "#8e0152"
            ],
            [
             0.1,
             "#c51b7d"
            ],
            [
             0.2,
             "#de77ae"
            ],
            [
             0.3,
             "#f1b6da"
            ],
            [
             0.4,
             "#fde0ef"
            ],
            [
             0.5,
             "#f7f7f7"
            ],
            [
             0.6,
             "#e6f5d0"
            ],
            [
             0.7,
             "#b8e186"
            ],
            [
             0.8,
             "#7fbc41"
            ],
            [
             0.9,
             "#4d9221"
            ],
            [
             1,
             "#276419"
            ]
           ],
           "sequential": [
            [
             0,
             "#0d0887"
            ],
            [
             0.1111111111111111,
             "#46039f"
            ],
            [
             0.2222222222222222,
             "#7201a8"
            ],
            [
             0.3333333333333333,
             "#9c179e"
            ],
            [
             0.4444444444444444,
             "#bd3786"
            ],
            [
             0.5555555555555556,
             "#d8576b"
            ],
            [
             0.6666666666666666,
             "#ed7953"
            ],
            [
             0.7777777777777778,
             "#fb9f3a"
            ],
            [
             0.8888888888888888,
             "#fdca26"
            ],
            [
             1,
             "#f0f921"
            ]
           ],
           "sequentialminus": [
            [
             0,
             "#0d0887"
            ],
            [
             0.1111111111111111,
             "#46039f"
            ],
            [
             0.2222222222222222,
             "#7201a8"
            ],
            [
             0.3333333333333333,
             "#9c179e"
            ],
            [
             0.4444444444444444,
             "#bd3786"
            ],
            [
             0.5555555555555556,
             "#d8576b"
            ],
            [
             0.6666666666666666,
             "#ed7953"
            ],
            [
             0.7777777777777778,
             "#fb9f3a"
            ],
            [
             0.8888888888888888,
             "#fdca26"
            ],
            [
             1,
             "#f0f921"
            ]
           ]
          },
          "colorway": [
           "#636efa",
           "#EF553B",
           "#00cc96",
           "#ab63fa",
           "#FFA15A",
           "#19d3f3",
           "#FF6692",
           "#B6E880",
           "#FF97FF",
           "#FECB52"
          ],
          "font": {
           "color": "#2a3f5f"
          },
          "geo": {
           "bgcolor": "white",
           "lakecolor": "white",
           "landcolor": "#E5ECF6",
           "showlakes": true,
           "showland": true,
           "subunitcolor": "white"
          },
          "hoverlabel": {
           "align": "left"
          },
          "hovermode": "closest",
          "mapbox": {
           "style": "light"
          },
          "paper_bgcolor": "white",
          "plot_bgcolor": "#E5ECF6",
          "polar": {
           "angularaxis": {
            "gridcolor": "white",
            "linecolor": "white",
            "ticks": ""
           },
           "bgcolor": "#E5ECF6",
           "radialaxis": {
            "gridcolor": "white",
            "linecolor": "white",
            "ticks": ""
           }
          },
          "scene": {
           "xaxis": {
            "backgroundcolor": "#E5ECF6",
            "gridcolor": "white",
            "gridwidth": 2,
            "linecolor": "white",
            "showbackground": true,
            "ticks": "",
            "zerolinecolor": "white"
           },
           "yaxis": {
            "backgroundcolor": "#E5ECF6",
            "gridcolor": "white",
            "gridwidth": 2,
            "linecolor": "white",
            "showbackground": true,
            "ticks": "",
            "zerolinecolor": "white"
           },
           "zaxis": {
            "backgroundcolor": "#E5ECF6",
            "gridcolor": "white",
            "gridwidth": 2,
            "linecolor": "white",
            "showbackground": true,
            "ticks": "",
            "zerolinecolor": "white"
           }
          },
          "shapedefaults": {
           "line": {
            "color": "#2a3f5f"
           }
          },
          "ternary": {
           "aaxis": {
            "gridcolor": "white",
            "linecolor": "white",
            "ticks": ""
           },
           "baxis": {
            "gridcolor": "white",
            "linecolor": "white",
            "ticks": ""
           },
           "bgcolor": "#E5ECF6",
           "caxis": {
            "gridcolor": "white",
            "linecolor": "white",
            "ticks": ""
           }
          },
          "title": {
           "x": 0.05
          },
          "xaxis": {
           "automargin": true,
           "gridcolor": "white",
           "linecolor": "white",
           "ticks": "",
           "title": {
            "standoff": 15
           },
           "zerolinecolor": "white",
           "zerolinewidth": 2
          },
          "yaxis": {
           "automargin": true,
           "gridcolor": "white",
           "linecolor": "white",
           "ticks": "",
           "title": {
            "standoff": 15
           },
           "zerolinecolor": "white",
           "zerolinewidth": 2
          }
         }
        },
        "width": 2000
       }
      }
     },
     "metadata": {},
     "output_type": "display_data"
    }
   ],
   "source": [
    "# plot using plotly\n",
    "# version 1: static using the latest data animated\n",
    "\n",
    "fig = px.choropleth(latest_data_per_country, locations=\"Code\",\n",
    "                    color=\"Historical and more recent literacy estimates\",\n",
    "                    hover_name=\"Entity\",\n",
    "                    hover_data=['Year'],\n",
    "                    color_continuous_scale=px.colors.sequential.Sunset,\n",
    "                    width=2000, height=1000,\n",
    "                    labels={'Historical and more recent literacy estimates':'Literacy Rate (%)'})\n",
    "\n",
    "fig.show()"
   ]
  }
 ],
 "metadata": {
  "kernelspec": {
   "display_name": "Python 3",
   "language": "python",
   "name": "python3"
  },
  "language_info": {
   "codemirror_mode": {
    "name": "ipython",
    "version": 3
   },
   "file_extension": ".py",
   "mimetype": "text/x-python",
   "name": "python",
   "nbconvert_exporter": "python",
   "pygments_lexer": "ipython3",
   "version": "3.11.6"
  }
 },
 "nbformat": 4,
 "nbformat_minor": 2
}
