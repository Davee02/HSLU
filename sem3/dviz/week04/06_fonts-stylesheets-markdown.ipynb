{
 "cells": [
  {
   "cell_type": "code",
   "execution_count": 1,
   "metadata": {},
   "outputs": [],
   "source": [
    "import pandas as pd \n",
    "import numpy as np \n",
    "import seaborn as sns\n",
    "import matplotlib.pyplot as plt "
   ]
  },
  {
   "cell_type": "code",
   "execution_count": 2,
   "metadata": {},
   "outputs": [],
   "source": [
    "plt.rcParams['figure.figsize'] = (4,3)"
   ]
  },
  {
   "cell_type": "code",
   "execution_count": 3,
   "metadata": {},
   "outputs": [],
   "source": [
    "data = sns.load_dataset('penguins')"
   ]
  },
  {
   "cell_type": "markdown",
   "metadata": {},
   "source": [
    "___"
   ]
  },
  {
   "cell_type": "markdown",
   "metadata": {},
   "source": [
    "# Using stylesheets "
   ]
  },
  {
   "cell_type": "markdown",
   "metadata": {},
   "source": [
    "### What are the stylesheets "
   ]
  },
  {
   "cell_type": "code",
   "execution_count": 4,
   "metadata": {},
   "outputs": [],
   "source": [
    "import matplotlib as mpl"
   ]
  },
  {
   "cell_type": "markdown",
   "metadata": {},
   "source": [
    "Global default properties are stored as rcParams: "
   ]
  },
  {
   "cell_type": "code",
   "execution_count": 5,
   "metadata": {},
   "outputs": [
    {
     "name": "stdout",
     "output_type": "stream",
     "text": [
      "_internal.classic_mode: False\n",
      "agg.path.chunksize: 0\n",
      "animation.bitrate: -1\n",
      "animation.codec: h264\n",
      "animation.convert_args: ['-layers', 'OptimizePlus']\n",
      "animation.convert_path: convert\n",
      "animation.embed_limit: 20.0\n",
      "animation.ffmpeg_args: []\n",
      "animation.ffmpeg_path: ffmpeg\n",
      "animation.frame_format: png\n",
      "animation.html: none\n",
      "animation.writer: ffmpeg\n",
      "axes.autolimit_mode: data\n",
      "axes.axisbelow: line\n",
      "axes.edgecolor: black\n",
      "axes.facecolor: white\n",
      "axes.formatter.limits: [-5, 6]\n",
      "axes.formatter.min_exponent: 0\n",
      "axes.formatter.offset_threshold: 4\n",
      "axes.formatter.use_locale: False\n",
      "axes.formatter.use_mathtext: False\n",
      "axes.formatter.useoffset: True\n",
      "axes.grid: False\n",
      "axes.grid.axis: both\n",
      "axes.grid.which: major\n",
      "axes.labelcolor: black\n",
      "axes.labelpad: 4.0\n",
      "axes.labelsize: medium\n",
      "axes.labelweight: normal\n",
      "axes.linewidth: 0.8\n",
      "axes.prop_cycle: cycler('color', ['#1f77b4', '#ff7f0e', '#2ca02c', '#d62728', '#9467bd', '#8c564b', '#e377c2', '#7f7f7f', '#bcbd22', '#17becf'])\n",
      "axes.spines.bottom: True\n",
      "axes.spines.left: True\n",
      "axes.spines.right: True\n",
      "axes.spines.top: True\n",
      "axes.titlecolor: auto\n",
      "axes.titlelocation: center\n",
      "axes.titlepad: 6.0\n",
      "axes.titlesize: large\n",
      "axes.titleweight: normal\n",
      "axes.titley: None\n",
      "axes.unicode_minus: True\n",
      "axes.xmargin: 0.05\n",
      "axes.ymargin: 0.05\n",
      "axes.zmargin: 0.05\n",
      "axes3d.grid: True\n",
      "axes3d.xaxis.panecolor: (0.95, 0.95, 0.95, 0.5)\n",
      "axes3d.yaxis.panecolor: (0.9, 0.9, 0.9, 0.5)\n",
      "axes3d.zaxis.panecolor: (0.925, 0.925, 0.925, 0.5)\n",
      "backend: module://matplotlib_inline.backend_inline\n",
      "backend_fallback: True\n",
      "boxplot.bootstrap: None\n",
      "boxplot.boxprops.color: black\n",
      "boxplot.boxprops.linestyle: -\n",
      "boxplot.boxprops.linewidth: 1.0\n",
      "boxplot.capprops.color: black\n",
      "boxplot.capprops.linestyle: -\n",
      "boxplot.capprops.linewidth: 1.0\n",
      "boxplot.flierprops.color: black\n",
      "boxplot.flierprops.linestyle: none\n",
      "boxplot.flierprops.linewidth: 1.0\n",
      "boxplot.flierprops.marker: o\n",
      "boxplot.flierprops.markeredgecolor: black\n",
      "boxplot.flierprops.markeredgewidth: 1.0\n",
      "boxplot.flierprops.markerfacecolor: none\n",
      "boxplot.flierprops.markersize: 6.0\n",
      "boxplot.meanline: False\n",
      "boxplot.meanprops.color: C2\n",
      "boxplot.meanprops.linestyle: --\n",
      "boxplot.meanprops.linewidth: 1.0\n",
      "boxplot.meanprops.marker: ^\n",
      "boxplot.meanprops.markeredgecolor: C2\n",
      "boxplot.meanprops.markerfacecolor: C2\n",
      "boxplot.meanprops.markersize: 6.0\n",
      "boxplot.medianprops.color: C1\n",
      "boxplot.medianprops.linestyle: -\n",
      "boxplot.medianprops.linewidth: 1.0\n",
      "boxplot.notch: False\n",
      "boxplot.patchartist: False\n",
      "boxplot.showbox: True\n",
      "boxplot.showcaps: True\n",
      "boxplot.showfliers: True\n",
      "boxplot.showmeans: False\n",
      "boxplot.vertical: True\n",
      "boxplot.whiskerprops.color: black\n",
      "boxplot.whiskerprops.linestyle: -\n",
      "boxplot.whiskerprops.linewidth: 1.0\n",
      "boxplot.whiskers: 1.5\n",
      "contour.algorithm: mpl2014\n",
      "contour.corner_mask: True\n",
      "contour.linewidth: None\n",
      "contour.negative_linestyle: dashed\n",
      "date.autoformatter.day: %Y-%m-%d\n",
      "date.autoformatter.hour: %m-%d %H\n",
      "date.autoformatter.microsecond: %M:%S.%f\n",
      "date.autoformatter.minute: %d %H:%M\n",
      "date.autoformatter.month: %Y-%m\n",
      "date.autoformatter.second: %H:%M:%S\n",
      "date.autoformatter.year: %Y\n",
      "date.converter: auto\n",
      "date.epoch: 1970-01-01T00:00:00\n",
      "date.interval_multiples: True\n",
      "docstring.hardcopy: False\n",
      "errorbar.capsize: 0.0\n",
      "figure.autolayout: False\n",
      "figure.constrained_layout.h_pad: 0.04167\n",
      "figure.constrained_layout.hspace: 0.02\n",
      "figure.constrained_layout.use: False\n",
      "figure.constrained_layout.w_pad: 0.04167\n",
      "figure.constrained_layout.wspace: 0.02\n",
      "figure.dpi: 100.0\n",
      "figure.edgecolor: white\n",
      "figure.facecolor: white\n",
      "figure.figsize: [4.0, 3.0]\n",
      "figure.frameon: True\n",
      "figure.hooks: []\n",
      "figure.labelsize: large\n",
      "figure.labelweight: normal\n",
      "figure.max_open_warning: 20\n",
      "figure.raise_window: True\n",
      "figure.subplot.bottom: 0.11\n",
      "figure.subplot.hspace: 0.2\n",
      "figure.subplot.left: 0.125\n",
      "figure.subplot.right: 0.9\n",
      "figure.subplot.top: 0.88\n",
      "figure.subplot.wspace: 0.2\n",
      "figure.titlesize: large\n",
      "figure.titleweight: normal\n",
      "font.cursive: ['Apple Chancery', 'Textile', 'Zapf Chancery', 'Sand', 'Script MT', 'Felipa', 'Comic Neue', 'Comic Sans MS', 'cursive']\n",
      "font.family: ['sans-serif']\n",
      "font.fantasy: ['Chicago', 'Charcoal', 'Impact', 'Western', 'Humor Sans', 'xkcd', 'fantasy']\n",
      "font.monospace: ['DejaVu Sans Mono', 'Bitstream Vera Sans Mono', 'Computer Modern Typewriter', 'Andale Mono', 'Nimbus Mono L', 'Courier New', 'Courier', 'Fixed', 'Terminal', 'monospace']\n",
      "font.sans-serif: ['DejaVu Sans', 'Bitstream Vera Sans', 'Computer Modern Sans Serif', 'Lucida Grande', 'Verdana', 'Geneva', 'Lucid', 'Arial', 'Helvetica', 'Avant Garde', 'sans-serif']\n",
      "font.serif: ['DejaVu Serif', 'Bitstream Vera Serif', 'Computer Modern Roman', 'New Century Schoolbook', 'Century Schoolbook L', 'Utopia', 'ITC Bookman', 'Bookman', 'Nimbus Roman No9 L', 'Times New Roman', 'Times', 'Palatino', 'Charter', 'serif']\n",
      "font.size: 10.0\n",
      "font.stretch: normal\n",
      "font.style: normal\n",
      "font.variant: normal\n",
      "font.weight: normal\n",
      "grid.alpha: 1.0\n",
      "grid.color: #b0b0b0\n",
      "grid.linestyle: -\n",
      "grid.linewidth: 0.8\n",
      "hatch.color: black\n",
      "hatch.linewidth: 1.0\n",
      "hist.bins: 10\n",
      "image.aspect: equal\n",
      "image.cmap: viridis\n",
      "image.composite_image: True\n",
      "image.interpolation: antialiased\n",
      "image.lut: 256\n",
      "image.origin: upper\n",
      "image.resample: True\n",
      "interactive: False\n",
      "keymap.back: ['left', 'c', 'backspace', 'MouseButton.BACK']\n",
      "keymap.copy: ['ctrl+c', 'cmd+c']\n",
      "keymap.forward: ['right', 'v', 'MouseButton.FORWARD']\n",
      "keymap.fullscreen: ['f', 'ctrl+f']\n",
      "keymap.grid: ['g']\n",
      "keymap.grid_minor: ['G']\n",
      "keymap.help: ['f1']\n",
      "keymap.home: ['h', 'r', 'home']\n",
      "keymap.pan: ['p']\n",
      "keymap.quit: ['ctrl+w', 'cmd+w', 'q']\n",
      "keymap.quit_all: []\n",
      "keymap.save: ['s', 'ctrl+s']\n",
      "keymap.xscale: ['k', 'L']\n",
      "keymap.yscale: ['l']\n",
      "keymap.zoom: ['o']\n",
      "legend.borderaxespad: 0.5\n",
      "legend.borderpad: 0.4\n",
      "legend.columnspacing: 2.0\n",
      "legend.edgecolor: 0.8\n",
      "legend.facecolor: inherit\n",
      "legend.fancybox: True\n",
      "legend.fontsize: medium\n",
      "legend.framealpha: 0.8\n",
      "legend.frameon: True\n",
      "legend.handleheight: 0.7\n",
      "legend.handlelength: 2.0\n",
      "legend.handletextpad: 0.8\n",
      "legend.labelcolor: None\n",
      "legend.labelspacing: 0.5\n",
      "legend.loc: best\n",
      "legend.markerscale: 1.0\n",
      "legend.numpoints: 1\n",
      "legend.scatterpoints: 1\n",
      "legend.shadow: False\n",
      "legend.title_fontsize: None\n",
      "lines.antialiased: True\n",
      "lines.color: C0\n",
      "lines.dash_capstyle: CapStyle.butt\n",
      "lines.dash_joinstyle: JoinStyle.round\n",
      "lines.dashdot_pattern: [6.4, 1.6, 1.0, 1.6]\n",
      "lines.dashed_pattern: [3.7, 1.6]\n",
      "lines.dotted_pattern: [1.0, 1.65]\n",
      "lines.linestyle: -\n",
      "lines.linewidth: 1.5\n",
      "lines.marker: None\n",
      "lines.markeredgecolor: auto\n",
      "lines.markeredgewidth: 1.0\n",
      "lines.markerfacecolor: auto\n",
      "lines.markersize: 6.0\n",
      "lines.scale_dashes: True\n",
      "lines.solid_capstyle: CapStyle.projecting\n",
      "lines.solid_joinstyle: JoinStyle.round\n",
      "macosx.window_mode: system\n",
      "markers.fillstyle: full\n",
      "mathtext.bf: sans:bold\n",
      "mathtext.bfit: sans:italic:bold\n",
      "mathtext.cal: cursive\n",
      "mathtext.default: it\n",
      "mathtext.fallback: cm\n",
      "mathtext.fontset: dejavusans\n",
      "mathtext.it: sans:italic\n",
      "mathtext.rm: sans\n",
      "mathtext.sf: sans\n",
      "mathtext.tt: monospace\n",
      "patch.antialiased: True\n",
      "patch.edgecolor: black\n",
      "patch.facecolor: C0\n",
      "patch.force_edgecolor: False\n",
      "patch.linewidth: 1.0\n",
      "path.effects: []\n",
      "path.simplify: True\n",
      "path.simplify_threshold: 0.111111111111\n",
      "path.sketch: None\n",
      "path.snap: True\n",
      "pcolor.shading: auto\n",
      "pcolormesh.snap: True\n",
      "pdf.compression: 6\n",
      "pdf.fonttype: 3\n",
      "pdf.inheritcolor: False\n",
      "pdf.use14corefonts: False\n",
      "pgf.preamble: \n",
      "pgf.rcfonts: True\n",
      "pgf.texsystem: xelatex\n",
      "polaraxes.grid: True\n",
      "ps.distiller.res: 6000\n",
      "ps.fonttype: 3\n",
      "ps.papersize: letter\n",
      "ps.useafm: False\n",
      "ps.usedistiller: None\n",
      "savefig.bbox: None\n",
      "savefig.directory: ~\n",
      "savefig.dpi: figure\n",
      "savefig.edgecolor: auto\n",
      "savefig.facecolor: auto\n",
      "savefig.format: png\n",
      "savefig.orientation: portrait\n",
      "savefig.pad_inches: 0.1\n",
      "savefig.transparent: False\n",
      "scatter.edgecolors: face\n",
      "scatter.marker: o\n",
      "svg.fonttype: path\n",
      "svg.hashsalt: None\n",
      "svg.image_inline: True\n",
      "text.antialiased: True\n",
      "text.color: black\n",
      "text.hinting: force_autohint\n",
      "text.hinting_factor: 8\n",
      "text.kerning_factor: 0\n",
      "text.latex.preamble: \n",
      "text.parse_math: True\n",
      "text.usetex: False\n",
      "timezone: UTC\n",
      "tk.window_focus: False\n",
      "toolbar: toolbar2\n",
      "webagg.address: 127.0.0.1\n",
      "webagg.open_in_browser: True\n",
      "webagg.port: 8988\n",
      "webagg.port_retries: 50\n",
      "xaxis.labellocation: center\n",
      "xtick.alignment: center\n",
      "xtick.bottom: True\n",
      "xtick.color: black\n",
      "xtick.direction: out\n",
      "xtick.labelbottom: True\n",
      "xtick.labelcolor: inherit\n",
      "xtick.labelsize: medium\n",
      "xtick.labeltop: False\n",
      "xtick.major.bottom: True\n",
      "xtick.major.pad: 3.5\n",
      "xtick.major.size: 3.5\n",
      "xtick.major.top: True\n",
      "xtick.major.width: 0.8\n",
      "xtick.minor.bottom: True\n",
      "xtick.minor.ndivs: auto\n",
      "xtick.minor.pad: 3.4\n",
      "xtick.minor.size: 2.0\n",
      "xtick.minor.top: True\n",
      "xtick.minor.visible: False\n",
      "xtick.minor.width: 0.6\n",
      "xtick.top: False\n",
      "yaxis.labellocation: center\n",
      "ytick.alignment: center_baseline\n",
      "ytick.color: black\n",
      "ytick.direction: out\n",
      "ytick.labelcolor: inherit\n",
      "ytick.labelleft: True\n",
      "ytick.labelright: False\n",
      "ytick.labelsize: medium\n",
      "ytick.left: True\n",
      "ytick.major.left: True\n",
      "ytick.major.pad: 3.5\n",
      "ytick.major.right: True\n",
      "ytick.major.size: 3.5\n",
      "ytick.major.width: 0.8\n",
      "ytick.minor.left: True\n",
      "ytick.minor.ndivs: auto\n",
      "ytick.minor.pad: 3.4\n",
      "ytick.minor.right: True\n",
      "ytick.minor.size: 2.0\n",
      "ytick.minor.visible: False\n",
      "ytick.minor.width: 0.6\n",
      "ytick.right: False\n"
     ]
    }
   ],
   "source": [
    "print(mpl.rcParams)"
   ]
  },
  {
   "cell_type": "markdown",
   "metadata": {},
   "source": [
    "We can save them locally and use them as a stylesheet "
   ]
  },
  {
   "cell_type": "markdown",
   "metadata": {},
   "source": [
    "Default stylesheets: "
   ]
  },
  {
   "cell_type": "code",
   "execution_count": 6,
   "metadata": {},
   "outputs": [
    {
     "name": "stdout",
     "output_type": "stream",
     "text": [
      "['Solarize_Light2', '_classic_test_patch', '_mpl-gallery', '_mpl-gallery-nogrid', 'bmh', 'classic', 'dark_background', 'fast', 'fivethirtyeight', 'ggplot', 'grayscale', 'seaborn-v0_8', 'seaborn-v0_8-bright', 'seaborn-v0_8-colorblind', 'seaborn-v0_8-dark', 'seaborn-v0_8-dark-palette', 'seaborn-v0_8-darkgrid', 'seaborn-v0_8-deep', 'seaborn-v0_8-muted', 'seaborn-v0_8-notebook', 'seaborn-v0_8-paper', 'seaborn-v0_8-pastel', 'seaborn-v0_8-poster', 'seaborn-v0_8-talk', 'seaborn-v0_8-ticks', 'seaborn-v0_8-white', 'seaborn-v0_8-whitegrid', 'tableau-colorblind10']\n"
     ]
    }
   ],
   "source": [
    "print(plt.style.available)"
   ]
  },
  {
   "cell_type": "markdown",
   "metadata": {},
   "source": [
    "### Activate predefined stylesheet"
   ]
  },
  {
   "cell_type": "markdown",
   "metadata": {},
   "source": [
    "Activate style: "
   ]
  },
  {
   "cell_type": "code",
   "execution_count": 26,
   "metadata": {},
   "outputs": [],
   "source": [
    "plt.style.use('ggplot')"
   ]
  },
  {
   "cell_type": "code",
   "execution_count": 8,
   "metadata": {},
   "outputs": [
    {
     "data": {
      "text/plain": [
       "<matplotlib.lines.Line2D at 0x1651db81b10>"
      ]
     },
     "execution_count": 8,
     "metadata": {},
     "output_type": "execute_result"
    },
    {
     "data": {
      "image/png": "[encoded data removed]",
      "text/plain": [
       "<Figure size 400x300 with 1 Axes>"
      ]
     },
     "metadata": {},
     "output_type": "display_data"
    }
   ],
   "source": [
    "f, ax = plt.subplots()\n",
    "ax.scatter(x=data['flipper_length_mm'], y=data['body_mass_g']);\n",
    "ax.axhline(4000)"
   ]
  },
  {
   "cell_type": "markdown",
   "metadata": {},
   "source": [
    "Recover the defaults: "
   ]
  },
  {
   "cell_type": "code",
   "execution_count": 9,
   "metadata": {},
   "outputs": [],
   "source": [
    "mpl.rcParams.update(mpl.rcParamsDefault)\n",
    "mpl.rcParams['figure.dpi'] = 75 # inline import overrides the default dpi  \n",
    "mpl.rcParams['figure.figsize'] = (4,3) # I set this at the beginning of the notebook to have smaller figures by default\n",
    "\n",
    "# for some reason we need to re-run this in mpl 3.7.1+\n",
    "%matplotlib inline "
   ]
  },
  {
   "cell_type": "code",
   "execution_count": 10,
   "metadata": {},
   "outputs": [
    {
     "data": {
      "text/plain": [
       "<matplotlib.lines.Line2D at 0x1651dff1f10>"
      ]
     },
     "execution_count": 10,
     "metadata": {},
     "output_type": "execute_result"
    },
    {
     "data": {
      "image/png": "[encoded data removed]",
      "text/plain": [
       "<Figure size 300x225 with 1 Axes>"
      ]
     },
     "metadata": {},
     "output_type": "display_data"
    }
   ],
   "source": [
    "f, ax = plt.subplots()\n",
    "ax.scatter(x=data['flipper_length_mm'], y=data['body_mass_g']);\n",
    "ax.axhline(4000)"
   ]
  },
  {
   "cell_type": "markdown",
   "metadata": {},
   "source": [
    "### Temporarily change the stylesheet"
   ]
  },
  {
   "cell_type": "markdown",
   "metadata": {},
   "source": [
    "Temporarily change the style: use `plt.style.context(<stylename>)`"
   ]
  },
  {
   "cell_type": "code",
   "execution_count": 11,
   "metadata": {},
   "outputs": [
    {
     "data": {
      "image/png": "[encoded data removed]",
      "text/plain": [
       "<Figure size 300x225 with 1 Axes>"
      ]
     },
     "metadata": {},
     "output_type": "display_data"
    }
   ],
   "source": [
    "with plt.style.context('dark_background'):\n",
    "    f, ax = plt.subplots()\n",
    "    ax.scatter(x=data['flipper_length_mm'], y=data['body_mass_g']);\n",
    "    ax.axhline(4000)"
   ]
  },
  {
   "cell_type": "code",
   "execution_count": 12,
   "metadata": {},
   "outputs": [
    {
     "name": "stdout",
     "output_type": "stream",
     "text": [
      "white\n",
      "black\n"
     ]
    }
   ],
   "source": [
    "print(mpl.rcParams['figure.facecolor'])\n",
    "with plt.style.context('dark_background'):\n",
    "    print(mpl.rcParams['figure.facecolor'])"
   ]
  },
  {
   "cell_type": "markdown",
   "metadata": {},
   "source": [
    "### Creating custom styles"
   ]
  },
  {
   "cell_type": "markdown",
   "metadata": {},
   "source": [
    "Define custom default styles: create a text file with keys and values\n",
    "\n",
    "Look at the reference to see what is available: https://matplotlib.org/stable/tutorials/introductory/customizing.html#the-matplotlibrc-file "
   ]
  },
  {
   "cell_type": "markdown",
   "metadata": {},
   "source": [
    "Let's inspect a stylesheet I created: "
   ]
  },
  {
   "cell_type": "code",
   "execution_count": 13,
   "metadata": {},
   "outputs": [
    {
     "name": "stdout",
     "output_type": "stream",
     "text": [
      "axes.titlesize : 24\n",
      "axes.labelsize : 20\n",
      "lines.linewidth : 3\n",
      "lines.markersize : 10\n",
      "xtick.labelsize : 16\n",
      "ytick.labelsize : 16\n",
      "axes.facecolor: antiquewhite\n",
      "figure.facecolor: wheat\n"
     ]
    }
   ],
   "source": [
    "with open('./hslu_test_stylesheet.mplstyle', 'r') as f: \n",
    "    print(f.read())"
   ]
  },
  {
   "cell_type": "markdown",
   "metadata": {},
   "source": [
    "Option 1: `plt.style.context`: will respect some pre-defined rc settings "
   ]
  },
  {
   "cell_type": "code",
   "execution_count": 14,
   "metadata": {},
   "outputs": [
    {
     "data": {
      "image/png": "[encoded data removed]",
      "text/plain": [
       "<Figure size 300x225 with 1 Axes>"
      ]
     },
     "metadata": {},
     "output_type": "display_data"
    }
   ],
   "source": [
    "with plt.style.context('./hslu_test_stylesheet.mplstyle'):\n",
    "    f, ax = plt.subplots()\n",
    "    ax.scatter(x=data['flipper_length_mm'], y=data['body_mass_g']);\n",
    "    ax.axhline(4000)"
   ]
  },
  {
   "cell_type": "markdown",
   "metadata": {},
   "source": [
    "Option 2: `plt.rc_context`: will overwrite all rc settings"
   ]
  },
  {
   "cell_type": "code",
   "execution_count": 15,
   "metadata": {},
   "outputs": [
    {
     "data": {
      "image/png": "[encoded data removed]",
      "text/plain": [
       "<Figure size 640x480 with 1 Axes>"
      ]
     },
     "metadata": {},
     "output_type": "display_data"
    }
   ],
   "source": [
    "with plt.rc_context(fname='./hslu_test_stylesheet.mplstyle'):\n",
    "    f, ax = plt.subplots()\n",
    "    ax.scatter(x=data['flipper_length_mm'], y=data['body_mass_g']);\n",
    "    ax.axhline(4000)"
   ]
  },
  {
   "cell_type": "markdown",
   "metadata": {},
   "source": [
    "___"
   ]
  },
  {
   "cell_type": "markdown",
   "metadata": {},
   "source": [
    "# Changing the fonts"
   ]
  },
  {
   "cell_type": "markdown",
   "metadata": {},
   "source": [
    "### Font manager "
   ]
  },
  {
   "cell_type": "markdown",
   "metadata": {},
   "source": [
    "Fonts are managed by something called font manager"
   ]
  },
  {
   "cell_type": "markdown",
   "metadata": {},
   "source": [
    "To inspect which fonts are available: "
   ]
  },
  {
   "cell_type": "code",
   "execution_count": 16,
   "metadata": {},
   "outputs": [
    {
     "data": {
      "text/plain": [
       "['C:\\\\Windows\\\\Fonts\\\\MAIAN.TTF',\n",
       " 'C:\\\\Windows\\\\Fonts\\\\FRADM.TTF',\n",
       " 'C:\\\\Windows\\\\Fonts\\\\Candarab.ttf',\n",
       " 'C:\\\\Windows\\\\Fonts\\\\segoeuii.ttf',\n",
       " 'C:\\\\Windows\\\\Fonts\\\\VINERITC.TTF']"
      ]
     },
     "execution_count": 16,
     "metadata": {},
     "output_type": "execute_result"
    }
   ],
   "source": [
    "import matplotlib.font_manager as fm \n",
    "\n",
    "fm.findSystemFonts(fontpaths=None, fontext='ttf')[:5]"
   ]
  },
  {
   "cell_type": "markdown",
   "metadata": {},
   "source": [
    "### Adding fonts "
   ]
  },
  {
   "cell_type": "markdown",
   "metadata": {},
   "source": [
    "#### Without installation"
   ]
  },
  {
   "cell_type": "markdown",
   "metadata": {},
   "source": [
    "If I have downloaded custom fonts, e.g. Fredoka from Google Fonts, I can do: "
   ]
  },
  {
   "cell_type": "code",
   "execution_count": 17,
   "metadata": {},
   "outputs": [
    {
     "name": "stdout",
     "output_type": "stream",
     "text": [
      "c:\\Users\\David\\Desktop\\HSLU\\sem3\\dviz\\week04\\Silkscreen-Regular.ttf\n",
      "c:\\Users\\David\\Desktop\\HSLU\\sem3\\dviz\\week04\\Fredoka-VariableFont_wdth,wght.ttf\n"
     ]
    }
   ],
   "source": [
    "font_dir = ['.'] # directory where I stored the freshly downloaded fonts \n",
    "for font in fm.findSystemFonts(font_dir):\n",
    "    print(font)\n",
    "    fm.fontManager.addfont(font)"
   ]
  },
  {
   "cell_type": "code",
   "execution_count": 18,
   "metadata": {},
   "outputs": [
    {
     "data": {
      "text/plain": [
       "'C:\\\\Users\\\\David\\\\Desktop\\\\HSLU\\\\sem3\\\\dviz\\\\week04\\\\Fredoka-VariableFont_wdth,wght.ttf'"
      ]
     },
     "execution_count": 18,
     "metadata": {},
     "output_type": "execute_result"
    }
   ],
   "source": [
    "fm.fontManager.findfont('Fredoka')"
   ]
  },
  {
   "cell_type": "markdown",
   "metadata": {},
   "source": [
    "#### with installation"
   ]
  },
  {
   "cell_type": "markdown",
   "metadata": {},
   "source": [
    "If I install a font, sometimes the font cache needs to be rebuilt: "
   ]
  },
  {
   "cell_type": "code",
   "execution_count": 19,
   "metadata": {},
   "outputs": [
    {
     "data": {
      "text/plain": [
       "<matplotlib.font_manager.FontManager at 0x1651e00c9d0>"
      ]
     },
     "execution_count": 19,
     "metadata": {},
     "output_type": "execute_result"
    }
   ],
   "source": [
    "fm._load_fontmanager(try_read_cache=False)"
   ]
  },
  {
   "cell_type": "markdown",
   "metadata": {},
   "source": [
    "Most likely the notebook needs to be restarted (this changes between OS and mpl versions)"
   ]
  },
  {
   "cell_type": "markdown",
   "metadata": {},
   "source": [
    "### Using fonts"
   ]
  },
  {
   "cell_type": "markdown",
   "metadata": {},
   "source": [
    "#### in rc params"
   ]
  },
  {
   "cell_type": "code",
   "execution_count": 20,
   "metadata": {},
   "outputs": [
    {
     "data": {
      "image/png": "[encoded data removed]",
      "text/plain": [
       "<Figure size 300x225 with 1 Axes>"
      ]
     },
     "metadata": {},
     "output_type": "display_data"
    }
   ],
   "source": [
    "font_rc = {'font.family': 'Fredoka', 'font.size': 14}\n",
    "\n",
    "with plt.rc_context(rc=font_rc):\n",
    "    f, ax = plt.subplots()\n",
    "    ax.scatter(x=data['flipper_length_mm'], y=data['body_mass_g']);\n",
    "    ax.axhline(4000)\n",
    "    ax.set_title('I am a title')"
   ]
  },
  {
   "cell_type": "markdown",
   "metadata": {},
   "source": [
    "You can also set global `rcParams` with the font name, of course"
   ]
  },
  {
   "cell_type": "markdown",
   "metadata": {},
   "source": [
    "#### using `FontProperties`"
   ]
  },
  {
   "cell_type": "markdown",
   "metadata": {},
   "source": [
    "You can also use FontProperties objects with installed fonts or even fonts that are just a ttf file:"
   ]
  },
  {
   "cell_type": "code",
   "execution_count": 21,
   "metadata": {},
   "outputs": [
    {
     "data": {
      "text/plain": [
       "Text(0.5, 1.0, 'I am a title')"
      ]
     },
     "execution_count": 21,
     "metadata": {},
     "output_type": "execute_result"
    },
    {
     "data": {
      "image/png": "[encoded data removed]",
      "text/plain": [
       "<Figure size 300x225 with 1 Axes>"
      ]
     },
     "metadata": {},
     "output_type": "display_data"
    }
   ],
   "source": [
    "from pathlib import Path\n",
    "\n",
    "title_font = mpl.font_manager.FontProperties(\n",
    "            fname=Path(\"./Silkscreen-Regular.ttf\"), size=30)\n",
    "\n",
    "f, ax = plt.subplots()\n",
    "ax.scatter(x=data['flipper_length_mm'], y=data['body_mass_g']);\n",
    "ax.axhline(4000)\n",
    "ax.set_title('I am a title', fontproperties=title_font)"
   ]
  },
  {
   "cell_type": "code",
   "execution_count": 22,
   "metadata": {},
   "outputs": [
    {
     "data": {
      "text/plain": [
       "matplotlib.font_manager.FontProperties"
      ]
     },
     "execution_count": 22,
     "metadata": {},
     "output_type": "execute_result"
    }
   ],
   "source": [
    "type(title_font)"
   ]
  },
  {
   "cell_type": "markdown",
   "metadata": {},
   "source": [
    "The API is still a bit inconsistent, but FontProperties can be used across many different mpl objects: "
   ]
  },
  {
   "cell_type": "markdown",
   "metadata": {},
   "source": [
    "```\n",
    "ax.annotate('Something interesting here', \n",
    "            xy = (0.5,0.5), xycoords=ax,\n",
    "            fontproperties=custom_font,)\n",
    "\n",
    "f.suptitle('Nice title', \n",
    "            fontproperties=custom_font, )\n",
    "\n",
    "for tick in ax.get_yticklabels():\n",
    "    tick.set_font_properties(custom_font)\n",
    "\n",
    "ax.legend(handles=handles, prop=custom_font)\n",
    "```"
   ]
  },
  {
   "cell_type": "markdown",
   "metadata": {},
   "source": [
    "___"
   ]
  },
  {
   "cell_type": "markdown",
   "metadata": {},
   "source": [
    "# Bonus: styling Markdown in Jupyter notebooks"
   ]
  },
  {
   "cell_type": "markdown",
   "metadata": {},
   "source": [
    "You can include <span style=\"background: red; color: white; font-weight: bold; padding: 1ex\">colorful styled span elements</span> in the markdown cells! "
   ]
  },
  {
   "cell_type": "markdown",
   "metadata": {},
   "source": [
    "Or print html text with properties relating to your variables: "
   ]
  },
  {
   "cell_type": "code",
   "execution_count": 23,
   "metadata": {},
   "outputs": [],
   "source": [
    "species_styles = {\n",
    "    'Adelie': {'color': 'tomato', 's': 100, 'alpha': 0.5}, \n",
    "    'Chinstrap': {'color': 'dodgerblue', 'marker': 'v'}, \n",
    "    'Gentoo': {'color': 'darkgray', 'edgecolor':'black'}\n",
    "}"
   ]
  },
  {
   "cell_type": "code",
   "execution_count": 24,
   "metadata": {},
   "outputs": [
    {
     "data": {
      "text/html": [
       "<h1 style=\"background: dodgerblue; color: tomato;\">Hello, styled text!</h1>"
      ],
      "text/plain": [
       "<IPython.core.display.HTML object>"
      ]
     },
     "metadata": {},
     "output_type": "display_data"
    }
   ],
   "source": [
    "from IPython.display import display, HTML\n",
    "display(HTML(f'<h1 style=\"background: {species_styles[\"Chinstrap\"][\"color\"]}; color: {species_styles[\"Adelie\"][\"color\"]};\">Hello, styled text!</h1>'))"
   ]
  },
  {
   "cell_type": "markdown",
   "metadata": {},
   "source": [
    "We will learn more about it once we learn how to use Quarto."
   ]
  }
 ],
 "metadata": {
  "hide_input": false,
  "kernelspec": {
   "display_name": "Python 3",
   "language": "python",
   "name": "python3"
  },
  "language_info": {
   "codemirror_mode": {
    "name": "ipython",
    "version": 3
   },
   "file_extension": ".py",
   "mimetype": "text/x-python",
   "name": "python",
   "nbconvert_exporter": "python",
   "pygments_lexer": "ipython3",
   "version": "3.11.6"
  }
 },
 "nbformat": 4,
 "nbformat_minor": 4
}
