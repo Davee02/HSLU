{
 "cells": [
  {
   "cell_type": "code",
   "execution_count": 1,
   "metadata": {},
   "outputs": [],
   "source": [
    "import pandas as pd \n",
    "import numpy as np \n",
    "import seaborn as sns\n",
    "import matplotlib.pyplot as plt "
   ]
  },
  {
   "cell_type": "markdown",
   "metadata": {},
   "source": [
    "# Exercise "
   ]
  },
  {
   "cell_type": "markdown",
   "metadata": {},
   "source": [
    "We will recreate the visualization from Datawrapper. I cleaned the data for you already. "
   ]
  },
  {
   "cell_type": "code",
   "execution_count": 2,
   "metadata": {},
   "outputs": [],
   "source": [
    "# You don't have to run this: this is how the data was cleaned \n",
    "\n",
    "# import pandas as pd \n",
    "# d = pd.read_csv('apple_data.csv', delimiter=';')\n",
    "# d['Date'] = pd.PeriodIndex(d['Quarter'].str.split(' ').apply(lambda x: ''.join(x[::-1])), freq='Q').to_timestamp()\n",
    "# for c in ['iPhone','iPad','Mac','iPod']: \n",
    "#     d[c] = d[c].str.replace(',','.').astype(float)\n",
    "# d.to_csv('apple_data_clean.csv', index=False)"
   ]
  },
  {
   "cell_type": "markdown",
   "metadata": {},
   "source": [
    "Task: recreate this visualization (without making the lines curved and with dummy text): \n",
    "\n",
    "<img src='VAHvu-iphone-more-successful-than-all-other-apple-products.png' width=\"600\" height=\"400\">\n"
   ]
  },
  {
   "cell_type": "markdown",
   "metadata": {},
   "source": [
    "https://www.datawrapper.de/_/0192x/ \n",
    "\n",
    "Here a process how this chart has been designed: https://blog.datawrapper.de/better-charts/"
   ]
  },
  {
   "cell_type": "markdown",
   "metadata": {},
   "source": [
    "If you use Matplotlib for handling the datetime, see https://matplotlib.org/stable/gallery/text_labels_and_annotations/date.html. But if we use pandas, we can also use a hack: instead of using Quarters as string, we can convert the year from integer to float, e.g. Q3 2000 would be 2000.75.  "
   ]
  },
  {
   "cell_type": "code",
   "execution_count": 3,
   "metadata": {},
   "outputs": [],
   "source": [
    "d = pd.read_csv('apple_data_clean.csv')"
   ]
  },
  {
   "cell_type": "code",
   "execution_count": 4,
   "metadata": {},
   "outputs": [
    {
     "data": {
      "text/html": [
       "<div>\n",
       "<style scoped>\n",
       "    .dataframe tbody tr th:only-of-type {\n",
       "        vertical-align: middle;\n",
       "    }\n",
       "\n",
       "    .dataframe tbody tr th {\n",
       "        vertical-align: top;\n",
       "    }\n",
       "\n",
       "    .dataframe thead th {\n",
       "        text-align: right;\n",
       "    }\n",
       "</style>\n",
       "<table border=\"1\" class=\"dataframe\">\n",
       "  <thead>\n",
       "    <tr style=\"text-align: right;\">\n",
       "      <th></th>\n",
       "      <th>Quarter</th>\n",
       "      <th>iPhone</th>\n",
       "      <th>iPad</th>\n",
       "      <th>Mac</th>\n",
       "      <th>iPod</th>\n",
       "      <th>Date</th>\n",
       "    </tr>\n",
       "  </thead>\n",
       "  <tbody>\n",
       "    <tr>\n",
       "      <th>0</th>\n",
       "      <td>Q3 2000</td>\n",
       "      <td>NaN</td>\n",
       "      <td>NaN</td>\n",
       "      <td>1.1</td>\n",
       "      <td>NaN</td>\n",
       "      <td>2000-07-01</td>\n",
       "    </tr>\n",
       "    <tr>\n",
       "      <th>1</th>\n",
       "      <td>Q4 2000</td>\n",
       "      <td>NaN</td>\n",
       "      <td>NaN</td>\n",
       "      <td>0.6</td>\n",
       "      <td>NaN</td>\n",
       "      <td>2000-10-01</td>\n",
       "    </tr>\n",
       "    <tr>\n",
       "      <th>2</th>\n",
       "      <td>Q1 2001</td>\n",
       "      <td>NaN</td>\n",
       "      <td>NaN</td>\n",
       "      <td>0.7</td>\n",
       "      <td>NaN</td>\n",
       "      <td>2001-01-01</td>\n",
       "    </tr>\n",
       "    <tr>\n",
       "      <th>3</th>\n",
       "      <td>Q2 2001</td>\n",
       "      <td>NaN</td>\n",
       "      <td>NaN</td>\n",
       "      <td>0.8</td>\n",
       "      <td>NaN</td>\n",
       "      <td>2001-04-01</td>\n",
       "    </tr>\n",
       "    <tr>\n",
       "      <th>4</th>\n",
       "      <td>Q3 2001</td>\n",
       "      <td>NaN</td>\n",
       "      <td>NaN</td>\n",
       "      <td>0.8</td>\n",
       "      <td>NaN</td>\n",
       "      <td>2001-07-01</td>\n",
       "    </tr>\n",
       "  </tbody>\n",
       "</table>\n",
       "</div>"
      ],
      "text/plain": [
       "   Quarter  iPhone  iPad  Mac  iPod        Date\n",
       "0  Q3 2000     NaN   NaN  1.1   NaN  2000-07-01\n",
       "1  Q4 2000     NaN   NaN  0.6   NaN  2000-10-01\n",
       "2  Q1 2001     NaN   NaN  0.7   NaN  2001-01-01\n",
       "3  Q2 2001     NaN   NaN  0.8   NaN  2001-04-01\n",
       "4  Q3 2001     NaN   NaN  0.8   NaN  2001-07-01"
      ]
     },
     "execution_count": 4,
     "metadata": {},
     "output_type": "execute_result"
    }
   ],
   "source": [
    "d.head()"
   ]
  },
  {
   "cell_type": "code",
   "execution_count": 5,
   "metadata": {},
   "outputs": [],
   "source": [
    "# some time wrangling to get you started \n",
    "\n",
    "def quarter_to_num(q):\n",
    "    qs = q.split(' ')\n",
    "    year = qs[1]\n",
    "    qnum = qs[0][-1]\n",
    "    qfrac = (float(qnum)-1)/4\n",
    "    return float(year)+qfrac\n",
    "\n",
    "d['Quarter_hacked'] = d['Quarter'].apply(quarter_to_num)\n",
    "\n",
    "d['Date_dt'] = pd.to_datetime(d['Date'])"
   ]
  },
  {
   "cell_type": "code",
   "execution_count": 6,
   "metadata": {},
   "outputs": [
    {
     "data": {
      "text/html": [
       "<div>\n",
       "<style scoped>\n",
       "    .dataframe tbody tr th:only-of-type {\n",
       "        vertical-align: middle;\n",
       "    }\n",
       "\n",
       "    .dataframe tbody tr th {\n",
       "        vertical-align: top;\n",
       "    }\n",
       "\n",
       "    .dataframe thead th {\n",
       "        text-align: right;\n",
       "    }\n",
       "</style>\n",
       "<table border=\"1\" class=\"dataframe\">\n",
       "  <thead>\n",
       "    <tr style=\"text-align: right;\">\n",
       "      <th></th>\n",
       "      <th>Quarter</th>\n",
       "      <th>iPhone</th>\n",
       "      <th>iPad</th>\n",
       "      <th>Mac</th>\n",
       "      <th>iPod</th>\n",
       "      <th>Date</th>\n",
       "      <th>Quarter_hacked</th>\n",
       "      <th>Date_dt</th>\n",
       "    </tr>\n",
       "  </thead>\n",
       "  <tbody>\n",
       "    <tr>\n",
       "      <th>0</th>\n",
       "      <td>Q3 2000</td>\n",
       "      <td>NaN</td>\n",
       "      <td>NaN</td>\n",
       "      <td>1.1</td>\n",
       "      <td>NaN</td>\n",
       "      <td>2000-07-01</td>\n",
       "      <td>2000.50</td>\n",
       "      <td>2000-07-01</td>\n",
       "    </tr>\n",
       "    <tr>\n",
       "      <th>1</th>\n",
       "      <td>Q4 2000</td>\n",
       "      <td>NaN</td>\n",
       "      <td>NaN</td>\n",
       "      <td>0.6</td>\n",
       "      <td>NaN</td>\n",
       "      <td>2000-10-01</td>\n",
       "      <td>2000.75</td>\n",
       "      <td>2000-10-01</td>\n",
       "    </tr>\n",
       "    <tr>\n",
       "      <th>2</th>\n",
       "      <td>Q1 2001</td>\n",
       "      <td>NaN</td>\n",
       "      <td>NaN</td>\n",
       "      <td>0.7</td>\n",
       "      <td>NaN</td>\n",
       "      <td>2001-01-01</td>\n",
       "      <td>2001.00</td>\n",
       "      <td>2001-01-01</td>\n",
       "    </tr>\n",
       "    <tr>\n",
       "      <th>3</th>\n",
       "      <td>Q2 2001</td>\n",
       "      <td>NaN</td>\n",
       "      <td>NaN</td>\n",
       "      <td>0.8</td>\n",
       "      <td>NaN</td>\n",
       "      <td>2001-04-01</td>\n",
       "      <td>2001.25</td>\n",
       "      <td>2001-04-01</td>\n",
       "    </tr>\n",
       "    <tr>\n",
       "      <th>4</th>\n",
       "      <td>Q3 2001</td>\n",
       "      <td>NaN</td>\n",
       "      <td>NaN</td>\n",
       "      <td>0.8</td>\n",
       "      <td>NaN</td>\n",
       "      <td>2001-07-01</td>\n",
       "      <td>2001.50</td>\n",
       "      <td>2001-07-01</td>\n",
       "    </tr>\n",
       "  </tbody>\n",
       "</table>\n",
       "</div>"
      ],
      "text/plain": [
       "   Quarter  iPhone  iPad  Mac  iPod        Date  Quarter_hacked    Date_dt\n",
       "0  Q3 2000     NaN   NaN  1.1   NaN  2000-07-01         2000.50 2000-07-01\n",
       "1  Q4 2000     NaN   NaN  0.6   NaN  2000-10-01         2000.75 2000-10-01\n",
       "2  Q1 2001     NaN   NaN  0.7   NaN  2001-01-01         2001.00 2001-01-01\n",
       "3  Q2 2001     NaN   NaN  0.8   NaN  2001-04-01         2001.25 2001-04-01\n",
       "4  Q3 2001     NaN   NaN  0.8   NaN  2001-07-01         2001.50 2001-07-01"
      ]
     },
     "execution_count": 6,
     "metadata": {},
     "output_type": "execute_result"
    }
   ],
   "source": [
    "d.head()"
   ]
  },
  {
   "cell_type": "markdown",
   "metadata": {},
   "source": [
    "Example how to go forward: \n",
    "- prototype the line plot using pandas DataFrame \n",
    "- figure out the styling of the lines \n",
    "- set the x,y ticks locations \n",
    "- customize the x,y tick looks \n",
    "- create grid lines \n",
    "- customize how do the spines look \n",
    "- annotate the region \n",
    "- create the title and subtitle \n",
    "- create the footnote \n",
    "- create the \"legend\" "
   ]
  },
  {
   "cell_type": "code",
   "execution_count": 7,
   "metadata": {},
   "outputs": [
    {
     "data": {
      "image/png": "[encoded data removed]",
      "text/plain": [
       "<Figure size 400x300 with 1 Axes>"
      ]
     },
     "metadata": {},
     "output_type": "display_data"
    }
   ],
   "source": [
    "f, ax = plt.subplots(figsize=(4,3))\n",
    "\n",
    "l = ax.plot(d['Quarter_hacked'], d['iPhone'])\n",
    "\n",
    "# your solution ... "
   ]
  },
  {
   "cell_type": "code",
   "execution_count": null,
   "metadata": {},
   "outputs": [],
   "source": []
  },
  {
   "cell_type": "code",
   "execution_count": null,
   "metadata": {},
   "outputs": [],
   "source": []
  },
  {
   "cell_type": "code",
   "execution_count": null,
   "metadata": {},
   "outputs": [],
   "source": []
  }
 ],
 "metadata": {
  "hide_input": false,
  "kernelspec": {
   "display_name": "Python 3",
   "language": "python",
   "name": "python3"
  },
  "language_info": {
   "codemirror_mode": {
    "name": "ipython",
    "version": 3
   },
   "file_extension": ".py",
   "mimetype": "text/x-python",
   "name": "python",
   "nbconvert_exporter": "python",
   "pygments_lexer": "ipython3",
   "version": "3.11.6"
  }
 },
 "nbformat": 4,
 "nbformat_minor": 4
}
