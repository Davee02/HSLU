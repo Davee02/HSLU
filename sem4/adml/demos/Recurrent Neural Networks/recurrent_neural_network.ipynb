{
 "cells": [
  {
   "attachments": {
    "png-clipart-cartoon-network-johnny-bravo-television-show-drawing-others-television-comics-thumbnail.png": {
     "image/png": "[encoded data removed]"
    }
   },
   "cell_type": "markdown",
   "metadata": {},
   "source": [
    "# Recurrent Neural Network for Text Generation\n",
    "\n",
    "This tutorial is about Natural Language Processing (NLP) with Recurrent Neural Networks (RNN). We will use an RNN to build a (generative) language model that can produce new text snippets of similar style as in the training corpus. Unfortunately, NLP projects always involve a lot of data preprocessing. RNN based models are successful for rather short text snippets. The more recent technique of transformer networks show much better performance and scale to much longer texts (e.g. BERT or GPT-2). But they would also need much more computational resources for training, of course, which is why we content ourselves with this rather simple RNN model.\n",
    "\n",
    "**Information:**\n",
    "> If you run into any problems regarding insufficient computing power or RAM, you can skip the training part and jump straight to the generation. Or, if you are interested, limit the dataset and try the training again.\n",
    "\n",
    "## Dating for Nerds\n",
    "\n",
    "Nerds are notoriously bad when it comes to dating. Therefore, we aim to provide a new service to these shy and hesitant people that suggest pickup lines. Deployed as a mobile app, our customers hopefully get good support in finding the love of their life. We already crawled a dataset of $18150$, hopefully, successful pickup lines from the internet. So, let us start developing the world's first MACHO BOT ...\n",
    "\n",
    "![png-clipart-cartoon-network-johnny-bravo-television-show-drawing-others-television-comics-thumbnail.png](attachment:png-clipart-cartoon-network-johnny-bravo-television-show-drawing-others-television-comics-thumbnail.png)\n",
    "\n",
    "Image: Johnny Bravo\n",
    "\n",
    "**Disclaimer:** \n",
    "\n",
    "> Some of the crawled pickup lines are vulgar and offensive. But we chose this example intentionally and will reflect on this at the end of the notebook."
   ]
  },
  {
   "cell_type": "code",
   "execution_count": null,
   "metadata": {},
   "outputs": [],
   "source": [
    "import pickle\n",
    "import gzip\n",
    "import numpy as np\n",
    "import pandas as pd\n",
    "import tensorflow as tf\n",
    "import matplotlib.pyplot as plt\n",
    "import os.path\n",
    "\n",
    "from tensorflow.keras.preprocessing.text import Tokenizer\n",
    "from tensorflow.keras.preprocessing.sequence import pad_sequences\n",
    "from tensorflow.keras.utils import to_categorical\n",
    "from tensorflow.keras.models import Sequential\n",
    "from tensorflow.keras.layers import Dense, Embedding, LSTM\n",
    "from tensorflow.keras.callbacks import LambdaCallback\n",
    "from tensorflow.keras.models import load_model\n",
    "\n",
    "# Library for Fracebook word embeddings\n",
    "# pip install --upgrade fasttext\n",
    "import fasttext.util\n",
    "\n",
    "# Library for progress bars\n",
    "# pip install --upgrade tqdm\n",
    "from tqdm.auto import tqdm\n",
    "\n",
    "# Interactive elements for Jupyter notebooks\n",
    "from ipywidgets import interact\n",
    "\n",
    "# Make sure you have the right tensorflow version installed\n",
    "assert tf.__version__ >= \"2.1.0\""
   ]
  },
  {
   "cell_type": "markdown",
   "metadata": {},
   "source": [
    "### Graphic Processing Unit (GPU)\n",
    "\n",
    "You can run the notebook without any additional computing resources. However, it will take much longer to train the network. Therefore we recommend to go through the code and skip the training of the network. But if you have access to some additional computing resources, such as a GPU, you can certainly train the network and try to make adjustments to it. You can run the next cell to make sure TensorFlow correctly initializes the GPU. If no GPU is found, there will not be any output."
   ]
  },
  {
   "cell_type": "code",
   "execution_count": null,
   "metadata": {},
   "outputs": [],
   "source": [
    "gpus = tf.config.experimental.list_physical_devices(\"GPU\")\n",
    "\n",
    "if gpus:\n",
    "    try:\n",
    "        # Currently, memory growth needs to be the same across GPUs\n",
    "        for gpu in gpus:\n",
    "            tf.config.experimental.set_memory_growth(gpu, True)\n",
    "        logical_gpus = tf.config.experimental.list_logical_devices(\"GPU\")\n",
    "        print(len(gpus), \"Physical GPUs,\", len(logical_gpus), \"Logical GPUs\")\n",
    "    except RuntimeError as e:\n",
    "        # Memory growth must be set before GPUs have been initialized\n",
    "        print(e)"
   ]
  },
  {
   "cell_type": "markdown",
   "metadata": {},
   "source": [
    "Download pre-trained `fasttext` word embeddings for English. This can take up to one hour depending on your network speed. The downloaded model is almost 4GB large and will be stored on your harddisc. Our code skips the download if the file is already avaiable. "
   ]
  },
  {
   "cell_type": "code",
   "execution_count": null,
   "metadata": {
    "scrolled": true
   },
   "outputs": [],
   "source": [
    "fasttext.util.download_model(\"en\", if_exists=\"ignore\")"
   ]
  },
  {
   "cell_type": "markdown",
   "metadata": {},
   "source": [
    "## Data Loading and Examination\n",
    "\n",
    "Load the crawled pickup lines dataset into a pandas dataframe. The dataset consists of four columns:\n",
    "* `text`: the pickup line\n",
    "* `url`: the origin of the pickup line\n",
    "* `text_len`: the number of characters of the pickup line\n",
    "* `text_word_count`: the number of words of the pickup line"
   ]
  },
  {
   "cell_type": "code",
   "execution_count": null,
   "metadata": {},
   "outputs": [],
   "source": [
    "df = pd.read_csv(\"pickup_lines_dataset_cleaned.csv\", index_col=0, encoding=\"utf-8\")\n",
    "df.head()"
   ]
  },
  {
   "cell_type": "markdown",
   "metadata": {},
   "source": [
    "Let us look at some stats of the dataset, starting with the distribution of the text length. We can see that most pickup lines are in the range between 30-90."
   ]
  },
  {
   "cell_type": "code",
   "execution_count": null,
   "metadata": {
    "solution2": "shown"
   },
   "outputs": [],
   "source": [
    "df.hist(column=[\"text_len\"], bins=100)\n",
    "plt.title(\"Distribution of text length\")\n",
    "plt.xlabel(\"text length\")\n",
    "plt.ylabel(\"count in ds\")\n",
    "plt.xlim([0, 400])\n",
    "plt.show()"
   ]
  },
  {
   "cell_type": "markdown",
   "metadata": {},
   "source": [
    "Furthermore, the next cell shows that most pickup lines contain between 7-16 words. This seems like a typical length of pickup lines to be generated. "
   ]
  },
  {
   "cell_type": "code",
   "execution_count": null,
   "metadata": {
    "solution2": "shown"
   },
   "outputs": [],
   "source": [
    "df.hist(column=[\"text_word_count\"], bins=100)\n",
    "plt.title(\"Distribution of word counts\")\n",
    "plt.xlim([0, 60])\n",
    "plt.show()"
   ]
  },
  {
   "cell_type": "markdown",
   "metadata": {},
   "source": [
    "## Data Preprocessing\n",
    "\n",
    "After examining the data, we must take care of ponctuation."
   ]
  },
  {
   "cell_type": "code",
   "execution_count": null,
   "metadata": {},
   "outputs": [],
   "source": [
    "# Extract only the text (pickup lines) from the dataframe\n",
    "text = df[\"text\"]\n",
    "\n",
    "# Replace some punctation\n",
    "text = text.str.replace(\";\", \",\")\n",
    "text = text.str.replace(\"...\", \".\", regex=False)\n",
    "text = text.str.replace(\"…\", \".\", regex=False)\n",
    "text.head(n=3).tolist()"
   ]
  },
  {
   "cell_type": "code",
   "execution_count": null,
   "metadata": {},
   "outputs": [],
   "source": [
    "# Symbols we want to filter out\n",
    "unwanted_punctation = r\"'„“#$%&()*+-/:<=>@[\\]^_`{|}~\"\n",
    "# Symbols we want to keep\n",
    "wanted_punctation = r\",?!.\"\n",
    "\n",
    "# Add whitespace before wanted punctation\n",
    "for punctation in wanted_punctation:\n",
    "    text = text.str.replace(punctation, \" {}\".format(punctation))\n",
    "text.head(n=3).tolist()"
   ]
  },
  {
   "cell_type": "markdown",
   "metadata": {},
   "source": [
    "Before training, we need to map strings to a numerical representation. Create two lookup tables: one mapping characters to numbers (`word_index`), and another for numbers to characters (`rev_index`)."
   ]
  },
  {
   "cell_type": "code",
   "execution_count": null,
   "metadata": {},
   "outputs": [],
   "source": [
    "tokenizer = Tokenizer(filters=unwanted_punctation, lower=False)\n",
    "tokenizer.fit_on_texts(text.to_list())\n",
    "\n",
    "# dict: keys=word, value=index in bag-of-words\n",
    "word_index = tokenizer.word_index\n",
    "\n",
    "# dict: keys=index in bag-of-words, value=word (used to turn bag-of-words into text)\n",
    "rev_index = {v:k for k,v in word_index.items()}\n",
    "\n",
    "# Print some dictionary entries for illustration\n",
    "for char,_ in zip(word_index, range(7)):\n",
    "    print(\"  {} -> {},\".format(repr(char), word_index[char]), end='')\n",
    "print(' ...')"
   ]
  },
  {
   "cell_type": "markdown",
   "metadata": {},
   "source": [
    "As an example, we will now map a sentence to a numerical representation. Consider the sentence *Do you want to go out with me?*."
   ]
  },
  {
   "cell_type": "code",
   "execution_count": null,
   "metadata": {},
   "outputs": [],
   "source": [
    "sent = \"Do you want to go out with me?\"\n",
    "sent_num = encoded = tokenizer.texts_to_sequences([sent])[0]\n",
    "print(\"Sentence '{}' mapped to '{}'\".format(sent, sent_num))"
   ]
  },
  {
   "cell_type": "markdown",
   "metadata": {},
   "source": [
    "Load embeddings from ``fasttext`` file and create embeddings matrix. The number of rows equals the number of words in the corpus (plus 1 for an out-of-vocabulary (OOV) token), the number of columns equals the dimension of the embedding vectors, i.e. $300$ in case of fasttext. Again, loading 4GB into memory can take a while."
   ]
  },
  {
   "cell_type": "code",
   "execution_count": null,
   "metadata": {},
   "outputs": [],
   "source": [
    "ft = fasttext.load_model(\"cc.en.300.bin\")"
   ]
  },
  {
   "cell_type": "code",
   "execution_count": null,
   "metadata": {},
   "outputs": [],
   "source": [
    "EMBEDDING_DIM = 300\n",
    "vocab_size = len(word_index) + 1\n",
    "embedding_matrix = np.zeros((vocab_size, EMBEDDING_DIM))\n",
    "\n",
    "for word in word_index.keys():\n",
    "    word_idx = word_index[word]\n",
    "    word_vec = ft.get_word_vector(word)\n",
    "    # Add word vec to the embedding matrix at the index of the word\n",
    "    embedding_matrix[word_idx] = word_vec\n",
    "    \n",
    "print('Embeddings matrix shape:', embedding_matrix.shape)"
   ]
  },
  {
   "cell_type": "markdown",
   "metadata": {},
   "source": [
    "Given a word, or a sequence of words, what is the most probable next word? This is the task we are going to train the model for. The input to the model will thus be a sequence of words, and we train the model to predict the output, the following word at each time step. To do this, we first create sequences of $n$ consecutive words, the first $n-1$ being the input and the last being the output (what the model will learn to predict)."
   ]
  },
  {
   "cell_type": "code",
   "execution_count": null,
   "metadata": {},
   "outputs": [],
   "source": [
    "# We generate sequences of length 3, i.e. predict the third work from the two foregoing words\n",
    "SEQUENCE_LEN = 3\n",
    "\n",
    "sequences = []\n",
    "for line in text.tolist():\n",
    "    encoded = tokenizer.texts_to_sequences([line])[0]\n",
    "    for i in range(SEQUENCE_LEN, len(encoded)+1):\n",
    "        sequence = encoded[i-SEQUENCE_LEN:i]\n",
    "        sequences.append(sequence)\n",
    "\n",
    "# Padding is only necessary if we have lines shorter than SEQUENCE_LEN (not the case here)\n",
    "sequences = np.array(pad_sequences(sequences, maxlen=SEQUENCE_LEN, padding=\"pre\"))\n",
    "print('There are {} sequences of length {} words'.format(sequences.shape[0], sequences.shape[1]))"
   ]
  },
  {
   "cell_type": "markdown",
   "metadata": {},
   "source": [
    "Create dataset consisting of the first two word as input $X$ and the last (third) word as categorical output $y$."
   ]
  },
  {
   "cell_type": "code",
   "execution_count": null,
   "metadata": {},
   "outputs": [],
   "source": [
    "X = sequences[:,:-1]\n",
    "y = sequences[:,-1]\n",
    "y = to_categorical(y, num_classes=vocab_size)\n",
    "print(\"Input shape: {0}, Output shape: {1}\".format(X.shape, y.shape))"
   ]
  },
  {
   "cell_type": "markdown",
   "metadata": {},
   "source": [
    "## RNN Models\n",
    "Now we define a function that takes the model, a trained tokenizer, a seed word (starting word of the pickup line) and a maximum number of words. The function then generates a sequence of words that follow the learned distribution."
   ]
  },
  {
   "cell_type": "code",
   "execution_count": null,
   "metadata": {},
   "outputs": [],
   "source": [
    "def generate_seq(model, tokenizer, max_length, seed_text, max_words):\n",
    "    result = seed_text\n",
    "    sentence_num = 0\n",
    "    for _ in range(max_words):\n",
    "        # Encode the text as integer and pad the sequence to the max length of the sequence\n",
    "        encoded = tokenizer.texts_to_sequences([result])[0]\n",
    "        encoded = pad_sequences([encoded], maxlen=max_length, padding=\"pre\")\n",
    "        \n",
    "        # Predict probabilities of all next words\n",
    "        y_probas = model.predict(encoded, batch_size=1024, verbose=0)[0]\n",
    "        # Get the corresponding classes (the actual words)\n",
    "        y_classes = np.arange(vocab_size)\n",
    "        # Sample the next word from the learned distribution\n",
    "        y_hat = np.random.choice(y_classes, p=y_probas)\n",
    "        \n",
    "        # Map predicted word index to word\n",
    "        out_word = rev_index[y_hat]\n",
    "        # Append newly sampled word to previous ones\n",
    "        result += \" \" + out_word\n",
    "        \n",
    "        # Check if sentence end and stop after two sentences\n",
    "        if out_word in [\".\", \"?\", \"!\"]:\n",
    "            sentence_num += 1\n",
    "            if sentence_num == 2:\n",
    "                break\n",
    "                \n",
    "    # Remove whitespace before wanted punctation\n",
    "    for punctation in wanted_punctation:\n",
    "        result = result.replace(\" {}\".format(punctation), punctation)\n",
    "\n",
    "    return result"
   ]
  },
  {
   "cell_type": "markdown",
   "metadata": {},
   "source": [
    "A list of all the first words for seeding the generator, sampled from all of the possible words in the dataset."
   ]
  },
  {
   "cell_type": "code",
   "execution_count": null,
   "metadata": {},
   "outputs": [],
   "source": [
    "seed_words = text.str.capitalize().str.split(\" \").map(lambda x: x[0])\n",
    "print(seed_words[:5])"
   ]
  },
  {
   "cell_type": "markdown",
   "metadata": {},
   "source": [
    "We create a generator callback which is called after every epoch during training. This callback is supposed to generate a new sequence starting with a randomly sampled word from our `seed_words`. With this output, we can examine the learning behaviour of our model. It should start off with mostly random pickup lines and then briefly start to learn how to build realistic sequences."
   ]
  },
  {
   "cell_type": "code",
   "execution_count": null,
   "metadata": {},
   "outputs": [],
   "source": [
    "def gen_and_print(epoch, logs):\n",
    "    seed_word = np.random.choice(seed_words)\n",
    "    generated = generate_seq(model, tokenizer, SEQUENCE_LEN-1, seed_word, 15)\n",
    "    print(\"Epoch {} - {}\\n\".format(epoch + 1, generated))\n",
    "    \n",
    "generator_callback = LambdaCallback(on_epoch_end=gen_and_print)"
   ]
  },
  {
   "cell_type": "markdown",
   "metadata": {},
   "source": [
    "Next we build the RNN model with LSTM cells."
   ]
  },
  {
   "cell_type": "code",
   "execution_count": null,
   "metadata": {
    "solution2": "shown"
   },
   "outputs": [],
   "source": [
    "model = Sequential()\n",
    "model.add(Embedding(vocab_size, \n",
    "                    EMBEDDING_DIM, \n",
    "                    weights=[embedding_matrix], \n",
    "                    input_length=SEQUENCE_LEN-1, \n",
    "                    trainable=False))\n",
    "model.add(LSTM(128, return_sequences=True))\n",
    "model.add(LSTM(64))\n",
    "model.add(Dense(vocab_size, activation=\"softmax\"))\n",
    "model.summary()"
   ]
  },
  {
   "cell_type": "markdown",
   "metadata": {},
   "source": [
    "Since we now have all the necessary building blocks, we can now compile and train the model using the created dataset $X$ and $y$. $X$ are two words which will be passed to the model, and it will learn to predict the third word $y$. When training the model using `fit()` we will pass it our custom `generator_callback`, which will generate a sequence after each epoch. This step will take some time, depending on the available hardware."
   ]
  },
  {
   "cell_type": "code",
   "execution_count": null,
   "metadata": {
    "scrolled": true,
    "solution2": "shown"
   },
   "outputs": [],
   "source": [
    "# Reduce the number of epochs when necessary. \n",
    "# Epochs = 200 gives reasonable performance; epochs = 3 is good for testing.\n",
    "\n",
    "model.compile(loss=\"categorical_crossentropy\", optimizer=\"adam\")\n",
    "history = model.fit(X, y, epochs=3, verbose=2, callbacks=[generator_callback])"
   ]
  },
  {
   "cell_type": "markdown",
   "metadata": {},
   "source": [
    "Save the model and tokenizer. Always make sure you also save the tokenizer, otherwise your model would be useless since you can not translate the numerical outputs back into words."
   ]
  },
  {
   "cell_type": "code",
   "execution_count": null,
   "metadata": {},
   "outputs": [],
   "source": [
    "if not os.path.isfile(\"model.h5\"):\n",
    "    print(\"Saved model does not exist, saving current model.\")\n",
    "    model.save(\"model.h5\")\n",
    "    with open(\"tokenizer.pkl\", \"bw\") as f:\n",
    "        pickle.dump(file=f, obj=tokenizer)\n",
    "else:\n",
    "    print(\"Saved model exists, loading it.\")\n",
    "    model = load_model('model.h5')\n",
    "    with open('tokenizer.pkl', 'br') as f:\n",
    "        tokenizer = pickle.load(f)"
   ]
  },
  {
   "cell_type": "markdown",
   "metadata": {},
   "source": [
    "## Use the trained Generator\n",
    "\n",
    "In the last step, we will use the trained model from above, or the saved model, to generate pickup lines. To do this, we can use the `generate_seq()` function again. You can play around with different seed words and sequence lengths. Maybe you should also retrain the model over night with more epochs. The runtime is fairly linear. Measure the time it takes for 3 epochs and calculate the expected waiting time for e.g. 200 epochs. Have fun."
   ]
  },
  {
   "cell_type": "code",
   "execution_count": null,
   "metadata": {},
   "outputs": [],
   "source": [
    "generate_seq(model, tokenizer, SEQUENCE_LEN-1, \"I\", 15)"
   ]
  },
  {
   "cell_type": "markdown",
   "metadata": {},
   "source": [
    "The generated pick up lines are pretty bad from a grammatical point of view (of course, also when considering the content). Most of them also do not make much sense, which can also be caused by the fact, that pickup lines mostly also don't make much sense :)"
   ]
  },
  {
   "cell_type": "markdown",
   "metadata": {},
   "source": [
    "## On a more serious Note"
   ]
  },
  {
   "cell_type": "markdown",
   "metadata": {},
   "source": [
    "You may have heard about Aweful AI - here is a [website](https://github.com/daviddao/awful-ai) that collects all these stories of artificial intelligences turning mad. There are hundrets of such stories: the Microsoft chat bot became racists and antisemitic, the Google image captioning system maks black people as gorillas, the Amazon hiring application filters out women, etc. Why does this happen? Neural networks learn structures from data. When your data is as bad as our pickup lines dataset, then what else can you expect. This sounds like a problem easy to avoid - just make sure that the dataset is appropriate. Oh well, modern deep learning systems are trained on hundred of millions of images and text documents. Who on earth is going to check whether this data does not disadvantage minorities, etc. Training a real conversational agent (not the scriped chatbots from your e-banking system) requires a hell lot of data, and we cannot just use wikipedia for training as a chatbot requires conversational data in question-answer form. the is actually only one data source that is large enough for this: subscripted Hollywood movies. And what shall we expect when we train a neural net on *Hasta la vista, baby* ..."
   ]
  }
 ],
 "metadata": {
  "kernelspec": {
   "display_name": "Python 3 (ipykernel)",
   "language": "python",
   "name": "python3"
  },
  "language_info": {
   "codemirror_mode": {
    "name": "ipython",
    "version": 3
   },
   "file_extension": ".py",
   "mimetype": "text/x-python",
   "name": "python",
   "nbconvert_exporter": "python",
   "pygments_lexer": "ipython3",
   "version": "3.9.12"
  }
 },
 "nbformat": 4,
 "nbformat_minor": 4
}
