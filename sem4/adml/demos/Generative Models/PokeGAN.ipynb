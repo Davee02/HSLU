{
 "cells": [
  {
   "cell_type": "markdown",
   "metadata": {
    "id": "AaOYyH7samJq"
   },
   "source": [
    "# PokeGAN\n",
    "In our first GAN notebook, we looked at creating a StyleGAN to generate Pokemons. However, we saw that the generated images were not that satisfying, and the GAN was only able to capture the overall structures of Pokemons. \n",
    "\n",
    "In this one, we will use a pre-trained StyleGAN network and the original StyleGAN implementation from Nvidia to generate more satisfying Pokemons. And since we're using a pre-trained GAN, we don't even need to train the model and can go straight to generating images.\n",
    "\n",
    "Since the original Nvidia codebase is written using `Tensorflow 1.x`, we also need to use that specific TF version.\n",
    "> The Tensorflow version within Google Colab can always be changed using the magic command `%tensorflow_version 2.x`."
   ]
  },
  {
   "cell_type": "code",
   "execution_count": null,
   "metadata": {
    "colab": {
     "base_uri": "https://localhost:8080/"
    },
    "id": "0K8MnlhrYlP3",
    "outputId": "d78fd611-2ac1-4909-e45d-3ec748a275bc"
   },
   "outputs": [],
   "source": [
    "%tensorflow_version 1.x"
   ]
  },
  {
   "cell_type": "markdown",
   "metadata": {
    "id": "eKXO9Maah6Kg"
   },
   "source": [
    "First, we need to clone the source code of Nvidia's StyleGAN Implementation, located on GitHub: https://github.com/NVlabs/stylegan.\n",
    "\n",
    "Then we will need to download the weights of a pre-trained StyleGAN model. After correctly loading the model, it can be used to make predictions without any further training. Here we will use a model trained by Michael Friese ([tweet Michael Friese](https://twitter.com/MichaelFriese10/status/1127614400750346240)). The same model was also used to generate the Pokemon on this website: https://thesepokemondonotexist.com/."
   ]
  },
  {
   "cell_type": "code",
   "execution_count": null,
   "metadata": {
    "colab": {
     "base_uri": "https://localhost:8080/"
    },
    "id": "Heg0-GalAwj7",
    "outputId": "962f010e-73d4-418e-a245-db4d72b048d9"
   },
   "outputs": [],
   "source": [
    "!git clone https://github.com/NVlabs/stylegan.git\n",
    "!mv stylegan/* .\n",
    "!rm -rf stylegan/\n",
    "!wget https://s3.amazonaws.com/devopstar/resources/stylegan-pokemon/MichaelFriese10_pokemon.pkl"
   ]
  },
  {
   "cell_type": "markdown",
   "metadata": {
    "id": "FyhmwEeXoiJc"
   },
   "source": [
    "Import the needed packages. The `dnnlib` package is located in the same cloned repository from before.\n",
    "\n",
    "Since we are using `TensorFlow 1.x`, a session needs to be initialized at the start. This will create the TensorFlow graph. Next, we will also need to load the StyleGAN configurations. These are then needed to instantiate the generator."
   ]
  },
  {
   "cell_type": "code",
   "execution_count": null,
   "metadata": {
    "colab": {
     "base_uri": "https://localhost:8080/"
    },
    "id": "zs2KZfX_jaeY",
    "outputId": "10d12281-87be-46ce-e761-b405eb0c3d3d"
   },
   "outputs": [],
   "source": [
    "import os\n",
    "import pickle\n",
    "import dnnlib.tflib as tflib\n",
    "import numpy as np\n",
    "import random\n",
    "import matplotlib.pyplot as plt\n",
    "from PIL import Image\n",
    "\n",
    "# initialize the tensorflow session\n",
    "tflib.init_tf()\n",
    "\n",
    "# load StyleGAN configs\n",
    "fmt = dict(func=tflib.convert_images_to_uint8, nchw_to_nhwc=True)\n",
    "truncation = 0.5"
   ]
  },
  {
   "cell_type": "markdown",
   "metadata": {
    "id": "84EJLpzepvib"
   },
   "source": [
    "Load the downloaded pre-trained pokemon model using `pickle`, a tool for serializing entire python objects. When we load the pickle file, we will get a generator, discriminator and style generator. For this exercise will only use the style generator."
   ]
  },
  {
   "cell_type": "code",
   "execution_count": null,
   "metadata": {
    "colab": {
     "base_uri": "https://localhost:8080/"
    },
    "id": "fckCpwcIjd_u",
    "outputId": "cedb7f24-c755-4db4-c339-40827b754078"
   },
   "outputs": [],
   "source": [
    "# specify the path of the downloaded model\n",
    "model = \"MichaelFriese10_pokemon.pkl\"\n",
    "# load the model using pickle\n",
    "with open(model, 'rb') as f:\n",
    "    _G, _D, Gs = pickle.load(f)"
   ]
  },
  {
   "cell_type": "markdown",
   "metadata": {
    "id": "smc4Vez9qbRi"
   },
   "source": [
    "Use the loaded generator to create new Pokemons from a random latent vector. "
   ]
  },
  {
   "cell_type": "code",
   "execution_count": null,
   "metadata": {
    "colab": {
     "base_uri": "https://localhost:8080/",
     "height": 96
    },
    "id": "svNyMLy6A1Fg",
    "outputId": "bc0d771e-f658-4e7f-c2cf-cdecc65a46f1"
   },
   "outputs": [],
   "source": [
    "# define our generation parameters\n",
    "num_images = 10\n",
    "scale = 15\n",
    "\n",
    "# create our output folder for the generated pokemons\n",
    "output_folder = \"generated_pokemon\"\n",
    "output_file = \"pokemon\"\n",
    "if not os.path.exists(output_folder):\n",
    "  os.mkdir(output_folder)\n",
    "\n",
    "# create random latent vectors\n",
    "latents = np.random.RandomState(\n",
    "    int(1000*random.random())).randn(num_images, *Gs.input_shapes[0][1:])\n",
    "# pass the latent vectors to the generator, \n",
    "# this outputs our generated images\n",
    "images = Gs.run(latents, None, truncation_psi=truncation,\n",
    "                randomize_noise=True, output_transform=fmt)\n",
    "\n",
    "# plot our grid of generated images\n",
    "plt.figure(figsize=(scale*num_images, scale))\n",
    "for i, img in enumerate(images):\n",
    "  plt.subplot(1, num_images, i+1)\n",
    "  plt.imshow(img)\n",
    "  plt.axis('off')\n",
    "  # save the pokemon\n",
    "  image = Image.fromarray(img)\n",
    "  image.save(\"{0}/{1}_{2}.png\".format(output_folder, output_file, i+1))"
   ]
  },
  {
   "cell_type": "markdown",
   "metadata": {
    "id": "OIrfAm56oDvs"
   },
   "source": [
    "As a final step, download our generated Pokemon."
   ]
  },
  {
   "cell_type": "code",
   "execution_count": null,
   "metadata": {
    "colab": {
     "base_uri": "https://localhost:8080/",
     "height": 202
    },
    "id": "l0FkSPUeev0K",
    "outputId": "7c4511ce-2217-41b2-b569-7a534e8c8729"
   },
   "outputs": [],
   "source": [
    "!zip -r ./generated_pokemon.zip ./generated_pokemon/\n",
    "from google.colab import files\n",
    "files.download(\"generated_pokemon.zip\")\n",
    "!rm -rf ./generated_pokemon"
   ]
  }
 ],
 "metadata": {
  "accelerator": "GPU",
  "colab": {
   "collapsed_sections": [],
   "name": "PokeGAN.ipynb",
   "provenance": [],
   "toc_visible": true
  },
  "kernelspec": {
   "display_name": "Python 3 (ipykernel)",
   "language": "python",
   "name": "python3"
  },
  "language_info": {
   "codemirror_mode": {
    "name": "ipython",
    "version": 3
   },
   "file_extension": ".py",
   "mimetype": "text/x-python",
   "name": "python",
   "nbconvert_exporter": "python",
   "pygments_lexer": "ipython3",
   "version": "3.9.12"
  },
  "toc": {
   "base_numbering": 1,
   "nav_menu": {},
   "number_sections": true,
   "sideBar": true,
   "skip_h1_title": false,
   "title_cell": "Table of Contents",
   "title_sidebar": "Contents",
   "toc_cell": false,
   "toc_position": {},
   "toc_section_display": true,
   "toc_window_display": false
  }
 },
 "nbformat": 4,
 "nbformat_minor": 4
}
