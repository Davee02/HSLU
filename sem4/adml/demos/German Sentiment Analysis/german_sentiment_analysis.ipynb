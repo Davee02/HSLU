{
 "cells": [
  {
   "cell_type": "markdown",
   "metadata": {
    "id": "UN0r_85I0sFT"
   },
   "source": [
    "# Sentiment Analysis with Pretrained Models\n",
    "This notebook demonstrates different existing sentiment analysis tools for the german language. It should give a brief overview of the pros and cons of using them. Here we track performance and prediction time as an indicator of the different trade-offs."
   ]
  },
  {
   "cell_type": "markdown",
   "metadata": {
    "id": "nt-6V2zm075C"
   },
   "source": [
    "## Install dependencies"
   ]
  },
  {
   "cell_type": "code",
   "execution_count": null,
   "metadata": {
    "id": "2ZXNxMy5bW4m"
   },
   "outputs": [],
   "source": [
    "!pip install ibm-watson\n",
    "!pip install boto3\n",
    "!pip install azure-ai-textanalytics==5.1.0\n",
    "!pip install transformers\n",
    "!pip install -q t5\n",
    "!pip install textblob-de\n",
    "!pip install google-cloud==1.0.3\n",
    "!pip install google-cloud-language==1.2.0\n",
    "!pip install google-api-python-client==1.12.8\n",
    "!pip install SoMaJo"
   ]
  },
  {
   "cell_type": "code",
   "execution_count": null,
   "metadata": {},
   "outputs": [],
   "source": [
    "import pandas as pd\n",
    "\n",
    "from somajo import SoMaJo\n",
    "from time_tracker import measure_time\n",
    "\n",
    "import warnings\n",
    "warnings.filterwarnings(\"ignore\")\n",
    "\n",
    "import nltk\n",
    "nltk.download(\"stopwords\")\n",
    "nltk.download('punkt')"
   ]
  },
  {
   "cell_type": "markdown",
   "metadata": {
    "id": "pMbm0hFPCYLe"
   },
   "source": [
    "## Set flags\n",
    "Since we use different `APIs` in this notebook, it is better to only call thoes `APIs` you need."
   ]
  },
  {
   "cell_type": "code",
   "execution_count": null,
   "metadata": {
    "id": "uDPilwgOCXsg"
   },
   "outputs": [],
   "source": [
    "google_flag = True\n",
    "ibm_flag = True\n",
    "aws_flag = True\n",
    "google_t5_flag = True\n",
    "textblob_de_flag = True"
   ]
  },
  {
   "cell_type": "markdown",
   "metadata": {
    "id": "cGLaUyLM1Qbr"
   },
   "source": [
    "## Load the data\n",
    "In this demo, we'll use the data of a challenge (GermEval2017) that focused on sentiment analysis in various online media such as newspapers, Twitter, Facebook and many more. This task is far from easy, especially for the german language. Thus the results are expected to be relatively low."
   ]
  },
  {
   "cell_type": "code",
   "execution_count": null,
   "metadata": {},
   "outputs": [],
   "source": [
    "# load the dataset\n",
    "data = pd.read_csv('data/germeval_2017_sentiment.tsv', sep='\\t', header=None)\n",
    "data.columns = ['id', 'text', 'relevance', 'sentiment', 'aspect:Polarity', 'NAN']\n",
    "data.drop(columns=['NAN'], inplace=True)\n",
    "data.head(3)"
   ]
  },
  {
   "cell_type": "markdown",
   "metadata": {},
   "source": [
    "Randomly choose 20 samples of each category (e.g. `positive`, `negative` and `neutral`) on which the different tools will be tested."
   ]
  },
  {
   "cell_type": "code",
   "execution_count": null,
   "metadata": {},
   "outputs": [],
   "source": [
    "data_pos = data[data.sentiment == 'positive'].sample(n=20)\n",
    "data_neg = data[data.sentiment == 'negative'].sample(n=20)\n",
    "data_neut = data[data.sentiment == 'neutral'].sample(n=20)\n",
    "\n",
    "data = pd.DataFrame()\n",
    "data = data.append(data_pos)\n",
    "data = data.append(data_neg)\n",
    "data = data.append(data_neut)\n",
    "data.head(3)"
   ]
  },
  {
   "cell_type": "markdown",
   "metadata": {},
   "source": [
    "Most of the tools focus on predicting the sentiment of sentences instead of entire texts. However, the GermEval2017 dataset contains complete texts. Thus they need to be split into sentences. To do this, we'll use `SoMaJo`. A german tokenizer focused on social media data."
   ]
  },
  {
   "cell_type": "code",
   "execution_count": null,
   "metadata": {},
   "outputs": [],
   "source": [
    "tokenizer = SoMaJo(\"de_CMC\", split_camel_case=True)\n",
    "data['tokens'] = data.text.apply(lambda x: [[token.text for token in sent] for sent in tokenizer.tokenize_text([x])])\n",
    "data['tokens'] = data.tokens.apply(lambda x: x[0])\n",
    "data['sentence'] = data.tokens.apply(lambda x : ' '.join(x))\n",
    "data[\"review_id\"] = data.index + 1\n",
    "data.head(3)"
   ]
  },
  {
   "cell_type": "code",
   "execution_count": null,
   "metadata": {
    "colab": {
     "base_uri": "https://localhost:8080/"
    },
    "id": "P9AUR5JUVgCy",
    "outputId": "ab486290-8d1b-4d40-c841-d243955fe828"
   },
   "outputs": [],
   "source": [
    "data['sentiment'].value_counts()"
   ]
  },
  {
   "cell_type": "markdown",
   "metadata": {},
   "source": [
    "Now we can use different sentiment `APIs` to predict the polarity of our dataset."
   ]
  },
  {
   "cell_type": "markdown",
   "metadata": {},
   "source": [
    "## Prediction"
   ]
  },
  {
   "cell_type": "markdown",
   "metadata": {
    "id": "c4w1EwoQ1faU"
   },
   "source": [
    "### Google API"
   ]
  },
  {
   "cell_type": "code",
   "execution_count": null,
   "metadata": {
    "colab": {
     "base_uri": "https://localhost:8080/"
    },
    "id": "aPL5hE5Q_1DP",
    "outputId": "8ecaa00a-9bfe-4e84-b0fd-467d65296226"
   },
   "outputs": [],
   "source": [
    "@measure_time\n",
    "def run_google():\n",
    "    from GoogleSentiment import GoogleSentiment\n",
    "    google_sentiment = GoogleSentiment()\n",
    "    google_output = google_sentiment.run_sentiment(data)\n",
    "    print(\"Total time: {time.time - gg_start_time}\")\n",
    "\n",
    "if google_flag:\n",
    "    run_google()"
   ]
  },
  {
   "cell_type": "markdown",
   "metadata": {
    "id": "0SeOpAmf1mgR"
   },
   "source": [
    "### IBMWatson API"
   ]
  },
  {
   "cell_type": "code",
   "execution_count": null,
   "metadata": {
    "colab": {
     "base_uri": "https://localhost:8080/"
    },
    "id": "VQQCZxFMe8NX",
    "outputId": "261fe5f5-e49a-4055-a96e-4a6f28ef9c2f"
   },
   "outputs": [],
   "source": [
    "@measure_time\n",
    "def run_ibm():\n",
    "    from IBMSentiment import IBMSentiment\n",
    "    ibm_sentiment = IBMSentiment()\n",
    "    ibm_output = ibm_sentiment.run_sentiment(data)\n",
    "\n",
    "if ibm_flag:\n",
    "    run_ibm()"
   ]
  },
  {
   "cell_type": "markdown",
   "metadata": {
    "id": "mL4YIZ8SJyGq"
   },
   "source": [
    "### AWS API"
   ]
  },
  {
   "cell_type": "code",
   "execution_count": null,
   "metadata": {
    "colab": {
     "base_uri": "https://localhost:8080/"
    },
    "id": "YD6ZYxc4JyK6",
    "outputId": "25f3089a-c471-4f9c-fc32-bad41e6ffada"
   },
   "outputs": [],
   "source": [
    "@measure_time\n",
    "def run_aws():\n",
    "    from AWSSentiment import AWSSentiment\n",
    "    aws_sentiment = AWSSentiment()\n",
    "    aws_output = aws_sentiment.run_sentiment(data)\n",
    "\n",
    "if aws_flag:\n",
    "    run_aws()"
   ]
  },
  {
   "cell_type": "markdown",
   "metadata": {
    "id": "4ChpRNpUPMk9"
   },
   "source": [
    "### Google `T5`"
   ]
  },
  {
   "cell_type": "code",
   "execution_count": null,
   "metadata": {
    "colab": {
     "base_uri": "https://localhost:8080/"
    },
    "id": "gYxPgGbcPbdm",
    "outputId": "092eb18c-8724-4aae-bcf3-366dc733ca44"
   },
   "outputs": [],
   "source": [
    "@measure_time\n",
    "def run_google_t5():\n",
    "    from google_t5_sentiment import GoogleT5Sentiment\n",
    "    google_t5_sentiment = GoogleT5Sentiment()\n",
    "    gt5_output = google_t5_sentiment.run_sentiment(data)\n",
    "\n",
    "if google_t5_flag:\n",
    "    run_google_t5()"
   ]
  },
  {
   "cell_type": "markdown",
   "metadata": {
    "id": "LAB_AnwKGHrs"
   },
   "source": [
    "### `TextBlobDe` package"
   ]
  },
  {
   "cell_type": "code",
   "execution_count": null,
   "metadata": {
    "colab": {
     "base_uri": "https://localhost:8080/"
    },
    "id": "jlBcwya7GH1D",
    "outputId": "7d93bb2e-9697-4bb6-f9a4-b221208a9bcb"
   },
   "outputs": [],
   "source": [
    "@measure_time\n",
    "def run_textblob_de():\n",
    "    from textblob_de_sentiment import TextBlobDESentiment\n",
    "    textblob_de = TextBlobDESentiment()\n",
    "    textblob_de_output = textblob_de.run_sentiment(data)\n",
    "\n",
    "if textblob_de_flag:\n",
    "    run_textblob_de()"
   ]
  },
  {
   "cell_type": "markdown",
   "metadata": {
    "id": "pamgFzow1uL4"
   },
   "source": [
    "## Evaluate the models\n",
    "After the prediction, we will now need to evaluate the results obtained by the different tools correctly. We will do this in a few different ways\n",
    "- confusion matrix\n",
    "- classification report\n",
    "- accuracy / balanced accuracy\n",
    "- F1 score"
   ]
  },
  {
   "cell_type": "code",
   "execution_count": null,
   "metadata": {
    "id": "8Zl1yKGn1tiB"
   },
   "outputs": [],
   "source": [
    "from ModelValidation import ModelValidation\n",
    "model_validation = ModelValidation()"
   ]
  },
  {
   "cell_type": "markdown",
   "metadata": {
    "id": "E-2PINHw1ztY"
   },
   "source": [
    "### Evaluate the `Google API` performance"
   ]
  },
  {
   "cell_type": "code",
   "execution_count": null,
   "metadata": {
    "colab": {
     "base_uri": "https://localhost:8080/",
     "height": 893
    },
    "id": "g3xelcr91yHe",
    "outputId": "553420ea-eb07-4e40-dc6f-e285b52b9d8d"
   },
   "outputs": [],
   "source": [
    "file_path = 'predictions/google_sentiment.csv'\n",
    "google_df = pd.read_csv(file_path)\n",
    "model_validation.evaluate(google_df['true_sentiment'], google_df['predicted_sentiment'], title='Google')"
   ]
  },
  {
   "cell_type": "markdown",
   "metadata": {
    "id": "JqMed5Ax15Uo"
   },
   "source": [
    "### Evaluate the `IBMWatson API` performance"
   ]
  },
  {
   "cell_type": "code",
   "execution_count": null,
   "metadata": {
    "colab": {
     "base_uri": "https://localhost:8080/",
     "height": 893
    },
    "id": "Yt4vJlN417ij",
    "outputId": "6d406579-551f-4373-f432-3575c04eb72e"
   },
   "outputs": [],
   "source": [
    "file_path = 'predictions/ibmwatson_sentiment.csv'\n",
    "ibm_df = pd.read_csv(file_path)\n",
    "model_validation.evaluate(ibm_df['true_sentiment'], ibm_df['predicted_sentiment'], title='IBMWatson')"
   ]
  },
  {
   "cell_type": "markdown",
   "metadata": {
    "id": "egk35I1UKHka"
   },
   "source": [
    "### Evaluate the `AWS API` performane"
   ]
  },
  {
   "cell_type": "code",
   "execution_count": null,
   "metadata": {
    "colab": {
     "base_uri": "https://localhost:8080/",
     "height": 893
    },
    "id": "IAwgIsyiESzl",
    "outputId": "dd0851ef-3ab8-4fcb-ee4e-3e2fabab53c2"
   },
   "outputs": [],
   "source": [
    "file_path = 'predictions/amazon_sentiment.csv'\n",
    "aws_df = pd.read_csv(file_path)\n",
    "model_validation.evaluate(aws_df['true_sentiment'], aws_df['predicted_sentiment'], title='Amazon')"
   ]
  },
  {
   "cell_type": "markdown",
   "metadata": {
    "id": "yrNlO3elUvnn"
   },
   "source": [
    "### Evaluate the `Google T5` performance\n",
    "This model is a binary classification (`negative`, `positive`)"
   ]
  },
  {
   "cell_type": "code",
   "execution_count": null,
   "metadata": {
    "colab": {
     "base_uri": "https://localhost:8080/",
     "height": 893
    },
    "id": "iYrK42dKUzVb",
    "outputId": "bbb50284-0847-4d43-ae40-aa4d36efb759"
   },
   "outputs": [],
   "source": [
    "file_path = 'predictions/googlet5_sentiment.csv'\n",
    "gt5_df = pd.read_csv(file_path)\n",
    "model_validation.evaluate(gt5_df['true_sentiment'], gt5_df['predicted_sentiment'], title='GoogleT5')"
   ]
  },
  {
   "cell_type": "markdown",
   "metadata": {
    "id": "_3KggnenGajc"
   },
   "source": [
    "### Evaluate the `TextBlobDE` performance"
   ]
  },
  {
   "cell_type": "code",
   "execution_count": null,
   "metadata": {
    "colab": {
     "base_uri": "https://localhost:8080/",
     "height": 893
    },
    "id": "RhK-deDkod01",
    "outputId": "6dcb5e96-9ce2-48bd-857b-e06677d23798"
   },
   "outputs": [],
   "source": [
    "file_path = 'predictions/textblob_de_sentiment.csv'\n",
    "textblob_de_df = pd.read_csv(file_path)\n",
    "model_validation.evaluate(textblob_de_df['true_sentiment'], textblob_de_df['predicted_sentiment'], title='TextBlobDE')"
   ]
  },
  {
   "cell_type": "code",
   "execution_count": null,
   "metadata": {},
   "outputs": [],
   "source": []
  }
 ],
 "metadata": {
  "colab": {
   "collapsed_sections": [],
   "name": "german_sentiment_analysis.ipynb",
   "provenance": []
  },
  "kernelspec": {
   "display_name": "Python 3 (ipykernel)",
   "language": "python",
   "name": "python3"
  },
  "language_info": {
   "codemirror_mode": {
    "name": "ipython",
    "version": 3
   },
   "file_extension": ".py",
   "mimetype": "text/x-python",
   "name": "python",
   "nbconvert_exporter": "python",
   "pygments_lexer": "ipython3",
   "version": "3.9.12"
  }
 },
 "nbformat": 4,
 "nbformat_minor": 4
}
