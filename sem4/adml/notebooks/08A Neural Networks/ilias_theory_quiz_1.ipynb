{
 "cells": [
  {
   "cell_type": "code",
   "execution_count": 65,
   "metadata": {},
   "outputs": [],
   "source": [
    "import numpy as np"
   ]
  },
  {
   "cell_type": "code",
   "execution_count": 66,
   "metadata": {},
   "outputs": [],
   "source": [
    "# Define the weights\n",
    "W1 = np.array([\n",
    "    [1, 2, 1],\n",
    "    [1, 2, 2],\n",
    "]).T\n",
    "\n",
    "W2 = np.array([\n",
    "    [1, 2],\n",
    "    [-2, -4],\n",
    "    [5, 6],\n",
    "]).T\n",
    "\n",
    "W3 = np.array([\n",
    "    [1],\n",
    "    [1],\n",
    "]).T\n",
    "\n",
    "# Define the biases\n",
    "B1 = np.array([\n",
    "    [5],\n",
    "    [-10],\n",
    "    [12],\n",
    "])\n",
    "\n",
    "B2 = np.array([\n",
    "    [-100],\n",
    "    [-200],\n",
    "])\n",
    "\n",
    "B3 = np.array([\n",
    "    [-70],\n",
    "])\n",
    "\n",
    "# Define the input\n",
    "X = np.array([\n",
    "    [8], \n",
    "    [10]\n",
    "])"
   ]
  },
  {
   "cell_type": "code",
   "execution_count": 67,
   "metadata": {},
   "outputs": [],
   "source": [
    "# Define activation functions\n",
    "def relu(x):\n",
    "    return np.maximum(0, x)\n",
    "\n",
    "def sigmoid(x):\n",
    "    return 1 / (1 + np.exp(-x))"
   ]
  },
  {
   "cell_type": "code",
   "execution_count": 68,
   "metadata": {},
   "outputs": [
    {
     "data": {
      "text/plain": [
       "array([[23],\n",
       "       [26],\n",
       "       [40]])"
      ]
     },
     "execution_count": 68,
     "metadata": {},
     "output_type": "execute_result"
    }
   ],
   "source": [
    "h1 = np.dot(W1, X) + B1\n",
    "a1 = relu(h1)\n",
    "a1"
   ]
  },
  {
   "cell_type": "code",
   "execution_count": 69,
   "metadata": {},
   "outputs": [
    {
     "data": {
      "text/plain": [
       "array([[71],\n",
       "       [ 0]])"
      ]
     },
     "execution_count": 69,
     "metadata": {},
     "output_type": "execute_result"
    }
   ],
   "source": [
    "h2 = np.dot(W2, a1) + B2\n",
    "a2 = relu(h2)\n",
    "a2"
   ]
  },
  {
   "cell_type": "code",
   "execution_count": 72,
   "metadata": {},
   "outputs": [
    {
     "data": {
      "text/plain": [
       "array([[0.73]])"
      ]
     },
     "execution_count": 72,
     "metadata": {},
     "output_type": "execute_result"
    }
   ],
   "source": [
    "o = np.dot(W3, a2) + B3\n",
    "y_pred = sigmoid(o)\n",
    "np.round(y_pred, 2)"
   ]
  }
 ],
 "metadata": {
  "kernelspec": {
   "display_name": "venv",
   "language": "python",
   "name": "python3"
  },
  "language_info": {
   "codemirror_mode": {
    "name": "ipython",
    "version": 3
   },
   "file_extension": ".py",
   "mimetype": "text/x-python",
   "name": "python",
   "nbconvert_exporter": "python",
   "pygments_lexer": "ipython3",
   "version": "3.9.13"
  }
 },
 "nbformat": 4,
 "nbformat_minor": 2
}
