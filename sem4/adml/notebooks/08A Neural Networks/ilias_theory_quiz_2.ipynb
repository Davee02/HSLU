{
 "cells": [
  {
   "cell_type": "code",
   "execution_count": 1,
   "metadata": {},
   "outputs": [],
   "source": [
    "import numpy as np"
   ]
  },
  {
   "cell_type": "code",
   "execution_count": 2,
   "metadata": {},
   "outputs": [],
   "source": [
    "# Define the weights\n",
    "W1 = np.array([\n",
    "    [1, 2, 1],\n",
    "    [1, 2, 2],\n",
    "]).T\n",
    "\n",
    "W2 = np.array([\n",
    "    [1, 2],\n",
    "    [-2, -4],\n",
    "    [5, 6],\n",
    "]).T\n",
    "\n",
    "W3 = np.array([\n",
    "    [1, 2],\n",
    "    [1, 2],\n",
    "]).T\n",
    "\n",
    "# Define the biases\n",
    "B1 = np.array([\n",
    "    [5],\n",
    "    [-10],\n",
    "    [12],\n",
    "])\n",
    "\n",
    "B2 = np.array([\n",
    "    [-100],\n",
    "    [-200],\n",
    "])\n",
    "\n",
    "B3 = np.array([\n",
    "    [-2],\n",
    "    [2],\n",
    "])\n",
    "\n",
    "# Define the input\n",
    "X = np.array([\n",
    "    [8], \n",
    "    [10]\n",
    "])"
   ]
  },
  {
   "cell_type": "code",
   "execution_count": 3,
   "metadata": {},
   "outputs": [],
   "source": [
    "# Define activation functions\n",
    "def sigmoid(x):\n",
    "    return 1 / (1 + np.exp(-x))\n",
    "\n",
    "def softmax(x):\n",
    "    e_x = np.exp(x - np.max(x))\n",
    "    return e_x / e_x.sum()"
   ]
  },
  {
   "cell_type": "code",
   "execution_count": 4,
   "metadata": {},
   "outputs": [
    {
     "data": {
      "text/plain": [
       "array([[1.],\n",
       "       [1.],\n",
       "       [1.]])"
      ]
     },
     "execution_count": 4,
     "metadata": {},
     "output_type": "execute_result"
    }
   ],
   "source": [
    "h1 = np.dot(W1, X) + B1\n",
    "a1 = sigmoid(h1)\n",
    "a1"
   ]
  },
  {
   "cell_type": "code",
   "execution_count": 5,
   "metadata": {},
   "outputs": [
    {
     "data": {
      "text/plain": [
       "array([[2.03109266e-42],\n",
       "       [7.55581902e-86]])"
      ]
     },
     "execution_count": 5,
     "metadata": {},
     "output_type": "execute_result"
    }
   ],
   "source": [
    "h2 = np.dot(W2, a1) + B2\n",
    "a2 = sigmoid(h2)\n",
    "a2"
   ]
  },
  {
   "cell_type": "code",
   "execution_count": 7,
   "metadata": {},
   "outputs": [
    {
     "data": {
      "text/plain": [
       "array([0.98])"
      ]
     },
     "execution_count": 7,
     "metadata": {},
     "output_type": "execute_result"
    }
   ],
   "source": [
    "o = np.dot(W3, a2) + B3\n",
    "y_pred = softmax(o)\n",
    "np.round(y_pred[1], 2)"
   ]
  }
 ],
 "metadata": {
  "kernelspec": {
   "display_name": "venv",
   "language": "python",
   "name": "python3"
  },
  "language_info": {
   "codemirror_mode": {
    "name": "ipython",
    "version": 3
   },
   "file_extension": ".py",
   "mimetype": "text/x-python",
   "name": "python",
   "nbconvert_exporter": "python",
   "pygments_lexer": "ipython3",
   "version": "3.9.13"
  }
 },
 "nbformat": 4,
 "nbformat_minor": 2
}
