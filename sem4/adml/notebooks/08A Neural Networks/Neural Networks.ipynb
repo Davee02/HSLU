{
 "cells": [
  {
   "cell_type": "markdown",
   "metadata": {},
   "source": [
    "# Artificial Neural Networks\n",
    "In this exercise, several parts of the code are missing, which should be completed by you. "
   ]
  },
  {
   "cell_type": "code",
   "execution_count": 1,
   "metadata": {},
   "outputs": [],
   "source": [
    "import numpy as np\n",
    "import pandas as pd\n",
    "from matplotlib import pyplot as plt\n",
    "\n",
    "import sklearn\n",
    "from sklearn.linear_model import Perceptron\n",
    "from sklearn.neural_network import MLPClassifier\n",
    "from sklearn.metrics import accuracy_score, f1_score\n",
    "from sklearn.model_selection import train_test_split\n",
    "from tqdm.notebook import tqdm\n",
    "import seaborn as sns\n",
    "from sklearn.metrics import accuracy_score\n",
    "sns.set()\n",
    "\n",
    "import warnings\n",
    "warnings.filterwarnings(\"ignore\", category=FutureWarning)\n",
    "\n",
    "%matplotlib inline"
   ]
  },
  {
   "cell_type": "markdown",
   "metadata": {},
   "source": [
    "## MLP for Skin disease dataset using `scikit-learn`"
   ]
  },
  {
   "cell_type": "markdown",
   "metadata": {},
   "source": [
    "Now let us apply a neural network on the skin disesase data. To reduce the training time we reduce the amount of data in our dataset."
   ]
  },
  {
   "cell_type": "code",
   "execution_count": 9,
   "metadata": {},
   "outputs": [
    {
     "data": {
      "text/html": [
       "<div>\n",
       "<style scoped>\n",
       "    .dataframe tbody tr th:only-of-type {\n",
       "        vertical-align: middle;\n",
       "    }\n",
       "\n",
       "    .dataframe tbody tr th {\n",
       "        vertical-align: top;\n",
       "    }\n",
       "\n",
       "    .dataframe thead th {\n",
       "        text-align: right;\n",
       "    }\n",
       "</style>\n",
       "<table border=\"1\" class=\"dataframe\">\n",
       "  <thead>\n",
       "    <tr style=\"text-align: right;\">\n",
       "      <th></th>\n",
       "      <th>class</th>\n",
       "      <th>t0</th>\n",
       "      <th>t1</th>\n",
       "      <th>t2</th>\n",
       "      <th>t3</th>\n",
       "      <th>t4</th>\n",
       "      <th>t5</th>\n",
       "      <th>t6</th>\n",
       "      <th>t7</th>\n",
       "      <th>t8</th>\n",
       "      <th>t9</th>\n",
       "      <th>t10</th>\n",
       "      <th>t11</th>\n",
       "      <th>t12</th>\n",
       "      <th>t13</th>\n",
       "    </tr>\n",
       "  </thead>\n",
       "  <tbody>\n",
       "    <tr>\n",
       "      <th>104241</th>\n",
       "      <td>0</td>\n",
       "      <td>0.0</td>\n",
       "      <td>1.0</td>\n",
       "      <td>145.773346</td>\n",
       "      <td>139.724564</td>\n",
       "      <td>107.318260</td>\n",
       "      <td>1.010547</td>\n",
       "      <td>1.503807</td>\n",
       "      <td>9.321437</td>\n",
       "      <td>0.774784</td>\n",
       "      <td>1.226741</td>\n",
       "      <td>3.429569</td>\n",
       "      <td>1.361153</td>\n",
       "      <td>2.040051</td>\n",
       "      <td>10.930368</td>\n",
       "    </tr>\n",
       "    <tr>\n",
       "      <th>199676</th>\n",
       "      <td>0</td>\n",
       "      <td>0.0</td>\n",
       "      <td>1.0</td>\n",
       "      <td>145.853653</td>\n",
       "      <td>147.327774</td>\n",
       "      <td>139.264130</td>\n",
       "      <td>1.454444</td>\n",
       "      <td>2.466479</td>\n",
       "      <td>9.787168</td>\n",
       "      <td>-1.076918</td>\n",
       "      <td>-1.048572</td>\n",
       "      <td>7.805043</td>\n",
       "      <td>1.810385</td>\n",
       "      <td>3.022373</td>\n",
       "      <td>11.980303</td>\n",
       "    </tr>\n",
       "    <tr>\n",
       "      <th>140199</th>\n",
       "      <td>0</td>\n",
       "      <td>0.0</td>\n",
       "      <td>1.0</td>\n",
       "      <td>146.028549</td>\n",
       "      <td>143.828674</td>\n",
       "      <td>147.055923</td>\n",
       "      <td>1.228898</td>\n",
       "      <td>1.569462</td>\n",
       "      <td>5.651738</td>\n",
       "      <td>0.722707</td>\n",
       "      <td>0.840090</td>\n",
       "      <td>3.232289</td>\n",
       "      <td>1.601107</td>\n",
       "      <td>2.128853</td>\n",
       "      <td>7.526801</td>\n",
       "    </tr>\n",
       "    <tr>\n",
       "      <th>132814</th>\n",
       "      <td>0</td>\n",
       "      <td>0.0</td>\n",
       "      <td>1.0</td>\n",
       "      <td>146.447357</td>\n",
       "      <td>141.013687</td>\n",
       "      <td>137.269485</td>\n",
       "      <td>1.653434</td>\n",
       "      <td>1.750785</td>\n",
       "      <td>6.906916</td>\n",
       "      <td>0.904493</td>\n",
       "      <td>1.496825</td>\n",
       "      <td>-5.599911</td>\n",
       "      <td>1.977242</td>\n",
       "      <td>2.351642</td>\n",
       "      <td>8.867031</td>\n",
       "    </tr>\n",
       "    <tr>\n",
       "      <th>408697</th>\n",
       "      <td>0</td>\n",
       "      <td>0.0</td>\n",
       "      <td>1.0</td>\n",
       "      <td>146.090424</td>\n",
       "      <td>141.610352</td>\n",
       "      <td>149.331345</td>\n",
       "      <td>1.111900</td>\n",
       "      <td>1.200778</td>\n",
       "      <td>4.456708</td>\n",
       "      <td>-0.187116</td>\n",
       "      <td>-0.395872</td>\n",
       "      <td>2.748191</td>\n",
       "      <td>1.430844</td>\n",
       "      <td>1.626119</td>\n",
       "      <td>6.113576</td>\n",
       "    </tr>\n",
       "  </tbody>\n",
       "</table>\n",
       "</div>"
      ],
      "text/plain": [
       "        class   t0   t1          t2          t3          t4        t5  \\\n",
       "104241      0  0.0  1.0  145.773346  139.724564  107.318260  1.010547   \n",
       "199676      0  0.0  1.0  145.853653  147.327774  139.264130  1.454444   \n",
       "140199      0  0.0  1.0  146.028549  143.828674  147.055923  1.228898   \n",
       "132814      0  0.0  1.0  146.447357  141.013687  137.269485  1.653434   \n",
       "408697      0  0.0  1.0  146.090424  141.610352  149.331345  1.111900   \n",
       "\n",
       "              t6        t7        t8        t9       t10       t11       t12  \\\n",
       "104241  1.503807  9.321437  0.774784  1.226741  3.429569  1.361153  2.040051   \n",
       "199676  2.466479  9.787168 -1.076918 -1.048572  7.805043  1.810385  3.022373   \n",
       "140199  1.569462  5.651738  0.722707  0.840090  3.232289  1.601107  2.128853   \n",
       "132814  1.750785  6.906916  0.904493  1.496825 -5.599911  1.977242  2.351642   \n",
       "408697  1.200778  4.456708 -0.187116 -0.395872  2.748191  1.430844  1.626119   \n",
       "\n",
       "              t13  \n",
       "104241  10.930368  \n",
       "199676  11.980303  \n",
       "140199   7.526801  \n",
       "132814   8.867031  \n",
       "408697   6.113576  "
      ]
     },
     "execution_count": 9,
     "metadata": {},
     "output_type": "execute_result"
    }
   ],
   "source": [
    "df = pd.read_csv(\"skin_disease.csv\")\n",
    "df = df.sample(frac=1, random_state=42)\n",
    "df = df.iloc[0:100000]\n",
    "df.head()"
   ]
  },
  {
   "cell_type": "code",
   "execution_count": 10,
   "metadata": {},
   "outputs": [],
   "source": [
    "X = df.drop(columns=[\"class\"])\n",
    "y = df[\"class\"]"
   ]
  },
  {
   "cell_type": "markdown",
   "metadata": {},
   "source": [
    "> Split the data into a train and test set. Use 40% of the data for the test set."
   ]
  },
  {
   "cell_type": "code",
   "execution_count": 11,
   "metadata": {
    "solution2": "hidden",
    "solution2_first": true
   },
   "outputs": [],
   "source": [
    "X_train, X_test, y_train, y_test = train_test_split(X, y, test_size=0.4, random_state=42)"
   ]
  },
  {
   "cell_type": "markdown",
   "metadata": {},
   "source": [
    "We define our Multi Layer Perceptron with 2 hidden layers. This time we use the [MLPClassifier](https://scikit-learn.org/stable/modules/generated/sklearn.neural_network.MLPClassifier.html) implementation from Scikit-Learn."
   ]
  },
  {
   "cell_type": "code",
   "execution_count": 12,
   "metadata": {},
   "outputs": [],
   "source": [
    "mlp = MLPClassifier(hidden_layer_sizes=(30,15),\n",
    "                    activation='relu',  # activation function\n",
    "                    solver='adam',  # optimizer\n",
    "                    batch_size=1024)  # size of minibatches"
   ]
  },
  {
   "cell_type": "markdown",
   "metadata": {},
   "source": [
    "> Train the neural network on `X_train`, `y_train` and plot the loss by accessing the attribute `loss_curve_`."
   ]
  },
  {
   "cell_type": "code",
   "execution_count": 14,
   "metadata": {},
   "outputs": [],
   "source": [
    "def plot_costs(costs):\n",
    "    fig, ax = plt.subplots()\n",
    "    ax.plot(costs)\n",
    "    ax.set_title(\"Loss curve\")\n",
    "    plt.show()"
   ]
  },
  {
   "cell_type": "code",
   "execution_count": 55,
   "metadata": {},
   "outputs": [
    {
     "data": {
      "text/plain": [
       "'logistic'"
      ]
     },
     "execution_count": 55,
     "metadata": {},
     "output_type": "execute_result"
    }
   ],
   "source": [
    "mlp.out_activation_"
   ]
  },
  {
   "cell_type": "code",
   "execution_count": 15,
   "metadata": {
    "solution2": "hidden",
    "solution2_first": true,
    "tags": []
   },
   "outputs": [
    {
     "data": {
      "image/png": "[encoded data removed]",
      "text/plain": [
       "<Figure size 640x480 with 1 Axes>"
      ]
     },
     "metadata": {},
     "output_type": "display_data"
    }
   ],
   "source": [
    "mlp.fit(X_train, y_train)\n",
    "plot_costs(mlp.loss_curve_)"
   ]
  },
  {
   "cell_type": "markdown",
   "metadata": {},
   "source": [
    "> Implement your own predict function. For that we'll need an activation function for the hidden layers, in our case `relu` and for the output layer `sigmoid`."
   ]
  },
  {
   "cell_type": "code",
   "execution_count": 16,
   "metadata": {
    "solution2": "hidden",
    "solution2_first": true
   },
   "outputs": [],
   "source": [
    "def relu(x):\n",
    "    return np.maximum(0, x)"
   ]
  },
  {
   "cell_type": "code",
   "execution_count": 17,
   "metadata": {
    "solution2": "hidden",
    "solution2_first": true
   },
   "outputs": [],
   "source": [
    "def sigmoid(x):\n",
    "    return 1 / (1 + np.exp(-x))"
   ]
  },
  {
   "cell_type": "code",
   "execution_count": 31,
   "metadata": {
    "solution2": "hidden",
    "solution2_first": true
   },
   "outputs": [],
   "source": [
    "def predict(mlp, X):\n",
    "    # define the first activations, e.g. inputs\n",
    "    A = X\n",
    "\n",
    "    # forward propagate through layers\n",
    "    for i, (W, B) in enumerate(zip(mlp.coefs_, mlp.intercepts_)):\n",
    "        z = np.dot(A, W) + B\n",
    "        # if hidden layer (not output layer), apply `relu`\n",
    "        if i != mlp.n_layers_ - 2:\n",
    "            A = relu(z)\n",
    "\n",
    "    # last layer output activation `sigmoid`\n",
    "    o = sigmoid(z)\n",
    "    # transform to 1-D and threshold\n",
    "    o = np.squeeze(o)\n",
    "    o = np.array(o > 0.5, dtype=int)\n",
    "\n",
    "    return o"
   ]
  },
  {
   "cell_type": "markdown",
   "metadata": {},
   "source": [
    "> Test your implementation with the scikit-learn predict function."
   ]
  },
  {
   "cell_type": "code",
   "execution_count": 32,
   "metadata": {
    "solution2": "hidden",
    "solution2_first": true
   },
   "outputs": [
    {
     "name": "stdout",
     "output_type": "stream",
     "text": [
      "Are the outputs the same: True\n"
     ]
    }
   ],
   "source": [
    "y_pred_scikit = mlp.predict(X_test)\n",
    "y_pred_own = predict(mlp, X_test)\n",
    "\n",
    "print('Are the outputs the same: %s' % (y_pred_scikit == y_pred_own).all() )"
   ]
  },
  {
   "cell_type": "markdown",
   "metadata": {},
   "source": [
    "> Predict the values on the test set and calculate the accuracy and the f1-score."
   ]
  },
  {
   "cell_type": "code",
   "execution_count": 36,
   "metadata": {
    "solution2": "hidden",
    "solution2_first": true
   },
   "outputs": [
    {
     "name": "stdout",
     "output_type": "stream",
     "text": [
      "accuracy: 0.9428; f1 score = 0.6214427531436134\n"
     ]
    }
   ],
   "source": [
    "accuracy = accuracy_score(y_pred_own, y_test)\n",
    "f1 = f1_score(y_pred_own, y_test)\n",
    "print(f\"accuracy: {accuracy}; f1 score = {f1}\")"
   ]
  },
  {
   "cell_type": "markdown",
   "metadata": {},
   "source": [
    "## MLP for Skin disease dataset using `TensorFlow`\n",
    "In practice, the MLP from `scikit-learn` is never used because of the lack of customisation and the absence of GPU training. `TensorFlow` is a library specialised in deep learning and therefore also has implementations for advanced techniques. Thus the section below is a quick introduction to how the same network can be implemented using `TensorFlow`. The networks' results do not need to be the same, since as mentioned above, the `scikit-learn` implementation can not be as customised as the `TensorFlow` one. "
   ]
  },
  {
   "cell_type": "code",
   "execution_count": 38,
   "metadata": {},
   "outputs": [],
   "source": [
    "import tensorflow as tf"
   ]
  },
  {
   "cell_type": "markdown",
   "metadata": {},
   "source": [
    "A model in `TensorFlow` can be implemented using the `Sequential API`, which enables for easy extensibility by calling `.add()`. To implement the same MLP as above, we can sequentially add `Dense` layers to the model. Here the customization possibilities compared to `scikit-learn` is evident. For example, the activation function can be set for each layer separately, which was impossible before."
   ]
  },
  {
   "cell_type": "code",
   "execution_count": 39,
   "metadata": {},
   "outputs": [
    {
     "name": "stdout",
     "output_type": "stream",
     "text": [
      "Model: \"sequential\"\n",
      "_________________________________________________________________\n",
      " Layer (type)                Output Shape              Param #   \n",
      "=================================================================\n",
      " dense (Dense)               (None, 30)                450       \n",
      "                                                                 \n",
      " dense_1 (Dense)             (None, 15)                465       \n",
      "                                                                 \n",
      " dense_2 (Dense)             (None, 1)                 16        \n",
      "                                                                 \n",
      "=================================================================\n",
      "Total params: 931\n",
      "Trainable params: 931\n",
      "Non-trainable params: 0\n",
      "_________________________________________________________________\n"
     ]
    }
   ],
   "source": [
    "dataset_dim = X_train.shape[1]\n",
    "\n",
    "model = tf.keras.models.Sequential()\n",
    "model.add(tf.keras.layers.Dense(30, input_shape=(dataset_dim, ), activation='relu'))\n",
    "model.add(tf.keras.layers.Dense(15, activation='relu'))\n",
    "model.add(tf.keras.layers.Dense(1, activation='sigmoid'))\n",
    "model.summary()"
   ]
  },
  {
   "cell_type": "markdown",
   "metadata": {},
   "source": [
    "After defining the model, it needs to be compiled using an optimizer and loss function. In our case, we'll use adam as optimizer and binary cross-entropy as loss. Now the model can be trained by specifying the number of epochs and the batch size. "
   ]
  },
  {
   "cell_type": "code",
   "execution_count": 51,
   "metadata": {},
   "outputs": [
    {
     "name": "stdout",
     "output_type": "stream",
     "text": [
      "Epoch 1/150\n",
      "59/59 [==============================] - 0s 1ms/step - loss: 0.1171 - accuracy: 0.9518\n",
      "Epoch 2/150\n",
      "59/59 [==============================] - 0s 1ms/step - loss: 0.1049 - accuracy: 0.9569\n",
      "Epoch 3/150\n",
      "59/59 [==============================] - 0s 1ms/step - loss: 0.1066 - accuracy: 0.9562\n",
      "Epoch 4/150\n",
      "59/59 [==============================] - 0s 1ms/step - loss: 0.1107 - accuracy: 0.9544\n",
      "Epoch 5/150\n",
      "59/59 [==============================] - 0s 1ms/step - loss: 0.1076 - accuracy: 0.9560\n",
      "Epoch 6/150\n",
      "59/59 [==============================] - 0s 1ms/step - loss: 0.1067 - accuracy: 0.9563\n",
      "Epoch 7/150\n",
      "59/59 [==============================] - 0s 1ms/step - loss: 0.1080 - accuracy: 0.9556\n",
      "Epoch 8/150\n",
      "59/59 [==============================] - 0s 1ms/step - loss: 0.1061 - accuracy: 0.9566\n",
      "Epoch 9/150\n",
      "59/59 [==============================] - 0s 1ms/step - loss: 0.1071 - accuracy: 0.9563\n",
      "Epoch 10/150\n",
      "59/59 [==============================] - 0s 1ms/step - loss: 0.1069 - accuracy: 0.9565\n",
      "Epoch 11/150\n",
      "59/59 [==============================] - 0s 1ms/step - loss: 0.1096 - accuracy: 0.9554\n",
      "Epoch 12/150\n",
      "59/59 [==============================] - 0s 1ms/step - loss: 0.1066 - accuracy: 0.9562\n",
      "Epoch 13/150\n",
      "59/59 [==============================] - 0s 1ms/step - loss: 0.1098 - accuracy: 0.9548\n",
      "Epoch 14/150\n",
      "59/59 [==============================] - 0s 1ms/step - loss: 0.1102 - accuracy: 0.9547\n",
      "Epoch 15/150\n",
      "59/59 [==============================] - 0s 1ms/step - loss: 0.1056 - accuracy: 0.9570\n",
      "Epoch 16/150\n",
      "59/59 [==============================] - 0s 1ms/step - loss: 0.1101 - accuracy: 0.9549\n",
      "Epoch 17/150\n",
      "59/59 [==============================] - 0s 1ms/step - loss: 0.1062 - accuracy: 0.9561\n",
      "Epoch 18/150\n",
      "59/59 [==============================] - 0s 1ms/step - loss: 0.1082 - accuracy: 0.9558\n",
      "Epoch 19/150\n",
      "59/59 [==============================] - 0s 1ms/step - loss: 0.1089 - accuracy: 0.9551\n",
      "Epoch 20/150\n",
      "59/59 [==============================] - 0s 1ms/step - loss: 0.1110 - accuracy: 0.9554\n",
      "Epoch 21/150\n",
      "59/59 [==============================] - 0s 1ms/step - loss: 0.1073 - accuracy: 0.9559\n",
      "Epoch 22/150\n",
      "59/59 [==============================] - 0s 1ms/step - loss: 0.1057 - accuracy: 0.9567\n",
      "Epoch 23/150\n",
      "59/59 [==============================] - 0s 1ms/step - loss: 0.1072 - accuracy: 0.9558\n",
      "Epoch 24/150\n",
      "59/59 [==============================] - 0s 1ms/step - loss: 0.1061 - accuracy: 0.9570\n",
      "Epoch 25/150\n",
      "59/59 [==============================] - 0s 1ms/step - loss: 0.1069 - accuracy: 0.9558\n",
      "Epoch 26/150\n",
      "59/59 [==============================] - 0s 1ms/step - loss: 0.1063 - accuracy: 0.9565\n",
      "Epoch 27/150\n",
      "59/59 [==============================] - 0s 1ms/step - loss: 0.1107 - accuracy: 0.9552\n",
      "Epoch 28/150\n",
      "59/59 [==============================] - 0s 1ms/step - loss: 0.1085 - accuracy: 0.9562\n",
      "Epoch 29/150\n",
      "59/59 [==============================] - 0s 1ms/step - loss: 0.1087 - accuracy: 0.9559\n",
      "Epoch 30/150\n",
      "59/59 [==============================] - 0s 1ms/step - loss: 0.1064 - accuracy: 0.9562\n",
      "Epoch 31/150\n",
      "59/59 [==============================] - 0s 1ms/step - loss: 0.1070 - accuracy: 0.9567\n",
      "Epoch 32/150\n",
      "59/59 [==============================] - 0s 1ms/step - loss: 0.1065 - accuracy: 0.9563\n",
      "Epoch 33/150\n",
      "59/59 [==============================] - 0s 1ms/step - loss: 0.1066 - accuracy: 0.9560\n",
      "Epoch 34/150\n",
      "59/59 [==============================] - 0s 1ms/step - loss: 0.1077 - accuracy: 0.9564\n",
      "Epoch 35/150\n",
      "59/59 [==============================] - 0s 1ms/step - loss: 0.1059 - accuracy: 0.9567\n",
      "Epoch 36/150\n",
      "59/59 [==============================] - 0s 1ms/step - loss: 0.1063 - accuracy: 0.9567\n",
      "Epoch 37/150\n",
      "59/59 [==============================] - 0s 1ms/step - loss: 0.1091 - accuracy: 0.9549\n",
      "Epoch 38/150\n",
      "59/59 [==============================] - 0s 1ms/step - loss: 0.1076 - accuracy: 0.9555\n",
      "Epoch 39/150\n",
      "59/59 [==============================] - 0s 1ms/step - loss: 0.1074 - accuracy: 0.9566\n",
      "Epoch 40/150\n",
      "59/59 [==============================] - 0s 1ms/step - loss: 0.1056 - accuracy: 0.9563\n",
      "Epoch 41/150\n",
      "59/59 [==============================] - 0s 1ms/step - loss: 0.1058 - accuracy: 0.9565\n",
      "Epoch 42/150\n",
      "59/59 [==============================] - 0s 1ms/step - loss: 0.1066 - accuracy: 0.9561\n",
      "Epoch 43/150\n",
      "59/59 [==============================] - 0s 1ms/step - loss: 0.1062 - accuracy: 0.9562\n",
      "Epoch 44/150\n",
      "59/59 [==============================] - 0s 1ms/step - loss: 0.1067 - accuracy: 0.9562\n",
      "Epoch 45/150\n",
      "59/59 [==============================] - 0s 1ms/step - loss: 0.1059 - accuracy: 0.9561\n",
      "Epoch 46/150\n",
      "59/59 [==============================] - 0s 1ms/step - loss: 0.1070 - accuracy: 0.9556\n",
      "Epoch 47/150\n",
      "59/59 [==============================] - 0s 1ms/step - loss: 0.1063 - accuracy: 0.9558\n",
      "Epoch 48/150\n",
      "59/59 [==============================] - 0s 1ms/step - loss: 0.1060 - accuracy: 0.9565\n",
      "Epoch 49/150\n",
      "59/59 [==============================] - 0s 1ms/step - loss: 0.1069 - accuracy: 0.9561\n",
      "Epoch 50/150\n",
      "59/59 [==============================] - 0s 1ms/step - loss: 0.1093 - accuracy: 0.9549\n",
      "Epoch 51/150\n",
      "59/59 [==============================] - 0s 1ms/step - loss: 0.1119 - accuracy: 0.9538\n",
      "Epoch 52/150\n",
      "59/59 [==============================] - 0s 1ms/step - loss: 0.1057 - accuracy: 0.9568\n",
      "Epoch 53/150\n",
      "59/59 [==============================] - 0s 1ms/step - loss: 0.1048 - accuracy: 0.9577\n",
      "Epoch 54/150\n",
      "59/59 [==============================] - 0s 1ms/step - loss: 0.1055 - accuracy: 0.9569\n",
      "Epoch 55/150\n",
      "59/59 [==============================] - 0s 1ms/step - loss: 0.1036 - accuracy: 0.9573\n",
      "Epoch 56/150\n",
      "59/59 [==============================] - 0s 1ms/step - loss: 0.1068 - accuracy: 0.9559\n",
      "Epoch 57/150\n",
      "59/59 [==============================] - 0s 1ms/step - loss: 0.1089 - accuracy: 0.9554\n",
      "Epoch 58/150\n",
      "59/59 [==============================] - 0s 1ms/step - loss: 0.1066 - accuracy: 0.9562\n",
      "Epoch 59/150\n",
      "59/59 [==============================] - 0s 1ms/step - loss: 0.1095 - accuracy: 0.9550\n",
      "Epoch 60/150\n",
      "59/59 [==============================] - 0s 1ms/step - loss: 0.1075 - accuracy: 0.9567\n",
      "Epoch 61/150\n",
      "59/59 [==============================] - 0s 1ms/step - loss: 0.1061 - accuracy: 0.9566\n",
      "Epoch 62/150\n",
      "59/59 [==============================] - 0s 1ms/step - loss: 0.1040 - accuracy: 0.9579\n",
      "Epoch 63/150\n",
      "59/59 [==============================] - 0s 1ms/step - loss: 0.1062 - accuracy: 0.9571\n",
      "Epoch 64/150\n",
      "59/59 [==============================] - 0s 1ms/step - loss: 0.1057 - accuracy: 0.9564\n",
      "Epoch 65/150\n",
      "59/59 [==============================] - 0s 1ms/step - loss: 0.1111 - accuracy: 0.9542\n",
      "Epoch 66/150\n",
      "59/59 [==============================] - 0s 1ms/step - loss: 0.1064 - accuracy: 0.9563\n",
      "Epoch 67/150\n",
      "59/59 [==============================] - 0s 1ms/step - loss: 0.1094 - accuracy: 0.9543\n",
      "Epoch 68/150\n",
      "59/59 [==============================] - 0s 1ms/step - loss: 0.1051 - accuracy: 0.9572\n",
      "Epoch 69/150\n",
      "59/59 [==============================] - 0s 1ms/step - loss: 0.1051 - accuracy: 0.9564\n",
      "Epoch 70/150\n",
      "59/59 [==============================] - 0s 1ms/step - loss: 0.1037 - accuracy: 0.9574\n",
      "Epoch 71/150\n",
      "59/59 [==============================] - 0s 1ms/step - loss: 0.1076 - accuracy: 0.9560\n",
      "Epoch 72/150\n",
      "59/59 [==============================] - 0s 1ms/step - loss: 0.1044 - accuracy: 0.9572\n",
      "Epoch 73/150\n",
      "59/59 [==============================] - 0s 1ms/step - loss: 0.1039 - accuracy: 0.9569\n",
      "Epoch 74/150\n",
      "59/59 [==============================] - 0s 1ms/step - loss: 0.1068 - accuracy: 0.9559\n",
      "Epoch 75/150\n",
      "59/59 [==============================] - 0s 3ms/step - loss: 0.1045 - accuracy: 0.9568\n",
      "Epoch 76/150\n",
      "59/59 [==============================] - 0s 3ms/step - loss: 0.1066 - accuracy: 0.9564\n",
      "Epoch 77/150\n",
      "59/59 [==============================] - 0s 3ms/step - loss: 0.1078 - accuracy: 0.9561\n",
      "Epoch 78/150\n",
      "59/59 [==============================] - 0s 2ms/step - loss: 0.1068 - accuracy: 0.9559\n",
      "Epoch 79/150\n",
      "59/59 [==============================] - 0s 1ms/step - loss: 0.1058 - accuracy: 0.9567\n",
      "Epoch 80/150\n",
      "59/59 [==============================] - 0s 2ms/step - loss: 0.1022 - accuracy: 0.9583\n",
      "Epoch 81/150\n",
      "59/59 [==============================] - 0s 1ms/step - loss: 0.1036 - accuracy: 0.9579\n",
      "Epoch 82/150\n",
      "59/59 [==============================] - 0s 1ms/step - loss: 0.1041 - accuracy: 0.9573\n",
      "Epoch 83/150\n",
      "59/59 [==============================] - 0s 1ms/step - loss: 0.1044 - accuracy: 0.9571\n",
      "Epoch 84/150\n",
      "59/59 [==============================] - 0s 1ms/step - loss: 0.1041 - accuracy: 0.9569\n",
      "Epoch 85/150\n",
      "59/59 [==============================] - 0s 1ms/step - loss: 0.1035 - accuracy: 0.9576\n",
      "Epoch 86/150\n",
      "59/59 [==============================] - 0s 1ms/step - loss: 0.1090 - accuracy: 0.9559\n",
      "Epoch 87/150\n",
      "59/59 [==============================] - 0s 1000us/step - loss: 0.1064 - accuracy: 0.9567\n",
      "Epoch 88/150\n",
      "59/59 [==============================] - 0s 1ms/step - loss: 0.1034 - accuracy: 0.9574\n",
      "Epoch 89/150\n",
      "59/59 [==============================] - 0s 979us/step - loss: 0.1039 - accuracy: 0.9572\n",
      "Epoch 90/150\n",
      "59/59 [==============================] - 0s 983us/step - loss: 0.1050 - accuracy: 0.9571\n",
      "Epoch 91/150\n",
      "59/59 [==============================] - 0s 984us/step - loss: 0.1023 - accuracy: 0.9580\n",
      "Epoch 92/150\n",
      "59/59 [==============================] - 0s 1ms/step - loss: 0.1057 - accuracy: 0.9568\n",
      "Epoch 93/150\n",
      "59/59 [==============================] - 0s 1ms/step - loss: 0.1065 - accuracy: 0.9571\n",
      "Epoch 94/150\n",
      "59/59 [==============================] - 0s 1ms/step - loss: 0.1070 - accuracy: 0.9566\n",
      "Epoch 95/150\n",
      "59/59 [==============================] - 0s 1ms/step - loss: 0.1060 - accuracy: 0.9563\n",
      "Epoch 96/150\n",
      "59/59 [==============================] - 0s 1ms/step - loss: 0.1022 - accuracy: 0.9574\n",
      "Epoch 97/150\n",
      "59/59 [==============================] - 0s 1ms/step - loss: 0.1042 - accuracy: 0.9578\n",
      "Epoch 98/150\n",
      "59/59 [==============================] - 0s 1ms/step - loss: 0.1023 - accuracy: 0.9581\n",
      "Epoch 99/150\n",
      "59/59 [==============================] - 0s 1ms/step - loss: 0.1053 - accuracy: 0.9572\n",
      "Epoch 100/150\n",
      "59/59 [==============================] - 0s 1ms/step - loss: 0.1052 - accuracy: 0.9568\n",
      "Epoch 101/150\n",
      "59/59 [==============================] - 0s 1ms/step - loss: 0.1019 - accuracy: 0.9574\n",
      "Epoch 102/150\n",
      "59/59 [==============================] - 0s 1ms/step - loss: 0.1037 - accuracy: 0.9578\n",
      "Epoch 103/150\n",
      "59/59 [==============================] - 0s 1ms/step - loss: 0.1051 - accuracy: 0.9566\n",
      "Epoch 104/150\n",
      "59/59 [==============================] - 0s 1ms/step - loss: 0.1032 - accuracy: 0.9575\n",
      "Epoch 105/150\n",
      "59/59 [==============================] - 0s 1ms/step - loss: 0.1034 - accuracy: 0.9574\n",
      "Epoch 106/150\n",
      "59/59 [==============================] - 0s 1ms/step - loss: 0.1035 - accuracy: 0.9569\n",
      "Epoch 107/150\n",
      "59/59 [==============================] - 0s 1ms/step - loss: 0.1057 - accuracy: 0.9564\n",
      "Epoch 108/150\n",
      "59/59 [==============================] - 0s 1ms/step - loss: 0.1053 - accuracy: 0.9569\n",
      "Epoch 109/150\n",
      "59/59 [==============================] - 0s 1ms/step - loss: 0.1045 - accuracy: 0.9574\n",
      "Epoch 110/150\n",
      "59/59 [==============================] - 0s 1ms/step - loss: 0.1023 - accuracy: 0.9580\n",
      "Epoch 111/150\n",
      "59/59 [==============================] - 0s 1ms/step - loss: 0.1016 - accuracy: 0.9578\n",
      "Epoch 112/150\n",
      "59/59 [==============================] - 0s 1ms/step - loss: 0.1027 - accuracy: 0.9578\n",
      "Epoch 113/150\n",
      "59/59 [==============================] - 0s 1ms/step - loss: 0.1064 - accuracy: 0.9564\n",
      "Epoch 114/150\n",
      "59/59 [==============================] - 0s 1ms/step - loss: 0.1034 - accuracy: 0.9582\n",
      "Epoch 115/150\n",
      "59/59 [==============================] - 0s 1ms/step - loss: 0.1030 - accuracy: 0.9583\n",
      "Epoch 116/150\n",
      "59/59 [==============================] - 0s 1ms/step - loss: 0.1055 - accuracy: 0.9568\n",
      "Epoch 117/150\n",
      "59/59 [==============================] - 0s 1ms/step - loss: 0.1021 - accuracy: 0.9581\n",
      "Epoch 118/150\n",
      "59/59 [==============================] - 0s 1ms/step - loss: 0.1036 - accuracy: 0.9580\n",
      "Epoch 119/150\n",
      "59/59 [==============================] - 0s 1ms/step - loss: 0.1033 - accuracy: 0.9579\n",
      "Epoch 120/150\n",
      "59/59 [==============================] - 0s 1ms/step - loss: 0.1016 - accuracy: 0.9583\n",
      "Epoch 121/150\n",
      "59/59 [==============================] - 0s 1ms/step - loss: 0.1026 - accuracy: 0.9579\n",
      "Epoch 122/150\n",
      "59/59 [==============================] - 0s 1ms/step - loss: 0.1048 - accuracy: 0.9565\n",
      "Epoch 123/150\n",
      "59/59 [==============================] - 0s 1ms/step - loss: 0.1016 - accuracy: 0.9586\n",
      "Epoch 124/150\n",
      "59/59 [==============================] - 0s 1ms/step - loss: 0.1020 - accuracy: 0.9583\n",
      "Epoch 125/150\n",
      "59/59 [==============================] - 0s 1ms/step - loss: 0.1017 - accuracy: 0.9582\n",
      "Epoch 126/150\n",
      "59/59 [==============================] - 0s 1ms/step - loss: 0.1041 - accuracy: 0.9570\n",
      "Epoch 127/150\n",
      "59/59 [==============================] - 0s 1ms/step - loss: 0.1050 - accuracy: 0.9572\n",
      "Epoch 128/150\n",
      "59/59 [==============================] - 0s 1ms/step - loss: 0.1023 - accuracy: 0.9586\n",
      "Epoch 129/150\n",
      "59/59 [==============================] - 0s 1000us/step - loss: 0.1016 - accuracy: 0.9586\n",
      "Epoch 130/150\n",
      "59/59 [==============================] - 0s 1ms/step - loss: 0.1053 - accuracy: 0.9568\n",
      "Epoch 131/150\n",
      "59/59 [==============================] - 0s 1ms/step - loss: 0.1024 - accuracy: 0.9581\n",
      "Epoch 132/150\n",
      "59/59 [==============================] - 0s 1ms/step - loss: 0.1047 - accuracy: 0.9568\n",
      "Epoch 133/150\n",
      "59/59 [==============================] - 0s 1ms/step - loss: 0.1027 - accuracy: 0.9578\n",
      "Epoch 134/150\n",
      "59/59 [==============================] - 0s 1ms/step - loss: 0.1049 - accuracy: 0.9575\n",
      "Epoch 135/150\n",
      "59/59 [==============================] - 0s 1ms/step - loss: 0.1024 - accuracy: 0.9572\n",
      "Epoch 136/150\n",
      "59/59 [==============================] - 0s 1ms/step - loss: 0.1014 - accuracy: 0.9580\n",
      "Epoch 137/150\n",
      "59/59 [==============================] - 0s 1ms/step - loss: 0.1024 - accuracy: 0.9584\n",
      "Epoch 138/150\n",
      "59/59 [==============================] - 0s 1ms/step - loss: 0.1001 - accuracy: 0.9588\n",
      "Epoch 139/150\n",
      "59/59 [==============================] - 0s 1ms/step - loss: 0.1037 - accuracy: 0.9578\n",
      "Epoch 140/150\n",
      "59/59 [==============================] - 0s 1ms/step - loss: 0.1013 - accuracy: 0.9591\n",
      "Epoch 141/150\n",
      "59/59 [==============================] - 0s 1ms/step - loss: 0.1004 - accuracy: 0.9593\n",
      "Epoch 142/150\n",
      "59/59 [==============================] - 0s 1ms/step - loss: 0.1022 - accuracy: 0.9579\n",
      "Epoch 143/150\n",
      "59/59 [==============================] - 0s 1ms/step - loss: 0.1015 - accuracy: 0.9576\n",
      "Epoch 144/150\n",
      "59/59 [==============================] - 0s 1ms/step - loss: 0.1007 - accuracy: 0.9585\n",
      "Epoch 145/150\n",
      "59/59 [==============================] - 0s 1ms/step - loss: 0.0995 - accuracy: 0.9596\n",
      "Epoch 146/150\n",
      "59/59 [==============================] - 0s 1000us/step - loss: 0.1015 - accuracy: 0.9582\n",
      "Epoch 147/150\n",
      "59/59 [==============================] - 0s 1ms/step - loss: 0.1020 - accuracy: 0.9583\n",
      "Epoch 148/150\n",
      "59/59 [==============================] - 0s 983us/step - loss: 0.1059 - accuracy: 0.9562\n",
      "Epoch 149/150\n",
      "59/59 [==============================] - 0s 1ms/step - loss: 0.1006 - accuracy: 0.9583\n",
      "Epoch 150/150\n",
      "59/59 [==============================] - 0s 1ms/step - loss: 0.1008 - accuracy: 0.9587\n"
     ]
    }
   ],
   "source": [
    "adam = tf.keras.optimizers.Adam()\n",
    "model.compile(optimizer=adam, loss='binary_crossentropy', metrics=['accuracy'])\n",
    "\n",
    "history = model.fit(X_train, y_train, batch_size=1024, epochs=150) "
   ]
  },
  {
   "cell_type": "markdown",
   "metadata": {},
   "source": [
    "We can also plot the loss curve using the same function as above."
   ]
  },
  {
   "cell_type": "code",
   "execution_count": 52,
   "metadata": {},
   "outputs": [
    {
     "data": {
      "image/png": "[encoded data removed]",
      "text/plain": [
       "<Figure size 640x480 with 1 Axes>"
      ]
     },
     "metadata": {},
     "output_type": "display_data"
    }
   ],
   "source": [
    "plot_costs(history.history[\"loss\"])"
   ]
  },
  {
   "cell_type": "markdown",
   "metadata": {},
   "source": [
    "The model can also be evaluated on the test set with familiar code."
   ]
  },
  {
   "cell_type": "code",
   "execution_count": 53,
   "metadata": {},
   "outputs": [
    {
     "name": "stdout",
     "output_type": "stream",
     "text": [
      "1250/1250 [==============================] - 1s 567us/step\n",
      "Accuracy: 0.9565\n",
      "F1: 0.7194\n"
     ]
    }
   ],
   "source": [
    "y_pred = model.predict(X_test)\n",
    "y_pred = np.array(y_pred > 0.5, dtype=int).squeeze()\n",
    "\n",
    "accuracy = accuracy_score(y_test, y_pred)\n",
    "f1 = f1_score(y_test, y_pred)\n",
    "\n",
    "print(\"Accuracy: %.4f\" % accuracy)\n",
    "print(\"F1: %.4f\" % f1)"
   ]
  },
  {
   "cell_type": "markdown",
   "metadata": {},
   "source": [
    "# Assignment"
   ]
  },
  {
   "cell_type": "markdown",
   "metadata": {},
   "source": [
    "> Now answer the Ilias Quiz 08A Neural Networks - Notebook Verification"
   ]
  },
  {
   "cell_type": "code",
   "execution_count": null,
   "metadata": {},
   "outputs": [],
   "source": []
  }
 ],
 "metadata": {
  "kernelspec": {
   "display_name": "Python 3 (ipykernel)",
   "language": "python",
   "name": "python3"
  },
  "language_info": {
   "codemirror_mode": {
    "name": "ipython",
    "version": 3
   },
   "file_extension": ".py",
   "mimetype": "text/x-python",
   "name": "python",
   "nbconvert_exporter": "python",
   "pygments_lexer": "ipython3",
   "version": "3.9.13"
  }
 },
 "nbformat": 4,
 "nbformat_minor": 4
}
