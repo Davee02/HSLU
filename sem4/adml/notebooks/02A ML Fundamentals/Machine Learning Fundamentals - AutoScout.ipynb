{
 "cells": [
  {
   "cell_type": "markdown",
   "metadata": {},
   "source": [
    "# Machine Learning Fundamentals\n",
    "\n",
    "Today we will implement two simple content-based recommender systems. During the semester we will have a lecture on recommender systems where we look in depth about content-based and collaborative filtering recommender systems.\n",
    "\n",
    "The main goal of this exercise is to get an understanding why similarities and normalization are very important for Machine Learning. "
   ]
  },
  {
   "cell_type": "code",
   "execution_count": null,
   "metadata": {},
   "outputs": [],
   "source": [
    "import numpy as np\n",
    "import pandas as pd\n",
    "import scipy\n",
    "import matplotlib.pyplot as plt\n",
    "import seaborn as sns\n",
    "import skimage\n",
    "import skimage.io\n",
    "\n",
    "from sklearn.preprocessing import StandardScaler\n",
    "from sklearn.preprocessing import MinMaxScaler\n",
    "from sklearn.decomposition import PCA\n",
    "from sklearn.neighbors import NearestNeighbors\n",
    "\n",
    "from tqdm.notebook import tqdm\n",
    "import ipywidgets as widgets\n",
    "\n",
    "import warnings\n",
    "from sklearn.exceptions import DataConversionWarning\n",
    "warnings.filterwarnings(action='ignore')\n",
    "\n",
    "%matplotlib inline"
   ]
  },
  {
   "cell_type": "markdown",
   "metadata": {},
   "source": [
    "## Exercise 1 - Simple recommender system for AutoScout based on KNN\n",
    "AutoScout24 provided us with a dump of their productive database. You are assigned to implement a recommender system that will suggest you an adequate car based on your preferences.\n",
    "\n",
    "<a href=\"https://www.autoscout24.ch/de\"><img src=\"https://www.autoscout24.ch/MVC/Content/desktop/img/autoscout24-logo-og.png\" height=\"30%\" width=\"30%\"/></a>"
   ]
  },
  {
   "cell_type": "markdown",
   "metadata": {},
   "source": [
    "### Prepare Data"
   ]
  },
  {
   "cell_type": "code",
   "execution_count": null,
   "metadata": {},
   "outputs": [],
   "source": [
    "df = pd.read_csv(\"cars_image.csv\")\n",
    "df.head()"
   ]
  },
  {
   "cell_type": "markdown",
   "metadata": {},
   "source": [
    "We select 3 cars from our dataset and take the rest as our training set. We are only interested in some of the features."
   ]
  },
  {
   "cell_type": "code",
   "execution_count": null,
   "metadata": {},
   "outputs": [],
   "source": [
    "test_idx = [156, 233, 203]\n",
    "test_idx = df.index.isin(test_idx)\n",
    "\n",
    "test = df[test_idx]\n",
    "train = df[~test_idx]\n",
    "\n",
    "test.reset_index(inplace=True)\n",
    "test = test.drop(columns=[\"index\"])\n",
    "\n",
    "features = [\"Price\", \"Mileage\", \"Doors\", \"Horsepower\", \"Seats\", \"Year\", \"Cabriolet\", \"Black\"]\n",
    "X_train = train[features]\n",
    "X_test = test[features]\n",
    "X_test.head()"
   ]
  },
  {
   "cell_type": "markdown",
   "metadata": {},
   "source": [
    "We implement a function that displays a given car."
   ]
  },
  {
   "cell_type": "code",
   "execution_count": null,
   "metadata": {},
   "outputs": [],
   "source": [
    "def display_car(car, ax=None):\n",
    "    img_id = car.ImageId.values[0]\n",
    "    img_path = \"images/{}.jpg\".format(img_id)\n",
    "    img = skimage.io.imread(img_path)\n",
    "    \n",
    "    if ax is None:\n",
    "        fig, ax = plt.subplots(1)\n",
    "    ax.set_title(\"car {} - {}\".format(car.index.values[0], car.Name.values[0]))\n",
    "    ax.set_xticks([])\n",
    "    ax.set_yticks([])\n",
    "    ax.imshow(img)\n",
    "\n",
    "    car_features = car[features]\n",
    "    display(car_features)"
   ]
  },
  {
   "cell_type": "markdown",
   "metadata": {},
   "source": [
    "Let's try it by sampling a car from our dataset."
   ]
  },
  {
   "cell_type": "code",
   "execution_count": null,
   "metadata": {},
   "outputs": [],
   "source": [
    "car = df.sample(1)\n",
    "display_car(car)"
   ]
  },
  {
   "cell_type": "markdown",
   "metadata": {},
   "source": [
    "### Display test data\n",
    "Let us now display our test cars."
   ]
  },
  {
   "cell_type": "code",
   "execution_count": null,
   "metadata": {},
   "outputs": [],
   "source": [
    "car0 = test.iloc[[0]]\n",
    "X_car0 = X_test.values[0]\n",
    "\n",
    "car1 = test.iloc[[1]]\n",
    "X_car1 = X_test.values[1]\n",
    "\n",
    "car2 = test.iloc[[2]]\n",
    "X_car2 = X_test.values[2]\n",
    "\n",
    "fig, ax = plt.subplots(1, 3, figsize=(18,12))\n",
    "\n",
    "display_car(car0, ax[0])\n",
    "display_car(car1, ax[1])\n",
    "display_car(car2, ax[2])"
   ]
  },
  {
   "cell_type": "markdown",
   "metadata": {},
   "source": [
    "We want to know whether car 1 or car 2 is more similar to car 0. We need to somehow measure the distance between the cars."
   ]
  },
  {
   "cell_type": "code",
   "execution_count": null,
   "metadata": {},
   "outputs": [],
   "source": [
    "X_test.head()"
   ]
  },
  {
   "cell_type": "markdown",
   "metadata": {},
   "source": [
    "### Implementing distance measures\n",
    "To implement our recommender system, we need a measure that tells us how large the difference between to cars is."
   ]
  },
  {
   "cell_type": "markdown",
   "metadata": {},
   "source": [
    "#### Euclidean Distance"
   ]
  },
  {
   "cell_type": "markdown",
   "metadata": {},
   "source": [
    "Implement the euclidean distance measure"
   ]
  },
  {
   "cell_type": "code",
   "execution_count": null,
   "metadata": {
    "solution2": "hidden",
    "solution2_first": true
   },
   "outputs": [],
   "source": [
    "def euclidean_distance(v1, v2):\n",
    "    # START YOUR CODE\n",
    "    # END YOUR CODE\n",
    "    pass"
   ]
  },
  {
   "cell_type": "markdown",
   "metadata": {
    "tags": []
   },
   "source": [
    "*Click on the dots to display the solution* "
   ]
  },
  {
   "cell_type": "code",
   "execution_count": null,
   "metadata": {
    "jupyter": {
     "source_hidden": true
    },
    "solution2": "hidden",
    "tags": []
   },
   "outputs": [],
   "source": [
    "def euclidean_distance(v1, v2):\n",
    "    return np.sqrt(np.sum((v1 - v2)**2))\n",
    "    # other implementations available:\n",
    "    #return scipy.spatial.distance.euclidean(v1, v2)\n",
    "    #return np.linalg.norm(v1 - v2)"
   ]
  },
  {
   "cell_type": "code",
   "execution_count": null,
   "metadata": {},
   "outputs": [],
   "source": [
    "print(\"Distance between car 0 and car 1 = \", euclidean_distance(X_car0, X_car1))\n",
    "print(\"Distance between car 0 and car 2 = \", euclidean_distance(X_car0, X_car2))"
   ]
  },
  {
   "cell_type": "markdown",
   "metadata": {},
   "source": [
    "The euclidean distance between car 0 and car 1 is smaller than between car 0 and car 2, i.e. car 0 and car 1 are more similar."
   ]
  },
  {
   "cell_type": "markdown",
   "metadata": {},
   "source": [
    "#### Cosine distance"
   ]
  },
  {
   "cell_type": "markdown",
   "metadata": {},
   "source": [
    "We now implement another distance measure, the cosine similarity.\n",
    "Implement the cosine similarity"
   ]
  },
  {
   "cell_type": "code",
   "execution_count": null,
   "metadata": {
    "solution2": "hidden",
    "solution2_first": true
   },
   "outputs": [],
   "source": [
    "def cosine_similarity(v1, v2):\n",
    "    # START YOUR CODE\n",
    "    # END YOUR CODE\n",
    "    pass"
   ]
  },
  {
   "cell_type": "markdown",
   "metadata": {},
   "source": [
    "*Click on the dots to display the solution* "
   ]
  },
  {
   "cell_type": "code",
   "execution_count": null,
   "metadata": {
    "jupyter": {
     "source_hidden": true
    },
    "solution2": "hidden",
    "tags": []
   },
   "outputs": [],
   "source": [
    "def cosine_similarity(v1, v2):\n",
    "    sim = np.dot(v1, v2) / (np.linalg.norm(v1) * np.linalg.norm(v2))\n",
    "    return sim"
   ]
  },
  {
   "cell_type": "markdown",
   "metadata": {},
   "source": [
    "Now we have implemented the cosine similarity. However we want the *cosine distance*."
   ]
  },
  {
   "cell_type": "code",
   "execution_count": null,
   "metadata": {},
   "outputs": [],
   "source": [
    "def cosine_distance(v1, v2):\n",
    "    return 1 - cosine_similarity(v1, v2)"
   ]
  },
  {
   "cell_type": "code",
   "execution_count": null,
   "metadata": {
    "scrolled": true
   },
   "outputs": [],
   "source": [
    "print(\"Distance between car 0 and car 1 = \", cosine_distance(X_car0, X_car1))\n",
    "print(\"Distance between car 0 and car 2 = \", cosine_distance(X_car0, X_car2))"
   ]
  },
  {
   "cell_type": "markdown",
   "metadata": {},
   "source": [
    "The cosine similarity tells us again that car 0 and car 1 are more similar than car 0 and car 2."
   ]
  },
  {
   "cell_type": "markdown",
   "metadata": {},
   "source": [
    "### Find most similar car\n",
    "Let's find the most similar car in our training set.\n",
    "\n",
    "Implement the function `get_nearest_neighbor` which returns the minimum distance and the index of the most similar car. The argument `distance` represents the distance function (either `euclidean_distance` or `cosine_distance`)."
   ]
  },
  {
   "cell_type": "code",
   "execution_count": null,
   "metadata": {
    "solution2": "hidden",
    "solution2_first": true
   },
   "outputs": [],
   "source": [
    "def get_nearest_neighbor(source_car, cars, distance):\n",
    "    # START YOUR CODE\n",
    "    distance = -1\n",
    "    idx = -1\n",
    "    # END YOUR CODE\n",
    "    return distance, idx"
   ]
  },
  {
   "cell_type": "markdown",
   "metadata": {},
   "source": [
    "*Click on the dots to display the solution* "
   ]
  },
  {
   "cell_type": "code",
   "execution_count": null,
   "metadata": {
    "jupyter": {
     "source_hidden": true
    },
    "solution2": "hidden",
    "tags": []
   },
   "outputs": [],
   "source": [
    "def get_nearest_neighbor(source_car, cars, distance):\n",
    "    similarities = np.array([distance(source_car, car) for car in tqdm(cars)])\n",
    "    idx = np.argmin(similarities)\n",
    "    distance = np.min(similarities)\n",
    "    return distance, idx"
   ]
  },
  {
   "cell_type": "markdown",
   "metadata": {},
   "source": [
    "#### Testing our function"
   ]
  },
  {
   "cell_type": "code",
   "execution_count": null,
   "metadata": {
    "scrolled": true
   },
   "outputs": [],
   "source": [
    "display_car(car0)"
   ]
  },
  {
   "cell_type": "markdown",
   "metadata": {},
   "source": [
    "Let's test our nearest neighbor function by using the cosine distance. We want to know the most similar car to our test car `car0`."
   ]
  },
  {
   "cell_type": "code",
   "execution_count": null,
   "metadata": {},
   "outputs": [],
   "source": [
    "distance, idx = get_nearest_neighbor(X_car0, X_train.values, cosine_distance)\n",
    "print(idx)\n",
    "print(distance)\n",
    "\n",
    "most_similar_car = train.iloc[[idx]]\n",
    "\n",
    "fig, ax = plt.subplots(1, 2, figsize=(12,12))\n",
    "display_car(car0, ax[0])\n",
    "display_car(most_similar_car, ax[1])"
   ]
  },
  {
   "cell_type": "markdown",
   "metadata": {},
   "source": [
    "The price and the mileage are quite similar. However it is definitely not a cabriolet and the number of doors are far from our car."
   ]
  },
  {
   "cell_type": "markdown",
   "metadata": {},
   "source": [
    "Let's check if the recommendation with the euclidean distance measure looks better."
   ]
  },
  {
   "cell_type": "code",
   "execution_count": null,
   "metadata": {},
   "outputs": [],
   "source": [
    "distance, idx = get_nearest_neighbor(X_car0, X_train.values, euclidean_distance)\n",
    "print(idx)\n",
    "print(distance)\n",
    "\n",
    "most_similar_car = train.iloc[[idx]]\n",
    "\n",
    "fig, ax = plt.subplots(1, 2, figsize=(12,12))\n",
    "display_car(car0, ax[0])\n",
    "display_car(most_similar_car, ax[1])"
   ]
  },
  {
   "cell_type": "markdown",
   "metadata": {},
   "source": [
    "We still get a bad recommendation."
   ]
  },
  {
   "cell_type": "markdown",
   "metadata": {},
   "source": [
    "### Normalize the data\n",
    "We forgot to normalize our training data! Let's do that and check if our recommendation is looks now better."
   ]
  },
  {
   "cell_type": "code",
   "execution_count": null,
   "metadata": {},
   "outputs": [],
   "source": [
    "scaler = MinMaxScaler()\n",
    "\n",
    "X_train_transform = scaler.fit_transform(X_train)\n",
    "X_car0_transform = scaler.transform([X_car0])"
   ]
  },
  {
   "cell_type": "code",
   "execution_count": null,
   "metadata": {},
   "outputs": [],
   "source": [
    "distance, idx = get_nearest_neighbor(X_car0_transform, X_train_transform, euclidean_distance)\n",
    "print(idx)\n",
    "print(distance)\n",
    "\n",
    "most_similar_car = train.iloc[[idx]]\n",
    "\n",
    "fig, ax = plt.subplots(1, 2, figsize=(12,12))\n",
    "display_car(car0, ax[0])\n",
    "display_car(most_similar_car, ax[1])"
   ]
  },
  {
   "cell_type": "markdown",
   "metadata": {},
   "source": [
    "Wow, we now get a perfect match."
   ]
  },
  {
   "cell_type": "markdown",
   "metadata": {},
   "source": [
    "### Use Nearest Neighbor implementation from Scikit-Learn"
   ]
  },
  {
   "cell_type": "markdown",
   "metadata": {},
   "source": [
    "Let's move to the Scikit-Learn implementation [NearestNeighbors](https://scikit-learn.org/stable/modules/neighbors.html) and check if we get the same result."
   ]
  },
  {
   "cell_type": "code",
   "execution_count": null,
   "metadata": {},
   "outputs": [],
   "source": [
    "knn = NearestNeighbors(n_neighbors=1, metric=\"euclidean\")\n",
    "knn.fit(X_train_transform)"
   ]
  },
  {
   "cell_type": "code",
   "execution_count": null,
   "metadata": {},
   "outputs": [],
   "source": [
    "distance, idx = knn.kneighbors(X_car0_transform)\n",
    "\n",
    "most_similar_car = train.iloc[idx[0]]\n",
    "\n",
    "fig, ax = plt.subplots(1, 2, figsize=(12,12))\n",
    "display_car(car0, ax[0])\n",
    "display_car(most_similar_car, ax[1])"
   ]
  },
  {
   "cell_type": "markdown",
   "metadata": {},
   "source": [
    "The result looks the same with the Scikit-Learn implementation."
   ]
  },
  {
   "cell_type": "markdown",
   "metadata": {},
   "source": [
    "### Build a recommender system"
   ]
  },
  {
   "cell_type": "markdown",
   "metadata": {},
   "source": [
    "We can build now our own recommender system. \n",
    ">Play around with our recommender system."
   ]
  },
  {
   "cell_type": "code",
   "execution_count": null,
   "metadata": {},
   "outputs": [],
   "source": [
    "@widgets.interact(price=widgets.FloatText(value=15000), \n",
    "                  mileage=widgets.IntText(value=20000), \n",
    "                  doors=widgets.Dropdown(options=sorted(df.Doors.unique())), \n",
    "                  horsepower=widgets.IntText(value=100), \n",
    "                  seats=widgets.Dropdown(options=sorted(df.Seats.unique()), value=2), \n",
    "                  year=widgets.IntText(value=2010),\n",
    "                  cabriolet=widgets.Dropdown(options=[(\"Yes\", True), (\"No\", False)]),\n",
    "                  black=widgets.Dropdown(options=[(\"Yes\", True), (\"No\", False)]))\n",
    "def recommend(price, mileage, doors, horsepower, seats, year, cabriolet, black):\n",
    "    car = np.array([[price, mileage, doors, horsepower, seats, year, cabriolet, black]])\n",
    "    car = scaler.transform(car)\n",
    "    \n",
    "    pred = knn.kneighbors(car)\n",
    "    idx = pred[1][0]\n",
    "    \n",
    "    most_similar_car = train.iloc[idx]\n",
    "    display_car(most_similar_car)"
   ]
  },
  {
   "cell_type": "code",
   "execution_count": null,
   "metadata": {},
   "outputs": [],
   "source": []
  }
 ],
 "metadata": {
  "kernelspec": {
   "display_name": "Python 3 (ipykernel)",
   "language": "python",
   "name": "python3"
  },
  "language_info": {
   "codemirror_mode": {
    "name": "ipython",
    "version": 3
   },
   "file_extension": ".py",
   "mimetype": "text/x-python",
   "name": "python",
   "nbconvert_exporter": "python",
   "pygments_lexer": "ipython3",
   "version": "3.9.12"
  }
 },
 "nbformat": 4,
 "nbformat_minor": 4
}
