{
 "cells": [
  {
   "cell_type": "markdown",
   "metadata": {},
   "source": [
    "# Gradient Descent\n",
    "This notebook demonstrates the gradient descent approach to determine the best fitting parameters by linear regression. \n",
    "\n"
   ]
  },
  {
   "cell_type": "code",
   "execution_count": 1,
   "metadata": {},
   "outputs": [],
   "source": [
    "import numpy as np\n",
    "import pandas as pd\n",
    "from matplotlib import pyplot as plt\n",
    "import seaborn as sns\n",
    "import sklearn\n",
    "import sklearn.decomposition\n",
    "import math\n",
    "from sklearn import preprocessing\n",
    "\n",
    "import matplotlib\n",
    "import matplotlib.mlab as mlab\n",
    "from sklearn.model_selection import train_test_split\n",
    "from sklearn.preprocessing import StandardScaler\n",
    "from sklearn.metrics import r2_score\n",
    "from collections import defaultdict\n",
    "\n",
    "import warnings\n",
    "warnings.filterwarnings(\"ignore\", category=FutureWarning)\n",
    "\n",
    "from tqdm.notebook import tqdm\n",
    "from ipywidgets import interact\n",
    "%matplotlib inline"
   ]
  },
  {
   "cell_type": "markdown",
   "metadata": {},
   "source": [
    "## Part 1 - Toy Example\n",
    "Firstly, we demonstrate gradient descent on a simple linear regression problem with one dependent and one independent variable."
   ]
  },
  {
   "cell_type": "code",
   "execution_count": 2,
   "metadata": {},
   "outputs": [],
   "source": [
    "X = np.array([1,1,2,3,4,5,6,7,8,9,10,10])\n",
    "y = np.array([1,2,3,1,4,5,6,4,7,10,15,9])"
   ]
  },
  {
   "cell_type": "markdown",
   "metadata": {},
   "source": [
    "x and y values are plotted in a diagram."
   ]
  },
  {
   "cell_type": "code",
   "execution_count": 3,
   "metadata": {},
   "outputs": [
    {
     "data": {
      "image/png": "[encoded data removed]",
      "text/plain": [
       "<Figure size 640x480 with 1 Axes>"
      ]
     },
     "metadata": {},
     "output_type": "display_data"
    }
   ],
   "source": [
    "plt.plot(X, y, 'bo')\n",
    "plt.show()"
   ]
  },
  {
   "cell_type": "markdown",
   "metadata": {},
   "source": [
    "We then try to fit the points by a straight line."
   ]
  },
  {
   "cell_type": "code",
   "execution_count": 4,
   "metadata": {},
   "outputs": [],
   "source": [
    "theta0 = -0.5\n",
    "theta1 = 1"
   ]
  },
  {
   "cell_type": "code",
   "execution_count": 5,
   "metadata": {},
   "outputs": [],
   "source": [
    "def predict(X, theta0, theta1):\n",
    "    y_pred = theta0 + theta1 * X\n",
    "    return y_pred\n",
    "\n",
    "y_pred = predict(X, theta0, theta1)"
   ]
  },
  {
   "cell_type": "code",
   "execution_count": 6,
   "metadata": {},
   "outputs": [
    {
     "data": {
      "image/png": "[encoded data removed]",
      "text/plain": [
       "<Figure size 640x480 with 1 Axes>"
      ]
     },
     "metadata": {},
     "output_type": "display_data"
    }
   ],
   "source": [
    "def plot_regression_line(X, theta0, theta1, ax=None):\n",
    "    if ax is None:\n",
    "        fig, ax = plt.subplots()\n",
    "    x = np.arange(X.min()-1, X.max()+1, 1).reshape(-1,1)\n",
    "    y_pred = predict(x, theta0, theta1)\n",
    "    ax.plot(x, y_pred, color=\"r\")\n",
    "    \n",
    "ax = sns.scatterplot(X, y)\n",
    "plot_regression_line(X, theta0, theta1, ax)\n",
    "plt.show()"
   ]
  },
  {
   "cell_type": "markdown",
   "metadata": {},
   "source": [
    "This does not look so bad. Let's implement a gradient descent algorithm to do this automatically."
   ]
  },
  {
   "cell_type": "markdown",
   "metadata": {},
   "source": [
    "### Cost function\n",
    "We define a cost function that determines the mean squared error of the predicted and the actual y coordinates. To get rid of the factor 2 in the gradient\n",
    "formula, we divide the sum by 2."
   ]
  },
  {
   "cell_type": "markdown",
   "metadata": {},
   "source": [
    "> Implement the MSE cost function"
   ]
  },
  {
   "cell_type": "code",
   "execution_count": 7,
   "metadata": {
    "solution2": "hidden",
    "solution2_first": true
   },
   "outputs": [],
   "source": [
    "def cost(y, y_pred):\n",
    "    return ((y - y_pred) ** 2).mean() / 2"
   ]
  },
  {
   "cell_type": "code",
   "execution_count": 8,
   "metadata": {},
   "outputs": [
    {
     "data": {
      "text/plain": [
       "1.9583333333333333"
      ]
     },
     "execution_count": 8,
     "metadata": {},
     "output_type": "execute_result"
    }
   ],
   "source": [
    "cost(y, y_pred)"
   ]
  },
  {
   "cell_type": "markdown",
   "metadata": {
    "tags": []
   },
   "source": [
    "### Calculate gradient\n",
    "\n",
    "Next, let us determine the gradient of y in respect to the parameters."
   ]
  },
  {
   "cell_type": "markdown",
   "metadata": {},
   "source": [
    "**Programming Assignment - Verification on Ilias**"
   ]
  },
  {
   "cell_type": "markdown",
   "metadata": {},
   "source": [
    "> Implement the `gradient` function"
   ]
  },
  {
   "cell_type": "code",
   "execution_count": 9,
   "metadata": {
    "solution2": "hidden",
    "solution2_first": true
   },
   "outputs": [],
   "source": [
    "def gradient(X, y, theta0, theta1):\n",
    "    y_pred = predict(X, theta0, theta1)\n",
    "    epsilon = y_pred - y\n",
    "\n",
    "    grad_theta0 = epsilon.mean()\n",
    "    grad_theta1 = (epsilon * X).mean()\n",
    "    \n",
    "    return grad_theta0, grad_theta1"
   ]
  },
  {
   "cell_type": "markdown",
   "metadata": {},
   "source": [
    "*Hint: Carefully look at the definition of the cost function of Linear Regression, to calculate the gradient & take care of dimensions*"
   ]
  },
  {
   "cell_type": "markdown",
   "metadata": {},
   "source": [
    "**Report the value of the gradients in the Ilias Quiz 04B Notebook Verification**"
   ]
  },
  {
   "cell_type": "code",
   "execution_count": 10,
   "metadata": {},
   "outputs": [
    {
     "data": {
      "text/plain": [
       "(-0.5833333333333334, -4.166666666666667)"
      ]
     },
     "execution_count": 10,
     "metadata": {},
     "output_type": "execute_result"
    }
   ],
   "source": [
    "gradient(X, y, theta0, theta1)"
   ]
  },
  {
   "cell_type": "markdown",
   "metadata": {},
   "source": [
    "### Batch Gradient descent\n"
   ]
  },
  {
   "cell_type": "markdown",
   "metadata": {},
   "source": [
    "> Now complete the `fit` function by iteratively updating our model parameters.\n",
    "\n",
    "To visualize how the parameters and cost functions change with each epoch, we store them in a dictionary."
   ]
  },
  {
   "cell_type": "code",
   "execution_count": 11,
   "metadata": {
    "solution2": "hidden",
    "solution2_first": true
   },
   "outputs": [],
   "source": [
    "def fit(X, y, alpha, num_epochs, display_every=10):\n",
    "    theta0 = 0.0\n",
    "    theta1 = np.random.randn()\n",
    "    \n",
    "    hist = defaultdict(list)\n",
    "    for epoch in tqdm(range(1, num_epochs + 1)):\n",
    "        grad_theta0, grad_theta1 = gradient(X, y, theta0, theta1)\n",
    "        theta0 = theta0 - alpha * grad_theta0\n",
    "        theta1 = theta1 - alpha * grad_theta1\n",
    "        print(theta0)\n",
    "        y_pred = predict(X, theta0, theta1)\n",
    "        curr_cost = cost(y, y_pred)\n",
    "        \n",
    "        hist[\"cost\"].append(curr_cost)\n",
    "        hist[\"theta0\"].append(theta0)\n",
    "        hist[\"theta1\"].append(theta1)\n",
    "\n",
    "        if epoch % display_every == 0:\n",
    "            print(\"Epoch {} -  cost: {}\".format(epoch, curr_cost))\n",
    "        \n",
    "    return theta0, theta1, hist"
   ]
  },
  {
   "cell_type": "code",
   "execution_count": 12,
   "metadata": {},
   "outputs": [
    {
     "data": {
      "application/json": {
       "ascii": false,
       "bar_format": null,
       "colour": null,
       "elapsed": 0.005999565124511719,
       "initial": 0,
       "n": 0,
       "ncols": null,
       "nrows": null,
       "postfix": null,
       "prefix": "",
       "rate": null,
       "total": 20,
       "unit": "it",
       "unit_divisor": 1000,
       "unit_scale": false
      },
      "application/vnd.jupyter.widget-view+json": {
       "model_id": "d2715377eb2648ce83ebfbc4a40cbb49",
       "version_major": 2,
       "version_minor": 0
      },
      "text/plain": [
       "  0%|          | 0/20 [00:00<?, ?it/s]"
      ]
     },
     "metadata": {},
     "output_type": "display_data"
    },
    {
     "name": "stdout",
     "output_type": "stream",
     "text": [
      "0.05987541811009564\n",
      "0.09446087103783492\n",
      "Epoch 2 -  cost: 4.747095432151702\n",
      "0.11419032203033287\n",
      "0.12519356180146374\n",
      "Epoch 4 -  cost: 2.1378511663706594\n",
      "0.13107174532082752\n",
      "0.13394049261214216\n",
      "Epoch 6 -  cost: 1.826673799527401\n",
      "0.13504269457194074\n",
      "0.13510852704682877\n",
      "Epoch 8 -  cost: 1.7892468432739437\n",
      "0.13456695361603538\n",
      "0.1336699802521316\n",
      "Epoch 10 -  cost: 1.784432723894919\n",
      "0.13256565304012477\n",
      "0.13134094322467568\n",
      "Epoch 12 -  cost: 1.783506984252176\n",
      "0.13004694152160517\n",
      "0.12871365939183696\n",
      "Epoch 14 -  cost: 1.7830479185305619\n",
      "0.12735872456419625\n",
      "0.12599248952248313\n",
      "Epoch 16 -  cost: 1.7826478969728372\n",
      "0.12462103266373599\n",
      "0.12324792143294169\n",
      "Epoch 18 -  cost: 1.7822583283302647\n",
      "0.12187524813778004\n",
      "0.12050423847397504\n",
      "Epoch 20 -  cost: 1.7818733905297977\n"
     ]
    }
   ],
   "source": [
    "alpha = 0.01\n",
    "num_epochs = 20\n",
    "\n",
    "theta0, theta1, hist = fit(X, y, alpha, num_epochs, display_every=2)"
   ]
  },
  {
   "cell_type": "markdown",
   "metadata": {},
   "source": [
    "### Visualize learning \n",
    "We can now visualize the learning process by plotting the validation curve. The validation curve shows how the cost decreases by increasing number of epochs."
   ]
  },
  {
   "cell_type": "code",
   "execution_count": 13,
   "metadata": {},
   "outputs": [
    {
     "data": {
      "image/png": "[encoded data removed]",
      "text/plain": [
       "<Figure size 640x480 with 1 Axes>"
      ]
     },
     "metadata": {},
     "output_type": "display_data"
    }
   ],
   "source": [
    "def plot_validation_curve(data, ax=None, ylim=None):\n",
    "    if ax is None:\n",
    "        fig, ax = plt.subplots()\n",
    "        ax.set_title(\"Validation Curve\")\n",
    "        ax.set_ylabel(\"Cost\")\n",
    "    if ylim is not None:\n",
    "        ax.set_ylim(ylim)\n",
    "    ax.set_xlabel(\"Epochs\")\n",
    "    ax.plot(data)\n",
    "    \n",
    "plot_validation_curve(hist[\"cost\"])"
   ]
  },
  {
   "cell_type": "markdown",
   "metadata": {},
   "source": [
    "Using our history, we can now visualize how the parameters change by each epoch."
   ]
  },
  {
   "cell_type": "code",
   "execution_count": 14,
   "metadata": {},
   "outputs": [
    {
     "data": {
      "application/vnd.jupyter.widget-view+json": {
       "model_id": "449a0a3ecd2549d1aa4480d5549344c6",
       "version_major": 2,
       "version_minor": 0
      },
      "text/plain": [
       "interactive(children=(IntSlider(value=1, description='epoch', max=20, min=1), Output()), _dom_classes=('widget…"
      ]
     },
     "metadata": {},
     "output_type": "display_data"
    }
   ],
   "source": [
    "@interact(epoch=(1, len(hist[\"theta0\"])))\n",
    "def visualize_learning(epoch=1):\n",
    "    ax = sns.scatterplot(X, y)\n",
    "    plot_regression_line(X, hist[\"theta0\"][epoch-1], hist[\"theta1\"][epoch-1], ax)\n",
    "    plt.show()"
   ]
  },
  {
   "cell_type": "markdown",
   "metadata": {},
   "source": [
    "### Contour plot\n",
    "We can visualize how our model parameters $\\Theta$ change after each epoch by displaying a contour plot."
   ]
  },
  {
   "cell_type": "code",
   "execution_count": 15,
   "metadata": {},
   "outputs": [],
   "source": [
    "def parallel_cost(Theta0, Theta1, X, y):\n",
    "    m = Theta0.shape[0]\n",
    "    n = Theta0.shape[1]\n",
    "    tot = np.zeros((m,n))\n",
    "    for i in range(1,len(X)):\n",
    "        tot += (Theta0 + Theta1 * X[i] - y[i]) ** 2;\n",
    "    return tot/(2*len(X))"
   ]
  },
  {
   "cell_type": "code",
   "execution_count": 16,
   "metadata": {},
   "outputs": [],
   "source": [
    "matplotlib.rcParams['xtick.direction'] = 'out'\n",
    "matplotlib.rcParams['ytick.direction'] = 'out'\n",
    "\n",
    "def contour_plot_zoomed(X, y, ax=None):\n",
    "    if ax is None:\n",
    "        fig, ax = plt.subplots(figsize=(12,8))\n",
    "    delta = 0.025\n",
    "    t0 = np.arange(-0.5, 0.5, delta)\n",
    "    t1 = np.arange(0.5, 1.5, delta)\n",
    "    T0, T1 = np.meshgrid(t0, t1)\n",
    "    Z = parallel_cost(T0, T1, X, y)\n",
    "    CS = ax.contour(T0, T1, Z, levels = [0.25,0.5,1,2,3])\n",
    "    ax.clabel(CS, inline=1, fontsize=10)\n",
    "    ax.set_title('Contour plot')\n",
    "    ax.set_xlabel(r'$\\theta_0$')\n",
    "    ax.set_ylabel(r'$\\theta_1$')\n",
    "    return ax"
   ]
  },
  {
   "cell_type": "code",
   "execution_count": 17,
   "metadata": {},
   "outputs": [
    {
     "data": {
      "application/vnd.jupyter.widget-view+json": {
       "model_id": "b79a8e2cefc7451ea703ec57dcb6d751",
       "version_major": 2,
       "version_minor": 0
      },
      "text/plain": [
       "interactive(children=(IntSlider(value=1, description='epoch', max=20, min=1), Output()), _dom_classes=('widget…"
      ]
     },
     "metadata": {},
     "output_type": "display_data"
    }
   ],
   "source": [
    "@interact(epoch=(1, len(hist[\"theta0\"])))\n",
    "def visualize_contour_plot(epoch=1):\n",
    "    ax = contour_plot_zoomed(X, y)\n",
    "    for i in range(epoch):\n",
    "        theta0 = hist[\"theta0\"][i]\n",
    "        theta1 = hist[\"theta1\"][i]\n",
    "        ax.plot(theta0, theta1, \"ro\", linewidth=9)\n",
    "        if i == 0: \n",
    "            continue\n",
    "            \n",
    "        theta0_prev = hist[\"theta0\"][i-1]\n",
    "        theta1_prev = hist[\"theta1\"][i-1]\n",
    "        \n",
    "        ax.annotate('', xy=[theta0, theta1], xytext=[theta0_prev, theta1_prev],\n",
    "                   arrowprops={'arrowstyle': '->', 'color': 'r', 'lw': 1},\n",
    "                   va='center', ha='center')\n",
    "    plt.show()"
   ]
  },
  {
   "cell_type": "markdown",
   "metadata": {},
   "source": [
    "### Normalise data\n",
    "Let's run the experiment above again but this time first normalise the data and see what happens.\n",
    "We use the `StandardScaler` which implements z-normalisation."
   ]
  },
  {
   "cell_type": "code",
   "execution_count": 18,
   "metadata": {},
   "outputs": [
    {
     "data": {
      "text/plain": [
       "array([-1.40556386, -1.40556386, -1.09321633, -0.78086881, -0.46852129,\n",
       "       -0.15617376,  0.15617376,  0.46852129,  0.78086881,  1.09321633,\n",
       "        1.40556386,  1.40556386])"
      ]
     },
     "execution_count": 18,
     "metadata": {},
     "output_type": "execute_result"
    }
   ],
   "source": [
    "scaler = StandardScaler()\n",
    "X_scaled = scaler.fit_transform(X.reshape(-1, 1)).reshape(-1)\n",
    "X_scaled"
   ]
  },
  {
   "cell_type": "markdown",
   "metadata": {},
   "source": [
    "#### Apply gradient descent algorithm on normalised data."
   ]
  },
  {
   "cell_type": "code",
   "execution_count": 19,
   "metadata": {},
   "outputs": [
    {
     "data": {
      "application/json": {
       "ascii": false,
       "bar_format": null,
       "colour": null,
       "elapsed": 0.0060007572174072266,
       "initial": 0,
       "n": 0,
       "ncols": null,
       "nrows": null,
       "postfix": null,
       "prefix": "",
       "rate": null,
       "total": 20,
       "unit": "it",
       "unit_divisor": 1000,
       "unit_scale": false
      },
      "application/vnd.jupyter.widget-view+json": {
       "model_id": "fa0894dc28d247d098717aaf15e6c6a0",
       "version_major": 2,
       "version_minor": 0
      },
      "text/plain": [
       "  0%|          | 0/20 [00:00<?, ?it/s]"
      ]
     },
     "metadata": {},
     "output_type": "display_data"
    },
    {
     "name": "stdout",
     "output_type": "stream",
     "text": [
      "0.05583333333333333\n",
      "0.11110833333333334\n",
      "Epoch 2 -  cost: 23.77074978715622\n",
      "0.16583058333333334\n",
      "0.22000561083333334\n",
      "Epoch 4 -  cost: 22.902784092166268\n",
      "0.27363888805833336\n",
      "0.32673583251108335\n",
      "Epoch 6 -  cost: 22.069019708742037\n",
      "0.37930180751930587\n",
      "0.43134212277744616\n",
      "Epoch 8 -  cost: 21.268108968744617\n",
      "0.48286203488300505\n",
      "0.5338667478675083\n",
      "Epoch 10 -  cost: 20.498757307536938\n",
      "0.5843614137221665\n",
      "0.6343511329182783\n",
      "Epoch 12 -  cost: 19.75972117149398\n",
      "0.6838409549224288\n",
      "0.7328358787065379\n",
      "Epoch 14 -  cost: 19.04980600796529\n",
      "0.7813408532528058\n",
      "0.8293607780536111\n",
      "Epoch 16 -  cost: 18.36786433444114\n",
      "0.8769005036064084\n",
      "0.9239648319036776\n",
      "Epoch 18 -  cost: 17.712793883801112\n",
      "0.9705585169179742\n",
      "1.0166862650821278\n",
      "Epoch 20 -  cost: 17.083535822647402\n"
     ]
    },
    {
     "data": {
      "image/png": "[encoded data removed]",
      "text/plain": [
       "<Figure size 640x480 with 1 Axes>"
      ]
     },
     "metadata": {},
     "output_type": "display_data"
    }
   ],
   "source": [
    "alpha = 0.01\n",
    "num_epochs = 20\n",
    "\n",
    "theta0, theta1, hist_scaled = fit(X_scaled, y, alpha, num_epochs, display_every=2)\n",
    "plot_validation_curve(hist_scaled[\"cost\"])"
   ]
  },
  {
   "cell_type": "markdown",
   "metadata": {},
   "source": [
    "It seems like it did not converge yet. Let's increase the learning rate $\\alpha$ and the number of epochs and run it again."
   ]
  },
  {
   "cell_type": "code",
   "execution_count": 20,
   "metadata": {},
   "outputs": [
    {
     "data": {
      "application/json": {
       "ascii": false,
       "bar_format": null,
       "colour": null,
       "elapsed": 0.006001949310302734,
       "initial": 0,
       "n": 0,
       "ncols": null,
       "nrows": null,
       "postfix": null,
       "prefix": "",
       "rate": null,
       "total": 50,
       "unit": "it",
       "unit_divisor": 1000,
       "unit_scale": false
      },
      "application/vnd.jupyter.widget-view+json": {
       "model_id": "65e2117184fe40bd834018b0f97cccab",
       "version_major": 2,
       "version_minor": 0
      },
      "text/plain": [
       "  0%|          | 0/50 [00:00<?, ?it/s]"
      ]
     },
     "metadata": {},
     "output_type": "display_data"
    },
    {
     "name": "stdout",
     "output_type": "stream",
     "text": [
      "0.5583333333333333\n",
      "1.0608333333333333\n",
      "1.5130833333333333\n",
      "1.9201083333333333\n",
      "2.286430833333333\n",
      "Epoch 5 -  cost: 10.81241762017678\n",
      "2.6161210833333333\n",
      "2.9128423083333335\n",
      "3.1798914108333336\n",
      "3.4202356030833334\n",
      "3.6365453761083333\n",
      "Epoch 10 -  cost: 4.905567210334589\n",
      "3.8312241718308333\n",
      "4.0064350879810835\n",
      "4.164124912516309\n",
      "4.306045754598012\n",
      "4.433774512471544\n",
      "Epoch 15 -  cost: 2.8459758235267674\n",
      "4.548730394557723\n",
      "4.652190688435284\n",
      "4.745304952925089\n",
      "4.829107790965914\n",
      "4.904530345202656\n",
      "Epoch 20 -  cost: 2.127840711531221\n",
      "4.972410644015723\n",
      "5.033502912947484\n",
      "5.088485954986069\n",
      "5.1379706928207955\n",
      "5.182506956872049\n",
      "Epoch 25 -  cost: 1.8774424808995762\n",
      "5.222589594518178\n",
      "5.258663968399693\n",
      "5.291130904893057\n",
      "5.320351147737085\n",
      "5.3466493662967105\n",
      "Epoch 30 -  cost: 1.7901340164391335\n",
      "5.370317763000373\n",
      "5.391619320033669\n",
      "5.410790721363636\n",
      "5.428044982560606\n",
      "5.443573817637879\n",
      "Epoch 35 -  cost: 1.75969143724354\n",
      "5.457549769207424\n",
      "5.470128125620015\n",
      "5.481448646391347\n",
      "5.491637115085545\n",
      "5.500806736910325\n",
      "Epoch 40 -  cost: 1.749076766217\n",
      "5.509059396552625\n",
      "5.5164867902306955\n",
      "5.523171444540959\n",
      "5.529187633420197\n",
      "5.53460220341151\n",
      "Epoch 45 -  cost: 1.7453756592812917\n",
      "5.539475316403693\n",
      "5.543861118096657\n",
      "5.547808339620325\n",
      "5.551360838991625\n",
      "5.554558088425797\n",
      "Epoch 50 -  cost: 1.7440851630883056\n"
     ]
    },
    {
     "data": {
      "image/png": "[encoded data removed]",
      "text/plain": [
       "<Figure size 640x480 with 1 Axes>"
      ]
     },
     "metadata": {},
     "output_type": "display_data"
    }
   ],
   "source": [
    "alpha = 0.1\n",
    "num_epochs = 50\n",
    "\n",
    "theta0, theta1, hist_scaled = fit(X_scaled, y, alpha, num_epochs, display_every=5)\n",
    "plot_validation_curve(hist_scaled[\"cost\"])"
   ]
  },
  {
   "cell_type": "markdown",
   "metadata": {},
   "source": [
    "That looks much better now. Okay, let's plot the contours."
   ]
  },
  {
   "cell_type": "code",
   "execution_count": 21,
   "metadata": {},
   "outputs": [],
   "source": [
    "def contour_plot(X, y, ax=None):\n",
    "    if ax is None:\n",
    "        fig, ax = plt.subplots(figsize=(12,8))\n",
    "    delta = 0.025\n",
    "    t0 = np.arange(0, 9, delta)\n",
    "    t1 = np.arange(0, 9, delta)\n",
    "    T0, T1 = np.meshgrid(t0, t1)\n",
    "    Z = parallel_cost(T0, T1, X, y)\n",
    "    CS = ax.contour(T0, T1, Z, levels = [1,2,3,4,5,6])\n",
    "    ax.clabel(CS, inline=1, fontsize=10)\n",
    "    ax.set_title('Contour plot')\n",
    "    ax.set_xlabel(r'$\\theta_0$')\n",
    "    ax.set_ylabel(r'$\\theta_1$')\n",
    "    return ax"
   ]
  },
  {
   "cell_type": "code",
   "execution_count": 22,
   "metadata": {
    "code_folding": []
   },
   "outputs": [
    {
     "data": {
      "application/vnd.jupyter.widget-view+json": {
       "model_id": "fefc20feb58f4f6e94db1bbb81311bd3",
       "version_major": 2,
       "version_minor": 0
      },
      "text/plain": [
       "interactive(children=(IntSlider(value=1, description='epoch', max=50, min=1), Output()), _dom_classes=('widget…"
      ]
     },
     "metadata": {},
     "output_type": "display_data"
    }
   ],
   "source": [
    "@interact(epoch=(1, len(hist_scaled[\"theta0\"])))\n",
    "def visualize_contour_plot(epoch=1):\n",
    "    ax = contour_plot(X_scaled, y)\n",
    "    for i in range(epoch):\n",
    "        theta0 = hist_scaled[\"theta0\"][i]\n",
    "        theta1 = hist_scaled[\"theta1\"][i]\n",
    "        ax.plot(theta0, theta1, \"ro\", linewidth=9)\n",
    "        if i == 0: \n",
    "            continue\n",
    "            \n",
    "        theta0_prev = hist_scaled[\"theta0\"][i-1]\n",
    "        theta1_prev = hist_scaled[\"theta1\"][i-1]\n",
    "        \n",
    "        ax.annotate('', xy=[theta0, theta1], xytext=[theta0_prev, theta1_prev],\n",
    "                   arrowprops={'arrowstyle': '->', 'color': 'r', 'lw': 1},\n",
    "                   va='center', ha='center')\n",
    "    plt.show()"
   ]
  },
  {
   "cell_type": "markdown",
   "metadata": {},
   "source": [
    "The contours are not as narrow as before. \n",
    "\n",
    "<span style=\"color:red\">\n",
    "    Make sure that you never forget to scale your data before applying the gradient descent algorithm!</span>"
   ]
  },
  {
   "cell_type": "markdown",
   "metadata": {},
   "source": [
    "## Part 2 - House prices data set\n",
    "Now that we have tested our functions with our toy datset, let's move to a the house price dataset."
   ]
  },
  {
   "cell_type": "code",
   "execution_count": 23,
   "metadata": {
    "scrolled": true
   },
   "outputs": [
    {
     "data": {
      "text/html": [
       "<div>\n",
       "<style scoped>\n",
       "    .dataframe tbody tr th:only-of-type {\n",
       "        vertical-align: middle;\n",
       "    }\n",
       "\n",
       "    .dataframe tbody tr th {\n",
       "        vertical-align: top;\n",
       "    }\n",
       "\n",
       "    .dataframe thead th {\n",
       "        text-align: right;\n",
       "    }\n",
       "</style>\n",
       "<table border=\"1\" class=\"dataframe\">\n",
       "  <thead>\n",
       "    <tr style=\"text-align: right;\">\n",
       "      <th></th>\n",
       "      <th>Size</th>\n",
       "      <th>Bedrooms</th>\n",
       "      <th>Price</th>\n",
       "    </tr>\n",
       "  </thead>\n",
       "  <tbody>\n",
       "    <tr>\n",
       "      <th>0</th>\n",
       "      <td>2104</td>\n",
       "      <td>3</td>\n",
       "      <td>399900</td>\n",
       "    </tr>\n",
       "    <tr>\n",
       "      <th>1</th>\n",
       "      <td>1600</td>\n",
       "      <td>3</td>\n",
       "      <td>329900</td>\n",
       "    </tr>\n",
       "    <tr>\n",
       "      <th>2</th>\n",
       "      <td>2400</td>\n",
       "      <td>3</td>\n",
       "      <td>369000</td>\n",
       "    </tr>\n",
       "    <tr>\n",
       "      <th>3</th>\n",
       "      <td>1416</td>\n",
       "      <td>2</td>\n",
       "      <td>232000</td>\n",
       "    </tr>\n",
       "    <tr>\n",
       "      <th>4</th>\n",
       "      <td>3000</td>\n",
       "      <td>4</td>\n",
       "      <td>539900</td>\n",
       "    </tr>\n",
       "  </tbody>\n",
       "</table>\n",
       "</div>"
      ],
      "text/plain": [
       "   Size  Bedrooms   Price\n",
       "0  2104         3  399900\n",
       "1  1600         3  329900\n",
       "2  2400         3  369000\n",
       "3  1416         2  232000\n",
       "4  3000         4  539900"
      ]
     },
     "execution_count": 23,
     "metadata": {},
     "output_type": "execute_result"
    }
   ],
   "source": [
    "df_house = pd.read_csv('house_prices.csv')\n",
    "df_house.head()"
   ]
  },
  {
   "cell_type": "markdown",
   "metadata": {},
   "source": [
    "We want to predict the price of a house based on its size."
   ]
  },
  {
   "cell_type": "markdown",
   "metadata": {},
   "source": [
    "Let's split the feature from the target variable."
   ]
  },
  {
   "cell_type": "code",
   "execution_count": 24,
   "metadata": {},
   "outputs": [],
   "source": [
    "X_house = df_house[[\"Size\"]].values\n",
    "y_house = df_house.Price.values"
   ]
  },
  {
   "cell_type": "markdown",
   "metadata": {},
   "source": [
    "Next, we further split the data into a training and test set."
   ]
  },
  {
   "cell_type": "code",
   "execution_count": 25,
   "metadata": {},
   "outputs": [],
   "source": [
    "split = train_test_split(X_house, y_house, test_size=0.2, random_state=42)\n",
    "(X_train_house, X_test_house, y_train_house, y_test_house) = split\n",
    "X_train_house = X_train_house.reshape(-1)\n",
    "X_test_house = X_test_house.reshape(-1)"
   ]
  },
  {
   "cell_type": "markdown",
   "metadata": {},
   "source": [
    "Here we visualize our training data in a scatter plot."
   ]
  },
  {
   "cell_type": "code",
   "execution_count": 26,
   "metadata": {},
   "outputs": [
    {
     "data": {
      "text/plain": [
       "<AxesSubplot:>"
      ]
     },
     "execution_count": 26,
     "metadata": {},
     "output_type": "execute_result"
    },
    {
     "data": {
      "image/png": "[encoded data removed]",
      "text/plain": [
       "<Figure size 640x480 with 1 Axes>"
      ]
     },
     "metadata": {},
     "output_type": "display_data"
    }
   ],
   "source": [
    "sns.scatterplot(X_train_house.reshape(-1), y_train_house)"
   ]
  },
  {
   "cell_type": "markdown",
   "metadata": {},
   "source": [
    "#### Apply Batch Gradient Descent\n",
    "Let's use our implemented `fit` method to apply batch gradient descent to the house price dataset and see what happens."
   ]
  },
  {
   "cell_type": "code",
   "execution_count": 27,
   "metadata": {},
   "outputs": [
    {
     "data": {
      "application/json": {
       "ascii": false,
       "bar_format": null,
       "colour": null,
       "elapsed": 0.00600123405456543,
       "initial": 0,
       "n": 0,
       "ncols": null,
       "nrows": null,
       "postfix": null,
       "prefix": "",
       "rate": null,
       "total": 300,
       "unit": "it",
       "unit_divisor": 1000,
       "unit_scale": false
      },
      "application/vnd.jupyter.widget-view+json": {
       "model_id": "2ba7901836b447b18c014c5d90dec8f4",
       "version_major": 2,
       "version_minor": 0
      },
      "text/plain": [
       "  0%|          | 0/300 [00:00<?, ?it/s]"
      ]
     },
     "metadata": {},
     "output_type": "display_data"
    },
    {
     "name": "stdout",
     "output_type": "stream",
     "text": [
      "3235.6364637602533\n",
      "-139121352.24641234\n",
      "6125812074060.465\n",
      "-2.6973237361475952e+17\n",
      "1.1876883015500776e+22\n",
      "-5.2296410799156654e+26\n",
      "2.3027208223780207e+31\n",
      "-1.0139363495092509e+36\n",
      "4.464574736395795e+40\n",
      "-1.965846040188908e+45\n",
      "8.656033064520322e+49\n",
      "-3.8114331886778356e+54\n",
      "1.6782540967061245e+59\n",
      "-7.38970532522421e+63\n",
      "3.253842484330863e+68\n",
      "-1.432735196719797e+73\n",
      "6.308634034391037e+77\n",
      "-2.7778240857762956e+82\n",
      "1.22313429649811e+87\n",
      "-5.385717241528763e+91\n",
      "Epoch 20 -  cost: 3.221744056148464e+196\n",
      "2.371444434903472e+96\n",
      "-1.0441967997262184e+101\n",
      "4.597817855272068e+105\n",
      "-2.0245157843618545e+110\n",
      "8.914368272398133e+114\n",
      "-3.9251836073477126e+119\n",
      "1.7283407955106182e+124\n",
      "-7.610247581372969e+128\n",
      "3.350951872468102e+133\n",
      "-1.4754945002159397e+138\n",
      "6.496912229789746e+142\n",
      "-2.860726930219945e+147\n",
      "1.259638160380454e+152\n",
      "-5.5464514222777035e+156\n",
      "2.4422190711017234e+161\n",
      "-1.0753603587505344e+166\n",
      "4.735037551935947e+170\n",
      "-2.0849364992674764e+175\n",
      "9.180413372224343e+179\n",
      "-4.042328853398009e+184\n",
      "Epoch 40 -  cost: inf\n",
      "1.7799223081231354e+189\n",
      "-7.83737181672205e+193\n",
      "3.450959444309618e+198\n",
      "-1.5195299348769051e+203\n",
      "6.690809498773848e+207\n",
      "-2.9461039707986317e+212\n",
      "1.2972314647945163e+217\n",
      "-5.7119826385378704e+221\n",
      "2.515105942803059e+226\n",
      "-1.1074539794369025e+231\n",
      "4.876352505468465e+235\n",
      "-2.147160441798147e+240\n",
      "9.454398462073265e+244\n",
      "-4.162970243844328e+249\n",
      "1.833043246553935e+254\n",
      "-8.071274467323908e+258\n",
      "3.5539516947756854e+263\n",
      "-1.564879586233019e+268\n",
      "6.890493539933687e+272\n",
      "-3.0340290487243923e+277\n",
      "Epoch 60 -  cost: inf\n",
      "1.3359467235770798e+282\n",
      "-5.882454055562535e+286\n",
      "2.590168088675853e+291\n",
      "-1.14050541903521e+296\n",
      "5.0218849368716134e+300\n",
      "-inf\n",
      "nan\n",
      "nan\n",
      "nan\n",
      "nan\n",
      "nan\n",
      "nan\n",
      "nan\n",
      "nan\n",
      "nan\n",
      "nan\n",
      "nan\n",
      "nan\n",
      "nan\n",
      "nan\n",
      "Epoch 80 -  cost: nan\n",
      "nan\n",
      "nan\n",
      "nan\n",
      "nan\n",
      "nan\n",
      "nan\n",
      "nan\n",
      "nan\n",
      "nan\n",
      "nan\n",
      "nan\n",
      "nan\n",
      "nan\n",
      "nan\n",
      "nan\n",
      "nan\n",
      "nan\n",
      "nan\n",
      "nan\n",
      "nan\n",
      "Epoch 100 -  cost: nan\n",
      "nan\n",
      "nan\n",
      "nan\n",
      "nan\n",
      "nan\n",
      "nan\n",
      "nan\n",
      "nan\n",
      "nan\n",
      "nan\n",
      "nan\n",
      "nan\n",
      "nan\n",
      "nan\n",
      "nan\n",
      "nan\n",
      "nan\n",
      "nan\n",
      "nan\n",
      "nan\n",
      "Epoch 120 -  cost: nan\n",
      "nan\n",
      "nan\n",
      "nan\n",
      "nan\n",
      "nan\n",
      "nan\n",
      "nan\n",
      "nan\n",
      "nan\n",
      "nan\n",
      "nan\n",
      "nan\n",
      "nan\n",
      "nan\n",
      "nan\n",
      "nan\n",
      "nan\n",
      "nan\n",
      "nan\n",
      "nan\n",
      "Epoch 140 -  cost: nan\n",
      "nan\n",
      "nan\n",
      "nan\n",
      "nan\n",
      "nan\n",
      "nan\n",
      "nan\n",
      "nan\n",
      "nan\n",
      "nan\n",
      "nan\n",
      "nan\n",
      "nan\n",
      "nan\n",
      "nan\n",
      "nan\n",
      "nan\n",
      "nan\n",
      "nan\n",
      "nan\n",
      "Epoch 160 -  cost: nan\n",
      "nan\n",
      "nan\n",
      "nan\n",
      "nan\n",
      "nan\n",
      "nan\n",
      "nan\n",
      "nan\n",
      "nan\n",
      "nan\n",
      "nan\n",
      "nan\n",
      "nan\n",
      "nan\n",
      "nan\n",
      "nan\n",
      "nan\n",
      "nan\n",
      "nan\n",
      "nan\n",
      "Epoch 180 -  cost: nan\n",
      "nan\n",
      "nan\n",
      "nan\n",
      "nan\n",
      "nan\n",
      "nan\n",
      "nan\n",
      "nan\n",
      "nan\n",
      "nan\n",
      "nan\n",
      "nan\n",
      "nan\n",
      "nan\n",
      "nan\n",
      "nan\n",
      "nan\n",
      "nan\n",
      "nan\n",
      "nan\n",
      "Epoch 200 -  cost: nan\n",
      "nan\n",
      "nan\n",
      "nan\n",
      "nan\n",
      "nan\n",
      "nan\n",
      "nan\n",
      "nan\n",
      "nan\n",
      "nan\n",
      "nan\n",
      "nan\n",
      "nan\n",
      "nan\n",
      "nan\n",
      "nan\n",
      "nan\n",
      "nan\n",
      "nan\n",
      "nan\n",
      "Epoch 220 -  cost: nan\n",
      "nan\n",
      "nan\n",
      "nan\n",
      "nan\n",
      "nan\n",
      "nan\n",
      "nan\n",
      "nan\n",
      "nan\n",
      "nan\n",
      "nan\n",
      "nan\n",
      "nan\n",
      "nan\n",
      "nan\n",
      "nan\n",
      "nan\n",
      "nan\n",
      "nan\n",
      "nan\n",
      "Epoch 240 -  cost: nan\n",
      "nan\n",
      "nan\n",
      "nan\n",
      "nan\n",
      "nan\n",
      "nan\n",
      "nan\n",
      "nan\n",
      "nan\n",
      "nan\n",
      "nan\n",
      "nan\n",
      "nan\n",
      "nan\n",
      "nan\n",
      "nan\n",
      "nan\n",
      "nan\n",
      "nan\n",
      "nan\n",
      "Epoch 260 -  cost: nan\n",
      "nan\n",
      "nan\n",
      "nan\n",
      "nan\n",
      "nan\n",
      "nan\n",
      "nan\n",
      "nan\n",
      "nan\n",
      "nan\n",
      "nan\n",
      "nan\n",
      "nan\n",
      "nan\n",
      "nan\n",
      "nan\n",
      "nan\n",
      "nan\n",
      "nan\n",
      "nan\n",
      "Epoch 280 -  cost: nan\n",
      "nan\n",
      "nan\n",
      "nan\n",
      "nan\n",
      "nan\n",
      "nan\n",
      "nan\n",
      "nan\n",
      "nan\n",
      "nan\n",
      "nan\n",
      "nan\n",
      "nan\n",
      "nan\n",
      "nan\n",
      "nan\n",
      "nan\n",
      "nan\n",
      "nan\n",
      "nan\n",
      "Epoch 300 -  cost: nan\n"
     ]
    },
    {
     "name": "stderr",
     "output_type": "stream",
     "text": [
      "C:\\Users\\David\\AppData\\Local\\Temp\\ipykernel_21288\\122263258.py:2: RuntimeWarning: overflow encountered in square\n",
      "  return ((y - y_pred) ** 2).mean() / 2\n",
      "c:\\Users\\David\\Desktop\\HSLU\\sem4\\adml\\venv\\lib\\site-packages\\numpy\\core\\_methods.py:180: RuntimeWarning: overflow encountered in reduce\n",
      "  ret = umr_sum(arr, axis, dtype, out, keepdims, where=where)\n",
      "C:\\Users\\David\\AppData\\Local\\Temp\\ipykernel_21288\\2923567656.py:6: RuntimeWarning: overflow encountered in multiply\n",
      "  grad_theta1 = (epsilon * X).mean()\n",
      "C:\\Users\\David\\AppData\\Local\\Temp\\ipykernel_21288\\2799727121.py:8: RuntimeWarning: invalid value encountered in double_scalars\n",
      "  theta0 = theta0 - alpha * grad_theta0\n",
      "C:\\Users\\David\\AppData\\Local\\Temp\\ipykernel_21288\\2799727121.py:9: RuntimeWarning: invalid value encountered in double_scalars\n",
      "  theta1 = theta1 - alpha * grad_theta1\n"
     ]
    },
    {
     "data": {
      "image/png": "[encoded data removed]",
      "text/plain": [
       "<Figure size 640x480 with 1 Axes>"
      ]
     },
     "metadata": {},
     "output_type": "display_data"
    }
   ],
   "source": [
    "alpha = 0.01\n",
    "num_epochs = 300\n",
    "\n",
    "theta0, theta1, hist_house = fit(X_train_house, y_train_house, alpha, num_epochs, display_every=20)\n",
    "plot_validation_curve(hist_house[\"cost\"])"
   ]
  },
  {
   "cell_type": "markdown",
   "metadata": {},
   "source": [
    "It seems like our gradient descent algorithm does not converge! \n",
    "\n",
    "> Why did that happen?"
   ]
  },
  {
   "cell_type": "markdown",
   "metadata": {},
   "source": [
    "### Scaling the data\n",
    "Let's try it again but this time we will scale the data accordingly."
   ]
  },
  {
   "cell_type": "code",
   "execution_count": 28,
   "metadata": {},
   "outputs": [],
   "source": [
    "X_house_scaled = df_house[[\"Size\"]].values\n",
    "y_house_scaled = df_house.Price.values\n",
    "\n",
    "split = train_test_split(X_house_scaled, y_house_scaled, test_size=0.2, random_state=42)\n",
    "(X_train_house_scaled, X_test_house_scaled, y_train_house_scaled, y_test_house_scaled) = split"
   ]
  },
  {
   "cell_type": "markdown",
   "metadata": {},
   "source": [
    "> z-normalise the training and test data by using the [StandardScaler](https://scikit-learn.org/stable/modules/generated/sklearn.preprocessing.StandardScaler.html)"
   ]
  },
  {
   "cell_type": "code",
   "execution_count": 29,
   "metadata": {
    "solution2": "hidden",
    "solution2_first": true
   },
   "outputs": [],
   "source": [
    "# z-normalise the training and test data.\n",
    "scaler = StandardScaler()\n",
    "X_train_house_scaled = scaler.fit_transform(X_train_house_scaled).reshape(-1)\n",
    "X_test_house_scaled = scaler.transform(X_test_house_scaled)"
   ]
  },
  {
   "cell_type": "markdown",
   "metadata": {},
   "source": [
    "Now we apply the gradient descent algorithm again."
   ]
  },
  {
   "cell_type": "code",
   "execution_count": 30,
   "metadata": {},
   "outputs": [
    {
     "data": {
      "application/json": {
       "ascii": false,
       "bar_format": null,
       "colour": null,
       "elapsed": 0.00500035285949707,
       "initial": 0,
       "n": 0,
       "ncols": null,
       "nrows": null,
       "postfix": null,
       "prefix": "",
       "rate": null,
       "total": 300,
       "unit": "it",
       "unit_divisor": 1000,
       "unit_scale": false
      },
      "application/vnd.jupyter.widget-view+json": {
       "model_id": "954b91c672cb437fb5d4bea6d4083444",
       "version_major": 2,
       "version_minor": 0
      },
      "text/plain": [
       "  0%|          | 0/300 [00:00<?, ?it/s]"
      ]
     },
     "metadata": {},
     "output_type": "display_data"
    },
    {
     "name": "stdout",
     "output_type": "stream",
     "text": [
      "3231.701621621622\n",
      "6431.086227027028\n",
      "9598.47698637838\n",
      "12734.193838136218\n",
      "15838.553521376478\n",
      "18911.869607784334\n",
      "21954.452533328113\n",
      "24966.609629616454\n",
      "27948.64515494191\n",
      "30900.860325014113\n",
      "33823.553343385596\n",
      "36717.01943157336\n",
      "39581.55085887925\n",
      "42417.43697191208\n",
      "45224.96422381458\n",
      "48004.41620319806\n",
      "50756.073662787705\n",
      "53480.21454778145\n",
      "56177.114023925256\n",
      "58847.044505307626\n",
      "Epoch 20 -  cost: 39881955575.34929\n",
      "61490.27568187617\n",
      "64107.07454667903\n",
      "66697.70542283387\n",
      "69262.42999022715\n",
      "71801.5073119465\n",
      "74315.19386044865\n",
      "76803.74354346578\n",
      "79267.40772965274\n",
      "81706.43527397784\n",
      "84121.07254285968\n",
      "86511.5634390527\n",
      "88878.1494262838\n",
      "91221.06955364258\n",
      "93540.56047972778\n",
      "95836.85649655212\n",
      "98110.18955320823\n",
      "100360.78927929777\n",
      "102588.88300812642\n",
      "104794.69579966678\n",
      "106978.45046329174\n",
      "Epoch 40 -  cost: 27198678539.25425\n",
      "109140.36758028044\n",
      "111280.66552609926\n",
      "113399.56049245989\n",
      "115497.2665091569\n",
      "117573.99546568695\n",
      "119629.9571326517\n",
      "121665.3591829468\n",
      "123680.40721273897\n",
      "125675.3047622332\n",
      "127650.25333623249\n",
      "129605.45242449178\n",
      "131541.09952186848\n",
      "133457.39014827143\n",
      "135354.51786841033\n",
      "137232.67431134786\n",
      "139092.049189856\n",
      "140932.83031957908\n",
      "142755.20363800492\n",
      "144559.3532232465\n",
      "146345.46131263566\n",
      "Epoch 60 -  cost: 18713924395.99129\n",
      "148113.70832113092\n",
      "149864.27285954123\n",
      "151597.33175256744\n",
      "153313.06005666338\n",
      "155011.63107771837\n",
      "156693.2163885628\n",
      "158357.9858462988\n",
      "160006.10760945745\n",
      "161637.7481549845\n",
      "163253.07229505628\n",
      "164852.24319372734\n",
      "166435.42238341167\n",
      "168002.76978119917\n",
      "169554.4437050088\n",
      "171090.60088958032\n",
      "172611.39650230613\n",
      "174116.9841589047\n",
      "175607.5159389373\n",
      "177083.14240116952\n",
      "178544.01259877946\n",
      "Epoch 80 -  cost: 13037863495.741299\n",
      "179990.2740944133\n",
      "181422.0729750908\n",
      "182839.5538669615\n",
      "184242.85994991352\n",
      "185632.132972036\n",
      "187007.51326393726\n",
      "188369.13975291952\n",
      "189717.14997701196\n",
      "191051.68009886346\n",
      "192372.86491949644\n",
      "193680.8378919231\n",
      "194975.73113462547\n",
      "196257.67544490084\n",
      "197526.80031207346\n",
      "198783.23393057435\n",
      "200027.10321289024\n",
      "201258.53380238297\n",
      "202477.65008598077\n",
      "203684.5752067426\n",
      "204879.43107629678\n",
      "Epoch 100 -  cost: 9240739053.552448\n",
      "206062.33838715544\n",
      "207233.4166249055\n",
      "208392.78408027807\n",
      "209540.55786109692\n",
      "210676.8539041076\n",
      "211801.78698668812\n",
      "212915.47073844288\n",
      "214018.01765268008\n",
      "215109.5390977749\n",
      "216190.14532841876\n",
      "217259.9454967562\n",
      "218319.04766341025\n",
      "219367.55880839776\n",
      "220405.5848419354\n",
      "221433.23061513767\n",
      "222450.59993060792\n",
      "223457.79555292346\n",
      "224454.91921901584\n",
      "225442.0716484473\n",
      "226419.35255358447\n",
      "Epoch 120 -  cost: 6700570037.95346\n",
      "227386.86064967024\n",
      "228344.69366479517\n",
      "229292.94834976885\n",
      "230231.72048789277\n",
      "231161.10490463546\n",
      "232081.1954772107\n",
      "232992.08514406023\n",
      "233893.86591424124\n",
      "234786.62887672044\n",
      "235670.46420957486\n",
      "236545.46118910072\n",
      "237411.70819883133\n",
      "238269.29273846463\n",
      "239118.3014327016\n",
      "239958.8200399962\n",
      "240790.93346121788\n",
      "241614.72574822733\n",
      "242430.2801123667\n",
      "243237.67893286466\n",
      "244037.00376515763\n",
      "Epoch 140 -  cost: 5001268704.523994\n",
      "244828.33534912768\n",
      "245611.75361725801\n",
      "246387.33770270707\n",
      "247155.1659473016\n",
      "247915.3159094502\n",
      "248667.8643719773\n",
      "249412.88734987917\n",
      "250150.460098002\n",
      "250880.6571186436\n",
      "251603.5521690788\n",
      "252319.2182690096\n",
      "253027.72770794114\n",
      "253729.15205248335\n",
      "254423.56215358013\n",
      "255111.02815366595\n",
      "255791.6194937509\n",
      "256465.40492043502\n",
      "257132.4524928523\n",
      "257792.82958954538\n",
      "258446.60291527153\n",
      "Epoch 160 -  cost: 3864484103.159884\n",
      "259093.83850774044\n",
      "259734.60174428465\n",
      "260368.95734846342\n",
      "260996.9693966004\n",
      "261618.70132425602\n",
      "262234.21593263507\n",
      "262843.5753949303\n",
      "263446.84126260265\n",
      "264044.07447159826\n",
      "264635.3353485039\n",
      "265220.68361664045\n",
      "265800.1784020957\n",
      "266373.8782396963\n",
      "266941.841078921\n",
      "267504.1242897534\n",
      "268060.7846684775\n",
      "268611.87844341435\n",
      "269157.4612806018\n",
      "269697.5882894174\n",
      "270232.3140281448\n",
      "Epoch 180 -  cost: 3104007309.2704034\n",
      "270761.692509485\n",
      "271285.77720601176\n",
      "271804.6210555733\n",
      "272318.2764666392\n",
      "272826.7953235944\n",
      "273330.2289919801\n",
      "273828.6283236819\n",
      "274322.0436620667\n",
      "274810.52484706766\n",
      "275294.1212202186\n",
      "275772.881629638\n",
      "276246.85443496326\n",
      "276716.0875122353\n",
      "277180.62825873453\n",
      "277640.5235977688\n",
      "278095.81998341274\n",
      "278546.56340520026\n",
      "278992.79939276987\n",
      "279434.5730204638\n",
      "279871.92891188076\n",
      "Epoch 200 -  cost: 2595269811.110719\n",
      "280304.9112443836\n",
      "280733.5637535614\n",
      "281157.9297376474\n",
      "281578.0520618926\n",
      "281993.9731628953\n",
      "282405.735052888\n",
      "282813.3793239807\n",
      "283216.94715236255\n",
      "283616.47930246056\n",
      "284012.0161310576\n",
      "284403.5975913686\n",
      "284791.2632370765\n",
      "285175.05222632736\n",
      "285555.0033256857\n",
      "285931.1549140504\n",
      "286303.54498653155\n",
      "286672.2111582878\n",
      "287037.19066832657\n",
      "287398.5203832649\n",
      "287756.2368010539\n",
      "Epoch 220 -  cost: 2254938792.316496\n",
      "288110.376054665\n",
      "288460.97391574\n",
      "288808.0657982042\n",
      "289151.6867618438\n",
      "289491.871515847\n",
      "289828.6544223101\n",
      "290162.06949970865\n",
      "290492.1504263332\n",
      "290818.9305436915\n",
      "291142.4428598762\n",
      "291462.72005289904\n",
      "291779.7944739917\n",
      "292093.69815087336\n",
      "292404.46279098623\n",
      "292712.119784698\n",
      "293016.70020847267\n",
      "293318.23482800956\n",
      "293616.7541013511\n",
      "293912.2881819592\n",
      "294204.8669217612\n",
      "Epoch 240 -  cost: 2027266952.1779146\n",
      "294494.5198741652\n",
      "294781.2762970452\n",
      "295065.16515569633\n",
      "295346.215125761\n",
      "295624.454596125\n",
      "295899.91167178535\n",
      "296172.6141766891\n",
      "296442.58965654386\n",
      "296709.86538160004\n",
      "296974.4683494057\n",
      "297236.42528753326\n",
      "297495.76265627955\n",
      "297752.50665133836\n",
      "298006.6832064466\n",
      "298258.3179960037\n",
      "298507.4364376653\n",
      "298754.06369491026\n",
      "298998.2246795828\n",
      "299239.9440544086\n",
      "299479.2462354861\n",
      "Epoch 260 -  cost: 1874960920.9036126\n",
      "299716.15539475286\n",
      "299950.6954624269\n",
      "300182.8901294243\n",
      "300412.7628497517\n",
      "300640.3368428758\n",
      "300865.63509606867\n",
      "301088.6803667296\n",
      "301309.49518468394\n",
      "301528.10185445874\n",
      "301744.5224575358\n",
      "301958.77885458205\n",
      "302170.89268765785\n",
      "302380.88538240286\n",
      "302588.77815020044\n",
      "302794.59199032007\n",
      "302998.3476920385\n",
      "303200.0658367397\n",
      "303399.76679999393\n",
      "303597.4707536156\n",
      "303793.19766770105\n",
      "Epoch 280 -  cost: 1773072487.321274\n",
      "303986.9673126457\n",
      "304178.79926114087\n",
      "304368.7128901511\n",
      "304556.7273828712\n",
      "304742.8617306641\n",
      "304927.1347349791\n",
      "305109.5650092509\n",
      "305290.17098078\n",
      "305468.9708925938\n",
      "305645.98280528944\n",
      "305821.22459885816\n",
      "305994.71397449117\n",
      "306166.4684563679\n",
      "306336.5053934258\n",
      "306504.84196111315\n",
      "306671.49516312365\n",
      "306836.48183311406\n",
      "306999.8186364045\n",
      "307161.5220716621\n",
      "307321.6084725671\n",
      "Epoch 300 -  cost: 1704912002.7297876\n"
     ]
    },
    {
     "data": {
      "image/png": "[encoded data removed]",
      "text/plain": [
       "<Figure size 640x480 with 1 Axes>"
      ]
     },
     "metadata": {},
     "output_type": "display_data"
    }
   ],
   "source": [
    "alpha = 0.01\n",
    "num_epochs = 300\n",
    "\n",
    "theta0, theta1, hist_house_scaled = fit(X_train_house_scaled, y_train_house_scaled, alpha, \n",
    "                                        num_epochs, display_every=20)\n",
    "plot_validation_curve(hist_house_scaled[\"cost\"])"
   ]
  },
  {
   "cell_type": "markdown",
   "metadata": {},
   "source": [
    "Our validation curve looks much better now. We see that the cost converges after a few epochs."
   ]
  },
  {
   "cell_type": "markdown",
   "metadata": {},
   "source": [
    "Again we can visualize how our regression line looks after each epoch."
   ]
  },
  {
   "cell_type": "code",
   "execution_count": 31,
   "metadata": {},
   "outputs": [
    {
     "data": {
      "application/vnd.jupyter.widget-view+json": {
       "model_id": "5e8790f32a1d4589a41d3217864a7466",
       "version_major": 2,
       "version_minor": 0
      },
      "text/plain": [
       "interactive(children=(IntSlider(value=1, description='epoch', max=300, min=1), Output()), _dom_classes=('widge…"
      ]
     },
     "metadata": {},
     "output_type": "display_data"
    }
   ],
   "source": [
    "@interact(epoch=(1, len(hist_house_scaled[\"theta0\"])))\n",
    "def visualize_learning(epoch=1):\n",
    "    ax = sns.scatterplot(X_train_house_scaled, y_train_house_scaled)\n",
    "    plot_regression_line(X_train_house_scaled, \n",
    "                         hist_house_scaled[\"theta0\"][epoch-1], \n",
    "                         hist_house_scaled[\"theta1\"][epoch-1], ax)\n",
    "    plt.show()"
   ]
  },
  {
   "cell_type": "markdown",
   "metadata": {},
   "source": [
    "### Calculate metrics on the test set\n",
    "> Now calculate the $R^2$ score on the test set by using the previously implemented `predict` function."
   ]
  },
  {
   "cell_type": "code",
   "execution_count": 32,
   "metadata": {
    "solution2": "hidden",
    "solution2_first": true
   },
   "outputs": [
    {
     "data": {
      "text/plain": [
       "0.40650916561493833"
      ]
     },
     "execution_count": 32,
     "metadata": {},
     "output_type": "execute_result"
    }
   ],
   "source": [
    "y_pred_house_scaled = predict(X_test_house_scaled, theta0, theta1)\n",
    "r2_score(y_test_house_scaled, y_pred_house_scaled)"
   ]
  },
  {
   "cell_type": "markdown",
   "metadata": {},
   "source": [
    "## Part 3 -  Autoscout data set\n",
    "We extend our code for multiple linear regression. We will use the autoscout dataset from the previous exercises. First we apply the data cleaning and then z-Normalise our data."
   ]
  },
  {
   "cell_type": "code",
   "execution_count": 33,
   "metadata": {},
   "outputs": [],
   "source": [
    "df_autoscout = pd.read_csv('cars.csv')\n",
    "df_autoscout.drop(['Name', 'Registration'], axis='columns', inplace=True)\n",
    "df_autoscout.drop([17010, 7734, 47002, 44369, 24720, 50574, 36542, 42611,\n",
    "         22513, 12773, 21501, 2424, 52910, 29735, 43004, 47125], axis='rows', inplace=True)\n",
    "df_autoscout.drop(df_autoscout.index[df_autoscout.EngineSize > 7500], axis='rows', inplace=True)\n",
    "df_autoscout.drop_duplicates(inplace=True)\n",
    "df_autoscout.head()\n",
    "\n",
    "numerical_cols = ['Price', 'Mileage', 'Horsepower', 'EngineSize']\n",
    "\n",
    "df_autoscout = pd.get_dummies(df_autoscout)\n",
    "\n",
    "train_autoscout, test_autoscout = train_test_split(df_autoscout, test_size=0.4, random_state=42)\n",
    "\n",
    "q3 = train_autoscout.loc[:, numerical_cols].describe().loc['75%']\n",
    "iqr = q3 - df_autoscout.loc[:, numerical_cols].describe().loc['25%']\n",
    "upper_boundary = q3 + 1.5*iqr\n",
    "upper_boundary\n",
    "\n",
    "# And here the outliers are removed\n",
    "train_autoscout = train_autoscout[(train_autoscout.Price <= upper_boundary.Price) &\n",
    "        (train_autoscout.Mileage <= upper_boundary.Mileage) &\n",
    "        (train_autoscout.Horsepower <= upper_boundary.Horsepower) &\n",
    "        (train_autoscout.EngineSize <= upper_boundary.EngineSize)]\n",
    "\n",
    "test_autoscout = test_autoscout[(test_autoscout.Price <= upper_boundary.Price) &\n",
    "        (test_autoscout.Mileage <= upper_boundary.Mileage) &\n",
    "        (test_autoscout.Horsepower <= upper_boundary.Horsepower) &\n",
    "        (test_autoscout.EngineSize <= upper_boundary.EngineSize)]\n",
    "\n",
    "X_train_autoscout = train_autoscout.drop(columns=[\"Price\"]).values\n",
    "X_test_autoscout = test_autoscout.drop(columns=[\"Price\"]).values\n",
    "\n",
    "y_train_autoscout = train_autoscout.Price.values\n",
    "y_test_autoscout = test_autoscout.Price.values\n",
    "\n",
    "# z-Normalise the data\n",
    "scaler = StandardScaler()\n",
    "X_train_autoscout = scaler.fit_transform(X_train_autoscout)\n",
    "X_test_autoscout = scaler.transform(X_test_autoscout)"
   ]
  },
  {
   "cell_type": "markdown",
   "metadata": {},
   "source": [
    "We modify our predict function that instead of providing $\\theta_0$ and $\\theta_1$ we now provide the bias ($\\theta_0$) and the other parameters $\\Theta$ as an array. \n",
    "> Implement the `predict` function"
   ]
  },
  {
   "cell_type": "code",
   "execution_count": 34,
   "metadata": {
    "solution2": "hidden",
    "solution2_first": true
   },
   "outputs": [],
   "source": [
    "def predict(X, bias, thetas):\n",
    "    y_pred = bias + np.dot(X, thetas)\n",
    "    return y_pred"
   ]
  },
  {
   "cell_type": "markdown",
   "metadata": {},
   "source": [
    "> Implement the `gradient` function"
   ]
  },
  {
   "cell_type": "code",
   "execution_count": 35,
   "metadata": {
    "solution2": "hidden",
    "solution2_first": true
   },
   "outputs": [],
   "source": [
    "def gradient(X, y, bias, thetas):\n",
    "    y_pred = predict(X, bias, thetas)\n",
    "    epsilon = y_pred - y\n",
    "    \n",
    "    n = len(X)\n",
    "    grad_bias = epsilon.mean()\n",
    "    grad_thetas = np.dot(epsilon, X) / n\n",
    "    \n",
    "    return grad_bias, grad_thetas"
   ]
  },
  {
   "cell_type": "code",
   "execution_count": null,
   "metadata": {},
   "outputs": [],
   "source": [
    "def gradient2(X, y, bias, thetas):\n",
    "    y_pred = predict(X, bias, thetas)\n",
    "    epsilon = y_pred - y\n",
    "    \n",
    "    n = len(X)\n",
    "    grad_bias = epsilon.mean()\n",
    "    grad_thetas = np.dot(epsilon, X) / n\n",
    "    \n",
    "    return grad_bias, grad_thetas"
   ]
  },
  {
   "cell_type": "markdown",
   "metadata": {},
   "source": [
    "We extend our `fit` function by tracking not only the cost but also the $R^2$ score."
   ]
  },
  {
   "cell_type": "code",
   "execution_count": 36,
   "metadata": {},
   "outputs": [],
   "source": [
    "def fit(X_train, y_train, alpha, num_epochs, display_every=50):\n",
    "    bias = 0.0\n",
    "    thetas = np.random.randn(*(1, X_train.shape[1])).reshape(-1)\n",
    "    \n",
    "    hist = defaultdict(list)\n",
    "    for epoch in tqdm(range(1, num_epochs+1)):\n",
    "        grad_bias, grad_thetas = gradient(X_train, y_train, bias, thetas)\n",
    "        bias = bias - alpha * grad_bias\n",
    "        thetas = thetas - alpha * grad_thetas\n",
    "        \n",
    "        y_pred_train = predict(X_train, bias, thetas)\n",
    "        train_cost = cost(y_train, y_pred_train)\n",
    "        train_r2 = r2_score(y_train, y_pred_train)\n",
    "        \n",
    "        hist[\"train_cost\"].append(train_cost)\n",
    "        hist[\"train_r2\"].append(train_r2)\n",
    "        \n",
    "        if epoch % display_every == 0:\n",
    "            print(\"Epoch {0} - cost: {1:.2} - r2: {2:.4}\"\n",
    "                  .format(epoch, train_cost, train_r2))\n",
    "        \n",
    "    return bias, thetas, hist"
   ]
  },
  {
   "cell_type": "code",
   "execution_count": 37,
   "metadata": {},
   "outputs": [
    {
     "data": {
      "application/json": {
       "ascii": false,
       "bar_format": null,
       "colour": null,
       "elapsed": 0.004998445510864258,
       "initial": 0,
       "n": 0,
       "ncols": null,
       "nrows": null,
       "postfix": null,
       "prefix": "",
       "rate": null,
       "total": 1000,
       "unit": "it",
       "unit_divisor": 1000,
       "unit_scale": false
      },
      "application/vnd.jupyter.widget-view+json": {
       "model_id": "ba0f9645d2ce489792bf0fb0721a8b63",
       "version_major": 2,
       "version_minor": 0
      },
      "text/plain": [
       "  0%|          | 0/1000 [00:00<?, ?it/s]"
      ]
     },
     "metadata": {},
     "output_type": "display_data"
    },
    {
     "name": "stdout",
     "output_type": "stream",
     "text": [
      "Epoch 50 - cost: 1.4e+08 - r2: -0.1979\n",
      "Epoch 100 - cost: 7e+07 - r2: 0.4164\n",
      "Epoch 150 - cost: 4.5e+07 - r2: 0.6264\n",
      "Epoch 200 - cost: 3.6e+07 - r2: 0.7027\n",
      "Epoch 250 - cost: 3.2e+07 - r2: 0.7313\n",
      "Epoch 300 - cost: 3.1e+07 - r2: 0.7423\n",
      "Epoch 350 - cost: 3e+07 - r2: 0.7468\n",
      "Epoch 400 - cost: 3e+07 - r2: 0.7487\n",
      "Epoch 450 - cost: 3e+07 - r2: 0.7496\n",
      "Epoch 500 - cost: 3e+07 - r2: 0.7501\n",
      "Epoch 550 - cost: 3e+07 - r2: 0.7504\n",
      "Epoch 600 - cost: 3e+07 - r2: 0.7506\n",
      "Epoch 650 - cost: 3e+07 - r2: 0.7508\n",
      "Epoch 700 - cost: 3e+07 - r2: 0.7509\n",
      "Epoch 750 - cost: 3e+07 - r2: 0.751\n",
      "Epoch 800 - cost: 3e+07 - r2: 0.7511\n",
      "Epoch 850 - cost: 3e+07 - r2: 0.7511\n",
      "Epoch 900 - cost: 3e+07 - r2: 0.7512\n",
      "Epoch 950 - cost: 3e+07 - r2: 0.7512\n",
      "Epoch 1000 - cost: 3e+07 - r2: 0.7512\n"
     ]
    }
   ],
   "source": [
    "alpha = 0.01\n",
    "num_epochs = 1000\n",
    "bias, thetas, hist_autoscout = fit(X_train_autoscout, y_train_autoscout, alpha, num_epochs)"
   ]
  },
  {
   "cell_type": "code",
   "execution_count": 38,
   "metadata": {},
   "outputs": [
    {
     "data": {
      "image/png": "[encoded data removed]",
      "text/plain": [
       "<Figure size 1600x500 with 2 Axes>"
      ]
     },
     "metadata": {},
     "output_type": "display_data"
    }
   ],
   "source": [
    "def plot_validation_curves(hist, ylim=None):\n",
    "    fig, ax = plt.subplots(ncols=2, figsize=(16,5))\n",
    "\n",
    "    ax[0].set_title(\"Train Cost\")\n",
    "    ax[0].set_ylabel(\"Cost\")\n",
    "    plot_validation_curve(hist[\"train_cost\"], ax[0], ylim)\n",
    "\n",
    "    ax[1].set_title(\"Train R2\")\n",
    "    ax[1].set_ylabel(\"R2\")\n",
    "    ax[1].set_ylim(-1, 1)\n",
    "    plot_validation_curve(hist[\"train_r2\"], ax[1])\n",
    "\n",
    "    plt.tight_layout()\n",
    "\n",
    "plot_validation_curves(hist_autoscout)"
   ]
  },
  {
   "cell_type": "markdown",
   "metadata": {},
   "source": [
    "### Calculate metrics on test set\n",
    "Now we calculate the $R^2$ score on the test set."
   ]
  },
  {
   "cell_type": "code",
   "execution_count": 39,
   "metadata": {},
   "outputs": [
    {
     "name": "stdout",
     "output_type": "stream",
     "text": [
      "R2: 0.7477925036679802\n"
     ]
    }
   ],
   "source": [
    "y_pred_autoscout = predict(X_test_autoscout, bias, thetas)\n",
    "r2 = r2_score(y_test_autoscout, y_pred_autoscout)\n",
    "print(\"R2:\", r2)"
   ]
  },
  {
   "cell_type": "markdown",
   "metadata": {},
   "source": [
    "Compared to the previous exercise where we calculated the estimates for the $\\Theta$ numerically using the normal equation we got almost the same result with the gradient descent algorithm."
   ]
  },
  {
   "cell_type": "markdown",
   "metadata": {},
   "source": [
    "### Minibatch Gradient Descent"
   ]
  },
  {
   "cell_type": "markdown",
   "metadata": {},
   "source": [
    "> Now  modify our `fit` function to use mini batch gradient descent. So instead of calculating the gradient on the whole dataset on each step, only use a subset of the data."
   ]
  },
  {
   "cell_type": "code",
   "execution_count": 40,
   "metadata": {
    "solution2": "hidden",
    "solution2_first": true
   },
   "outputs": [],
   "source": [
    "def fit(X_train, y_train, alpha, num_epochs, batch_size, display_every=50):\n",
    "    bias = 0.0\n",
    "    thetas = np.random.randn(*(1, X_train.shape[1])).reshape(-1)\n",
    "    hist = defaultdict(list)\n",
    "    \n",
    "    indices_train = np.arange(len(X_train))\n",
    "    \n",
    "    num_samples = len(X_train)\n",
    "    steps = int(num_samples / batch_size)\n",
    "    \n",
    "    for epoch in tqdm(range(1, num_epochs + 1)):\n",
    "        # randomize inputs\n",
    "        np.random.shuffle(indices_train)\n",
    "        \n",
    "        X_train_epoch = X_train[indices_train]\n",
    "        y_train_epoch = y_train[indices_train]\n",
    "        \n",
    "        for step in range(steps):\n",
    "            start = step * batch_size\n",
    "            end = step * batch_size + batch_size\n",
    "            \n",
    "            X_train_mini = X_train_epoch[start:end]\n",
    "            y_train_mini = y_train_epoch[start:end]\n",
    "        \n",
    "            grad_bias, grad_thetas = gradient(X_train_mini, y_train_mini, bias, thetas)\n",
    "            bias = bias - alpha * grad_bias\n",
    "            thetas = thetas - alpha * grad_thetas\n",
    "\n",
    "        y_pred_train = predict(X_train, bias, thetas)\n",
    "        \n",
    "        train_cost = cost(y_train, y_pred_train)\n",
    "        train_r2 = r2_score(y_train, y_pred_train)\n",
    "\n",
    "        hist[\"train_cost\"].append(train_cost)\n",
    "        hist[\"train_r2\"].append(train_r2)\n",
    "        \n",
    "        if epoch % display_every == 0 or epoch == num_epochs:\n",
    "            print(\"Epoch {0} - train_cost: {1:.2} - train_r2: {2:.4}\".format(epoch, train_cost, train_r2))\n",
    "        \n",
    "    return bias, thetas, hist"
   ]
  },
  {
   "cell_type": "markdown",
   "metadata": {},
   "source": [
    "Wo have now introduced an additional hyperparameter `batch_size`. \n",
    "* If we set `batch_size` equal to 1, we use Stochastic Gradient Desccent: We update our model parameters $\\Theta$ for each training example. \n",
    "* If we set `batch_size` equal to to the number of training samples we have again Batch Gradient Descent: We use all training samples to update the model parameters $\\Theta$."
   ]
  },
  {
   "cell_type": "markdown",
   "metadata": {},
   "source": [
    "#### Batch Gradient Descent\n",
    "We run batch gradient descent and see what happens"
   ]
  },
  {
   "cell_type": "code",
   "execution_count": 41,
   "metadata": {},
   "outputs": [
    {
     "data": {
      "application/json": {
       "ascii": false,
       "bar_format": null,
       "colour": null,
       "elapsed": 0.005085945129394531,
       "initial": 0,
       "n": 0,
       "ncols": null,
       "nrows": null,
       "postfix": null,
       "prefix": "",
       "rate": null,
       "total": 50,
       "unit": "it",
       "unit_divisor": 1000,
       "unit_scale": false
      },
      "application/vnd.jupyter.widget-view+json": {
       "model_id": "ab1a308cb0a8476aac596bd9d4970edc",
       "version_major": 2,
       "version_minor": 0
      },
      "text/plain": [
       "  0%|          | 0/50 [00:00<?, ?it/s]"
      ]
     },
     "metadata": {},
     "output_type": "display_data"
    },
    {
     "name": "stdout",
     "output_type": "stream",
     "text": [
      "Epoch 50 - train_cost: 1.4e+08 - train_r2: -0.1979\n"
     ]
    },
    {
     "data": {
      "image/png": "[encoded data removed]",
      "text/plain": [
       "<Figure size 1600x500 with 2 Axes>"
      ]
     },
     "metadata": {},
     "output_type": "display_data"
    }
   ],
   "source": [
    "alpha = 1e-2\n",
    "num_epochs = 50\n",
    "batch_size = len(X_train_autoscout)\n",
    "\n",
    "bias, thetas, hist_autoscout_batch = fit(X_train_autoscout, y_train_autoscout, alpha, num_epochs, batch_size)\n",
    "plot_validation_curves(hist_autoscout_batch)"
   ]
  },
  {
   "cell_type": "markdown",
   "metadata": {},
   "source": [
    "We can notice the following:\n",
    "* The training did not converge after those 50 epochs. We would need more epochs.\n",
    "* The training cost is strictly decreasing as we take all training samples per step"
   ]
  },
  {
   "cell_type": "markdown",
   "metadata": {},
   "source": [
    "#### Minibatch Gradient Descnet\n",
    "Let's compare it to minibatch gradient descent with a `batch_size` of 100."
   ]
  },
  {
   "cell_type": "code",
   "execution_count": 42,
   "metadata": {},
   "outputs": [
    {
     "data": {
      "application/json": {
       "ascii": false,
       "bar_format": null,
       "colour": null,
       "elapsed": 0.0060002803802490234,
       "initial": 0,
       "n": 0,
       "ncols": null,
       "nrows": null,
       "postfix": null,
       "prefix": "",
       "rate": null,
       "total": 50,
       "unit": "it",
       "unit_divisor": 1000,
       "unit_scale": false
      },
      "application/vnd.jupyter.widget-view+json": {
       "model_id": "412dd152ec9545b08e7710e4ff2794b2",
       "version_major": 2,
       "version_minor": 0
      },
      "text/plain": [
       "  0%|          | 0/50 [00:00<?, ?it/s]"
      ]
     },
     "metadata": {},
     "output_type": "display_data"
    },
    {
     "name": "stdout",
     "output_type": "stream",
     "text": [
      "Epoch 50 - train_cost: 3e+07 - train_r2: 0.7512\n"
     ]
    },
    {
     "data": {
      "image/png": "[encoded data removed]",
      "text/plain": [
       "<Figure size 1600x500 with 2 Axes>"
      ]
     },
     "metadata": {},
     "output_type": "display_data"
    }
   ],
   "source": [
    "alpha = 1e-2\n",
    "num_epochs = 50\n",
    "batch_size = 100\n",
    "\n",
    "bias, thetas, hist_autoscout_minibatch = fit(X_train_autoscout, y_train_autoscout, alpha, num_epochs, batch_size)\n",
    "plot_validation_curves(hist_autoscout_minibatch)"
   ]
  },
  {
   "cell_type": "markdown",
   "metadata": {},
   "source": [
    "* As we are taking only a subset of our data when applying gradient descent, the training cost are not stricly decreasing anymore. \n",
    "* We do not need as many epochs as before as we are doing much more updates now."
   ]
  },
  {
   "cell_type": "markdown",
   "metadata": {},
   "source": [
    "### Calculate the performance on the test set"
   ]
  },
  {
   "cell_type": "code",
   "execution_count": 43,
   "metadata": {},
   "outputs": [
    {
     "name": "stdout",
     "output_type": "stream",
     "text": [
      "R2: 0.7477789711129972\n"
     ]
    }
   ],
   "source": [
    "y_pred_autoscout = predict(X_test_autoscout, bias, thetas)\n",
    "r2 = r2_score(y_test_autoscout, y_pred_autoscout)\n",
    "print(\"R2:\", r2)"
   ]
  }
 ],
 "metadata": {
  "kernelspec": {
   "display_name": "Python 3 (ipykernel)",
   "language": "python",
   "name": "python3"
  },
  "language_info": {
   "codemirror_mode": {
    "name": "ipython",
    "version": 3
   },
   "file_extension": ".py",
   "mimetype": "text/x-python",
   "name": "python",
   "nbconvert_exporter": "python",
   "pygments_lexer": "ipython3",
   "version": "3.9.13"
  }
 },
 "nbformat": 4,
 "nbformat_minor": 4
}
