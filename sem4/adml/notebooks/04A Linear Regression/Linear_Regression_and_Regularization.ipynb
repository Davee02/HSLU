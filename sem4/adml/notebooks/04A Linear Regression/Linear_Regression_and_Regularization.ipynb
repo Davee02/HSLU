{
 "cells": [
  {
   "cell_type": "markdown",
   "metadata": {},
   "source": [
    "# Linear Regression and Regularization"
   ]
  },
  {
   "cell_type": "code",
   "execution_count": null,
   "metadata": {},
   "outputs": [],
   "source": [
    "import pandas as pd\n",
    "from sklearn.model_selection import train_test_split\n",
    "import numpy as np\n",
    "from matplotlib import pyplot as plt\n",
    "from sklearn import preprocessing\n",
    "from sklearn.metrics import r2_score\n",
    "from sklearn.metrics import accuracy_score\n",
    "from sklearn.metrics import f1_score\n",
    "from sklearn.linear_model import LogisticRegression\n",
    "from sklearn.model_selection import GridSearchCV\n",
    "from sklearn.preprocessing import MinMaxScaler\n",
    "from sklearn.preprocessing import PolynomialFeatures\n",
    "from sklearn.preprocessing import RobustScaler\n",
    "\n",
    "import sklearn\n",
    "%matplotlib inline\n",
    "\n",
    "import ipywidgets as widgets\n",
    "from tqdm.notebook import tqdm\n",
    "\n",
    "import warnings\n",
    "# silence future deprecation warnings\n",
    "warnings.filterwarnings('ignore')"
   ]
  },
  {
   "cell_type": "markdown",
   "metadata": {},
   "source": [
    "## Prepare the data"
   ]
  },
  {
   "cell_type": "markdown",
   "metadata": {},
   "source": [
    "Although linear regression is a linear machine learning method, you can have nonlinear dependencies if you transform some of the independent variables by a nonlinear function. By doing this, you can improve the fit of your method. Let us demonstrate this on a house price dataset from [Kaggle](https://www.kaggle.com/harlfoxem/housesalesprediction). Note that this dataset is not identical with one you used in the linear regression exercise, since the this dataset is too small and would cause unreliable evaluation results."
   ]
  },
  {
   "cell_type": "code",
   "execution_count": null,
   "metadata": {},
   "outputs": [],
   "source": [
    "df_house = pd.read_csv(\"kc_house_data.csv\")\n",
    "df_house.head()"
   ]
  },
  {
   "cell_type": "markdown",
   "metadata": {},
   "source": [
    "We would like to have a simple linear regression problem with only one independent variable. Thus, we only keep *price* and *sqft_living*."
   ]
  },
  {
   "cell_type": "code",
   "execution_count": null,
   "metadata": {},
   "outputs": [],
   "source": [
    "df_house = df_house[[\"price\",\"sqft_living\"]]\n",
    "df_house.head()"
   ]
  },
  {
   "cell_type": "markdown",
   "metadata": {},
   "source": [
    "### Split the data"
   ]
  },
  {
   "cell_type": "markdown",
   "metadata": {},
   "source": [
    "We split the data into a training and test set"
   ]
  },
  {
   "cell_type": "code",
   "execution_count": null,
   "metadata": {},
   "outputs": [],
   "source": [
    "train_house, test_house = train_test_split(df_house, test_size=0.5, random_state=42)"
   ]
  },
  {
   "cell_type": "markdown",
   "metadata": {},
   "source": [
    "### Normalize the data\n",
    "Let us normalize the data by using *min-max normalization*"
   ]
  },
  {
   "cell_type": "code",
   "execution_count": null,
   "metadata": {},
   "outputs": [],
   "source": [
    "scaler = MinMaxScaler()\n",
    "\n",
    "train_house = pd.DataFrame(scaler.fit_transform(train_house), columns=train_house.columns, index=train_house.index)\n",
    "test_house = pd.DataFrame(scaler.transform(test_house), columns=test_house.columns, index=test_house.index)\n",
    "\n",
    "train_house.head()"
   ]
  },
  {
   "cell_type": "code",
   "execution_count": null,
   "metadata": {},
   "outputs": [],
   "source": [
    "X_train_house = train_house[[\"sqft_living\"]]\n",
    "y_train_house = train_house[[\"price\"]]\n",
    "\n",
    "X_test_house = test_house[[\"sqft_living\"]]\n",
    "y_test_house = test_house[[\"price\"]]"
   ]
  },
  {
   "cell_type": "markdown",
   "metadata": {},
   "source": [
    "## Bias term\n",
    "To account for the bias term, we add a column containing only ones."
   ]
  },
  {
   "cell_type": "code",
   "execution_count": null,
   "metadata": {},
   "outputs": [],
   "source": [
    "X_train_house[\"bias\"] = 1\n",
    "X_test_house[\"bias\"] = 1\n",
    "\n",
    "# Force order\n",
    "X_train_house = X_train_house[[\"bias\", \"sqft_living\"]]\n",
    "X_test_house = X_test_house[[\"bias\", \"sqft_living\"]]\n",
    "\n",
    "X_train_house.head()"
   ]
  },
  {
   "cell_type": "markdown",
   "metadata": {},
   "source": [
    "## Fit a linear regression model\n",
    "Define a linear regression function to estimate the parameters $\\theta$ based on the normal equation:\n",
    "  \n",
    "  $\\Theta:=(X^{\\top}X)^{-1}(X^{\\top}y)$"
   ]
  },
  {
   "cell_type": "code",
   "execution_count": null,
   "metadata": {
    "solution2": "hidden",
    "solution2_first": true
   },
   "outputs": [],
   "source": [
    "def fit(X, y):\n",
    "    # START YOUR CODE\n",
    "    \n",
    "    # END YOUR CODE\n",
    "    return thetas"
   ]
  },
  {
   "cell_type": "markdown",
   "metadata": {},
   "source": [
    "*Click on the dots to display the solution*"
   ]
  },
  {
   "cell_type": "code",
   "execution_count": null,
   "metadata": {
    "jupyter": {
     "source_hidden": true
    },
    "solution2": "hidden",
    "tags": []
   },
   "outputs": [],
   "source": [
    "def fit(X, y):\n",
    "    thetas = np.linalg.inv(X.T.dot(X)).dot(X.T).dot(y)\n",
    "    return thetas"
   ]
  },
  {
   "cell_type": "markdown",
   "metadata": {},
   "source": [
    "Run the following code to check your implementation:"
   ]
  },
  {
   "cell_type": "code",
   "execution_count": null,
   "metadata": {},
   "outputs": [],
   "source": [
    "thetas = fit(X_train_house, y_train_house)\n",
    "\n",
    "expected_thetas = np.array([[7.39560812e-05], [4.94185750e-01]])\n",
    "np.testing.assert_array_almost_equal(thetas, expected_thetas, decimal=4)"
   ]
  },
  {
   "cell_type": "markdown",
   "metadata": {},
   "source": [
    "## Predict prices\n",
    "Using $X$ and the estimated $\\theta$, predict the house prices on the training data"
   ]
  },
  {
   "cell_type": "code",
   "execution_count": null,
   "metadata": {
    "solution2": "hidden",
    "solution2_first": true
   },
   "outputs": [],
   "source": [
    "def predict(X, thetas):\n",
    "    # START YOUR CODE\n",
    "    \n",
    "    # END YOUR CODE\n",
    "    return y_pred"
   ]
  },
  {
   "cell_type": "markdown",
   "metadata": {},
   "source": [
    "*Click on the dots to display the solution*"
   ]
  },
  {
   "cell_type": "code",
   "execution_count": null,
   "metadata": {
    "jupyter": {
     "source_hidden": true
    },
    "solution2": "hidden",
    "tags": []
   },
   "outputs": [],
   "source": [
    "def predict(X, thetas):\n",
    "    y_pred = np.dot(X, thetas)\n",
    "    return y_pred"
   ]
  },
  {
   "cell_type": "code",
   "execution_count": null,
   "metadata": {},
   "outputs": [],
   "source": [
    "y_pred_house = predict(X_train_house, thetas)\n",
    "y_pred_house"
   ]
  },
  {
   "cell_type": "markdown",
   "metadata": {},
   "source": [
    "## Visualize predictions\n",
    "Let us plot house prices and predicted house prices"
   ]
  },
  {
   "cell_type": "code",
   "execution_count": null,
   "metadata": {},
   "outputs": [],
   "source": [
    "def plot_regression_line(X, thetas, ax=None):\n",
    "    if ax is None:\n",
    "        fig, ax = plt.subplots()\n",
    "    deg = len(thetas)-1\n",
    "    poly = PolynomialFeatures(deg)\n",
    "    \n",
    "    xs = np.arange(X.min(), X.max()+0.1, 0.01).reshape(-1,1)\n",
    "    x = poly.fit_transform(xs)\n",
    "    y_pred = np.dot(x, thetas)\n",
    "    \n",
    "    ax.plot(xs, y_pred, color=\"r\")"
   ]
  },
  {
   "cell_type": "code",
   "execution_count": null,
   "metadata": {},
   "outputs": [],
   "source": [
    "fig, ax = plt.subplots()\n",
    "ax.plot(X_train_house[\"sqft_living\"].values, y_train_house.values, \"bo\", markersize=1)\n",
    "plot_regression_line(X_train_house[\"sqft_living\"].values, thetas, ax)"
   ]
  },
  {
   "cell_type": "markdown",
   "metadata": {},
   "source": [
    "## Calculate model performance\n",
    "Now let's check how good our model performs by calculating the $R^2$ score on the test set."
   ]
  },
  {
   "cell_type": "code",
   "execution_count": null,
   "metadata": {
    "solution2": "hidden",
    "solution2_first": true,
    "tags": []
   },
   "outputs": [],
   "source": [
    "# r2 = ..."
   ]
  },
  {
   "cell_type": "markdown",
   "metadata": {},
   "source": [
    "*Click on the dots to display the solution*"
   ]
  },
  {
   "cell_type": "code",
   "execution_count": null,
   "metadata": {
    "jupyter": {
     "source_hidden": true
    },
    "solution2": "hidden",
    "tags": []
   },
   "outputs": [],
   "source": [
    "y_pred_test_house = predict(X_test_house, thetas)\n",
    "r2_house = r2_score(y_test_house, y_pred_test_house)\n",
    "print(\"R2: \", r2_house)"
   ]
  },
  {
   "cell_type": "markdown",
   "metadata": {},
   "source": [
    "## Adding polynomial features"
   ]
  },
  {
   "cell_type": "markdown",
   "metadata": {},
   "source": [
    "We aim to improve the fit by adding $x^2$ as additional independent variable."
   ]
  },
  {
   "cell_type": "code",
   "execution_count": null,
   "metadata": {},
   "outputs": [],
   "source": [
    "X_train_deg2 = X_train_house.copy()\n",
    "X_train_deg2[\"sqft_living^2\"] = X_train_deg2[\"sqft_living\"] * X_train_deg2[\"sqft_living\"]\n",
    "\n",
    "X_test_deg2 = X_test_house.copy()\n",
    "X_test_deg2[\"sqft_living^2\"] = X_test_deg2[\"sqft_living\"] * X_test_deg2[\"sqft_living\"]\n",
    "X_test_deg2.head()"
   ]
  },
  {
   "cell_type": "markdown",
   "metadata": {},
   "source": [
    "### Fit the model with the additonal features"
   ]
  },
  {
   "cell_type": "code",
   "execution_count": null,
   "metadata": {},
   "outputs": [],
   "source": [
    "thetas_deg2 = fit(X_train_deg2, y_train_house)"
   ]
  },
  {
   "cell_type": "markdown",
   "metadata": {},
   "source": [
    "### Calculate the performance"
   ]
  },
  {
   "cell_type": "code",
   "execution_count": null,
   "metadata": {
    "solution2": "hidden",
    "solution2_first": true
   },
   "outputs": [],
   "source": [
    "# r2 = "
   ]
  },
  {
   "cell_type": "markdown",
   "metadata": {},
   "source": [
    "*Click on the dots to display the solution*"
   ]
  },
  {
   "cell_type": "code",
   "execution_count": null,
   "metadata": {
    "jupyter": {
     "source_hidden": true
    },
    "solution2": "hidden",
    "tags": []
   },
   "outputs": [],
   "source": [
    "y_pred_test_deg2 = predict(X_test_deg2, thetas_deg2)\n",
    "r2_deg2 = r2_score(y_test_house, y_pred_test_deg2)\n",
    "print(\"R2: \", r2_deg2)"
   ]
  },
  {
   "cell_type": "markdown",
   "metadata": {},
   "source": [
    "As we can see, by adding $x^2$ as additional independent variable we could slightly improve our performance."
   ]
  },
  {
   "cell_type": "markdown",
   "metadata": {},
   "source": [
    "Let's try if we can further improve our performance by adding more polynomial features. To generate our polynomial features we will use the Scikit-Learn function [PolynomialFeatures](https://scikit-learn.org/stable/modules/generated/sklearn.preprocessing.PolynomialFeatures.html). "
   ]
  },
  {
   "cell_type": "code",
   "execution_count": null,
   "metadata": {},
   "outputs": [],
   "source": [
    "@widgets.interact(poly_deg =(1,18,1))\n",
    "def f(poly_deg=1):\n",
    "    poly = PolynomialFeatures(poly_deg)\n",
    "    X_train_deg = poly.fit_transform(X_train_house[\"sqft_living\"].values.reshape(-1,1))\n",
    "    X_test_deg = poly.transform(X_test_house[\"sqft_living\"].values.reshape(-1,1))\n",
    "\n",
    "    thetas_deg = fit(X_train_deg, y_train_house)\n",
    "    \n",
    "    y_pred_test = predict(X_test_deg, thetas_deg)\n",
    "    y_pred_train = predict(X_train_deg, thetas_deg)\n",
    "    \n",
    "    r2_test = r2_score(y_test_house, y_pred_test)\n",
    "    r2_train = r2_score(y_train_house, y_pred_train)\n",
    "    print(\"R2 Train {0:.5f}\".format(r2_train))\n",
    "    print(\"R2 Test {0:.5f}\".format(r2_test))\n",
    "    \n",
    "    fig, (ax0, ax1) = plt.subplots(ncols=2, figsize=(20,10))\n",
    "    ax0.set_title(\"Training data - polynomial degree {}\".format(poly_deg))\n",
    "    ax0.plot(X_train_house[\"sqft_living\"], y_train_house[\"price\"], \"bo\", markersize=1)\n",
    "    plot_regression_line(X_train_deg, thetas_deg, ax0)\n",
    "    \n",
    "    ax1.set_title(\"Test data - polynomial degree {}\".format(poly_deg))\n",
    "    ax1.plot(X_test_house[\"sqft_living\"], y_test_house[\"price\"], \"bo\", markersize=1)\n",
    "    plot_regression_line(X_test_deg, thetas_deg, ax1)"
   ]
  },
  {
   "cell_type": "markdown",
   "metadata": {},
   "source": [
    "What do you recognize when you increase the polynomial degree?"
   ]
  },
  {
   "cell_type": "markdown",
   "metadata": {},
   "source": [
    "> Answer the question on ILIAS"
   ]
  },
  {
   "cell_type": "markdown",
   "metadata": {},
   "source": [
    "## Regularization"
   ]
  },
  {
   "cell_type": "markdown",
   "metadata": {},
   "source": [
    "The effect of overfitting can be reduced by regularization. Implement the regularized version of linear regression: $\\Theta:=(X^{\\top}X+\\lambda \\begin{bmatrix}\n",
    "    0  & 0 &\\ldots&0 \\\\\n",
    "    0 & 1 & \\\\\n",
    "    \\ldots & & \\ddots & \\\\\n",
    "    0& & & 1\n",
    "  \\end{bmatrix} )^{-1}(X^{\\top}y)$"
   ]
  },
  {
   "cell_type": "code",
   "execution_count": null,
   "metadata": {
    "solution2": "hidden",
    "solution2_first": true
   },
   "outputs": [],
   "source": [
    "def fit_reg(X, y, lam):\n",
    "    # START YOUR CODE\n",
    "\n",
    "    # END YOUR CODE\n",
    "    return thetas"
   ]
  },
  {
   "cell_type": "markdown",
   "metadata": {},
   "source": [
    "*Click on the dots to display the solution*"
   ]
  },
  {
   "cell_type": "code",
   "execution_count": null,
   "metadata": {
    "jupyter": {
     "source_hidden": true
    },
    "solution2": "hidden",
    "tags": []
   },
   "outputs": [],
   "source": [
    "def fit_reg(X, y, lam):\n",
    "    Xt = np.transpose(X)\n",
    "    XtX = np.dot(Xt,X)\n",
    "    I = np.identity(XtX.shape[0])\n",
    "    I[0,0] = 0\n",
    "    XtX = XtX + (lam * I)\n",
    "    XtXm1 = np.linalg.inv(XtX)\n",
    "    Xty = np.dot(Xt,y)\n",
    "    thetas = np.dot(XtXm1,Xty)\n",
    "    return thetas"
   ]
  },
  {
   "cell_type": "markdown",
   "metadata": {},
   "source": [
    "You can check your implementation by executing the following cell:"
   ]
  },
  {
   "cell_type": "code",
   "execution_count": null,
   "metadata": {},
   "outputs": [],
   "source": [
    "expected_thetas = np.array([[0.00178927], [0.48482755]])\n",
    "actual_thetas = fit_reg(X_train_house, y_train_house, lam=2)\n",
    "\n",
    "np.testing.assert_array_almost_equal(expected_thetas, actual_thetas)"
   ]
  },
  {
   "cell_type": "markdown",
   "metadata": {},
   "source": [
    "We  plot the graph using the regularized parameter vectors. As you can see, the effect of overfitting is strongly reduced."
   ]
  },
  {
   "cell_type": "code",
   "execution_count": null,
   "metadata": {},
   "outputs": [],
   "source": [
    "@widgets.interact(poly_deg = (0,12,1), lam=(0,100,1))\n",
    "def f(poly_deg=1, lam=4):\n",
    "    poly = PolynomialFeatures(poly_deg)\n",
    "    X_train_deg = poly.fit_transform(X_train_house[\"sqft_living\"].values.reshape(-1,1))\n",
    "    X_test_deg = poly.transform(X_test_house[\"sqft_living\"].values.reshape(-1,1))\n",
    "\n",
    "    thetas_deg = fit_reg(X_train_deg, y_train_house, lam=lam)\n",
    "    \n",
    "    y_pred_test = predict(X_test_deg, thetas_deg)\n",
    "    y_pred_train = predict(X_train_deg, thetas_deg)\n",
    "    \n",
    "    r2_test = r2_score(y_test_house, y_pred_test)\n",
    "    r2_train = r2_score(y_train_house, y_pred_train)\n",
    "    print(\"R2 Train\", r2_train)\n",
    "    print(\"R2 Test\", r2_test)\n",
    "    \n",
    "    fig, (ax0, ax1) = plt.subplots(ncols=2, figsize=(20,10))\n",
    "    ax0.set_title(\"Training data - polynomial degree {}\".format(poly_deg))\n",
    "    ax0.plot(X_train_house[\"sqft_living\"], y_train_house[\"price\"], \"bo\", markersize=1)\n",
    "    plot_regression_line(X_train_deg, thetas_deg, ax0)\n",
    "    \n",
    "    ax0.set_title(\"Test data - polynomial degree {}\".format(poly_deg))\n",
    "    ax1.plot(X_test_house[\"sqft_living\"], y_test_house[\"price\"], \"bo\", markersize=1)\n",
    "    plot_regression_line(X_test_deg, thetas_deg, ax1)"
   ]
  },
  {
   "cell_type": "markdown",
   "metadata": {},
   "source": [
    "Find the best configuration of **polynomial degree** and $\\lambda$"
   ]
  },
  {
   "cell_type": "markdown",
   "metadata": {},
   "source": [
    "<font color='red'>PLEASE REPLACE TEXT WITH YOUR CONFIGURATION</font>"
   ]
  },
  {
   "cell_type": "markdown",
   "metadata": {},
   "source": [
    "## Regularization to help with numerical issues"
   ]
  },
  {
   "cell_type": "markdown",
   "metadata": {},
   "source": [
    "Another benefit of regularization is that it can help in case of numerical issues. Let us consider our original dataset."
   ]
  },
  {
   "cell_type": "code",
   "execution_count": null,
   "metadata": {},
   "outputs": [],
   "source": [
    "df_house_2 = pd.read_csv(\"kc_house_data.csv\")\n",
    "df_house_2 = df_house_2[[\"price\",\"sqft_living\",\"bedrooms\"]]\n",
    "df_house_2.head()"
   ]
  },
  {
   "cell_type": "code",
   "execution_count": null,
   "metadata": {},
   "outputs": [],
   "source": [
    "train_house_2, test_house_2 = train_test_split(df_house_2, test_size=0.5, random_state=42)"
   ]
  },
  {
   "cell_type": "code",
   "execution_count": null,
   "metadata": {},
   "outputs": [],
   "source": [
    "scaler = MinMaxScaler()\n",
    "\n",
    "train_house_2 = pd.DataFrame(scaler.fit_transform(train_house_2), columns=train_house_2.columns, index=train_house_2.index)\n",
    "test_house_2 = pd.DataFrame(scaler.transform(test_house_2), columns=test_house_2.columns, index=test_house_2.index)\n",
    "\n",
    "test_house_2.head()"
   ]
  },
  {
   "cell_type": "markdown",
   "metadata": {},
   "source": [
    "To make the feature matrix $X^{\\top}X$ singular, we just add  another independent variable (Size2) to X\n",
    "that amounts to just twice the Size."
   ]
  },
  {
   "cell_type": "code",
   "execution_count": null,
   "metadata": {},
   "outputs": [],
   "source": [
    "train_house_2[\"sqft_living2\"] = 2 * train_house_2[\"sqft_living\"]\n",
    "train_house_2[\"bias\"] = 1\n",
    "\n",
    "test_house_2[\"sqft_living2\"]= 2 * test_house_2[\"sqft_living\"]\n",
    "test_house_2[\"bias\"] = 1\n",
    "\n",
    "test_house_2.head()"
   ]
  },
  {
   "cell_type": "code",
   "execution_count": null,
   "metadata": {},
   "outputs": [],
   "source": [
    "X_train_house_2 = train_house_2[[\"bias\", \"sqft_living\", \"bedrooms\", \"sqft_living2\"]]\n",
    "y_train_house_2 = train_house_2[[\"price\"]]\n",
    "\n",
    "X_test_house_2 = test_house_2[[\"bias\", \"sqft_living\", \"bedrooms\", \"sqft_living2\"]]\n",
    "y_test_house_2 = test_house_2[[\"price\"]]"
   ]
  },
  {
   "cell_type": "markdown",
   "metadata": {},
   "source": [
    "We see that the linear regression fails, since $X^{\\top}X$ is not invertible."
   ]
  },
  {
   "cell_type": "code",
   "execution_count": null,
   "metadata": {},
   "outputs": [],
   "source": [
    "thetas = fit(X_train_house_2, y_train_house_2)"
   ]
  },
  {
   "cell_type": "markdown",
   "metadata": {},
   "source": [
    "There are two possiblities to tackle this issue, the first one is to use the pseudoinverse instead of the inverse\n",
    "and the second one is using regularization. \n",
    "\n",
    "> Try out both. \n",
    "\n",
    "*Hint*: For conducting linear regression with the pseudoinverse, you have to slightly modify the linear_regression method given further above. \n",
    "The numpy function [np.linalg.pinv](https://docs.scipy.org/doc/numpy/reference/generated/numpy.linalg.inv.html) becomes handy for this."
   ]
  },
  {
   "cell_type": "code",
   "execution_count": null,
   "metadata": {
    "solution2": "hidden",
    "solution2_first": true
   },
   "outputs": [],
   "source": [
    "def fit_pseudoinverse(X,y):\n",
    "    # START YOUR CODE\n",
    "    \n",
    "    # END YOUR CODE\n",
    "    return thetas"
   ]
  },
  {
   "cell_type": "markdown",
   "metadata": {},
   "source": [
    "*Click on the dots to display the solution*"
   ]
  },
  {
   "cell_type": "code",
   "execution_count": null,
   "metadata": {
    "jupyter": {
     "source_hidden": true
    },
    "solution2": "hidden",
    "tags": []
   },
   "outputs": [],
   "source": [
    "def fit_pseudoinverse(X, y):\n",
    "    thetas = np.linalg.pinv(X.T.dot(X)).dot(X.T).dot(y)\n",
    "    return thetas"
   ]
  },
  {
   "cell_type": "markdown",
   "metadata": {},
   "source": [
    "Run this code to check your implementation"
   ]
  },
  {
   "cell_type": "code",
   "execution_count": null,
   "metadata": {
    "code_folding": []
   },
   "outputs": [],
   "source": [
    "thetas_pseudo_inverse = fit_pseudoinverse(X_train_house_2, y_train_house_2)\n",
    "print (\"thetas obtained by linear regression with pseudoinverse:\\n\", thetas_pseudo_inverse)\n",
    "\n",
    "expected_thetas_pseudo_inverse = np.array([\n",
    "    [ 0.02902459],\n",
    "    [ 0.11220321],\n",
    "    [-0.12253607],\n",
    "    [ 0.22440641]])\n",
    "\n",
    "np.testing.assert_array_almost_equal(thetas_pseudo_inverse, expected_thetas_pseudo_inverse, decimal=5)"
   ]
  },
  {
   "cell_type": "code",
   "execution_count": null,
   "metadata": {},
   "outputs": [],
   "source": [
    "thetas_regularization = fit_reg(X_train_house_2, y_train_house_2, lam=1)\n",
    "print (\"thetas obtained by linear regression with regularization:\\n\", thetas_regularization)\n",
    "\n",
    "expected_thetas_regularization = np.array([\n",
    "    [ 0.02846346],\n",
    "    [ 0.11163748],\n",
    "    [-0.11932519],\n",
    "    [ 0.22327497]])\n",
    "\n",
    "np.testing.assert_array_almost_equal(thetas_regularization, expected_thetas_regularization, decimal=5)"
   ]
  },
  {
   "cell_type": "markdown",
   "metadata": {},
   "source": [
    "## Programming Assignment\n",
    "> Solve the following Programming assignment and check your solution in the Illias Quiz **Linear Regression and Regularization - Notebook Verification**."
   ]
  },
  {
   "cell_type": "markdown",
   "metadata": {},
   "source": [
    "Before you implemented Linear Regression from Scratch in this Programming assignment you are asked to use the scikit-learn implementation of the Linear Regression. [Scikit-learn Documentation](https://scikit-learn.org/stable/). Use the same data as before."
   ]
  },
  {
   "cell_type": "code",
   "execution_count": null,
   "metadata": {},
   "outputs": [],
   "source": []
  },
  {
   "cell_type": "markdown",
   "metadata": {},
   "source": [
    "Use the following features: bedrooms, bathrooms, sqft_living, yr_built and grade"
   ]
  },
  {
   "cell_type": "code",
   "execution_count": null,
   "metadata": {},
   "outputs": [],
   "source": []
  },
  {
   "cell_type": "markdown",
   "metadata": {},
   "source": [
    "Use the same train/test split as in the previous examples"
   ]
  },
  {
   "cell_type": "code",
   "execution_count": null,
   "metadata": {},
   "outputs": [],
   "source": []
  },
  {
   "cell_type": "markdown",
   "metadata": {},
   "source": [
    "Import and train the sklearn Linear Regression"
   ]
  },
  {
   "cell_type": "code",
   "execution_count": null,
   "metadata": {},
   "outputs": [],
   "source": []
  },
  {
   "cell_type": "code",
   "execution_count": null,
   "metadata": {
    "tags": []
   },
   "outputs": [],
   "source": []
  },
  {
   "cell_type": "markdown",
   "metadata": {},
   "source": [
    "Calculate the train and test score (threse is a function for the regressor)"
   ]
  },
  {
   "cell_type": "code",
   "execution_count": null,
   "metadata": {},
   "outputs": [],
   "source": []
  },
  {
   "cell_type": "code",
   "execution_count": null,
   "metadata": {},
   "outputs": [],
   "source": []
  },
  {
   "cell_type": "markdown",
   "metadata": {},
   "source": [
    "Put the test score in the Ilias Quiz 04a Notebook Verification"
   ]
  },
  {
   "cell_type": "code",
   "execution_count": null,
   "metadata": {},
   "outputs": [],
   "source": []
  },
  {
   "cell_type": "markdown",
   "metadata": {},
   "source": [
    "Also answer if this performs better than the ones calculated previously."
   ]
  },
  {
   "cell_type": "code",
   "execution_count": null,
   "metadata": {},
   "outputs": [],
   "source": []
  },
  {
   "cell_type": "code",
   "execution_count": null,
   "metadata": {},
   "outputs": [],
   "source": []
  },
  {
   "cell_type": "code",
   "execution_count": null,
   "metadata": {},
   "outputs": [],
   "source": []
  },
  {
   "cell_type": "markdown",
   "metadata": {
    "tags": []
   },
   "source": [
    "**!!!!!Solution needs to be deleted and transferred before being published!!!!**"
   ]
  },
  {
   "cell_type": "code",
   "execution_count": null,
   "metadata": {
    "jupyter": {
     "source_hidden": true
    },
    "tags": []
   },
   "outputs": [],
   "source": [
    "df_house3 = pd.read_csv(\"kc_house_data.csv\")"
   ]
  },
  {
   "cell_type": "markdown",
   "metadata": {},
   "source": [
    "Use the following Features: bedrooms, bathrooms, sqft_living, yr_built, grade"
   ]
  },
  {
   "cell_type": "code",
   "execution_count": null,
   "metadata": {
    "jupyter": {
     "source_hidden": true
    },
    "tags": []
   },
   "outputs": [],
   "source": [
    "df_house3 = df_house3[[\"price\",\"sqft_living\", \"bedrooms\", \"bathrooms\", \"yr_built\", \"grade\"]]"
   ]
  },
  {
   "cell_type": "markdown",
   "metadata": {},
   "source": [
    "Use the same train test split as in the previous examples."
   ]
  },
  {
   "cell_type": "code",
   "execution_count": null,
   "metadata": {
    "jupyter": {
     "source_hidden": true
    },
    "tags": []
   },
   "outputs": [],
   "source": [
    "train_house3, test_house3 = train_test_split(df_house3, test_size=0.5, random_state=42)"
   ]
  },
  {
   "cell_type": "markdown",
   "metadata": {},
   "source": [
    "Train the sklearn Linear Regression"
   ]
  },
  {
   "cell_type": "code",
   "execution_count": null,
   "metadata": {
    "jupyter": {
     "source_hidden": true
    },
    "tags": []
   },
   "outputs": [],
   "source": [
    "scaler = MinMaxScaler()\n",
    "\n",
    "train_house3 = pd.DataFrame(scaler.fit_transform(train_house3), columns=train_house3.columns, index=train_house3.index)\n",
    "test_house3 = pd.DataFrame(scaler.transform(test_house3), columns=test_house3.columns, index=test_house3.index)"
   ]
  },
  {
   "cell_type": "code",
   "execution_count": null,
   "metadata": {
    "jupyter": {
     "source_hidden": true
    },
    "tags": []
   },
   "outputs": [],
   "source": [
    "X_train_house_3 = train_house3[[\"sqft_living\", \"bedrooms\", \"bathrooms\",\"yr_built\", \"grade\"]]\n",
    "y_train_house_3 = train_house3[[\"price\"]]\n",
    "\n",
    "X_test_house_3 = test_house3[[\"sqft_living\", \"bedrooms\", \"bathrooms\",\"yr_built\", \"grade\"]]\n",
    "y_test_house_3 = test_house3[[\"price\"]]"
   ]
  },
  {
   "cell_type": "code",
   "execution_count": null,
   "metadata": {
    "jupyter": {
     "source_hidden": true
    },
    "tags": []
   },
   "outputs": [],
   "source": [
    "from sklearn.linear_model import LinearRegression"
   ]
  },
  {
   "cell_type": "code",
   "execution_count": null,
   "metadata": {
    "jupyter": {
     "source_hidden": true
    },
    "tags": []
   },
   "outputs": [],
   "source": [
    "reg = LinearRegression().fit(X_train_house_3, y_train_house_3)"
   ]
  },
  {
   "cell_type": "markdown",
   "metadata": {},
   "source": [
    "Calculate the Train and Test score"
   ]
  },
  {
   "cell_type": "code",
   "execution_count": null,
   "metadata": {
    "jupyter": {
     "source_hidden": true
    },
    "tags": []
   },
   "outputs": [],
   "source": [
    "print(\"Train score: \", reg.score(X_train_house_3,y_train_house_3))"
   ]
  },
  {
   "cell_type": "code",
   "execution_count": null,
   "metadata": {
    "jupyter": {
     "source_hidden": true
    },
    "tags": []
   },
   "outputs": [],
   "source": [
    "print(\"Test score: \", reg.score(X_test_house_3,y_test_house_3))"
   ]
  },
  {
   "cell_type": "markdown",
   "metadata": {},
   "source": [
    "**!!!! Evtl add question about how bias can be automatically added to the sklearn methode** "
   ]
  },
  {
   "cell_type": "code",
   "execution_count": null,
   "metadata": {},
   "outputs": [],
   "source": []
  },
  {
   "cell_type": "code",
   "execution_count": null,
   "metadata": {},
   "outputs": [],
   "source": []
  }
 ],
 "metadata": {
  "jupytext": {
   "text_representation": {
    "extension": ".py",
    "format_name": "percent",
    "format_version": "1.2",
    "jupytext_version": "0.8.6"
   }
  },
  "kernelspec": {
   "display_name": "Python 3 (ipykernel)",
   "language": "python",
   "name": "python3"
  },
  "language_info": {
   "codemirror_mode": {
    "name": "ipython",
    "version": 3
   },
   "file_extension": ".py",
   "mimetype": "text/x-python",
   "name": "python",
   "nbconvert_exporter": "python",
   "pygments_lexer": "ipython3",
   "version": "3.9.12"
  },
  "toc": {
   "base_numbering": 1,
   "nav_menu": {},
   "number_sections": true,
   "sideBar": true,
   "skip_h1_title": false,
   "title_cell": "Table of Contents",
   "title_sidebar": "Contents",
   "toc_cell": false,
   "toc_position": {},
   "toc_section_display": true,
   "toc_window_display": false
  }
 },
 "nbformat": 4,
 "nbformat_minor": 4
}
