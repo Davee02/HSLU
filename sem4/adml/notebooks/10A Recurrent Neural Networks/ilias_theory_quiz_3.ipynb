{
 "cells": [
  {
   "cell_type": "code",
   "execution_count": 14,
   "metadata": {},
   "outputs": [],
   "source": [
    "import numpy as np"
   ]
  },
  {
   "cell_type": "code",
   "execution_count": 15,
   "metadata": {},
   "outputs": [],
   "source": [
    "# input data as 2D vectors\n",
    "x1 = np.array([5, 5])\n",
    "x2 = np.array([1, 2])\n",
    "x3 = np.array([1, 5])\n",
    "\n",
    "# weight matrices\n",
    "Wxh = np.array([1, 2])\n",
    "Wxq = np.array([1, -1])\n",
    "Whh = np.array([5])\n",
    "Wqq = np.array([2])\n",
    "Why = np.array([5])\n",
    "Wqy = np.array([3])\n",
    "\n",
    "# biases\n",
    "bh = -10\n",
    "bq = -5\n",
    "by = -10\n",
    "\n",
    "# hidden states are initialized with 0\n",
    "h0 = np.array([0])\n",
    "q0 = np.array([0])"
   ]
  },
  {
   "cell_type": "code",
   "execution_count": 16,
   "metadata": {},
   "outputs": [],
   "source": [
    "# Define activation functions\n",
    "def relu(x):\n",
    "    return np.maximum(0, x)\n",
    "\n",
    "def sigmoid(x):\n",
    "    return 1 / (1 + np.exp(-x))"
   ]
  },
  {
   "cell_type": "code",
   "execution_count": 17,
   "metadata": {},
   "outputs": [
    {
     "data": {
      "text/plain": [
       "5"
      ]
     },
     "execution_count": 17,
     "metadata": {},
     "output_type": "execute_result"
    }
   ],
   "source": [
    "h1 = relu(np.dot(Wxh, x1) + np.dot(Whh, h0) + bh)\n",
    "np.round(h1, 3)"
   ]
  },
  {
   "cell_type": "code",
   "execution_count": 24,
   "metadata": {},
   "outputs": [
    {
     "data": {
      "text/plain": [
       "0"
      ]
     },
     "execution_count": 24,
     "metadata": {},
     "output_type": "execute_result"
    }
   ],
   "source": [
    "q3 = relu(np.dot(Wxq, x3) + np.dot(Wqq, q0) + bq)\n",
    "np.round(q3, 3)"
   ]
  },
  {
   "cell_type": "code",
   "execution_count": 25,
   "metadata": {},
   "outputs": [
    {
     "data": {
      "text/plain": [
       "array([20])"
      ]
     },
     "execution_count": 25,
     "metadata": {},
     "output_type": "execute_result"
    }
   ],
   "source": [
    "h2 = relu(np.dot(Wxh, x2) + np.dot(Whh, h1) + bh)\n",
    "np.round(h2, 3)"
   ]
  },
  {
   "cell_type": "code",
   "execution_count": 26,
   "metadata": {},
   "outputs": [
    {
     "data": {
      "text/plain": [
       "array([0])"
      ]
     },
     "execution_count": 26,
     "metadata": {},
     "output_type": "execute_result"
    }
   ],
   "source": [
    "q2 = relu(np.dot(Wxq, x2) + np.dot(Wqq, q3) + bq)\n",
    "np.round(q2, 3)"
   ]
  },
  {
   "cell_type": "code",
   "execution_count": 27,
   "metadata": {},
   "outputs": [
    {
     "data": {
      "text/plain": [
       "101"
      ]
     },
     "execution_count": 27,
     "metadata": {},
     "output_type": "execute_result"
    }
   ],
   "source": [
    "h3 = relu(np.dot(Wxh, x3) + np.dot(Whh, h2) + bh)\n",
    "np.round(h3, 3)"
   ]
  },
  {
   "cell_type": "code",
   "execution_count": 22,
   "metadata": {},
   "outputs": [
    {
     "data": {
      "text/plain": [
       "0"
      ]
     },
     "execution_count": 22,
     "metadata": {},
     "output_type": "execute_result"
    }
   ],
   "source": [
    "q1 = relu(np.dot(Wxq, x1) + np.dot(Wqq, q2) + bq)\n",
    "np.round(q1, 3)"
   ]
  },
  {
   "cell_type": "code",
   "execution_count": 28,
   "metadata": {},
   "outputs": [
    {
     "data": {
      "text/plain": [
       "array([1.])"
      ]
     },
     "execution_count": 28,
     "metadata": {},
     "output_type": "execute_result"
    }
   ],
   "source": [
    "y = sigmoid(np.dot(Why, h3) + np.dot(Wqy, q1) + by)\n",
    "np.round(y, 3)"
   ]
  }
 ],
 "metadata": {
  "kernelspec": {
   "display_name": "venv",
   "language": "python",
   "name": "python3"
  },
  "language_info": {
   "codemirror_mode": {
    "name": "ipython",
    "version": 3
   },
   "file_extension": ".py",
   "mimetype": "text/x-python",
   "name": "python",
   "nbconvert_exporter": "python",
   "pygments_lexer": "ipython3",
   "version": "3.9.13"
  }
 },
 "nbformat": 4,
 "nbformat_minor": 2
}
