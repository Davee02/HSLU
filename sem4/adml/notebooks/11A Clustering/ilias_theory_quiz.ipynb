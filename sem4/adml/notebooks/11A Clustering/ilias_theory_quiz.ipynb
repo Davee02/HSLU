{
 "cells": [
  {
   "cell_type": "code",
   "execution_count": 1,
   "metadata": {},
   "outputs": [],
   "source": [
    "import numpy as np"
   ]
  },
  {
   "cell_type": "code",
   "execution_count": 12,
   "metadata": {},
   "outputs": [],
   "source": [
    "# define points\n",
    "p1 = np.array([-1, -1, -1, 1])\n",
    "p2 = np.array([6,  2,  4,  0])\n",
    "p3 = np.array([-2, -2,  5,  1])\n",
    "\n",
    "# define cluster centers\n",
    "c1 = np.array([2,  6,  3,  2])\n",
    "c2 = np.array([0, 1, -1,  2])"
   ]
  },
  {
   "cell_type": "code",
   "execution_count": 8,
   "metadata": {},
   "outputs": [],
   "source": [
    "def euclidean_distance(p1, p2):\n",
    "    return np.sqrt(np.sum((p1 - p2)**2))"
   ]
  },
  {
   "cell_type": "code",
   "execution_count": 13,
   "metadata": {},
   "outputs": [
    {
     "name": "stdout",
     "output_type": "stream",
     "text": [
      "8.660254037844387\n",
      "2.449489742783178\n"
     ]
    }
   ],
   "source": [
    "print(euclidean_distance(p1, c1))\n",
    "print(euclidean_distance(p1, c2))"
   ]
  },
  {
   "cell_type": "code",
   "execution_count": 14,
   "metadata": {},
   "outputs": [
    {
     "name": "stdout",
     "output_type": "stream",
     "text": [
      "6.082762530298219\n",
      "8.12403840463596\n"
     ]
    }
   ],
   "source": [
    "print(euclidean_distance(p2, c1))\n",
    "print(euclidean_distance(p2, c2))"
   ]
  },
  {
   "cell_type": "code",
   "execution_count": 15,
   "metadata": {},
   "outputs": [
    {
     "name": "stdout",
     "output_type": "stream",
     "text": [
      "9.219544457292887\n",
      "7.0710678118654755\n"
     ]
    }
   ],
   "source": [
    "print(euclidean_distance(p3, c1))\n",
    "print(euclidean_distance(p3, c2))"
   ]
  }
 ],
 "metadata": {
  "kernelspec": {
   "display_name": "venv",
   "language": "python",
   "name": "python3"
  },
  "language_info": {
   "codemirror_mode": {
    "name": "ipython",
    "version": 3
   },
   "file_extension": ".py",
   "mimetype": "text/x-python",
   "name": "python",
   "nbconvert_exporter": "python",
   "pygments_lexer": "ipython3",
   "version": "3.9.13"
  }
 },
 "nbformat": 4,
 "nbformat_minor": 2
}
